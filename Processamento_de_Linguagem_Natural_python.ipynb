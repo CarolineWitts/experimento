{
  "nbformat": 4,
  "nbformat_minor": 0,
  "metadata": {
    "colab": {
      "name": "Processamento de Linguagem Natural python.ipynb",
      "provenance": [],
      "collapsed_sections": [
        "ntGONW0_MPmk",
        "x0sDWIQWNDU2",
        "gr0mVtHZTUv0"
      ],
      "mount_file_id": "1FpgJr3xmwHOkiiQj_gx60UdLAIADmua1",
      "authorship_tag": "ABX9TyM8V4V7yQpROhDkjDR4JrdH",
      "include_colab_link": true
    },
    "kernelspec": {
      "name": "python3",
      "display_name": "Python 3"
    },
    "language_info": {
      "name": "python"
    }
  },
  "cells": [
    {
      "cell_type": "markdown",
      "metadata": {
        "id": "view-in-github",
        "colab_type": "text"
      },
      "source": [
        "<a href=\"https://colab.research.google.com/github/CarolineWitts/hello-word/blob/main/Processamento_de_Linguagem_Natural_python.ipynb\" target=\"_parent\"><img src=\"https://colab.research.google.com/assets/colab-badge.svg\" alt=\"Open In Colab\"/></a>"
      ]
    },
    {
      "cell_type": "code",
      "metadata": {
        "id": "HXj0FhYGLvcl"
      },
      "source": [
        "import bs4 as bs\n",
        "import urllib.request\n",
        "import nltk\n",
        "import spacy"
      ],
      "execution_count": null,
      "outputs": []
    },
    {
      "cell_type": "markdown",
      "metadata": {
        "id": "ntGONW0_MPmk"
      },
      "source": [
        "# Marcação POS, lematização estemização"
      ]
    },
    {
      "cell_type": "code",
      "metadata": {
        "colab": {
          "base_uri": "https://localhost:8080/"
        },
        "id": "qQFrdcYCMoHZ",
        "outputId": "bc3ee8e8-c4ca-41fa-8a75-cff0e90e8ed4"
      },
      "source": [
        "!python3 -m spacy download pt"
      ],
      "execution_count": null,
      "outputs": [
        {
          "output_type": "stream",
          "name": "stdout",
          "text": [
            "Collecting pt_core_news_sm==2.2.5\n",
            "  Downloading https://github.com/explosion/spacy-models/releases/download/pt_core_news_sm-2.2.5/pt_core_news_sm-2.2.5.tar.gz (21.2 MB)\n",
            "\u001b[K     |████████████████████████████████| 21.2 MB 1.3 MB/s \n",
            "\u001b[?25hRequirement already satisfied: spacy>=2.2.2 in /usr/local/lib/python3.7/dist-packages (from pt_core_news_sm==2.2.5) (2.2.4)\n",
            "Requirement already satisfied: blis<0.5.0,>=0.4.0 in /usr/local/lib/python3.7/dist-packages (from spacy>=2.2.2->pt_core_news_sm==2.2.5) (0.4.1)\n",
            "Requirement already satisfied: tqdm<5.0.0,>=4.38.0 in /usr/local/lib/python3.7/dist-packages (from spacy>=2.2.2->pt_core_news_sm==2.2.5) (4.62.3)\n",
            "Requirement already satisfied: numpy>=1.15.0 in /usr/local/lib/python3.7/dist-packages (from spacy>=2.2.2->pt_core_news_sm==2.2.5) (1.19.5)\n",
            "Requirement already satisfied: plac<1.2.0,>=0.9.6 in /usr/local/lib/python3.7/dist-packages (from spacy>=2.2.2->pt_core_news_sm==2.2.5) (1.1.3)\n",
            "Requirement already satisfied: preshed<3.1.0,>=3.0.2 in /usr/local/lib/python3.7/dist-packages (from spacy>=2.2.2->pt_core_news_sm==2.2.5) (3.0.5)\n",
            "Requirement already satisfied: cymem<2.1.0,>=2.0.2 in /usr/local/lib/python3.7/dist-packages (from spacy>=2.2.2->pt_core_news_sm==2.2.5) (2.0.5)\n",
            "Requirement already satisfied: murmurhash<1.1.0,>=0.28.0 in /usr/local/lib/python3.7/dist-packages (from spacy>=2.2.2->pt_core_news_sm==2.2.5) (1.0.5)\n",
            "Requirement already satisfied: wasabi<1.1.0,>=0.4.0 in /usr/local/lib/python3.7/dist-packages (from spacy>=2.2.2->pt_core_news_sm==2.2.5) (0.8.2)\n",
            "Requirement already satisfied: srsly<1.1.0,>=1.0.2 in /usr/local/lib/python3.7/dist-packages (from spacy>=2.2.2->pt_core_news_sm==2.2.5) (1.0.5)\n",
            "Requirement already satisfied: setuptools in /usr/local/lib/python3.7/dist-packages (from spacy>=2.2.2->pt_core_news_sm==2.2.5) (57.4.0)\n",
            "Requirement already satisfied: requests<3.0.0,>=2.13.0 in /usr/local/lib/python3.7/dist-packages (from spacy>=2.2.2->pt_core_news_sm==2.2.5) (2.23.0)\n",
            "Requirement already satisfied: thinc==7.4.0 in /usr/local/lib/python3.7/dist-packages (from spacy>=2.2.2->pt_core_news_sm==2.2.5) (7.4.0)\n",
            "Requirement already satisfied: catalogue<1.1.0,>=0.0.7 in /usr/local/lib/python3.7/dist-packages (from spacy>=2.2.2->pt_core_news_sm==2.2.5) (1.0.0)\n",
            "Requirement already satisfied: importlib-metadata>=0.20 in /usr/local/lib/python3.7/dist-packages (from catalogue<1.1.0,>=0.0.7->spacy>=2.2.2->pt_core_news_sm==2.2.5) (4.8.1)\n",
            "Requirement already satisfied: zipp>=0.5 in /usr/local/lib/python3.7/dist-packages (from importlib-metadata>=0.20->catalogue<1.1.0,>=0.0.7->spacy>=2.2.2->pt_core_news_sm==2.2.5) (3.5.0)\n",
            "Requirement already satisfied: typing-extensions>=3.6.4 in /usr/local/lib/python3.7/dist-packages (from importlib-metadata>=0.20->catalogue<1.1.0,>=0.0.7->spacy>=2.2.2->pt_core_news_sm==2.2.5) (3.7.4.3)\n",
            "Requirement already satisfied: idna<3,>=2.5 in /usr/local/lib/python3.7/dist-packages (from requests<3.0.0,>=2.13.0->spacy>=2.2.2->pt_core_news_sm==2.2.5) (2.10)\n",
            "Requirement already satisfied: urllib3!=1.25.0,!=1.25.1,<1.26,>=1.21.1 in /usr/local/lib/python3.7/dist-packages (from requests<3.0.0,>=2.13.0->spacy>=2.2.2->pt_core_news_sm==2.2.5) (1.24.3)\n",
            "Requirement already satisfied: chardet<4,>=3.0.2 in /usr/local/lib/python3.7/dist-packages (from requests<3.0.0,>=2.13.0->spacy>=2.2.2->pt_core_news_sm==2.2.5) (3.0.4)\n",
            "Requirement already satisfied: certifi>=2017.4.17 in /usr/local/lib/python3.7/dist-packages (from requests<3.0.0,>=2.13.0->spacy>=2.2.2->pt_core_news_sm==2.2.5) (2021.5.30)\n",
            "\u001b[38;5;2m✔ Download and installation successful\u001b[0m\n",
            "You can now load the model via spacy.load('pt_core_news_sm')\n",
            "\u001b[38;5;2m✔ Linking successful\u001b[0m\n",
            "/usr/local/lib/python3.7/dist-packages/pt_core_news_sm -->\n",
            "/usr/local/lib/python3.7/dist-packages/spacy/data/pt\n",
            "You can now load the model via spacy.load('pt')\n"
          ]
        }
      ]
    },
    {
      "cell_type": "markdown",
      "metadata": {
        "id": "x0sDWIQWNDU2"
      },
      "source": [
        "#Marcação POS"
      ]
    },
    {
      "cell_type": "code",
      "metadata": {
        "colab": {
          "base_uri": "https://localhost:8080/"
        },
        "id": "C14lk32tNFrf",
        "outputId": "455e4ce8-3752-47c6-b239-dd99ddef9d26"
      },
      "source": [
        "pln = spacy.load('pt')\n",
        "pln "
      ],
      "execution_count": null,
      "outputs": [
        {
          "output_type": "execute_result",
          "data": {
            "text/plain": [
              "<spacy.lang.pt.Portuguese at 0x7f086b8c5410>"
            ]
          },
          "metadata": {},
          "execution_count": 43
        }
      ]
    },
    {
      "cell_type": "code",
      "metadata": {
        "id": "C6Ul8pRPNpRF"
      },
      "source": [
        "documento = pln('o rato roeu a roupa do rei de roma')"
      ],
      "execution_count": null,
      "outputs": []
    },
    {
      "cell_type": "code",
      "metadata": {
        "colab": {
          "base_uri": "https://localhost:8080/"
        },
        "id": "u17JTcXsPBKG",
        "outputId": "48065355-bab0-4ba7-ea95-a74e4c80c950"
      },
      "source": [
        "for token in documento:\n",
        "  print(token.text, token.pos_)"
      ],
      "execution_count": null,
      "outputs": [
        {
          "output_type": "stream",
          "name": "stdout",
          "text": [
            "o DET\n",
            "rato NOUN\n",
            "roeu VERB\n",
            "a DET\n",
            "roupa NOUN\n",
            "do ADP\n",
            "rei NOUN\n",
            "de ADP\n",
            "roma PROPN\n"
          ]
        }
      ]
    },
    {
      "cell_type": "markdown",
      "metadata": {
        "id": "rzLf7U4gQ3RH"
      },
      "source": [
        "lematização e estemização"
      ]
    },
    {
      "cell_type": "code",
      "metadata": {
        "colab": {
          "base_uri": "https://localhost:8080/"
        },
        "id": "2uRUwSdyQ01y",
        "outputId": "0e664945-3dc3-468f-b345-01acd1348853"
      },
      "source": [
        "for token in documento:\n",
        "  print(token.text, token.lemma_)"
      ],
      "execution_count": null,
      "outputs": [
        {
          "output_type": "stream",
          "name": "stdout",
          "text": [
            "o o\n",
            "rato ratar\n",
            "roeu roer\n",
            "a o\n",
            "roupa roupar\n",
            "do do\n",
            "rei rei\n",
            "de de\n",
            "roma roma\n"
          ]
        }
      ]
    },
    {
      "cell_type": "code",
      "metadata": {
        "colab": {
          "base_uri": "https://localhost:8080/"
        },
        "id": "4ymiAkIkRTMh",
        "outputId": "149b7708-07f8-4661-d8b7-278eda23797e"
      },
      "source": [
        "doc = pln('encontrei encontraram encontraram encontrarão encontrariam cursando curso cursei')\n",
        "[token.lemma_ for token in doc]"
      ],
      "execution_count": null,
      "outputs": [
        {
          "output_type": "execute_result",
          "data": {
            "text/plain": [
              "['encontrar',\n",
              " 'encontrar',\n",
              " 'encontrar',\n",
              " 'encontrar',\n",
              " 'encontrar',\n",
              " 'cursar',\n",
              " 'cursar',\n",
              " 'cursar']"
            ]
          },
          "metadata": {},
          "execution_count": 47
        }
      ]
    },
    {
      "cell_type": "code",
      "metadata": {
        "colab": {
          "base_uri": "https://localhost:8080/"
        },
        "id": "XhvReRcZR43l",
        "outputId": "5efc6276-27d4-4374-a2bb-21e6579fae5f"
      },
      "source": [
        "import nltk \n",
        "nltk.download('rslp')"
      ],
      "execution_count": null,
      "outputs": [
        {
          "output_type": "stream",
          "name": "stdout",
          "text": [
            "[nltk_data] Downloading package rslp to /root/nltk_data...\n",
            "[nltk_data]   Package rslp is already up-to-date!\n"
          ]
        },
        {
          "output_type": "execute_result",
          "data": {
            "text/plain": [
              "True"
            ]
          },
          "metadata": {},
          "execution_count": 48
        }
      ]
    },
    {
      "cell_type": "code",
      "metadata": {
        "colab": {
          "base_uri": "https://localhost:8080/",
          "height": 35
        },
        "id": "C6_pJhcSSI68",
        "outputId": "a7a1933f-52e3-47eb-a6f4-f68e71c2e2e9"
      },
      "source": [
        "stemmer = nltk.stem.RSLPStemmer()\n",
        "stemmer.stem('aprender')"
      ],
      "execution_count": null,
      "outputs": [
        {
          "output_type": "execute_result",
          "data": {
            "application/vnd.google.colaboratory.intrinsic+json": {
              "type": "string"
            },
            "text/plain": [
              "'aprend'"
            ]
          },
          "metadata": {},
          "execution_count": 49
        }
      ]
    },
    {
      "cell_type": "code",
      "metadata": {
        "colab": {
          "base_uri": "https://localhost:8080/"
        },
        "id": "RNrS_OCnSdM9",
        "outputId": "23ae03fc-8e4b-43b9-8e88-f14a681e949c"
      },
      "source": [
        "for token in documento:\n",
        "  print(token.text, token.lemma_, stemmer.stem(token.text))\n"
      ],
      "execution_count": null,
      "outputs": [
        {
          "output_type": "stream",
          "name": "stdout",
          "text": [
            "o o o\n",
            "rato ratar rat\n",
            "roeu roer roeu\n",
            "a o a\n",
            "roupa roupar roup\n",
            "do do do\n",
            "rei rei rei\n",
            "de de de\n",
            "roma roma rom\n"
          ]
        }
      ]
    },
    {
      "cell_type": "markdown",
      "metadata": {
        "id": "gr0mVtHZTUv0"
      },
      "source": [
        "# Carregamento da base de dados"
      ]
    },
    {
      "cell_type": "code",
      "metadata": {
        "id": "xSH8oz11TkBF"
      },
      "source": [
        "dados = urllib.request.urlopen('https://pt.wikipedia.org/wiki/Medita%C3%A7%C3%A3o')"
      ],
      "execution_count": null,
      "outputs": []
    },
    {
      "cell_type": "code",
      "metadata": {
        "colab": {
          "base_uri": "https://localhost:8080/"
        },
        "id": "_6e_fjQ7Tw9K",
        "outputId": "0f3b7629-b989-428c-fd8e-928e61bc113a"
      },
      "source": [
        "dados = dados.read()\n",
        "dados"
      ],
      "execution_count": null,
      "outputs": [
        {
          "output_type": "execute_result",
          "data": {
            "text/plain": [
              "b'<!DOCTYPE html>\\n<html class=\"client-nojs\" lang=\"pt\" dir=\"ltr\">\\n<head>\\n<meta charset=\"UTF-8\"/>\\n<title>Medita\\xc3\\xa7\\xc3\\xa3o \\xe2\\x80\\x93 Wikip\\xc3\\xa9dia, a enciclop\\xc3\\xa9dia livre</title>\\n<script>document.documentElement.className=\"client-js\";RLCONF={\"wgBreakFrames\":!1,\"wgSeparatorTransformTable\":[\",\\\\t.\",\"\\xc2\\xa0\\\\t,\"],\"wgDigitTransformTable\":[\"\",\"\"],\"wgDefaultDateFormat\":\"dmy\",\"wgMonthNames\":[\"\",\"janeiro\",\"fevereiro\",\"mar\\xc3\\xa7o\",\"abril\",\"maio\",\"junho\",\"julho\",\"agosto\",\"setembro\",\"outubro\",\"novembro\",\"dezembro\"],\"wgRequestId\":\"c9901955-76df-4b9d-9629-ee651a4ab7b9\",\"wgCSPNonce\":!1,\"wgCanonicalNamespace\":\"\",\"wgCanonicalSpecialPageName\":!1,\"wgNamespaceNumber\":0,\"wgPageName\":\"Medita\\xc3\\xa7\\xc3\\xa3o\",\"wgTitle\":\"Medita\\xc3\\xa7\\xc3\\xa3o\",\"wgCurRevisionId\":61923438,\"wgRevisionId\":61923438,\"wgArticleId\":5648,\"wgIsArticle\":!0,\"wgIsRedirect\":!1,\"wgAction\":\"view\",\"wgUserName\":null,\"wgUserGroups\":[\"*\"],\"wgCategories\":[\"!P\\xc3\\xa1ginas com erros CS1: datas\",\"!Predefini\\xc3\\xa7\\xc3\\xa3o Webarchive wayback links\",\"!Avisos na predefini\\xc3\\xa7\\xc3\\xa3o Webarchive\",\"!P\\xc3\\xa1ginas com refer\\xc3\\xaancias sem URL e com acessodata\",\"!P\\xc3\\xa1ginas que usam hiperliga\\xc3\\xa7\\xc3\\xb5es m\\xc3\\xa1gicas ISBN\",\"Pr\\xc3\\xa1ticas religiosas\",\"Medita\\xc3\\xa7\\xc3\\xa3o\",\"Religi\\xc3\\xa3o\"],\"wgPageContentLanguage\":\\n\"pt\",\"wgPageContentModel\":\"wikitext\",\"wgRelevantPageName\":\"Medita\\xc3\\xa7\\xc3\\xa3o\",\"wgRelevantArticleId\":5648,\"wgIsProbablyEditable\":!0,\"wgRelevantPageIsProbablyEditable\":!0,\"wgRestrictionEdit\":[],\"wgRestrictionMove\":[],\"wgMediaViewerOnClick\":!0,\"wgMediaViewerEnabledByDefault\":!0,\"wgPopupsFlags\":10,\"wgVisualEditor\":{\"pageLanguageCode\":\"pt\",\"pageLanguageDir\":\"ltr\",\"pageVariantFallbacks\":\"pt\"},\"wgMFDisplayWikibaseDescriptions\":{\"search\":!0,\"nearby\":!0,\"watchlist\":!0,\"tagline\":!0},\"wgWMESchemaEditAttemptStepOversample\":!1,\"wgULSCurrentAutonym\":\"portugu\\xc3\\xaas\",\"wgNoticeProject\":\"wikipedia\",\"wgEditSubmitButtonLabelPublish\":!0,\"wgULSPosition\":\"interlanguage\",\"wgULSisCompactLinksEnabled\":!0,\"wgGENewcomerTasksGuidanceEnabled\":!0,\"wgGEAskQuestionEnabled\":!0,\"wgGELinkRecommendationsFrontendEnabled\":!1,\"wgCentralAuthMobileDomain\":!1,\"wgWikibaseItemId\":\"Q108458\",\"wgSiteNoticeId\":\"2.30\"};RLSTATE={\"ext.globalCssJs.user.styles\":\"ready\",\"site.styles\":\"ready\",\"noscript\":\"ready\",\\n\"user.styles\":\"ready\",\"ext.globalCssJs.user\":\"ready\",\"user\":\"ready\",\"user.options\":\"loading\",\"ext.cite.styles\":\"ready\",\"mediawiki.ui.button\":\"ready\",\"skins.vector.styles\":\"ready\",\"skins.vector.icons\":\"ready\",\"mediawiki.ui.icon\":\"ready\",\"ext.visualEditor.desktopArticleTarget.noscript\":\"ready\",\"ext.uls.interlanguage\":\"ready\",\"ext.wikimediaBadges\":\"ready\",\"wikibase.client.init\":\"ready\",\"ext.dismissableSiteNotice.styles\":\"ready\"};RLPAGEMODULES=[\"ext.cite.ux-enhancements\",\"site\",\"mediawiki.page.ready\",\"mediawiki.toc\",\"skins.vector.js\",\"ext.gadget.Topicon\",\"ext.gadget.Metacaixa\",\"ext.gadget.TitleRewrite\",\"ext.gadget.ElementosOcultaveis\",\"ext.gadget.FeedbackHighlight\",\"ext.gadget.ReferenceTooltips\",\"ext.gadget.NewVillagePump\",\"ext.gadget.wikibugs\",\"ext.gadget.charinsert\",\"ext.gadget.requestForAdminship\",\"ext.gadget.EnhancedSearch\",\"ext.gadget.WikiMiniAtlas\",\"ext.gadget.PagesForDeletion\",\"mmv.head\",\"mmv.bootstrap.autostart\",\"ext.popups\",\"ext.visualEditor.desktopArticleTarget.init\",\\n\"ext.visualEditor.targetLoader\",\"ext.eventLogging\",\"ext.wikimediaEvents\",\"ext.navigationTiming\",\"ext.uls.compactlinks\",\"ext.uls.interface\",\"ext.cx.eventlogging.campaigns\",\"ext.centralNotice.geoIP\",\"ext.centralNotice.startUp\",\"ext.centralauth.centralautologin\",\"ext.growthExperiments.SuggestedEditSession\",\"ext.dismissableSiteNotice\"];</script>\\n<script>(RLQ=window.RLQ||[]).push(function(){mw.loader.implement(\"user.options@1hzgi\",function($,jQuery,require,module){/*@nomin*/mw.user.tokens.set({\"patrolToken\":\"+\\\\\\\\\",\"watchToken\":\"+\\\\\\\\\",\"csrfToken\":\"+\\\\\\\\\"});mw.user.options.set({\"variant\":\"pt\"});\\n});});</script>\\n<link rel=\"stylesheet\" href=\"/w/load.php?lang=pt&amp;modules=ext.cite.styles%7Cext.dismissableSiteNotice.styles%7Cext.uls.interlanguage%7Cext.visualEditor.desktopArticleTarget.noscript%7Cext.wikimediaBadges%7Cmediawiki.ui.button%2Cicon%7Cskins.vector.icons%2Cstyles%7Cwikibase.client.init&amp;only=styles&amp;skin=vector\"/>\\n<script async=\"\" src=\"/w/load.php?lang=pt&amp;modules=startup&amp;only=scripts&amp;raw=1&amp;skin=vector\"></script>\\n<meta name=\"ResourceLoaderDynamicStyles\" content=\"\"/>\\n<link rel=\"stylesheet\" href=\"/w/load.php?lang=pt&amp;modules=site.styles&amp;only=styles&amp;skin=vector\"/>\\n<meta name=\"generator\" content=\"MediaWiki 1.38.0-wmf.2\"/>\\n<meta name=\"referrer\" content=\"origin\"/>\\n<meta name=\"referrer\" content=\"origin-when-crossorigin\"/>\\n<meta name=\"referrer\" content=\"origin-when-cross-origin\"/>\\n<meta name=\"format-detection\" content=\"telephone=no\"/>\\n<meta property=\"og:image\" content=\"https://upload.wikimedia.org/wikipedia/commons/thumb/4/43/Sri_Chinmoy_in_Kamakura.jpg/1200px-Sri_Chinmoy_in_Kamakura.jpg\"/>\\n<meta property=\"og:title\" content=\"Medita\\xc3\\xa7\\xc3\\xa3o \\xe2\\x80\\x93 Wikip\\xc3\\xa9dia, a enciclop\\xc3\\xa9dia livre\"/>\\n<meta property=\"og:type\" content=\"website\"/>\\n<link rel=\"preconnect\" href=\"//upload.wikimedia.org\"/>\\n<link rel=\"alternate\" media=\"only screen and (max-width: 720px)\" href=\"//pt.m.wikipedia.org/wiki/Medita%C3%A7%C3%A3o\"/>\\n<link rel=\"alternate\" type=\"application/x-wiki\" title=\"Editar\" href=\"/w/index.php?title=Medita%C3%A7%C3%A3o&amp;action=edit\"/>\\n<link rel=\"edit\" title=\"Editar\" href=\"/w/index.php?title=Medita%C3%A7%C3%A3o&amp;action=edit\"/>\\n<link rel=\"apple-touch-icon\" href=\"/static/apple-touch/wikipedia.png\"/>\\n<link rel=\"shortcut icon\" href=\"/static/favicon/wikipedia.ico\"/>\\n<link rel=\"search\" type=\"application/opensearchdescription+xml\" href=\"/w/opensearch_desc.php\" title=\"Wikip\\xc3\\xa9dia (pt)\"/>\\n<link rel=\"EditURI\" type=\"application/rsd+xml\" href=\"//pt.wikipedia.org/w/api.php?action=rsd\"/>\\n<link rel=\"license\" href=\"https://creativecommons.org/licenses/by-sa/3.0/\"/>\\n<link rel=\"canonical\" href=\"https://pt.wikipedia.org/wiki/Medita%C3%A7%C3%A3o\"/>\\n<link rel=\"dns-prefetch\" href=\"//meta.wikimedia.org\" />\\n<link rel=\"dns-prefetch\" href=\"//login.wikimedia.org\"/>\\n</head>\\n<body class=\"mediawiki ltr sitedir-ltr mw-hide-empty-elt ns-0 ns-subject mw-editable page-Medita\\xc3\\xa7\\xc3\\xa3o rootpage-Medita\\xc3\\xa7\\xc3\\xa3o skin-vector action-view skin-vector-search-vue\"><div class=\"mw-page-container\">\\n\\t<a class=\"mw-jump-link\" href=\"#content\">Saltar para o conte\\xc3\\xbado</a>\\n\\t<div class=\"mw-page-container-inner\">\\n\\n<input\\n\\ttype=\"checkbox\"\\n\\tid=\"mw-sidebar-checkbox\"\\n\\tclass=\"mw-checkbox-hack-checkbox\"\\n\\tchecked>\\n\\n<header class=\"mw-header\">\\n\\t<label\\n\\t\\tid=\"mw-sidebar-button\"\\n\\t\\tclass=\"mw-checkbox-hack-button mw-ui-icon mw-ui-button mw-ui-quiet mw-ui-icon-element\"\\n\\t\\tfor=\"mw-sidebar-checkbox\"\\n\\t\\trole=\"button\"\\n\\t\\taria-controls=\"mw-panel\"\\n\\t\\tdata-event-name=\"ui.sidebar\"\\n\\t\\ttabindex=\"0\"\\n\\t\\ttitle=\"Menu principal\">\\n\\t\\tAlternar barra lateral\\n\\t</label>\\n\\t<a href=\"/wiki/Wikip%C3%A9dia:P%C3%A1gina_principal\" class=\"mw-logo\">\\n\\t<img class=\"mw-logo-icon\" src=\"/static/images/mobile/copyright/wikipedia.png\" alt=\"\"\\n\\t\\taria-hidden=\"true\" height=\"50\" width=\"50\">\\n\\t<span class=\"mw-logo-container\">\\n\\t\\t<img class=\"mw-logo-wordmark\" alt=\"Wikip\\xc3\\xa9dia\"\\n\\t\\t\\tsrc=\"/static/images/mobile/copyright/wikipedia-wordmark-fr.svg\" width=\"119\" height=\"18\">\\n\\t\\t<img class=\"mw-logo-tagline\"\\n\\t\\t\\talt=\"\"\\n\\t\\t\\tsrc=\"/static/images/mobile/copyright/wikipedia-tagline-pt.svg\" width=\"113\" height=\"13\">\\n\\t</span>\\n</a>\\n\\n\\t<div id=\"p-search\" role=\"search\" class=\"vector-search-box-vue  vector-search-box-collapses  vector-search-box-show-thumbnail vector-search-box\">\\n\\t<div>\\n\\t\\t<form action=\"/w/index.php\" id=\"searchform\"\\n\\t\\t\\tclass=\"vector-search-box-form\">\\n\\t\\t\\t<div id=\"simpleSearch\"\\n\\t\\t\\t\\tclass=\"vector-search-box-inner\"\\n\\t\\t\\t\\t data-search-loc=\"header-moved\">\\n\\t\\t\\t\\t<input class=\"vector-search-box-input\"\\n\\t\\t\\t\\t\\t type=\"search\" name=\"search\" placeholder=\"Pesquisar na Wikip\\xc3\\xa9dia\" autocapitalize=\"sentences\" title=\"Pesquisar na Wikip\\xc3\\xa9dia [f]\" accesskey=\"f\" id=\"searchInput\"\\n\\t\\t\\t\\t/>\\n\\t\\t\\t\\t<input type=\"hidden\" name=\"title\" value=\"Especial:Pesquisar\"/>\\n\\t\\t\\t\\t<input id=\"mw-searchButton\"\\n\\t\\t\\t\\t\\t class=\"searchButton mw-fallbackSearchButton\" type=\"submit\" name=\"fulltext\" title=\"Procurar p\\xc3\\xa1ginas que cont\\xc3\\xaam este texto\" value=\"Pesquisar\" />\\n\\t\\t\\t\\t<input id=\"searchButton\"\\n\\t\\t\\t\\t\\t class=\"searchButton\" type=\"submit\" name=\"go\" title=\"Ir para uma p\\xc3\\xa1gina com este nome exacto, caso exista\" value=\"Ir\" />\\n\\t\\t\\t</div>\\n\\t\\t</form>\\n\\t</div>\\n\\t<a href=\"/wiki/Especial:Pesquisar\"\\n\\t\\n\\t\\t\\n\\t\\t\\n\\t\\tclass=\"mw-ui-button mw-ui-quiet mw-ui-icon mw-ui-icon-element mw-ui-icon-wikimedia-search search-toggle\">\\n\\t\\t\\n\\t\\t<span>Busca</span>\\n\\t</a>\\n\\t\\n</div>\\n\\n\\t<div class=\"vector-user-links\">\\n\\t<nav id=\"p-personal-more\" class=\"mw-portlet mw-portlet-personal-more vector-menu vector-user-menu-more\" aria-labelledby=\"p-personal-more-label\" role=\"navigation\" \\n\\t >\\n\\t<h3 id=\"p-personal-more-label\" aria-label=\"\" class=\"vector-menu-heading\" aria-hidden=\"true\">\\n\\t\\t\\n\\t\\t<span>Links do usu\\xc3\\xa1rio</span>\\n\\t</h3>\\n\\t<div class=\"vector-menu-content\">\\n\\t\\t\\n\\t\\t<ul class=\"vector-menu-content-list\">\\n\\t<li id=\"p-createaccount\" class=\"user-links-collapsible-item\">\\n\\t\\t<a href=\"/w/index.php?title=Especial:Criar_conta&amp;returnto=Medita%C3%A7%C3%A3o\" icon=\"userAvatar\" class=\"mw-ui-button mw-ui-quiet\" title=\"\\xc3\\x89 encorajado a criar uma conta e iniciar sess\\xc3\\xa3o; no entanto, n\\xc3\\xa3o \\xc3\\xa9 obrigat\\xc3\\xb3rio\"><span>Criar uma conta</span></a>\\n\\t</li>\\n</ul>\\n\\t\\t\\n\\t</div>\\n</nav>\\n\\n\\t<nav id=\"p-personal\" class=\"mw-portlet mw-portlet-personal vector-user-menu vector-user-menu-logged-out vector-menu vector-menu-dropdown\" aria-labelledby=\"p-personal-label\" role=\"navigation\"  title=\"Mais op\\xc3\\xa7\\xc3\\xb5es\"\\n\\t >\\n\\t<input type=\"checkbox\"\\n\\t\\tid=\"p-personal-checkbox\"\\n\\t\\trole=\"button\"\\n\\t\\taria-haspopup=\"true\"\\n\\t\\tdata-event-name=\"ui.dropdown-p-personal\"\\n\\t\\tclass=\" vector-menu-checkbox\" aria-labelledby=\"p-personal-label\" />\\n\\t<h3 id=\"p-personal-label\" aria-label=\"\" class=\"vector-menu-heading mw-ui-button mw-ui-quiet mw-ui-icon mw-ui-icon-element mw-ui-icon-wikimedia-ellipsis\" aria-hidden=\"true\">\\n\\t\\t\\n\\t\\t<span>Ferramentas pessoais</span>\\n\\t\\t\\t<span class=\"vector-menu-checkbox-expanded\">expanded</span>\\n\\t\\t\\t<span class=\"vector-menu-checkbox-collapsed\">collapsed</span>\\n\\t</h3>\\n\\t<div class=\"vector-menu-content\">\\n\\t\\t<div class=\"vector-user-menu-create-account\"><a href=\"/w/index.php?title=Especial:Criar_conta&amp;returnto=Medita%C3%A7%C3%A3o\" icon=\"userAvatar\" class=\"user-links-collapsible-item vector-menu-content-item mw-ui-icon mw-ui-icon-before mw-ui-icon-wikimedia-userAvatar\" title=\"\\xc3\\x89 encorajado a criar uma conta e iniciar sess\\xc3\\xa3o; no entanto, n\\xc3\\xa3o \\xc3\\xa9 obrigat\\xc3\\xb3rio\"><span>Criar uma conta</span></a></div>\\n<div class=\"vector-user-menu-login\"><a href=\"/w/index.php?title=Especial:Entrar&amp;returnto=Medita%C3%A7%C3%A3o\" icon=\"logIn\" class=\"vector-menu-content-item vector-menu-content-item-login mw-ui-icon mw-ui-icon-before mw-ui-icon-wikimedia-logIn\" title=\"Aconselhamos-lhe a criar uma conta na Wikip\\xc3\\xa9dia, embora tal n\\xc3\\xa3o seja obrigat\\xc3\\xb3rio. [o]\" accesskey=\"o\"><span>Entrar</span></a></div>\\n<div class=\"vector-user-menu-anon-editor\">\\n\\t<p>\\n\\t\\tP\\xc3\\xa1ginas para editores conectados <a href=\"/wiki/Ajuda:Introduction\" aria-label=\"Learn more about editing\"><span>saiba mais</span></a>\\n\\t</p>\\n</div>\\n\\n\\t\\t<ul class=\"vector-menu-content-list\"><li id=\"pt-anontalk\" class=\"mw-list-item\"><a href=\"/wiki/Especial:Minha_discuss%C3%A3o\" title=\"Discuss\\xc3\\xa3o sobre edi\\xc3\\xa7\\xc3\\xb5es feitas a partir deste endere\\xc3\\xa7o IP [n]\" accesskey=\"n\"><span>Discuss\\xc3\\xa3o</span></a></li><li id=\"pt-anoncontribs\" class=\"mw-list-item\"><a href=\"/wiki/Especial:Minhas_contribui%C3%A7%C3%B5es\" title=\"Uma lista de edi\\xc3\\xa7\\xc3\\xb5es feitas a partir deste endere\\xc3\\xa7o IP [y]\" accesskey=\"y\"><span>Contribui\\xc3\\xa7\\xc3\\xb5es</span></a></li></ul>\\n\\t\\t\\n\\t</div>\\n</nav>\\n\\n</div>\\n\\n</header>\\n<div class=\"mw-workspace-container\">\\n\\t<div id=\"mw-navigation\">\\n\\t\\t\\n<div id=\"mw-panel\" class=\"mw-sidebar\">\\n\\t<nav id=\"p-navigation\" class=\"mw-portlet mw-portlet-navigation vector-menu vector-menu-portal portal\" aria-labelledby=\"p-navigation-label\" role=\"navigation\" \\n\\t >\\n\\t<h3 id=\"p-navigation-label\" aria-label=\"\" class=\"vector-menu-heading\" aria-hidden=\"true\">\\n\\t\\t\\n\\t\\t<span>Navega\\xc3\\xa7\\xc3\\xa3o</span>\\n\\t</h3>\\n\\t<div class=\"vector-menu-content\">\\n\\t\\t\\n\\t\\t<ul class=\"vector-menu-content-list\"><li id=\"n-mainpage-description\" class=\"mw-list-item\"><a href=\"/wiki/Wikip%C3%A9dia:P%C3%A1gina_principal\" title=\"Visitar a p\\xc3\\xa1gina principal [z]\" accesskey=\"z\"><span>P\\xc3\\xa1gina principal</span></a></li><li id=\"n-featuredcontent\" class=\"mw-list-item\"><a href=\"/wiki/Portal:Conte%C3%BAdo_destacado\"><span>Conte\\xc3\\xbado destacado</span></a></li><li id=\"n-currentevents\" class=\"mw-list-item\"><a href=\"/wiki/Portal:Eventos_atuais\" title=\"Informa\\xc3\\xa7\\xc3\\xa3o tem\\xc3\\xa1tica sobre eventos atuais\"><span>Eventos atuais</span></a></li><li id=\"n-villagepump\" class=\"mw-list-item\"><a href=\"/wiki/Wikip%C3%A9dia:Esplanada\"><span>Esplanada</span></a></li><li id=\"n-randompage\" class=\"mw-list-item\"><a href=\"/wiki/Especial:Aleat%C3%B3ria\" title=\"Carregar p\\xc3\\xa1gina aleat\\xc3\\xb3ria [x]\" accesskey=\"x\"><span>P\\xc3\\xa1gina aleat\\xc3\\xb3ria</span></a></li><li id=\"n-portals\" class=\"mw-list-item\"><a href=\"/wiki/Portal:%C3%8Dndice\"><span>Portais</span></a></li><li id=\"n-bug_in_article\" class=\"mw-list-item\"><a href=\"/wiki/Wikip%C3%A9dia:Informe_um_erro\"><span>Informar um erro</span></a></li></ul>\\n\\t\\t\\n\\t</div>\\n</nav>\\n\\n\\t<nav id=\"p-interaction\" class=\"mw-portlet mw-portlet-interaction vector-menu vector-menu-portal portal\" aria-labelledby=\"p-interaction-label\" role=\"navigation\" \\n\\t >\\n\\t<h3 id=\"p-interaction-label\" aria-label=\"\" class=\"vector-menu-heading\" aria-hidden=\"true\">\\n\\t\\t\\n\\t\\t<span>Colabora\\xc3\\xa7\\xc3\\xa3o</span>\\n\\t</h3>\\n\\t<div class=\"vector-menu-content\">\\n\\t\\t\\n\\t\\t<ul class=\"vector-menu-content-list\"><li id=\"n-welcome\" class=\"mw-list-item\"><a href=\"/wiki/Wikip%C3%A9dia:Boas-vindas\"><span>Boas-vindas</span></a></li><li id=\"n-help\" class=\"mw-list-item\"><a href=\"/wiki/Ajuda:P%C3%A1gina_principal\" title=\"Um local reservado para aux\\xc3\\xadlio.\"><span>Ajuda</span></a></li><li id=\"n-testpage\" class=\"mw-list-item\"><a href=\"/wiki/Ajuda:P%C3%A1gina_de_testes\"><span>P\\xc3\\xa1gina de testes</span></a></li><li id=\"n-portal\" class=\"mw-list-item\"><a href=\"/wiki/Wikip%C3%A9dia:Portal_comunit%C3%A1rio\" title=\"Sobre o projeto\"><span>Portal comunit\\xc3\\xa1rio</span></a></li><li id=\"n-recentchanges\" class=\"mw-list-item\"><a href=\"/wiki/Especial:Mudan%C3%A7as_recentes\" title=\"Uma lista de mudan\\xc3\\xa7as recentes nesta wiki [r]\" accesskey=\"r\"><span>Mudan\\xc3\\xa7as recentes</span></a></li><li id=\"n-maintenance\" class=\"mw-list-item\"><a href=\"/wiki/Wikip%C3%A9dia:Manuten%C3%A7%C3%A3o\"><span>Manuten\\xc3\\xa7\\xc3\\xa3o</span></a></li><li id=\"n-createpage\" class=\"mw-list-item\"><a href=\"/wiki/Ajuda:Guia_de_edi%C3%A7%C3%A3o/Como_come%C3%A7ar_uma_p%C3%A1gina\"><span>Criar p\\xc3\\xa1gina</span></a></li><li id=\"n-newpages-description\" class=\"mw-list-item\"><a href=\"/wiki/Especial:P%C3%A1ginas_novas\"><span>P\\xc3\\xa1ginas novas</span></a></li><li id=\"n-contact-description\" class=\"mw-list-item\"><a href=\"/wiki/Wikip%C3%A9dia:Contato\"><span>Contato</span></a></li><li id=\"n-sitesupport\" class=\"mw-list-item\"><a href=\"//donate.wikimedia.org/wiki/Special:FundraiserRedirector?utm_source=donate&amp;utm_medium=sidebar&amp;utm_campaign=20120521SB001&amp;uselang=pt\" title=\"Ajude-nos\"><span>Donativos</span></a></li></ul>\\n\\t\\t\\n\\t</div>\\n</nav>\\n<nav id=\"p-tb\" class=\"mw-portlet mw-portlet-tb vector-menu vector-menu-portal portal\" aria-labelledby=\"p-tb-label\" role=\"navigation\" \\n\\t >\\n\\t<h3 id=\"p-tb-label\" aria-label=\"\" class=\"vector-menu-heading\" aria-hidden=\"true\">\\n\\t\\t\\n\\t\\t<span>Ferramentas</span>\\n\\t</h3>\\n\\t<div class=\"vector-menu-content\">\\n\\t\\t\\n\\t\\t<ul class=\"vector-menu-content-list\"><li id=\"t-whatlinkshere\" class=\"mw-list-item\"><a href=\"/wiki/Especial:P%C3%A1ginas_afluentes/Medita%C3%A7%C3%A3o\" title=\"Lista de todas as p\\xc3\\xa1ginas que cont\\xc3\\xaam hiperliga\\xc3\\xa7\\xc3\\xb5es para esta [j]\" accesskey=\"j\"><span>P\\xc3\\xa1ginas afluentes</span></a></li><li id=\"t-recentchangeslinked\" class=\"mw-list-item\"><a href=\"/wiki/Especial:Altera%C3%A7%C3%B5es_relacionadas/Medita%C3%A7%C3%A3o\" rel=\"nofollow\" title=\"Mudan\\xc3\\xa7as recentes nas p\\xc3\\xa1ginas para as quais esta cont\\xc3\\xa9m hiperliga\\xc3\\xa7\\xc3\\xb5es [k]\" accesskey=\"k\"><span>Altera\\xc3\\xa7\\xc3\\xb5es relacionadas</span></a></li><li id=\"t-upload\" class=\"mw-list-item\"><a href=\"/wiki/Wikipedia:Carregar_ficheiro\" title=\"Carregar ficheiros [u]\" accesskey=\"u\"><span>Carregar ficheiro</span></a></li><li id=\"t-specialpages\" class=\"mw-list-item\"><a href=\"/wiki/Especial:P%C3%A1ginas_especiais\" title=\"Lista de p\\xc3\\xa1ginas especiais [q]\" accesskey=\"q\"><span>P\\xc3\\xa1ginas especiais</span></a></li><li id=\"t-permalink\" class=\"mw-list-item\"><a href=\"/w/index.php?title=Medita%C3%A7%C3%A3o&amp;oldid=61923438\" title=\"Hiperliga\\xc3\\xa7\\xc3\\xa3o permanente para esta revis\\xc3\\xa3o da p\\xc3\\xa1gina\"><span>Hiperliga\\xc3\\xa7\\xc3\\xa3o permanente</span></a></li><li id=\"t-info\" class=\"mw-list-item\"><a href=\"/w/index.php?title=Medita%C3%A7%C3%A3o&amp;action=info\" title=\"Mais informa\\xc3\\xa7\\xc3\\xb5es sobre esta p\\xc3\\xa1gina\"><span>Informa\\xc3\\xa7\\xc3\\xb5es da p\\xc3\\xa1gina</span></a></li><li id=\"t-cite\" class=\"mw-list-item\"><a href=\"/w/index.php?title=Especial:Citar&amp;page=Medita%C3%A7%C3%A3o&amp;id=61923438&amp;wpFormIdentifier=titleform\" title=\"Informa\\xc3\\xa7\\xc3\\xa3o sobre como citar esta p\\xc3\\xa1gina\"><span>Citar esta p\\xc3\\xa1gina</span></a></li><li id=\"t-wikibase\" class=\"mw-list-item\"><a href=\"https://www.wikidata.org/wiki/Special:EntityPage/Q108458\" title=\"Hiperliga\\xc3\\xa7\\xc3\\xa3o para o elemento do reposit\\xc3\\xb3rio de dados [g]\" accesskey=\"g\"><span>Elemento Wikidata</span></a></li></ul>\\n\\t\\t\\n\\t</div>\\n</nav>\\n<nav id=\"p-coll-print_export\" class=\"mw-portlet mw-portlet-coll-print_export vector-menu vector-menu-portal portal\" aria-labelledby=\"p-coll-print_export-label\" role=\"navigation\" \\n\\t >\\n\\t<h3 id=\"p-coll-print_export-label\" aria-label=\"\" class=\"vector-menu-heading\" aria-hidden=\"true\">\\n\\t\\t\\n\\t\\t<span>Imprimir/exportar</span>\\n\\t</h3>\\n\\t<div class=\"vector-menu-content\">\\n\\t\\t\\n\\t\\t<ul class=\"vector-menu-content-list\"><li id=\"coll-create_a_book\" class=\"mw-list-item\"><a href=\"/w/index.php?title=Especial:Livro&amp;bookcmd=book_creator&amp;referer=Medita%C3%A7%C3%A3o\"><span>Criar um livro</span></a></li><li id=\"coll-download-as-rl\" class=\"mw-list-item\"><a href=\"/w/index.php?title=Especial:DownloadAsPdf&amp;page=Medita%C3%A7%C3%A3o&amp;action=show-download-screen\"><span>Descarregar como PDF</span></a></li><li id=\"t-print\" class=\"mw-list-item\"><a href=\"/w/index.php?title=Medita%C3%A7%C3%A3o&amp;printable=yes\" title=\"Vers\\xc3\\xa3o para impress\\xc3\\xa3o desta p\\xc3\\xa1gina [p]\" accesskey=\"p\"><span>Vers\\xc3\\xa3o para impress\\xc3\\xa3o</span></a></li></ul>\\n\\t\\t\\n\\t</div>\\n</nav>\\n<nav id=\"p-wikibase-otherprojects\" class=\"mw-portlet mw-portlet-wikibase-otherprojects vector-menu vector-menu-portal portal\" aria-labelledby=\"p-wikibase-otherprojects-label\" role=\"navigation\" \\n\\t >\\n\\t<h3 id=\"p-wikibase-otherprojects-label\" aria-label=\"\" class=\"vector-menu-heading\" aria-hidden=\"true\">\\n\\t\\t\\n\\t\\t<span>Noutros projetos</span>\\n\\t</h3>\\n\\t<div class=\"vector-menu-content\">\\n\\t\\t\\n\\t\\t<ul class=\"vector-menu-content-list\"><li class=\"wb-otherproject-link wb-otherproject-commons mw-list-item\"><a href=\"https://commons.wikimedia.org/wiki/Category:Meditation\" hreflang=\"en\"><span>Wikimedia Commons</span></a></li></ul>\\n\\t\\t\\n\\t</div>\\n</nav>\\n\\n</div>\\n\\n\\t\\t<div id=\"mw-head\">\\n\\t\\t\\t<div class=\"mw-article-toolbar-container\">\\n\\t\\t\\t\\t<div id=\"left-navigation\">\\n\\t\\t\\t\\t\\t<nav id=\"p-namespaces\" class=\"mw-portlet mw-portlet-namespaces vector-menu vector-menu-tabs\" aria-labelledby=\"p-namespaces-label\" role=\"navigation\" \\n\\t >\\n\\t<h3 id=\"p-namespaces-label\" aria-label=\"\" class=\"vector-menu-heading\" aria-hidden=\"true\">\\n\\t\\t\\n\\t\\t<span>Espa\\xc3\\xa7os nominais</span>\\n\\t</h3>\\n\\t<div class=\"vector-menu-content\">\\n\\t\\t\\n\\t\\t<ul class=\"vector-menu-content-list\"><li id=\"ca-nstab-main\" class=\"selected mw-list-item\"><a href=\"/wiki/Medita%C3%A7%C3%A3o\" title=\"Ver a p\\xc3\\xa1gina de conte\\xc3\\xbado [c]\" accesskey=\"c\"><span>Artigo</span></a></li><li id=\"ca-talk\" class=\"mw-list-item\"><a href=\"/wiki/Discuss%C3%A3o:Medita%C3%A7%C3%A3o\" rel=\"discussion\" title=\"Discuss\\xc3\\xa3o sobre o conte\\xc3\\xbado da p\\xc3\\xa1gina [t]\" accesskey=\"t\"><span>Discuss\\xc3\\xa3o</span></a></li></ul>\\n\\t\\t\\n\\t</div>\\n</nav>\\n\\n\\t\\t\\t\\t\\t<nav id=\"p-variants\" class=\"mw-portlet mw-portlet-variants emptyPortlet vector-menu-dropdown-noicon vector-menu vector-menu-dropdown\" aria-labelledby=\"p-variants-label\" role=\"navigation\" \\n\\t >\\n\\t<input type=\"checkbox\"\\n\\t\\tid=\"p-variants-checkbox\"\\n\\t\\trole=\"button\"\\n\\t\\taria-haspopup=\"true\"\\n\\t\\tdata-event-name=\"ui.dropdown-p-variants\"\\n\\t\\tclass=\" vector-menu-checkbox\" aria-labelledby=\"p-variants-label\" />\\n\\t<h3 id=\"p-variants-label\" aria-label=\"Change language variant\" class=\"vector-menu-heading\" aria-hidden=\"true\">\\n\\t\\t\\n\\t\\t<span>Variantes</span>\\n\\t\\t\\t<span class=\"vector-menu-checkbox-expanded\">expanded</span>\\n\\t\\t\\t<span class=\"vector-menu-checkbox-collapsed\">collapsed</span>\\n\\t</h3>\\n\\t<div class=\"vector-menu-content\">\\n\\t\\t\\n\\t\\t<ul class=\"vector-menu-content-list\"></ul>\\n\\t\\t\\n\\t</div>\\n</nav>\\n\\n\\t\\t\\t\\t</div>\\n\\t\\t\\t\\t<div id=\"right-navigation\">\\n\\t\\t\\t\\t\\t<nav id=\"p-views\" class=\"mw-portlet mw-portlet-views vector-menu vector-menu-tabs\" aria-labelledby=\"p-views-label\" role=\"navigation\" \\n\\t >\\n\\t<h3 id=\"p-views-label\" aria-label=\"\" class=\"vector-menu-heading\" aria-hidden=\"true\">\\n\\t\\t\\n\\t\\t<span>Vistas</span>\\n\\t</h3>\\n\\t<div class=\"vector-menu-content\">\\n\\t\\t\\n\\t\\t<ul class=\"vector-menu-content-list\"><li id=\"ca-view\" class=\"selected mw-list-item\"><a href=\"/wiki/Medita%C3%A7%C3%A3o\"><span>Ler</span></a></li><li id=\"ca-ve-edit\" class=\"mw-list-item\"><a href=\"/w/index.php?title=Medita%C3%A7%C3%A3o&amp;veaction=edit\" title=\"Editar esta p\\xc3\\xa1gina [v]\" accesskey=\"v\"><span>Editar</span></a></li><li id=\"ca-edit\" class=\"collapsible mw-list-item\"><a href=\"/w/index.php?title=Medita%C3%A7%C3%A3o&amp;action=edit\" title=\"Editar esta p\\xc3\\xa1gina [e]\" accesskey=\"e\"><span>Editar c\\xc3\\xb3digo-fonte</span></a></li><li id=\"ca-history\" class=\"mw-list-item\"><a href=\"/w/index.php?title=Medita%C3%A7%C3%A3o&amp;action=history\" title=\"Edi\\xc3\\xa7\\xc3\\xb5es anteriores desta p\\xc3\\xa1gina. [h]\" accesskey=\"h\"><span>Ver hist\\xc3\\xb3rico</span></a></li></ul>\\n\\t\\t\\n\\t</div>\\n</nav>\\n\\n\\t\\t\\t\\t\\t<nav id=\"p-cactions\" class=\"mw-portlet mw-portlet-cactions emptyPortlet vector-menu-dropdown-noicon vector-menu vector-menu-dropdown\" aria-labelledby=\"p-cactions-label\" role=\"navigation\"  title=\"Mais op\\xc3\\xa7\\xc3\\xb5es\"\\n\\t >\\n\\t<input type=\"checkbox\"\\n\\t\\tid=\"p-cactions-checkbox\"\\n\\t\\trole=\"button\"\\n\\t\\taria-haspopup=\"true\"\\n\\t\\tdata-event-name=\"ui.dropdown-p-cactions\"\\n\\t\\tclass=\" vector-menu-checkbox\" aria-labelledby=\"p-cactions-label\" />\\n\\t<h3 id=\"p-cactions-label\" aria-label=\"\" class=\"vector-menu-heading\" aria-hidden=\"true\">\\n\\t\\t\\n\\t\\t<span>Mais</span>\\n\\t\\t\\t<span class=\"vector-menu-checkbox-expanded\">expanded</span>\\n\\t\\t\\t<span class=\"vector-menu-checkbox-collapsed\">collapsed</span>\\n\\t</h3>\\n\\t<div class=\"vector-menu-content\">\\n\\t\\t\\n\\t\\t<ul class=\"vector-menu-content-list\"></ul>\\n\\t\\t\\n\\t</div>\\n</nav>\\n\\n\\t\\t\\t\\t</div>\\n\\t\\t\\t</div>\\n\\t\\t</div>\\n\\t</div>\\n\\t<div class=\"mw-content-container\">\\n<main id=\"content\" class=\"mw-body\" role=\"main\">\\n\\t<a id=\"top\"></a>\\n\\t<div id=\"siteNotice\"><!-- CentralNotice --><div id=\"mw-dismissablenotice-anonplace\"></div><script>(function(){var node=document.getElementById(\"mw-dismissablenotice-anonplace\");if(node){node.outerHTML=\"\\\\u003Cdiv class=\\\\\"mw-dismissable-notice\\\\\"\\\\u003E\\\\u003Cdiv class=\\\\\"mw-dismissable-notice-close\\\\\"\\\\u003E[\\\\u003Ca tabindex=\\\\\"0\\\\\" role=\\\\\"button\\\\\"\\\\u003Eocultar\\\\u003C/a\\\\u003E]\\\\u003C/div\\\\u003E\\\\u003Cdiv class=\\\\\"mw-dismissable-notice-body\\\\\"\\\\u003E\\\\u003Cdiv id=\\\\\"localNotice\\\\\" lang=\\\\\"pt\\\\\" dir=\\\\\"ltr\\\\\"\\\\u003E\\\\u003C/div\\\\u003E\\\\u003C/div\\\\u003E\\\\u003C/div\\\\u003E\";}}());</script></div>\\n\\n\\n\\t<header class=\"mw-body-header\">\\n\\t\\t\\t<nav id=\"p-lang-btn\" class=\"mw-portlet mw-portlet-lang vector-menu vector-menu-dropdown\" aria-labelledby=\"p-lang-btn-label\" role=\"navigation\" \\n\\t >\\n\\t<input type=\"checkbox\"\\n\\t\\tid=\"p-lang-btn-checkbox\"\\n\\t\\trole=\"button\"\\n\\t\\taria-haspopup=\"true\"\\n\\t\\tdata-event-name=\"ui.dropdown-p-lang-btn\"\\n\\t\\tclass=\" mw-interlanguage-selector  vector-menu-checkbox\" aria-labelledby=\"p-lang-btn-label\" />\\n\\t<h3 id=\"p-lang-btn-label\" aria-label=\"Go to an article in another language. Available in 82 languages\" class=\" vector-menu-heading  mw-ui-button mw-ui-quiet\" aria-hidden=\"true\">\\n\\t\\t<span class=\"mw-ui-icon mw-ui-icon-wikimedia-language\"></span>\\n\\t\\t<span>82 idiomas</span>\\n\\t\\t\\t<span class=\"vector-menu-checkbox-expanded\">expanded</span>\\n\\t\\t\\t<span class=\"vector-menu-checkbox-collapsed\">collapsed</span>\\n\\t</h3>\\n\\t<div class=\"vector-menu-content\">\\n\\t\\t\\n\\t\\t<ul class=\"vector-menu-content-list\"><li class=\"interlanguage-link interwiki-af mw-list-item\"><a href=\"https://af.wikipedia.org/wiki/Meditasie\" title=\"Meditasie \\xe2\\x80\\x94 african\\xc3\\xaas\" lang=\"af\" hreflang=\"af\" class=\"interlanguage-link-target\"><span>Afrikaans</span></a></li><li class=\"interlanguage-link interwiki-als mw-list-item\"><a href=\"https://als.wikipedia.org/wiki/Meditation\" title=\"Meditation \\xe2\\x80\\x94 Alemannisch\" lang=\"gsw\" hreflang=\"gsw\" class=\"interlanguage-link-target\"><span>Alemannisch</span></a></li><li class=\"interlanguage-link interwiki-ar mw-list-item\"><a href=\"https://ar.wikipedia.org/wiki/%D8%AA%D8%A3%D9%85%D9%84\" title=\"\\xd8\\xaa\\xd8\\xa3\\xd9\\x85\\xd9\\x84 \\xe2\\x80\\x94 \\xc3\\xa1rabe\" lang=\"ar\" hreflang=\"ar\" class=\"interlanguage-link-target\"><span>\\xd8\\xa7\\xd9\\x84\\xd8\\xb9\\xd8\\xb1\\xd8\\xa8\\xd9\\x8a\\xd8\\xa9</span></a></li><li class=\"interlanguage-link interwiki-ast mw-list-item\"><a href=\"https://ast.wikipedia.org/wiki/Meditaci%C3%B3n\" title=\"Meditaci\\xc3\\xb3n \\xe2\\x80\\x94 asturiano\" lang=\"ast\" hreflang=\"ast\" class=\"interlanguage-link-target\"><span>Asturianu</span></a></li><li class=\"interlanguage-link interwiki-az mw-list-item\"><a href=\"https://az.wikipedia.org/wiki/Meditasiya\" title=\"Meditasiya \\xe2\\x80\\x94 azerbaijano\" lang=\"az\" hreflang=\"az\" class=\"interlanguage-link-target\"><span>Az\\xc9\\x99rbaycanca</span></a></li><li class=\"interlanguage-link interwiki-bg mw-list-item\"><a href=\"https://bg.wikipedia.org/wiki/%D0%9C%D0%B5%D0%B4%D0%B8%D1%82%D0%B0%D1%86%D0%B8%D1%8F\" title=\"\\xd0\\x9c\\xd0\\xb5\\xd0\\xb4\\xd0\\xb8\\xd1\\x82\\xd0\\xb0\\xd1\\x86\\xd0\\xb8\\xd1\\x8f \\xe2\\x80\\x94 b\\xc3\\xbalgaro\" lang=\"bg\" hreflang=\"bg\" class=\"interlanguage-link-target\"><span>\\xd0\\x91\\xd1\\x8a\\xd0\\xbb\\xd0\\xb3\\xd0\\xb0\\xd1\\x80\\xd1\\x81\\xd0\\xba\\xd0\\xb8</span></a></li><li class=\"interlanguage-link interwiki-bn mw-list-item\"><a href=\"https://bn.wikipedia.org/wiki/%E0%A6%A7%E0%A7%8D%E0%A6%AF%E0%A6%BE%E0%A6%A8\" title=\"\\xe0\\xa6\\xa7\\xe0\\xa7\\x8d\\xe0\\xa6\\xaf\\xe0\\xa6\\xbe\\xe0\\xa6\\xa8 \\xe2\\x80\\x94 bengal\\xc3\\xaas\" lang=\"bn\" hreflang=\"bn\" class=\"interlanguage-link-target\"><span>\\xe0\\xa6\\xac\\xe0\\xa6\\xbe\\xe0\\xa6\\x82\\xe0\\xa6\\xb2\\xe0\\xa6\\xbe</span></a></li><li class=\"interlanguage-link interwiki-bo mw-list-item\"><a href=\"https://bo.wikipedia.org/wiki/%E0%BD%8F%E0%BD%B2%E0%BD%84%E0%BC%8B%E0%BD%84%E0%BD%BA%E0%BC%8B%E0%BD%A0%E0%BD%9B%E0%BD%B2%E0%BD%93%E0%BC%8D\" title=\"\\xe0\\xbd\\x8f\\xe0\\xbd\\xb2\\xe0\\xbd\\x84\\xe0\\xbc\\x8b\\xe0\\xbd\\x84\\xe0\\xbd\\xba\\xe0\\xbc\\x8b\\xe0\\xbd\\xa0\\xe0\\xbd\\x9b\\xe0\\xbd\\xb2\\xe0\\xbd\\x93\\xe0\\xbc\\x8d \\xe2\\x80\\x94 tibetano\" lang=\"bo\" hreflang=\"bo\" class=\"interlanguage-link-target\"><span>\\xe0\\xbd\\x96\\xe0\\xbd\\xbc\\xe0\\xbd\\x91\\xe0\\xbc\\x8b\\xe0\\xbd\\xa1\\xe0\\xbd\\xb2\\xe0\\xbd\\x82</span></a></li><li class=\"interlanguage-link interwiki-ca mw-list-item\"><a href=\"https://ca.wikipedia.org/wiki/Meditaci%C3%B3\" title=\"Meditaci\\xc3\\xb3 \\xe2\\x80\\x94 catal\\xc3\\xa3o\" lang=\"ca\" hreflang=\"ca\" class=\"interlanguage-link-target\"><span>Catal\\xc3\\xa0</span></a></li><li class=\"interlanguage-link interwiki-cs mw-list-item\"><a href=\"https://cs.wikipedia.org/wiki/Meditace\" title=\"Meditace \\xe2\\x80\\x94 checo\" lang=\"cs\" hreflang=\"cs\" class=\"interlanguage-link-target\"><span>\\xc4\\x8ce\\xc5\\xa1tina</span></a></li><li class=\"interlanguage-link interwiki-cy mw-list-item\"><a href=\"https://cy.wikipedia.org/wiki/Myfyrdod\" title=\"Myfyrdod \\xe2\\x80\\x94 gal\\xc3\\xaas\" lang=\"cy\" hreflang=\"cy\" class=\"interlanguage-link-target\"><span>Cymraeg</span></a></li><li class=\"interlanguage-link interwiki-da mw-list-item\"><a href=\"https://da.wikipedia.org/wiki/Meditation\" title=\"Meditation \\xe2\\x80\\x94 dinamarqu\\xc3\\xaas\" lang=\"da\" hreflang=\"da\" class=\"interlanguage-link-target\"><span>Dansk</span></a></li><li class=\"interlanguage-link interwiki-de mw-list-item\"><a href=\"https://de.wikipedia.org/wiki/Meditation\" title=\"Meditation \\xe2\\x80\\x94 alem\\xc3\\xa3o\" lang=\"de\" hreflang=\"de\" class=\"interlanguage-link-target\"><span>Deutsch</span></a></li><li class=\"interlanguage-link interwiki-el mw-list-item\"><a href=\"https://el.wikipedia.org/wiki/%CE%94%CE%B9%CE%B1%CE%BB%CE%BF%CE%B3%CE%B9%CF%83%CE%BC%CF%8C%CF%82\" title=\"\\xce\\x94\\xce\\xb9\\xce\\xb1\\xce\\xbb\\xce\\xbf\\xce\\xb3\\xce\\xb9\\xcf\\x83\\xce\\xbc\\xcf\\x8c\\xcf\\x82 \\xe2\\x80\\x94 grego\" lang=\"el\" hreflang=\"el\" class=\"interlanguage-link-target\"><span>\\xce\\x95\\xce\\xbb\\xce\\xbb\\xce\\xb7\\xce\\xbd\\xce\\xb9\\xce\\xba\\xce\\xac</span></a></li><li class=\"interlanguage-link interwiki-en mw-list-item\"><a href=\"https://en.wikipedia.org/wiki/Meditation\" title=\"Meditation \\xe2\\x80\\x94 ingl\\xc3\\xaas\" lang=\"en\" hreflang=\"en\" class=\"interlanguage-link-target\"><span>English</span></a></li><li class=\"interlanguage-link interwiki-eo mw-list-item\"><a href=\"https://eo.wikipedia.org/wiki/Meditado\" title=\"Meditado \\xe2\\x80\\x94 esperanto\" lang=\"eo\" hreflang=\"eo\" class=\"interlanguage-link-target\"><span>Esperanto</span></a></li><li class=\"interlanguage-link interwiki-es mw-list-item\"><a href=\"https://es.wikipedia.org/wiki/Meditaci%C3%B3n\" title=\"Meditaci\\xc3\\xb3n \\xe2\\x80\\x94 espanhol\" lang=\"es\" hreflang=\"es\" class=\"interlanguage-link-target\"><span>Espa\\xc3\\xb1ol</span></a></li><li class=\"interlanguage-link interwiki-et mw-list-item\"><a href=\"https://et.wikipedia.org/wiki/Meditatsioon\" title=\"Meditatsioon \\xe2\\x80\\x94 est\\xc3\\xb3nio\" lang=\"et\" hreflang=\"et\" class=\"interlanguage-link-target\"><span>Eesti</span></a></li><li class=\"interlanguage-link interwiki-eu mw-list-item\"><a href=\"https://eu.wikipedia.org/wiki/Meditazio\" title=\"Meditazio \\xe2\\x80\\x94 basco\" lang=\"eu\" hreflang=\"eu\" class=\"interlanguage-link-target\"><span>Euskara</span></a></li><li class=\"interlanguage-link interwiki-fa mw-list-item\"><a href=\"https://fa.wikipedia.org/wiki/%D9%85%D8%AF%DB%8C%D8%AA%DB%8C%D8%B4%D9%86\" title=\"\\xd9\\x85\\xd8\\xaf\\xdb\\x8c\\xd8\\xaa\\xdb\\x8c\\xd8\\xb4\\xd9\\x86 \\xe2\\x80\\x94 persa\" lang=\"fa\" hreflang=\"fa\" class=\"interlanguage-link-target\"><span>\\xd9\\x81\\xd8\\xa7\\xd8\\xb1\\xd8\\xb3\\xdb\\x8c</span></a></li><li class=\"interlanguage-link interwiki-fi mw-list-item\"><a href=\"https://fi.wikipedia.org/wiki/Meditaatio\" title=\"Meditaatio \\xe2\\x80\\x94 finland\\xc3\\xaas\" lang=\"fi\" hreflang=\"fi\" class=\"interlanguage-link-target\"><span>Suomi</span></a></li><li class=\"interlanguage-link interwiki-fr mw-list-item\"><a href=\"https://fr.wikipedia.org/wiki/M%C3%A9ditation\" title=\"M\\xc3\\xa9ditation \\xe2\\x80\\x94 franc\\xc3\\xaas\" lang=\"fr\" hreflang=\"fr\" class=\"interlanguage-link-target\"><span>Fran\\xc3\\xa7ais</span></a></li><li class=\"interlanguage-link interwiki-fy mw-list-item\"><a href=\"https://fy.wikipedia.org/wiki/Meditaasje\" title=\"Meditaasje \\xe2\\x80\\x94 fr\\xc3\\xadsico ocidental\" lang=\"fy\" hreflang=\"fy\" class=\"interlanguage-link-target\"><span>Frysk</span></a></li><li class=\"interlanguage-link interwiki-gcr mw-list-item\"><a href=\"https://gcr.wikipedia.org/wiki/M%C3%A9ditasyon\" title=\"M\\xc3\\xa9ditasyon \\xe2\\x80\\x94 Guianan Creole\" lang=\"gcr\" hreflang=\"gcr\" class=\"interlanguage-link-target\"><span>Kriy\\xc3\\xb2l gwiyannen</span></a></li><li class=\"interlanguage-link interwiki-gl mw-list-item\"><a href=\"https://gl.wikipedia.org/wiki/Meditaci%C3%B3n\" title=\"Meditaci\\xc3\\xb3n \\xe2\\x80\\x94 galego\" lang=\"gl\" hreflang=\"gl\" class=\"interlanguage-link-target\"><span>Galego</span></a></li><li class=\"interlanguage-link interwiki-he mw-list-item\"><a href=\"https://he.wikipedia.org/wiki/%D7%9E%D7%93%D7%99%D7%98%D7%A6%D7%99%D7%94\" title=\"\\xd7\\x9e\\xd7\\x93\\xd7\\x99\\xd7\\x98\\xd7\\xa6\\xd7\\x99\\xd7\\x94 \\xe2\\x80\\x94 hebraico\" lang=\"he\" hreflang=\"he\" class=\"interlanguage-link-target\"><span>\\xd7\\xa2\\xd7\\x91\\xd7\\xa8\\xd7\\x99\\xd7\\xaa</span></a></li><li class=\"interlanguage-link interwiki-hi mw-list-item\"><a href=\"https://hi.wikipedia.org/wiki/%E0%A4%A7%E0%A5%8D%E0%A4%AF%E0%A4%BE%E0%A4%A8_(%E0%A4%95%E0%A5%8D%E0%A4%B0%E0%A4%BF%E0%A4%AF%E0%A4%BE)\" title=\"\\xe0\\xa4\\xa7\\xe0\\xa5\\x8d\\xe0\\xa4\\xaf\\xe0\\xa4\\xbe\\xe0\\xa4\\xa8 (\\xe0\\xa4\\x95\\xe0\\xa5\\x8d\\xe0\\xa4\\xb0\\xe0\\xa4\\xbf\\xe0\\xa4\\xaf\\xe0\\xa4\\xbe) \\xe2\\x80\\x94 hindi\" lang=\"hi\" hreflang=\"hi\" class=\"interlanguage-link-target\"><span>\\xe0\\xa4\\xb9\\xe0\\xa4\\xbf\\xe0\\xa4\\xa8\\xe0\\xa5\\x8d\\xe0\\xa4\\xa6\\xe0\\xa5\\x80</span></a></li><li class=\"interlanguage-link interwiki-hr mw-list-item\"><a href=\"https://hr.wikipedia.org/wiki/Meditacija\" title=\"Meditacija \\xe2\\x80\\x94 croata\" lang=\"hr\" hreflang=\"hr\" class=\"interlanguage-link-target\"><span>Hrvatski</span></a></li><li class=\"interlanguage-link interwiki-hu mw-list-item\"><a href=\"https://hu.wikipedia.org/wiki/Medit%C3%A1ci%C3%B3\" title=\"Medit\\xc3\\xa1ci\\xc3\\xb3 \\xe2\\x80\\x94 h\\xc3\\xbangaro\" lang=\"hu\" hreflang=\"hu\" class=\"interlanguage-link-target\"><span>Magyar</span></a></li><li class=\"interlanguage-link interwiki-hy mw-list-item\"><a href=\"https://hy.wikipedia.org/wiki/%D5%84%D5%A5%D5%A4%D5%AB%D5%BF%D5%A1%D6%81%D5%AB%D5%A1\" title=\"\\xd5\\x84\\xd5\\xa5\\xd5\\xa4\\xd5\\xab\\xd5\\xbf\\xd5\\xa1\\xd6\\x81\\xd5\\xab\\xd5\\xa1 \\xe2\\x80\\x94 arm\\xc3\\xa9nio\" lang=\"hy\" hreflang=\"hy\" class=\"interlanguage-link-target\"><span>\\xd5\\x80\\xd5\\xa1\\xd5\\xb5\\xd5\\xa5\\xd6\\x80\\xd5\\xa5\\xd5\\xb6</span></a></li><li class=\"interlanguage-link interwiki-ia mw-list-item\"><a href=\"https://ia.wikipedia.org/wiki/Meditation\" title=\"Meditation \\xe2\\x80\\x94 interl\\xc3\\xadngua\" lang=\"ia\" hreflang=\"ia\" class=\"interlanguage-link-target\"><span>Interlingua</span></a></li><li class=\"interlanguage-link interwiki-id mw-list-item\"><a href=\"https://id.wikipedia.org/wiki/Semadi\" title=\"Semadi \\xe2\\x80\\x94 indon\\xc3\\xa9sio\" lang=\"id\" hreflang=\"id\" class=\"interlanguage-link-target\"><span>Bahasa Indonesia</span></a></li><li class=\"interlanguage-link interwiki-it mw-list-item\"><a href=\"https://it.wikipedia.org/wiki/Meditazione\" title=\"Meditazione \\xe2\\x80\\x94 italiano\" lang=\"it\" hreflang=\"it\" class=\"interlanguage-link-target\"><span>Italiano</span></a></li><li class=\"interlanguage-link interwiki-ja mw-list-item\"><a href=\"https://ja.wikipedia.org/wiki/%E7%9E%91%E6%83%B3\" title=\"\\xe7\\x9e\\x91\\xe6\\x83\\xb3 \\xe2\\x80\\x94 japon\\xc3\\xaas\" lang=\"ja\" hreflang=\"ja\" class=\"interlanguage-link-target\"><span>\\xe6\\x97\\xa5\\xe6\\x9c\\xac\\xe8\\xaa\\x9e</span></a></li><li class=\"interlanguage-link interwiki-jam mw-list-item\"><a href=\"https://jam.wikipedia.org/wiki/Meditieshan\" title=\"Meditieshan \\xe2\\x80\\x94 Jamaican Creole English\" lang=\"jam\" hreflang=\"jam\" class=\"interlanguage-link-target\"><span>Patois</span></a></li><li class=\"interlanguage-link interwiki-kk mw-list-item\"><a href=\"https://kk.wikipedia.org/wiki/%D0%9C%D0%B5%D0%B4%D0%B8%D1%82%D0%B0%D1%86%D0%B8%D1%8F\" title=\"\\xd0\\x9c\\xd0\\xb5\\xd0\\xb4\\xd0\\xb8\\xd1\\x82\\xd0\\xb0\\xd1\\x86\\xd0\\xb8\\xd1\\x8f \\xe2\\x80\\x94 cazaque\" lang=\"kk\" hreflang=\"kk\" class=\"interlanguage-link-target\"><span>\\xd2\\x9a\\xd0\\xb0\\xd0\\xb7\\xd0\\xb0\\xd2\\x9b\\xd1\\x88\\xd0\\xb0</span></a></li><li class=\"interlanguage-link interwiki-km mw-list-item\"><a href=\"https://km.wikipedia.org/wiki/%E1%9E%80%E1%9E%B6%E1%9E%9A%E1%9E%8F%E1%9E%B6%E1%9F%86%E1%9E%84%E1%9E%9F%E1%9E%98%E1%9E%B6%E1%9E%92%E1%9E%B7\" title=\"\\xe1\\x9e\\x80\\xe1\\x9e\\xb6\\xe1\\x9e\\x9a\\xe1\\x9e\\x8f\\xe1\\x9e\\xb6\\xe1\\x9f\\x86\\xe1\\x9e\\x84\\xe1\\x9e\\x9f\\xe1\\x9e\\x98\\xe1\\x9e\\xb6\\xe1\\x9e\\x92\\xe1\\x9e\\xb7 \\xe2\\x80\\x94 khmer\" lang=\"km\" hreflang=\"km\" class=\"interlanguage-link-target\"><span>\\xe1\\x9e\\x97\\xe1\\x9e\\xb6\\xe1\\x9e\\x9f\\xe1\\x9e\\xb6\\xe1\\x9e\\x81\\xe1\\x9f\\x92\\xe1\\x9e\\x98\\xe1\\x9f\\x82\\xe1\\x9e\\x9a</span></a></li><li class=\"interlanguage-link interwiki-kn mw-list-item\"><a href=\"https://kn.wikipedia.org/wiki/%E0%B2%A7%E0%B3%8D%E0%B2%AF%E0%B2%BE%E0%B2%A8\" title=\"\\xe0\\xb2\\xa7\\xe0\\xb3\\x8d\\xe0\\xb2\\xaf\\xe0\\xb2\\xbe\\xe0\\xb2\\xa8 \\xe2\\x80\\x94 canarim\" lang=\"kn\" hreflang=\"kn\" class=\"interlanguage-link-target\"><span>\\xe0\\xb2\\x95\\xe0\\xb2\\xa8\\xe0\\xb3\\x8d\\xe0\\xb2\\xa8\\xe0\\xb2\\xa1</span></a></li><li class=\"interlanguage-link interwiki-ko mw-list-item\"><a href=\"https://ko.wikipedia.org/wiki/%EB%AA%85%EC%83%81\" title=\"\\xeb\\xaa\\x85\\xec\\x83\\x81 \\xe2\\x80\\x94 coreano\" lang=\"ko\" hreflang=\"ko\" class=\"interlanguage-link-target\"><span>\\xed\\x95\\x9c\\xea\\xb5\\xad\\xec\\x96\\xb4</span></a></li><li class=\"interlanguage-link interwiki-ky mw-list-item\"><a href=\"https://ky.wikipedia.org/wiki/%D0%9C%D0%B5%D0%B4%D0%B8%D1%82%D0%B0%D1%86%D0%B8%D1%8F\" title=\"\\xd0\\x9c\\xd0\\xb5\\xd0\\xb4\\xd0\\xb8\\xd1\\x82\\xd0\\xb0\\xd1\\x86\\xd0\\xb8\\xd1\\x8f \\xe2\\x80\\x94 quirguiz\" lang=\"ky\" hreflang=\"ky\" class=\"interlanguage-link-target\"><span>\\xd0\\x9a\\xd1\\x8b\\xd1\\x80\\xd0\\xb3\\xd1\\x8b\\xd0\\xb7\\xd1\\x87\\xd0\\xb0</span></a></li><li class=\"interlanguage-link interwiki-la mw-list-item\"><a href=\"https://la.wikipedia.org/wiki/Meditatio\" title=\"Meditatio \\xe2\\x80\\x94 latim\" lang=\"la\" hreflang=\"la\" class=\"interlanguage-link-target\"><span>Latina</span></a></li><li class=\"interlanguage-link interwiki-lt mw-list-item\"><a href=\"https://lt.wikipedia.org/wiki/Meditacija\" title=\"Meditacija \\xe2\\x80\\x94 lituano\" lang=\"lt\" hreflang=\"lt\" class=\"interlanguage-link-target\"><span>Lietuvi\\xc5\\xb3</span></a></li><li class=\"interlanguage-link interwiki-lv mw-list-item\"><a href=\"https://lv.wikipedia.org/wiki/Medit%C4%81cija\" title=\"Medit\\xc4\\x81cija \\xe2\\x80\\x94 let\\xc3\\xa3o\" lang=\"lv\" hreflang=\"lv\" class=\"interlanguage-link-target\"><span>Latvie\\xc5\\xa1u</span></a></li><li class=\"interlanguage-link interwiki-mk mw-list-item\"><a href=\"https://mk.wikipedia.org/wiki/%D0%9C%D0%B5%D0%B4%D0%B8%D1%82%D0%B0%D1%86%D0%B8%D1%98%D0%B0\" title=\"\\xd0\\x9c\\xd0\\xb5\\xd0\\xb4\\xd0\\xb8\\xd1\\x82\\xd0\\xb0\\xd1\\x86\\xd0\\xb8\\xd1\\x98\\xd0\\xb0 \\xe2\\x80\\x94 maced\\xc3\\xb3nio\" lang=\"mk\" hreflang=\"mk\" class=\"interlanguage-link-target\"><span>\\xd0\\x9c\\xd0\\xb0\\xd0\\xba\\xd0\\xb5\\xd0\\xb4\\xd0\\xbe\\xd0\\xbd\\xd1\\x81\\xd0\\xba\\xd0\\xb8</span></a></li><li class=\"interlanguage-link interwiki-mn mw-list-item\"><a href=\"https://mn.wikipedia.org/wiki/%D0%91%D1%8F%D1%81%D0%B0%D0%BB%D0%B3%D0%B0%D0%BB\" title=\"\\xd0\\x91\\xd1\\x8f\\xd1\\x81\\xd0\\xb0\\xd0\\xbb\\xd0\\xb3\\xd0\\xb0\\xd0\\xbb \\xe2\\x80\\x94 mongol\" lang=\"mn\" hreflang=\"mn\" class=\"interlanguage-link-target\"><span>\\xd0\\x9c\\xd0\\xbe\\xd0\\xbd\\xd0\\xb3\\xd0\\xbe\\xd0\\xbb</span></a></li><li class=\"interlanguage-link interwiki-mr mw-list-item\"><a href=\"https://mr.wikipedia.org/wiki/%E0%A4%A7%E0%A5%8D%E0%A4%AF%E0%A4%BE%E0%A4%A8\" title=\"\\xe0\\xa4\\xa7\\xe0\\xa5\\x8d\\xe0\\xa4\\xaf\\xe0\\xa4\\xbe\\xe0\\xa4\\xa8 \\xe2\\x80\\x94 marata\" lang=\"mr\" hreflang=\"mr\" class=\"interlanguage-link-target\"><span>\\xe0\\xa4\\xae\\xe0\\xa4\\xb0\\xe0\\xa4\\xbe\\xe0\\xa4\\xa0\\xe0\\xa5\\x80</span></a></li><li class=\"interlanguage-link interwiki-mwl mw-list-item\"><a href=\"https://mwl.wikipedia.org/wiki/Medita%C3%A7on\" title=\"Medita\\xc3\\xa7on \\xe2\\x80\\x94 mirand\\xc3\\xaas\" lang=\"mwl\" hreflang=\"mwl\" class=\"interlanguage-link-target\"><span>Mirand\\xc3\\xa9s</span></a></li><li class=\"interlanguage-link interwiki-my mw-list-item\"><a href=\"https://my.wikipedia.org/wiki/%E1%80%90%E1%80%9B%E1%80%AC%E1%80%B8%E1%80%9B%E1%80%BE%E1%80%AF%E1%80%99%E1%80%BE%E1%80%90%E1%80%BA%E1%80%81%E1%80%BC%E1%80%84%E1%80%BA%E1%80%B8\" title=\"\\xe1\\x80\\x90\\xe1\\x80\\x9b\\xe1\\x80\\xac\\xe1\\x80\\xb8\\xe1\\x80\\x9b\\xe1\\x80\\xbe\\xe1\\x80\\xaf\\xe1\\x80\\x99\\xe1\\x80\\xbe\\xe1\\x80\\x90\\xe1\\x80\\xba\\xe1\\x80\\x81\\xe1\\x80\\xbc\\xe1\\x80\\x84\\xe1\\x80\\xba\\xe1\\x80\\xb8 \\xe2\\x80\\x94 birman\\xc3\\xaas\" lang=\"my\" hreflang=\"my\" class=\"interlanguage-link-target\"><span>\\xe1\\x80\\x99\\xe1\\x80\\xbc\\xe1\\x80\\x94\\xe1\\x80\\xba\\xe1\\x80\\x99\\xe1\\x80\\xac\\xe1\\x80\\x98\\xe1\\x80\\xac\\xe1\\x80\\x9e\\xe1\\x80\\xac</span></a></li><li class=\"interlanguage-link interwiki-mzn mw-list-item\"><a href=\"https://mzn.wikipedia.org/wiki/%D9%85%D8%AF%DB%8C%D8%AA%DB%8C%D8%B4%D9%86\" title=\"\\xd9\\x85\\xd8\\xaf\\xdb\\x8c\\xd8\\xaa\\xdb\\x8c\\xd8\\xb4\\xd9\\x86 \\xe2\\x80\\x94 mazandarani\" lang=\"mzn\" hreflang=\"mzn\" class=\"interlanguage-link-target\"><span>\\xd9\\x85\\xd8\\xa7\\xd8\\xb2\\xd9\\x90\\xd8\\xb1\\xd9\\x88\\xd9\\x86\\xdb\\x8c</span></a></li><li class=\"interlanguage-link interwiki-nds-nl mw-list-item\"><a href=\"https://nds-nl.wikipedia.org/wiki/Meditatie\" title=\"Meditatie \\xe2\\x80\\x94 baixo-sax\\xc3\\xa3o\" lang=\"nds-NL\" hreflang=\"nds-NL\" class=\"interlanguage-link-target\"><span>Nedersaksies</span></a></li><li class=\"interlanguage-link interwiki-new mw-list-item\"><a href=\"https://new.wikipedia.org/wiki/%E0%A4%A7%E0%A5%8D%E0%A4%AF%E0%A4%BE%E0%A4%A8\" title=\"\\xe0\\xa4\\xa7\\xe0\\xa5\\x8d\\xe0\\xa4\\xaf\\xe0\\xa4\\xbe\\xe0\\xa4\\xa8 \\xe2\\x80\\x94 newari\" lang=\"new\" hreflang=\"new\" class=\"interlanguage-link-target\"><span>\\xe0\\xa4\\xa8\\xe0\\xa5\\x87\\xe0\\xa4\\xaa\\xe0\\xa4\\xbe\\xe0\\xa4\\xb2 \\xe0\\xa4\\xad\\xe0\\xa4\\xbe\\xe0\\xa4\\xb7\\xe0\\xa4\\xbe</span></a></li><li class=\"interlanguage-link interwiki-nl mw-list-item\"><a href=\"https://nl.wikipedia.org/wiki/Meditatie\" title=\"Meditatie \\xe2\\x80\\x94 neerland\\xc3\\xaas\" lang=\"nl\" hreflang=\"nl\" class=\"interlanguage-link-target\"><span>Nederlands</span></a></li><li class=\"interlanguage-link interwiki-nn mw-list-item\"><a href=\"https://nn.wikipedia.org/wiki/Meditasjon\" title=\"Meditasjon \\xe2\\x80\\x94 noruegu\\xc3\\xaas nynorsk\" lang=\"nn\" hreflang=\"nn\" class=\"interlanguage-link-target\"><span>Norsk nynorsk</span></a></li><li class=\"interlanguage-link interwiki-no mw-list-item\"><a href=\"https://no.wikipedia.org/wiki/Meditasjon\" title=\"Meditasjon \\xe2\\x80\\x94 noruegu\\xc3\\xaas bokm\\xc3\\xa5l\" lang=\"nb\" hreflang=\"nb\" class=\"interlanguage-link-target\"><span>Norsk bokm\\xc3\\xa5l</span></a></li><li class=\"interlanguage-link interwiki-oc mw-list-item\"><a href=\"https://oc.wikipedia.org/wiki/Meditacion\" title=\"Meditacion \\xe2\\x80\\x94 occitano\" lang=\"oc\" hreflang=\"oc\" class=\"interlanguage-link-target\"><span>Occitan</span></a></li><li class=\"interlanguage-link interwiki-pam mw-list-item\"><a href=\"https://pam.wikipedia.org/wiki/P%C3%A1mang%C3%BAnam\" title=\"P\\xc3\\xa1mang\\xc3\\xbanam \\xe2\\x80\\x94 pampango\" lang=\"pam\" hreflang=\"pam\" class=\"interlanguage-link-target\"><span>Kapampangan</span></a></li><li class=\"interlanguage-link interwiki-pl mw-list-item\"><a href=\"https://pl.wikipedia.org/wiki/Medytacja\" title=\"Medytacja \\xe2\\x80\\x94 polaco\" lang=\"pl\" hreflang=\"pl\" class=\"interlanguage-link-target\"><span>Polski</span></a></li><li class=\"interlanguage-link interwiki-pnb mw-list-item\"><a href=\"https://pnb.wikipedia.org/wiki/%D9%85%D8%B1%D8%A7%D9%82%D8%A8%DB%81\" title=\"\\xd9\\x85\\xd8\\xb1\\xd8\\xa7\\xd9\\x82\\xd8\\xa8\\xdb\\x81 \\xe2\\x80\\x94 Western Punjabi\" lang=\"pnb\" hreflang=\"pnb\" class=\"interlanguage-link-target\"><span>\\xd9\\xbe\\xd9\\x86\\xd8\\xac\\xd8\\xa7\\xd8\\xa8\\xdb\\x8c</span></a></li><li class=\"interlanguage-link interwiki-ro mw-list-item\"><a href=\"https://ro.wikipedia.org/wiki/Medita%C8%9Bie\" title=\"Medita\\xc8\\x9bie \\xe2\\x80\\x94 romeno\" lang=\"ro\" hreflang=\"ro\" class=\"interlanguage-link-target\"><span>Rom\\xc3\\xa2n\\xc4\\x83</span></a></li><li class=\"interlanguage-link interwiki-ru mw-list-item\"><a href=\"https://ru.wikipedia.org/wiki/%D0%9C%D0%B5%D0%B4%D0%B8%D1%82%D0%B0%D1%86%D0%B8%D1%8F\" title=\"\\xd0\\x9c\\xd0\\xb5\\xd0\\xb4\\xd0\\xb8\\xd1\\x82\\xd0\\xb0\\xd1\\x86\\xd0\\xb8\\xd1\\x8f \\xe2\\x80\\x94 russo\" lang=\"ru\" hreflang=\"ru\" class=\"interlanguage-link-target\"><span>\\xd0\\xa0\\xd1\\x83\\xd1\\x81\\xd1\\x81\\xd0\\xba\\xd0\\xb8\\xd0\\xb9</span></a></li><li class=\"interlanguage-link interwiki-sh mw-list-item\"><a href=\"https://sh.wikipedia.org/wiki/Meditacija\" title=\"Meditacija \\xe2\\x80\\x94 servo-croata\" lang=\"sh\" hreflang=\"sh\" class=\"interlanguage-link-target\"><span>Srpskohrvatski / \\xd1\\x81\\xd1\\x80\\xd0\\xbf\\xd1\\x81\\xd0\\xba\\xd0\\xbe\\xd1\\x85\\xd1\\x80\\xd0\\xb2\\xd0\\xb0\\xd1\\x82\\xd1\\x81\\xd0\\xba\\xd0\\xb8</span></a></li><li class=\"interlanguage-link interwiki-si mw-list-item\"><a href=\"https://si.wikipedia.org/wiki/%E0%B6%B7%E0%B7%8F%E0%B7%80%E0%B6%B1%E0%B7%8F\" title=\"\\xe0\\xb6\\xb7\\xe0\\xb7\\x8f\\xe0\\xb7\\x80\\xe0\\xb6\\xb1\\xe0\\xb7\\x8f \\xe2\\x80\\x94 cingal\\xc3\\xaas\" lang=\"si\" hreflang=\"si\" class=\"interlanguage-link-target\"><span>\\xe0\\xb7\\x83\\xe0\\xb7\\x92\\xe0\\xb6\\x82\\xe0\\xb7\\x84\\xe0\\xb6\\xbd</span></a></li><li class=\"interlanguage-link interwiki-simple mw-list-item\"><a href=\"https://simple.wikipedia.org/wiki/Meditation\" title=\"Meditation \\xe2\\x80\\x94 Simple English\" lang=\"en-simple\" hreflang=\"en-simple\" class=\"interlanguage-link-target\"><span>Simple English</span></a></li><li class=\"interlanguage-link interwiki-sk mw-list-item\"><a href=\"https://sk.wikipedia.org/wiki/Medit%C3%A1cia\" title=\"Medit\\xc3\\xa1cia \\xe2\\x80\\x94 eslovaco\" lang=\"sk\" hreflang=\"sk\" class=\"interlanguage-link-target\"><span>Sloven\\xc4\\x8dina</span></a></li><li class=\"interlanguage-link interwiki-sl mw-list-item\"><a href=\"https://sl.wikipedia.org/wiki/Meditacija\" title=\"Meditacija \\xe2\\x80\\x94 esloveno\" lang=\"sl\" hreflang=\"sl\" class=\"interlanguage-link-target\"><span>Sloven\\xc5\\xa1\\xc4\\x8dina</span></a></li><li class=\"interlanguage-link interwiki-sq mw-list-item\"><a href=\"https://sq.wikipedia.org/wiki/Meditimi\" title=\"Meditimi \\xe2\\x80\\x94 alban\\xc3\\xaas\" lang=\"sq\" hreflang=\"sq\" class=\"interlanguage-link-target\"><span>Shqip</span></a></li><li class=\"interlanguage-link interwiki-sr mw-list-item\"><a href=\"https://sr.wikipedia.org/wiki/%D0%9C%D0%B5%D0%B4%D0%B8%D1%82%D0%B0%D1%86%D0%B8%D1%98%D0%B0\" title=\"\\xd0\\x9c\\xd0\\xb5\\xd0\\xb4\\xd0\\xb8\\xd1\\x82\\xd0\\xb0\\xd1\\x86\\xd0\\xb8\\xd1\\x98\\xd0\\xb0 \\xe2\\x80\\x94 s\\xc3\\xa9rvio\" lang=\"sr\" hreflang=\"sr\" class=\"interlanguage-link-target\"><span>\\xd0\\xa1\\xd1\\x80\\xd0\\xbf\\xd1\\x81\\xd0\\xba\\xd0\\xb8 / srpski</span></a></li><li class=\"interlanguage-link interwiki-sv mw-list-item\"><a href=\"https://sv.wikipedia.org/wiki/Meditation\" title=\"Meditation \\xe2\\x80\\x94 sueco\" lang=\"sv\" hreflang=\"sv\" class=\"interlanguage-link-target\"><span>Svenska</span></a></li><li class=\"interlanguage-link interwiki-sw mw-list-item\"><a href=\"https://sw.wikipedia.org/wiki/Tafakuri\" title=\"Tafakuri \\xe2\\x80\\x94 sua\\xc3\\xadli\" lang=\"sw\" hreflang=\"sw\" class=\"interlanguage-link-target\"><span>Kiswahili</span></a></li><li class=\"interlanguage-link interwiki-ta mw-list-item\"><a href=\"https://ta.wikipedia.org/wiki/%E0%AE%A4%E0%AE%BF%E0%AE%AF%E0%AE%BE%E0%AE%A9%E0%AE%AE%E0%AF%8D\" title=\"\\xe0\\xae\\xa4\\xe0\\xae\\xbf\\xe0\\xae\\xaf\\xe0\\xae\\xbe\\xe0\\xae\\xa9\\xe0\\xae\\xae\\xe0\\xaf\\x8d \\xe2\\x80\\x94 t\\xc3\\xa2mil\" lang=\"ta\" hreflang=\"ta\" class=\"interlanguage-link-target\"><span>\\xe0\\xae\\xa4\\xe0\\xae\\xae\\xe0\\xae\\xbf\\xe0\\xae\\xb4\\xe0\\xaf\\x8d</span></a></li><li class=\"interlanguage-link interwiki-te mw-list-item\"><a href=\"https://te.wikipedia.org/wiki/%E0%B0%A7%E0%B1%8D%E0%B0%AF%E0%B0%BE%E0%B0%A8%E0%B0%82\" title=\"\\xe0\\xb0\\xa7\\xe0\\xb1\\x8d\\xe0\\xb0\\xaf\\xe0\\xb0\\xbe\\xe0\\xb0\\xa8\\xe0\\xb0\\x82 \\xe2\\x80\\x94 telugu\" lang=\"te\" hreflang=\"te\" class=\"interlanguage-link-target\"><span>\\xe0\\xb0\\xa4\\xe0\\xb1\\x86\\xe0\\xb0\\xb2\\xe0\\xb1\\x81\\xe0\\xb0\\x97\\xe0\\xb1\\x81</span></a></li><li class=\"interlanguage-link interwiki-tpi mw-list-item\"><a href=\"https://tpi.wikipedia.org/wiki/Meditesen\" title=\"Meditesen \\xe2\\x80\\x94 tok pisin\" lang=\"tpi\" hreflang=\"tpi\" class=\"interlanguage-link-target\"><span>Tok Pisin</span></a></li><li class=\"interlanguage-link interwiki-tr mw-list-item\"><a href=\"https://tr.wikipedia.org/wiki/Meditasyon\" title=\"Meditasyon \\xe2\\x80\\x94 turco\" lang=\"tr\" hreflang=\"tr\" class=\"interlanguage-link-target\"><span>T\\xc3\\xbcrk\\xc3\\xa7e</span></a></li><li class=\"interlanguage-link interwiki-tt mw-list-item\"><a href=\"https://tt.wikipedia.org/wiki/%D0%9C%D0%B5%D0%B4%D0%B8%D1%82%D0%B0%D1%86%D0%B8%D1%8F\" title=\"\\xd0\\x9c\\xd0\\xb5\\xd0\\xb4\\xd0\\xb8\\xd1\\x82\\xd0\\xb0\\xd1\\x86\\xd0\\xb8\\xd1\\x8f \\xe2\\x80\\x94 tatar\" lang=\"tt\" hreflang=\"tt\" class=\"interlanguage-link-target\"><span>\\xd0\\xa2\\xd0\\xb0\\xd1\\x82\\xd0\\xb0\\xd1\\x80\\xd1\\x87\\xd0\\xb0/tatar\\xc3\\xa7a</span></a></li><li class=\"interlanguage-link interwiki-uk mw-list-item\"><a href=\"https://uk.wikipedia.org/wiki/%D0%9C%D0%B5%D0%B4%D0%B8%D1%82%D0%B0%D1%86%D1%96%D1%8F\" title=\"\\xd0\\x9c\\xd0\\xb5\\xd0\\xb4\\xd0\\xb8\\xd1\\x82\\xd0\\xb0\\xd1\\x86\\xd1\\x96\\xd1\\x8f \\xe2\\x80\\x94 ucraniano\" lang=\"uk\" hreflang=\"uk\" class=\"interlanguage-link-target\"><span>\\xd0\\xa3\\xd0\\xba\\xd1\\x80\\xd0\\xb0\\xd1\\x97\\xd0\\xbd\\xd1\\x81\\xd1\\x8c\\xd0\\xba\\xd0\\xb0</span></a></li><li class=\"interlanguage-link interwiki-ur mw-list-item\"><a href=\"https://ur.wikipedia.org/wiki/%D9%85%D8%B1%D8%A7%D9%82%D8%A8%DB%81\" title=\"\\xd9\\x85\\xd8\\xb1\\xd8\\xa7\\xd9\\x82\\xd8\\xa8\\xdb\\x81 \\xe2\\x80\\x94 urdu\" lang=\"ur\" hreflang=\"ur\" class=\"interlanguage-link-target\"><span>\\xd8\\xa7\\xd8\\xb1\\xd8\\xaf\\xd9\\x88</span></a></li><li class=\"interlanguage-link interwiki-vi mw-list-item\"><a href=\"https://vi.wikipedia.org/wiki/Thi%E1%BB%81n_(th%E1%BB%B1c_h%C3%A0nh)\" title=\"Thi\\xe1\\xbb\\x81n (th\\xe1\\xbb\\xb1c h\\xc3\\xa0nh) \\xe2\\x80\\x94 vietnamita\" lang=\"vi\" hreflang=\"vi\" class=\"interlanguage-link-target\"><span>Ti\\xe1\\xba\\xbfng Vi\\xe1\\xbb\\x87t</span></a></li><li class=\"interlanguage-link interwiki-war mw-list-item\"><a href=\"https://war.wikipedia.org/wiki/Meditasyon\" title=\"Meditasyon \\xe2\\x80\\x94 waray\" lang=\"war\" hreflang=\"war\" class=\"interlanguage-link-target\"><span>Winaray</span></a></li><li class=\"interlanguage-link interwiki-wuu mw-list-item\"><a href=\"https://wuu.wikipedia.org/wiki/%E5%86%A5%E6%83%B3\" title=\"\\xe5\\x86\\xa5\\xe6\\x83\\xb3 \\xe2\\x80\\x94 wu\" lang=\"wuu\" hreflang=\"wuu\" class=\"interlanguage-link-target\"><span>\\xe5\\x90\\xb4\\xe8\\xaf\\xad</span></a></li><li class=\"interlanguage-link interwiki-yi mw-list-item\"><a href=\"https://yi.wikipedia.org/wiki/%D7%9E%D7%A2%D7%93%D7%99%D7%98%D7%90%D7%A6%D7%99%D7%A2\" title=\"\\xd7\\x9e\\xd7\\xa2\\xd7\\x93\\xd7\\x99\\xd7\\x98\\xd7\\x90\\xd7\\xa6\\xd7\\x99\\xd7\\xa2 \\xe2\\x80\\x94 i\\xc3\\xaddiche\" lang=\"yi\" hreflang=\"yi\" class=\"interlanguage-link-target\"><span>\\xd7\\x99\\xd7\\x99\\xd6\\xb4\\xd7\\x93\\xd7\\x99\\xd7\\xa9</span></a></li><li class=\"interlanguage-link interwiki-zh mw-list-item\"><a href=\"https://zh.wikipedia.org/wiki/%E5%86%A5%E6%83%B3\" title=\"\\xe5\\x86\\xa5\\xe6\\x83\\xb3 \\xe2\\x80\\x94 chin\\xc3\\xaas\" lang=\"zh\" hreflang=\"zh\" class=\"interlanguage-link-target\"><span>\\xe4\\xb8\\xad\\xe6\\x96\\x87</span></a></li><li class=\"interlanguage-link interwiki-zh-yue mw-list-item\"><a href=\"https://zh-yue.wikipedia.org/wiki/%E5%86%A5%E6%83%B3\" title=\"\\xe5\\x86\\xa5\\xe6\\x83\\xb3 \\xe2\\x80\\x94 Cantonese\" lang=\"yue\" hreflang=\"yue\" class=\"interlanguage-link-target\"><span>\\xe7\\xb2\\xb5\\xe8\\xaa\\x9e</span></a></li></ul>\\n\\t\\t<div class=\"after-portlet after-portlet-lang\"><span class=\"wb-langlinks-edit wb-langlinks-link\"><a href=\"https://www.wikidata.org/wiki/Special:EntityPage/Q108458#sitelinks-wikipedia\" title=\"Editar hiperliga\\xc3\\xa7\\xc3\\xb5es interl\\xc3\\xadnguas\" class=\"wbc-editpage\">Editar hiperliga\\xc3\\xa7\\xc3\\xb5es</a></span></div>\\n\\t</div>\\n</nav>\\n\\n\\t\\t<h1 id=\"firstHeading\" class=\"firstHeading\" >Medita\\xc3\\xa7\\xc3\\xa3o</h1>\\n\\t\\t<div class=\"mw-indicators\">\\n\\t\\t</div>\\n\\t\\t\\t<div id=\"siteSub\" class=\"noprint\">Origem: Wikip\\xc3\\xa9dia, a enciclop\\xc3\\xa9dia livre.</div>\\n\\t</header>\\n\\n\\t<div id=\"bodyContent\" class=\"vector-body\">\\n\\t\\t<div id=\"contentSub\"></div>\\n\\t\\t<div id=\"contentSub2\"></div>\\n\\t\\t\\n\\t\\t<div id=\"mw-content-text\" class=\"mw-body-content mw-content-ltr\" lang=\"pt\" dir=\"ltr\"><div class=\"mw-parser-output\"><div class=\"hatnote\"><img alt=\"Disambig grey.svg\" src=\"//upload.wikimedia.org/wikipedia/commons/thumb/4/4a/Disambig_grey.svg/20px-Disambig_grey.svg.png\" decoding=\"async\" width=\"20\" height=\"15\" srcset=\"//upload.wikimedia.org/wikipedia/commons/thumb/4/4a/Disambig_grey.svg/30px-Disambig_grey.svg.png 1.5x, //upload.wikimedia.org/wikipedia/commons/thumb/4/4a/Disambig_grey.svg/40px-Disambig_grey.svg.png 2x\" data-file-width=\"260\" data-file-height=\"200\" />&#160;<b>Nota:</b> Para outros significados, veja <a href=\"/wiki/Medita%C3%A7%C3%A3o_(desambigua%C3%A7%C3%A3o)\" class=\"mw-disambig\" title=\"Medita\\xc3\\xa7\\xc3\\xa3o (desambigua\\xc3\\xa7\\xc3\\xa3o)\">Medita\\xc3\\xa7\\xc3\\xa3o (desambigua\\xc3\\xa7\\xc3\\xa3o)</a>.</div>\\n<div class=\"thumb tright\"><div class=\"thumbinner\" style=\"width:252px;\"><a href=\"/wiki/Ficheiro:Sri_Chinmoy_in_Kamakura.jpg\" class=\"image\"><img alt=\"\" src=\"//upload.wikimedia.org/wikipedia/commons/thumb/4/43/Sri_Chinmoy_in_Kamakura.jpg/250px-Sri_Chinmoy_in_Kamakura.jpg\" decoding=\"async\" width=\"250\" height=\"333\" class=\"thumbimage\" srcset=\"//upload.wikimedia.org/wikipedia/commons/thumb/4/43/Sri_Chinmoy_in_Kamakura.jpg/375px-Sri_Chinmoy_in_Kamakura.jpg 1.5x, //upload.wikimedia.org/wikipedia/commons/thumb/4/43/Sri_Chinmoy_in_Kamakura.jpg/500px-Sri_Chinmoy_in_Kamakura.jpg 2x\" data-file-width=\"1500\" data-file-height=\"2000\" /></a>  <div class=\"thumbcaption\"><div class=\"magnify\"><a href=\"/wiki/Ficheiro:Sri_Chinmoy_in_Kamakura.jpg\" class=\"internal\" title=\"Ampliar\"></a></div>Est\\xc3\\xa1tua do <a href=\"/wiki/Buda\" title=\"Buda\">Buda</a> em <a href=\"/wiki/Kamakura_(Kanagawa)\" class=\"mw-redirect\" title=\"Kamakura (Kanagawa)\">Kamakura</a>, <a href=\"/wiki/Jap%C3%A3o\" title=\"Jap\\xc3\\xa3o\">Jap\\xc3\\xa3o</a>, sentado e com os olhos entreabertos em medita\\xc3\\xa7\\xc3\\xa3o</div></div></div><p>\\nA <b>medita\\xc3\\xa7\\xc3\\xa3o</b> pode ser definida como uma pr\\xc3\\xa1tica na qual o indiv\\xc3\\xadduo utiliza t\\xc3\\xa9cnicas para focar sua mente num objeto, pensamento ou atividade em particular, visando alcan\\xc3\\xa7ar um estado de clareza mental e emocional.<sup id=\"cite_ref-merriam-webster.com_1-0\" class=\"reference\"><a href=\"#cite_note-merriam-webster.com-1\"><span>[</span>1<span>]</span></a></sup><sup id=\"cite_ref-SHAPIRO-1981_2-0\" class=\"reference\"><a href=\"#cite_note-SHAPIRO-1981-2\"><span>[</span>2<span>]</span></a></sup> Sua origem \\xc3\\xa9 muito antiga, remontando as tradi\\xc3\\xa7\\xc3\\xb5es orientais, especialmente a <a href=\"/wiki/Ioga\" title=\"Ioga\">ioga</a><sup id=\"cite_ref-LEVINE-2000_3-0\" class=\"reference\"><a href=\"#cite_note-LEVINE-2000-3\"><span>[</span>3<span>]</span></a></sup>, mas o termo tamb\\xc3\\xa9m se refere a pr\\xc3\\xa1ticas adotadas por alguns caminhos espirituais ou religi\\xc3\\xb5es, como o <a href=\"/wiki/Budismo\" title=\"Budismo\">budismo</a> e <a href=\"/wiki/Cristianismo\" title=\"Cristianismo\">cristianismo</a>, entre outras.<sup id=\"cite_ref-Naranjo-2005_4-0\" class=\"reference\"><a href=\"#cite_note-Naranjo-2005-4\"><span>[</span>4<span>]</span></a></sup> Textos orientais consideram a medita\\xc3\\xa7\\xc3\\xa3o como instrumento que leva em dire\\xc3\\xa7\\xc3\\xa3o \\xc3\\xa0 <a href=\"/wiki/Moksha\" title=\"Moksha\">liberta\\xc3\\xa7\\xc3\\xa3o</a>.<sup id=\"cite_ref-ReferenceA_5-0\" class=\"reference\"><a href=\"#cite_note-ReferenceA-5\"><span>[</span>5<span>]</span></a></sup></p><div class=\"thumb tright\"><div class=\"thumbinner\" style=\"width:252px;\"><a href=\"/wiki/Ficheiro:Solitude.jpg\" class=\"image\"><img alt=\"\" src=\"//upload.wikimedia.org/wikipedia/commons/thumb/d/d0/Solitude.jpg/250px-Solitude.jpg\" decoding=\"async\" width=\"250\" height=\"333\" class=\"thumbimage\" srcset=\"//upload.wikimedia.org/wikipedia/commons/thumb/d/d0/Solitude.jpg/375px-Solitude.jpg 1.5x, //upload.wikimedia.org/wikipedia/commons/thumb/d/d0/Solitude.jpg/500px-Solitude.jpg 2x\" data-file-width=\"768\" data-file-height=\"1024\" /></a>  <div class=\"thumbcaption\"><div class=\"magnify\"><a href=\"/wiki/Ficheiro:Solitude.jpg\" class=\"internal\" title=\"Ampliar\"></a></div>Meditando na natureza</div></div></div>\\n<div id=\"toc\" class=\"toc\" role=\"navigation\" aria-labelledby=\"mw-toc-heading\"><input type=\"checkbox\" role=\"button\" id=\"toctogglecheckbox\" class=\"toctogglecheckbox\" style=\"display:none\" /><div class=\"toctitle\" lang=\"pt\" dir=\"ltr\"><h2 id=\"mw-toc-heading\">\\xc3\\x8dndice</h2><span class=\"toctogglespan\"><label class=\"toctogglelabel\" for=\"toctogglecheckbox\"></label></span></div>\\n<ul>\\n<li class=\"toclevel-1 tocsection-1\"><a href=\"#Etimologia\"><span class=\"tocnumber\">1</span> <span class=\"toctext\">Etimologia</span></a></li>\\n<li class=\"toclevel-1 tocsection-2\"><a href=\"#Hist\\xc3\\xb3ria\"><span class=\"tocnumber\">2</span> <span class=\"toctext\">Hist\\xc3\\xb3ria</span></a></li>\\n<li class=\"toclevel-1 tocsection-3\"><a href=\"#Defini\\xc3\\xa7\\xc3\\xa3o\"><span class=\"tocnumber\">3</span> <span class=\"toctext\">Defini\\xc3\\xa7\\xc3\\xa3o</span></a></li>\\n<li class=\"toclevel-1 tocsection-4\"><a href=\"#Objetivos\"><span class=\"tocnumber\">4</span> <span class=\"toctext\">Objetivos</span></a></li>\\n<li class=\"toclevel-1 tocsection-5\"><a href=\"#Pr\\xc3\\xa1tica\"><span class=\"tocnumber\">5</span> <span class=\"toctext\">Pr\\xc3\\xa1tica</span></a>\\n<ul>\\n<li class=\"toclevel-2 tocsection-6\"><a href=\"#Postura\"><span class=\"tocnumber\">5.1</span> <span class=\"toctext\">Postura</span></a></li>\\n<li class=\"toclevel-2 tocsection-7\"><a href=\"#M\\xc3\\xa9todos\"><span class=\"tocnumber\">5.2</span> <span class=\"toctext\">M\\xc3\\xa9todos</span></a></li>\\n<li class=\"toclevel-2 tocsection-8\"><a href=\"#Dura\\xc3\\xa7\\xc3\\xa3o\"><span class=\"tocnumber\">5.3</span> <span class=\"toctext\">Dura\\xc3\\xa7\\xc3\\xa3o</span></a></li>\\n<li class=\"toclevel-2 tocsection-9\"><a href=\"#Aprendizado\"><span class=\"tocnumber\">5.4</span> <span class=\"toctext\">Aprendizado</span></a></li>\\n</ul>\\n</li>\\n<li class=\"toclevel-1 tocsection-10\"><a href=\"#Medita\\xc3\\xa7\\xc3\\xa3o_e_sa\\xc3\\xbade\"><span class=\"tocnumber\">6</span> <span class=\"toctext\">Medita\\xc3\\xa7\\xc3\\xa3o e sa\\xc3\\xbade</span></a></li>\\n<li class=\"toclevel-1 tocsection-11\"><a href=\"#Ver_tamb\\xc3\\xa9m\"><span class=\"tocnumber\">7</span> <span class=\"toctext\">Ver tamb\\xc3\\xa9m</span></a>\\n<ul>\\n<li class=\"toclevel-2 tocsection-12\"><a href=\"#Leituras_adicionais\"><span class=\"tocnumber\">7.1</span> <span class=\"toctext\">Leituras adicionais</span></a></li>\\n</ul>\\n</li>\\n<li class=\"toclevel-1\"><a href=\"#Refer\\xc3\\xaancias\"><span class=\"tocnumber\">8</span> <span class=\"toctext\">Refer\\xc3\\xaancias</span></a></li>\\n</ul>\\n</div>\\n\\n<h2><span class=\"mw-headline\" id=\"Etimologia\">Etimologia</span><span class=\"mw-editsection\"><span class=\"mw-editsection-bracket\">[</span><a href=\"/w/index.php?title=Medita%C3%A7%C3%A3o&amp;veaction=edit&amp;section=1\" class=\"mw-editsection-visualeditor\" title=\"Editar sec\\xc3\\xa7\\xc3\\xa3o: Etimologia\">editar</a><span class=\"mw-editsection-divider\"> | </span><a href=\"/w/index.php?title=Medita%C3%A7%C3%A3o&amp;action=edit&amp;section=1\" title=\"Editar sec\\xc3\\xa7\\xc3\\xa3o: Etimologia\">editar c\\xc3\\xb3digo-fonte</a><span class=\"mw-editsection-bracket\">]</span></span></h2>\\n<p>O termo em <a href=\"/wiki/L%C3%ADngua_p%C3%A1li\" class=\"mw-redirect\" title=\"L\\xc3\\xadngua p\\xc3\\xa1li\">p\\xc3\\xa1li</a> utilizado para referir-se a medita\\xc3\\xa7\\xc3\\xa3o \\xc3\\xa9 <i>bhavana</i>, que significa \"cultivo\".<sup id=\"cite_ref-6\" class=\"reference\"><a href=\"#cite_note-6\"><span>[</span>6<span>]</span></a></sup> O termo medita\\xc3\\xa7\\xc3\\xa3o foi utilizado como palavra para traduzir pr\\xc3\\xa1ticas espirituais orientais, referidas pelo termo <i>dhyana</i> no <a href=\"/wiki/Budismo\" title=\"Budismo\">budismo</a> e <a href=\"/wiki/Hindu%C3%ADsmo\" title=\"Hindu\\xc3\\xadsmo\">hindu\\xc3\\xadsmo</a>.<sup id=\"cite_ref-7\" class=\"reference\"><a href=\"#cite_note-7\"><span>[</span>7<span>]</span></a></sup><sup id=\"cite_ref-8\" class=\"reference\"><a href=\"#cite_note-8\"><span>[</span>8<span>]</span></a></sup> Estudiosos notaram que o termo \"medita\\xc3\\xa7\\xc3\\xa3o\" no uso contempor\\xc3\\xa2neo \\xc3\\xa9 paralelo ao significado do termo \"<a href=\"/wiki/Contempla%C3%A7%C3%A3o\" title=\"Contempla\\xc3\\xa7\\xc3\\xa3o\">contempla\\xc3\\xa7\\xc3\\xa3o</a>\" no cristianismo.<sup id=\"cite_ref-9\" class=\"reference\"><a href=\"#cite_note-9\"><span>[</span>9<span>]</span></a></sup>\\n</p>\\n<h2><span id=\"Hist.C3.B3ria\"></span><span class=\"mw-headline\" id=\"Hist\\xc3\\xb3ria\">Hist\\xc3\\xb3ria</span><span class=\"mw-editsection\"><span class=\"mw-editsection-bracket\">[</span><a href=\"/w/index.php?title=Medita%C3%A7%C3%A3o&amp;veaction=edit&amp;section=2\" class=\"mw-editsection-visualeditor\" title=\"Editar sec\\xc3\\xa7\\xc3\\xa3o: Hist\\xc3\\xb3ria\">editar</a><span class=\"mw-editsection-divider\"> | </span><a href=\"/w/index.php?title=Medita%C3%A7%C3%A3o&amp;action=edit&amp;section=2\" title=\"Editar sec\\xc3\\xa7\\xc3\\xa3o: Hist\\xc3\\xb3ria\">editar c\\xc3\\xb3digo-fonte</a><span class=\"mw-editsection-bracket\">]</span></span></h2>\\n<p>Os <a href=\"/wiki/Vedas\" title=\"Vedas\">Vedas</a> hindu\\xc3\\xadstas est\\xc3\\xa3o entre as primeiras refer\\xc3\\xaancias escritas sobre medita\\xc3\\xa7\\xc3\\xa3o. Outras formas surgiram associadas ao <a href=\"/wiki/Confucianismo\" class=\"mw-redirect\" title=\"Confucianismo\">confucianismo</a> e <a href=\"/wiki/Tao%C3%ADsmo\" class=\"mw-redirect\" title=\"Tao\\xc3\\xadsmo\">tao\\xc3\\xadsmo</a> na China, assim como no <a href=\"/wiki/Hindu%C3%ADsmo\" title=\"Hindu\\xc3\\xadsmo\">hindu\\xc3\\xadsmo</a>, <a href=\"/wiki/Jainismo\" title=\"Jainismo\">jainismo</a> e <a href=\"/wiki/Budismo\" title=\"Budismo\">budismo</a> no Nepal e \\xc3\\x8dndia. No terceiro s\\xc3\\xa9culo depois de Cristo, <a href=\"/wiki/Plotino\" title=\"Plotino\">Plotino</a> havia estabelecido t\\xc3\\xa9cnicas para a medita\\xc3\\xa7\\xc3\\xa3o. No ocidente, mesmo 20 anos a.C., dentro do Imp\\xc3\\xa9rio Romano, <a href=\"/wiki/F%C3%ADlon_de_Alexandria\" title=\"F\\xc3\\xadlon de Alexandria\">F\\xc3\\xadlon de Alexandria</a> nomeou pr\\xc3\\xa1ticas espirituais que envolviam aten\\xc3\\xa7\\xc3\\xa3o e concentra\\xc3\\xa7\\xc3\\xa3o.<sup id=\"cite_ref-10\" class=\"reference\"><a href=\"#cite_note-10\"><span>[</span>10<span>]</span></a></sup> J\\xc3\\xa1 no s\\xc3\\xa9culo XII, o sufismo utilizava de palavras sagradas e m\\xc3\\xa9todos espec\\xc3\\xadficos para medita\\xc3\\xa7\\xc3\\xa3o, como o controle da respira\\xc3\\xa7\\xc3\\xa3o.<sup id=\"cite_ref-Spiritual_Psychology&#39;_page_109_11-0\" class=\"reference\"><a href=\"#cite_note-Spiritual_Psychology&#39;_page_109-11\"><span>[</span>11<span>]</span></a></sup> A exist\\xc3\\xaancia de intera\\xc3\\xa7\\xc3\\xa3o com indianos, nepaleses ou sufis pode ser uma indica\\xc3\\xa7\\xc3\\xa3o da abordagem crist\\xc3\\xa3 ortodoxa ao <a href=\"/wiki/Hesicasmo\" title=\"Hesicasmo\">hesicasmo</a>, desenvolvida principalmente na Gr\\xc3\\xa9cia entre os s\\xc3\\xa9culos X e XIV, mas n\\xc3\\xa3o foram encontradas provas concretas.<sup id=\"cite_ref-12\" class=\"reference\"><a href=\"#cite_note-12\"><span>[</span>12<span>]</span></a></sup><sup id=\"cite_ref-13\" class=\"reference\"><a href=\"#cite_note-13\"><span>[</span>13<span>]</span></a></sup><sup id=\"cite_ref-14\" class=\"reference\"><a href=\"#cite_note-14\"><span>[</span>14<span>]</span></a></sup>\\n</p><p>\\nA medita\\xc3\\xa7\\xc3\\xa3o crist\\xc3\\xa3 praticada desde o s\\xc3\\xa9culo sexto foi definida pelo monge Guigo II no <a href=\"/wiki/S%C3%A9culo_XII\" title=\"S\\xc3\\xa9culo XII\">s\\xc3\\xa9culo XII</a> com os termos \"leitura, reflex\\xc3\\xa3o, ora\\xc3\\xa7\\xc3\\xa3o e contempla\\xc3\\xa7\\xc3\\xa3o\" e teve seu desenvolvimento continuado no <a href=\"/wiki/S%C3%A9culo_XVI\" title=\"S\\xc3\\xa9culo XVI\">s\\xc3\\xa9culo XVI</a> em diante por <a href=\"/wiki/In%C3%A1cio_de_Loyola\" title=\"In\\xc3\\xa1cio de Loyola\">In\\xc3\\xa1cio de Loyola</a> e <a href=\"/wiki/Teresa_de_%C3%81vila\" title=\"Teresa de \\xc3\\x81vila\">Teresa de \\xc3\\x81vila</a>.<sup id=\"cite_ref-15\" class=\"reference\"><a href=\"#cite_note-15\"><span>[</span>15<span>]</span></a></sup><sup id=\"cite_ref-16\" class=\"reference\"><a href=\"#cite_note-16\"><span>[</span>16<span>]</span></a></sup><sup id=\"cite_ref-17\" class=\"reference\"><a href=\"#cite_note-17\"><span>[</span>17<span>]</span></a></sup><sup id=\"cite_ref-18\" class=\"reference\"><a href=\"#cite_note-18\"><span>[</span>18<span>]</span></a></sup></p><div class=\"thumb tright\"><div class=\"thumbinner\" style=\"width:252px;\"><a href=\"/wiki/Ficheiro:Sri-Chinmoy-Barcelona-World-Parliament-religions.jpg\" class=\"image\"><img alt=\"\" src=\"//upload.wikimedia.org/wikipedia/commons/thumb/0/0e/Sri-Chinmoy-Barcelona-World-Parliament-religions.jpg/250px-Sri-Chinmoy-Barcelona-World-Parliament-religions.jpg\" decoding=\"async\" width=\"250\" height=\"197\" class=\"thumbimage\" srcset=\"//upload.wikimedia.org/wikipedia/commons/thumb/0/0e/Sri-Chinmoy-Barcelona-World-Parliament-religions.jpg/375px-Sri-Chinmoy-Barcelona-World-Parliament-religions.jpg 1.5x, //upload.wikimedia.org/wikipedia/commons/thumb/0/0e/Sri-Chinmoy-Barcelona-World-Parliament-religions.jpg/500px-Sri-Chinmoy-Barcelona-World-Parliament-religions.jpg 2x\" data-file-width=\"800\" data-file-height=\"629\" /></a>  <div class=\"thumbcaption\"><div class=\"magnify\"><a href=\"/wiki/Ficheiro:Sri-Chinmoy-Barcelona-World-Parliament-religions.jpg\" class=\"internal\" title=\"Ampliar\"></a></div><a href=\"/wiki/Sri_Chinmoy\" title=\"Sri Chinmoy\">Sri Chinmoy</a> na medita\\xc3\\xa7\\xc3\\xa3o de abertura do <a href=\"/wiki/Parlamento_Mundial_de_Religi%C3%B5es\" title=\"Parlamento Mundial de Religi\\xc3\\xb5es\">Parlamento Mundial de Religi\\xc3\\xb5es</a> em Barcelona, 2004</div></div></div>\\n<h2><span id=\"Defini.C3.A7.C3.A3o\"></span><span class=\"mw-headline\" id=\"Defini\\xc3\\xa7\\xc3\\xa3o\">Defini\\xc3\\xa7\\xc3\\xa3o</span><span class=\"mw-editsection\"><span class=\"mw-editsection-bracket\">[</span><a href=\"/w/index.php?title=Medita%C3%A7%C3%A3o&amp;veaction=edit&amp;section=3\" class=\"mw-editsection-visualeditor\" title=\"Editar sec\\xc3\\xa7\\xc3\\xa3o: Defini\\xc3\\xa7\\xc3\\xa3o\">editar</a><span class=\"mw-editsection-divider\"> | </span><a href=\"/w/index.php?title=Medita%C3%A7%C3%A3o&amp;action=edit&amp;section=3\" title=\"Editar sec\\xc3\\xa7\\xc3\\xa3o: Defini\\xc3\\xa7\\xc3\\xa3o\">editar c\\xc3\\xb3digo-fonte</a><span class=\"mw-editsection-bracket\">]</span></span></h2>\\n<p>A defini\\xc3\\xa7\\xc3\\xa3o de medita\\xc3\\xa7\\xc3\\xa3o pode variar de acordo com o contexto em que se encontra, variando de qual religi\\xc3\\xa3o tem origem ou se \\xc3\\xa9 usada de maneira secular. Em meio acad\\xc3\\xaamico, a medita\\xc3\\xa7\\xc3\\xa3o j\\xc3\\xa1 chegou a ser dividida em dois tipos de abordagem. A \"aten\\xc3\\xa7\\xc3\\xa3o focada\" compreende a concentra\\xc3\\xa7\\xc3\\xa3o volunt\\xc3\\xa1ria num objeto, respira\\xc3\\xa7\\xc3\\xa3o, imagem ou palavras. O outro tipo, o \"monitoramento aberto\", envolve uma observa\\xc3\\xa7\\xc3\\xa3o n\\xc3\\xa3o-reativa do conte\\xc3\\xbado da experi\\xc3\\xaancia que ocorre num dado momento.<sup id=\"cite_ref-lutz08_19-0\" class=\"reference\"><a href=\"#cite_note-lutz08-19\"><span>[</span>19<span>]</span></a></sup>\\n</p><p>Algumas defini\\xc3\\xa7\\xc3\\xb5es do que \\xc3\\xa9 medita\\xc3\\xa7\\xc3\\xa3o est\\xc3\\xa3o relacionadas a uma pr\\xc3\\xa1tica ou t\\xc3\\xa9cnica, outras vezes est\\xc3\\xa3o relacionadas a uma explica\\xc3\\xa7\\xc3\\xa3o de um estado de consci\\xc3\\xaancia ou simplesmente s\\xc3\\xa3o usadas como um verbo.<sup id=\"cite_ref-20\" class=\"reference\"><a href=\"#cite_note-20\"><span>[</span>20<span>]</span></a></sup>\\n</p><p>Algumas distintas defini\\xc3\\xa7\\xc3\\xb5es que normalmente s\\xc3\\xa3o usadas para medita\\xc3\\xa7\\xc3\\xa3o s\\xc3\\xa3o:\\n</p>\\n<ul><li>pr\\xc3\\xa1tica de focar a mente em um \\xc3\\xbanico objeto (por exemplo: em uma est\\xc3\\xa1tua religiosa, na pr\\xc3\\xb3pria respira\\xc3\\xa7\\xc3\\xa3o, em um <a href=\"/wiki/Mantra\" title=\"Mantra\">mantra</a>);<sup id=\"cite_ref-:0_21-0\" class=\"reference\"><a href=\"#cite_note-:0-21\"><span>[</span>21<span>]</span></a></sup></li>\\n<li>uma abertura mental para o <a href=\"/wiki/Divindade\" title=\"Divindade\">divino</a>, objetivando a orienta\\xc3\\xa7\\xc3\\xa3o de um poder mais alto;</li>\\n<li>um <a href=\"/w/index.php?title=Estado_de_sil%C3%AAncio&amp;action=edit&amp;redlink=1\" class=\"new\" title=\"Estado de sil\\xc3\\xaancio (p\\xc3\\xa1gina n\\xc3\\xa3o existe)\">estado de sil\\xc3\\xaancio</a> que \\xc3\\xa9 vivenciado quando a <a href=\"/wiki/Mente\" title=\"Mente\">mente</a> se torna vazia e sem <a href=\"/wiki/Pensamento\" title=\"Pensamento\">pensamentos</a>;<sup id=\"cite_ref-:0_21-1\" class=\"reference\"><a href=\"#cite_note-:0-21\"><span>[</span>21<span>]</span></a></sup></li>\\n<li>contempla\\xc3\\xa7\\xc3\\xa3o da realidade e seus aspectos (como a <a href=\"/wiki/Anicca\" title=\"Anicca\">imperman\\xc3\\xaancia</a>, por exemplo);</li>\\n<li>atingir estados superiores de consci\\xc3\\xaancia e inconsci\\xc3\\xaancia;</li>\\n<li>desenvolvimento de uma determinada qualidade mental, como energia, <a href=\"/wiki/Concentra%C3%A7%C3%A3o_mental\" title=\"Concentra\\xc3\\xa7\\xc3\\xa3o mental\">concentra\\xc3\\xa7\\xc3\\xa3o</a>, plena aten\\xc3\\xa7\\xc3\\xa3o, bondade etc.; <sup id=\"cite_ref-22\" class=\"reference\"><a href=\"#cite_note-22\"><span>[</span>22<span>]</span></a></sup><sup id=\"cite_ref-:1_23-0\" class=\"reference\"><a href=\"#cite_note-:1-23\"><span>[</span>23<span>]</span></a></sup></li>\\n<li>pensamento sustentado e aplicado em um tema (como na <a href=\"/wiki/Medita%C3%A7%C3%A3o_crist%C3%A3\" title=\"Medita\\xc3\\xa7\\xc3\\xa3o crist\\xc3\\xa3\">medita\\xc3\\xa7\\xc3\\xa3o crist\\xc3\\xa3</a>).</li></ul>\\n<p><br />\\n</p><p>\\nAinda que algumas defini\\xc3\\xa7\\xc3\\xb5es da palavra \\'medita\\xc3\\xa7\\xc3\\xa3o\\' usadas por diferentes religi\\xc3\\xb5es sejam bem diferentes e at\\xc3\\xa9 mesmo contradit\\xc3\\xb3rias, \\xc3\\xa9 ponto comum que apontem para uma realidade interior e o desenvolvimento/compreens\\xc3\\xa3o desta realidade. A compreens\\xc3\\xa3o de o que \\xc3\\xa9 a medita\\xc3\\xa7\\xc3\\xa3o deve ser feita sempre dentro do contexto em que \\xc3\\xa9 apresentada, da religi\\xc3\\xa3o ou da escola que a apresenta, caso contr\\xc3\\xa1rio as distintas explica\\xc3\\xa7\\xc3\\xb5es podem se tornar contradit\\xc3\\xb3rias.<sup id=\"cite_ref-:1_23-1\" class=\"reference\"><a href=\"#cite_note-:1-23\"><span>[</span>23<span>]</span></a></sup> </p><div class=\"thumb tright\"><div class=\"thumbinner\" style=\"width:252px;\"><a href=\"/wiki/Ficheiro:Abbot_of_Watkungtaphao_in_Phu_Soidao_Waterfall.jpg\" class=\"image\"><img alt=\"\" src=\"//upload.wikimedia.org/wikipedia/commons/thumb/2/23/Abbot_of_Watkungtaphao_in_Phu_Soidao_Waterfall.jpg/250px-Abbot_of_Watkungtaphao_in_Phu_Soidao_Waterfall.jpg\" decoding=\"async\" width=\"250\" height=\"301\" class=\"thumbimage\" srcset=\"//upload.wikimedia.org/wikipedia/commons/thumb/2/23/Abbot_of_Watkungtaphao_in_Phu_Soidao_Waterfall.jpg/375px-Abbot_of_Watkungtaphao_in_Phu_Soidao_Waterfall.jpg 1.5x, //upload.wikimedia.org/wikipedia/commons/thumb/2/23/Abbot_of_Watkungtaphao_in_Phu_Soidao_Waterfall.jpg/500px-Abbot_of_Watkungtaphao_in_Phu_Soidao_Waterfall.jpg 2x\" data-file-width=\"1148\" data-file-height=\"1380\" /></a>  <div class=\"thumbcaption\"><div class=\"magnify\"><a href=\"/wiki/Ficheiro:Abbot_of_Watkungtaphao_in_Phu_Soidao_Waterfall.jpg\" class=\"internal\" title=\"Ampliar\"></a></div>\\xc3\\x81bade do templo Watkungtaphao sentado de pernas cruzadas e m\\xc3\\xa3os sobrepostas no colo.</div></div></div>\\n<h2><span class=\"mw-headline\" id=\"Objetivos\">Objetivos</span><span class=\"mw-editsection\"><span class=\"mw-editsection-bracket\">[</span><a href=\"/w/index.php?title=Medita%C3%A7%C3%A3o&amp;veaction=edit&amp;section=4\" class=\"mw-editsection-visualeditor\" title=\"Editar sec\\xc3\\xa7\\xc3\\xa3o: Objetivos\">editar</a><span class=\"mw-editsection-divider\"> | </span><a href=\"/w/index.php?title=Medita%C3%A7%C3%A3o&amp;action=edit&amp;section=4\" title=\"Editar sec\\xc3\\xa7\\xc3\\xa3o: Objetivos\">editar c\\xc3\\xb3digo-fonte</a><span class=\"mw-editsection-bracket\">]</span></span></h2><p>\\nA medita\\xc3\\xa7\\xc3\\xa3o pode ser praticada por diversos motivos: desde a simples concentra\\xc3\\xa7\\xc3\\xa3o dos pensamentos, at\\xc3\\xa9 a busca pelo <a href=\"/wiki/Nirvana\" title=\"Nirvana\">nirvana</a>. Desde tempos antigos, as tradi\\xc3\\xa7\\xc3\\xb5es orientais consideram a medita\\xc3\\xa7\\xc3\\xa3o como um passo em dire\\xc3\\xa7\\xc3\\xa3o \\xc3\\xa0 <a href=\"/wiki/Moksha\" title=\"Moksha\">liberta\\xc3\\xa7\\xc3\\xa3o</a>.<sup id=\"cite_ref-ReferenceA_5-1\" class=\"reference\"><a href=\"#cite_note-ReferenceA-5\"><span>[</span>5<span>]</span></a></sup> H\\xc3\\xa1 praticantes da medita\\xc3\\xa7\\xc3\\xa3o que relataram melhora na concentra\\xc3\\xa7\\xc3\\xa3o, <a href=\"/wiki/Consci%C3%AAncia\" title=\"Consci\\xc3\\xaancia\">consci\\xc3\\xaancia</a>, autodisciplina e equanimidade.<sup id=\"cite_ref-24\" class=\"reference\"><a href=\"#cite_note-24\"><span>[</span>24<span>]</span></a></sup> Segundo dicion\\xc3\\xa1rios modernos, a medita\\xc3\\xa7\\xc3\\xa3o \\xc3\\xa9 vista como uma pr\\xc3\\xa1tica onde o indiv\\xc3\\xadduo utiliza t\\xc3\\xa9cnicas para focar sua mente num objeto, pensamento ou atividade em particular, visando alcan\\xc3\\xa7ar um estado de clareza mental e emocional.<sup id=\"cite_ref-merriam-webster.com_1-1\" class=\"reference\"><a href=\"#cite_note-merriam-webster.com-1\"><span>[</span>1<span>]</span></a></sup><sup id=\"cite_ref-SHAPIRO-1981_2-1\" class=\"reference\"><a href=\"#cite_note-SHAPIRO-1981-2\"><span>[</span>2<span>]</span></a></sup> </p><div class=\"thumb tright\"><div class=\"thumbinner\" style=\"width:252px;\"><a href=\"/wiki/Ficheiro:20170208_meditation-stool.jpg\" class=\"image\"><img alt=\"\" src=\"//upload.wikimedia.org/wikipedia/commons/thumb/9/94/20170208_meditation-stool.jpg/250px-20170208_meditation-stool.jpg\" decoding=\"async\" width=\"250\" height=\"188\" class=\"thumbimage\" srcset=\"//upload.wikimedia.org/wikipedia/commons/thumb/9/94/20170208_meditation-stool.jpg/375px-20170208_meditation-stool.jpg 1.5x, //upload.wikimedia.org/wikipedia/commons/thumb/9/94/20170208_meditation-stool.jpg/500px-20170208_meditation-stool.jpg 2x\" data-file-width=\"4640\" data-file-height=\"3480\" /></a>  <div class=\"thumbcaption\"><div class=\"magnify\"><a href=\"/wiki/Ficheiro:20170208_meditation-stool.jpg\" class=\"internal\" title=\"Ampliar\"></a></div>Um banco especial para facililtar sentar-se em seiza (ajoelhado).</div></div></div>\\n<h2><span id=\"Pr.C3.A1tica\"></span><span class=\"mw-headline\" id=\"Pr\\xc3\\xa1tica\">Pr\\xc3\\xa1tica</span><span class=\"mw-editsection\"><span class=\"mw-editsection-bracket\">[</span><a href=\"/w/index.php?title=Medita%C3%A7%C3%A3o&amp;veaction=edit&amp;section=5\" class=\"mw-editsection-visualeditor\" title=\"Editar sec\\xc3\\xa7\\xc3\\xa3o: Pr\\xc3\\xa1tica\">editar</a><span class=\"mw-editsection-divider\"> | </span><a href=\"/w/index.php?title=Medita%C3%A7%C3%A3o&amp;action=edit&amp;section=5\" title=\"Editar sec\\xc3\\xa7\\xc3\\xa3o: Pr\\xc3\\xa1tica\">editar c\\xc3\\xb3digo-fonte</a><span class=\"mw-editsection-bracket\">]</span></span></h2>\\n<p>A pr\\xc3\\xa1tica de medita\\xc3\\xa7\\xc3\\xa3o pode ter in\\xc3\\xbameras variantes quanto \\xc3\\xa0 postura do corpo, objeto de medita\\xc3\\xa7\\xc3\\xa3o.\\n</p>\\n<h3><span class=\"mw-headline\" id=\"Postura\">Postura</span><span class=\"mw-editsection\"><span class=\"mw-editsection-bracket\">[</span><a href=\"/w/index.php?title=Medita%C3%A7%C3%A3o&amp;veaction=edit&amp;section=6\" class=\"mw-editsection-visualeditor\" title=\"Editar sec\\xc3\\xa7\\xc3\\xa3o: Postura\">editar</a><span class=\"mw-editsection-divider\"> | </span><a href=\"/w/index.php?title=Medita%C3%A7%C3%A3o&amp;action=edit&amp;section=6\" title=\"Editar sec\\xc3\\xa7\\xc3\\xa3o: Postura\">editar c\\xc3\\xb3digo-fonte</a><span class=\"mw-editsection-bracket\">]</span></span></h3>\\n<p>A medita\\xc3\\xa7\\xc3\\xa3o pode ser realizada sentado, em p\\xc3\\xa9 ou andando, variando pelo contexto onde \\xc3\\xa9 ensinada. A posi\\xc3\\xa7\\xc3\\xa3o sentada \\xc3\\xa9 adotada normalmente por ser considerada a mais f\\xc3\\xa1cil, onde o corpo se encontra em repouso mas ainda alerta. A famosa <a href=\"/wiki/Posi%C3%A7%C3%A3o_de_l%C3%B3tus\" title=\"Posi\\xc3\\xa7\\xc3\\xa3o de l\\xc3\\xb3tus\">posi\\xc3\\xa7\\xc3\\xa3o de l\\xc3\\xb3tus</a> se difundiu muito como sin\\xc3\\xb4nimo de medita\\xc3\\xa7\\xc3\\xa3o por ser usada no <a href=\"/wiki/Ioga\" title=\"Ioga\">ioga</a> como uma posi\\xc3\\xa7\\xc3\\xa3o ideal de medita\\xc3\\xa7\\xc3\\xa3o, onde mant\\xc3\\xa9m o corpo est\\xc3\\xa1vel, mas pode ser dif\\xc3\\xadcil de alcan\\xc3\\xa7ar e n\\xc3\\xa3o \\xc3\\xa9 recomendada caso traga desconforto ou distraia o praticante do objeto da sua pr\\xc3\\xa1tica ou t\\xc3\\xa9cnica. In\\xc3\\xbameras posi\\xc3\\xa7\\xc3\\xb5es de medita\\xc3\\xa7\\xc3\\xa3o podem ser usadas como de pernas cruzadas, de joelhos (seiza), meio-l\\xc3\\xb3tus (com uma perna em cima da outra), birmanesa, etc.<sup id=\"cite_ref-:0_21-2\" class=\"reference\"><a href=\"#cite_note-:0-21\"><span>[</span>21<span>]</span></a></sup> Na tradi\\xc3\\xa7\\xc3\\xa3o budista \\xc3\\xa9 comum se encontrar a pr\\xc3\\xa1tica da medita\\xc3\\xa7\\xc3\\xa3o andando, que \\xc3\\xa9 vista como uma postura onde se desenvolve concentra\\xc3\\xa7\\xc3\\xa3o em movimento, energia para a mente e vitalidade para o corpo.<sup id=\"cite_ref-25\" class=\"reference\"><a href=\"#cite_note-25\"><span>[</span>25<span>]</span></a></sup>\\n</p>\\n<h3><span id=\"M.C3.A9todos\"></span><span class=\"mw-headline\" id=\"M\\xc3\\xa9todos\">M\\xc3\\xa9todos</span><span class=\"mw-editsection\"><span class=\"mw-editsection-bracket\">[</span><a href=\"/w/index.php?title=Medita%C3%A7%C3%A3o&amp;veaction=edit&amp;section=7\" class=\"mw-editsection-visualeditor\" title=\"Editar sec\\xc3\\xa7\\xc3\\xa3o: M\\xc3\\xa9todos\">editar</a><span class=\"mw-editsection-divider\"> | </span><a href=\"/w/index.php?title=Medita%C3%A7%C3%A3o&amp;action=edit&amp;section=7\" title=\"Editar sec\\xc3\\xa7\\xc3\\xa3o: M\\xc3\\xa9todos\">editar c\\xc3\\xb3digo-fonte</a><span class=\"mw-editsection-bracket\">]</span></span></h3>\\n<p>Em linhas gerais, pode-se descrever dois grupos de t\\xc3\\xa9cnicas de medita\\xc3\\xa7\\xc3\\xa3o. A \"aten\\xc3\\xa7\\xc3\\xa3o focada\" compreende a concentra\\xc3\\xa7\\xc3\\xa3o volunt\\xc3\\xa1ria num objeto, respira\\xc3\\xa7\\xc3\\xa3o, imagem ou palavras. O outro tipo, o \"monitoramento aberto\", envolve uma observa\\xc3\\xa7\\xc3\\xa3o n\\xc3\\xa3o-reativa do conte\\xc3\\xbado da experi\\xc3\\xaancia que ocorre num dado momento.<sup id=\"cite_ref-lutz08_19-1\" class=\"reference\"><a href=\"#cite_note-lutz08-19\"><span>[</span>19<span>]</span></a></sup>\\n</p>\\n<h3><span id=\"Dura.C3.A7.C3.A3o\"></span><span class=\"mw-headline\" id=\"Dura\\xc3\\xa7\\xc3\\xa3o\">Dura\\xc3\\xa7\\xc3\\xa3o</span><span class=\"mw-editsection\"><span class=\"mw-editsection-bracket\">[</span><a href=\"/w/index.php?title=Medita%C3%A7%C3%A3o&amp;veaction=edit&amp;section=8\" class=\"mw-editsection-visualeditor\" title=\"Editar sec\\xc3\\xa7\\xc3\\xa3o: Dura\\xc3\\xa7\\xc3\\xa3o\">editar</a><span class=\"mw-editsection-divider\"> | </span><a href=\"/w/index.php?title=Medita%C3%A7%C3%A3o&amp;action=edit&amp;section=8\" title=\"Editar sec\\xc3\\xa7\\xc3\\xa3o: Dura\\xc3\\xa7\\xc3\\xa3o\">editar c\\xc3\\xb3digo-fonte</a><span class=\"mw-editsection-bracket\">]</span></span></h3>\\n<p>Normalmente, n\\xc3\\xa3o h\\xc3\\xa1 um tempo m\\xc3\\xadnimo preestabelecido. Pode-se iniciar com um per\\xc3\\xadodo de poucos minutos e, conforme se aperfei\\xc3\\xa7oa, esse tempo pode aumentar at\\xc3\\xa9 para horas, dias, ou em casos excepcionais, at\\xc3\\xa9 21 dias (o <a href=\"/wiki/Samadhi\" class=\"mw-redirect\" title=\"Samadhi\">samadhi</a>). \\xc3\\x89 importante ressaltar que a frequ\\xc3\\xaancia da pr\\xc3\\xa1tica tamb\\xc3\\xa9m influencia muito os resultados.<sup id=\"cite_ref-:0_21-3\" class=\"reference\"><a href=\"#cite_note-:0-21\"><span>[</span>21<span>]</span></a></sup>\\n</p>\\n<h3><span class=\"mw-headline\" id=\"Aprendizado\">Aprendizado</span><span class=\"mw-editsection\"><span class=\"mw-editsection-bracket\">[</span><a href=\"/w/index.php?title=Medita%C3%A7%C3%A3o&amp;veaction=edit&amp;section=9\" class=\"mw-editsection-visualeditor\" title=\"Editar sec\\xc3\\xa7\\xc3\\xa3o: Aprendizado\">editar</a><span class=\"mw-editsection-divider\"> | </span><a href=\"/w/index.php?title=Medita%C3%A7%C3%A3o&amp;action=edit&amp;section=9\" title=\"Editar sec\\xc3\\xa7\\xc3\\xa3o: Aprendizado\">editar c\\xc3\\xb3digo-fonte</a><span class=\"mw-editsection-bracket\">]</span></span></h3>\\n<p>Nas tradi\\xc3\\xa7\\xc3\\xb5es espirituais ou religiosas de medita\\xc3\\xa7\\xc3\\xa3o, o professor realizado \\xc3\\xa9 aquele que consegue ensinar o aprendiz em sil\\xc3\\xaancio, atrav\\xc3\\xa9s da sua pr\\xc3\\xb3pria consci\\xc3\\xaancia interior ou pelo olhar silencioso (<a href=\"/wiki/Inicia%C3%A7%C3%A3o\" title=\"Inicia\\xc3\\xa7\\xc3\\xa3o\">inicia\\xc3\\xa7\\xc3\\xa3o</a>). Ele n\\xc3\\xa3o precisa explicar exteriormente como meditar ou ensinar uma t\\xc3\\xa9cnica espec\\xc3\\xadfica.<sup id=\"cite_ref-26\" class=\"reference\"><a href=\"#cite_note-26\"><span>[</span>26<span>]</span></a></sup>\\n</p>\\n<h2><span id=\"Medita.C3.A7.C3.A3o_e_sa.C3.BAde\"></span><span class=\"mw-headline\" id=\"Medita\\xc3\\xa7\\xc3\\xa3o_e_sa\\xc3\\xbade\">Medita\\xc3\\xa7\\xc3\\xa3o e sa\\xc3\\xbade</span><span class=\"mw-editsection\"><span class=\"mw-editsection-bracket\">[</span><a href=\"/w/index.php?title=Medita%C3%A7%C3%A3o&amp;veaction=edit&amp;section=10\" class=\"mw-editsection-visualeditor\" title=\"Editar sec\\xc3\\xa7\\xc3\\xa3o: Medita\\xc3\\xa7\\xc3\\xa3o e sa\\xc3\\xbade\">editar</a><span class=\"mw-editsection-divider\"> | </span><a href=\"/w/index.php?title=Medita%C3%A7%C3%A3o&amp;action=edit&amp;section=10\" title=\"Editar sec\\xc3\\xa7\\xc3\\xa3o: Medita\\xc3\\xa7\\xc3\\xa3o e sa\\xc3\\xbade\">editar c\\xc3\\xb3digo-fonte</a><span class=\"mw-editsection-bracket\">]</span></span></h2><p>\\nHistoricamente, a medita\\xc3\\xa7\\xc3\\xa3o foi sempre usada e associada \\xc3\\xa0 pr\\xc3\\xa1tica espiritual e de autodescobrimento. No entanto, desde 1970, a <a href=\"/wiki/Psicologia\" title=\"Psicologia\">psicologia</a> e <a href=\"/wiki/Psiquiatria\" title=\"Psiquiatria\">psiquiatria</a> desenvolveram t\\xc3\\xa9cnicas de medita\\xc3\\xa7\\xc3\\xa3o para diversos dist\\xc3\\xbarbios psicol\\xc3\\xb3gicos.<sup id=\"cite_ref-Harrington2015_27-0\" class=\"reference\"><a href=\"#cite_note-Harrington2015-27\"><span>[</span>27<span>]</span></a></sup> Pr\\xc3\\xa1ticas de \"monitoramento aberto\" (vide \\'defini\\xc3\\xa7\\xc3\\xa3o\\' acima) s\\xc3\\xa3o utilizadas na psicologia para reduzir problemas mentais e f\\xc3\\xadsicos,<sup id=\"cite_ref-Strauss_28-0\" class=\"reference\"><a href=\"#cite_note-Strauss-28\"><span>[</span>28<span>]</span></a></sup><sup id=\"cite_ref-Khoury2015_29-0\" class=\"reference\"><a href=\"#cite_note-Khoury2015-29\"><span>[</span>29<span>]</span></a></sup> bem como <a href=\"/wiki/Drogadi%C3%A7%C3%A3o\" title=\"Drogadi\\xc3\\xa7\\xc3\\xa3o\">depend\\xc3\\xaancia qu\\xc3\\xadmica</a>. A evid\\xc3\\xaancia \\xc3\\xa9 insuficiente sobre o efeito da medita\\xc3\\xa7\\xc3\\xa3o no humor, aten\\xc3\\xa7\\xc3\\xa3o, alimenta\\xc3\\xa7\\xc3\\xa3o, sono ou peso corporal.<sup id=\"cite_ref-Chiesa_30-0\" class=\"reference\"><a href=\"#cite_note-Chiesa-30\"><span>[</span>30<span>]</span></a></sup></p><div class=\"thumb tright\"><div class=\"thumbinner\" style=\"width:207px;\"><a href=\"/wiki/Ficheiro:Brooklyn_Museum_-_Man_Meditating_in_a_Garden_Setting.jpg\" class=\"image\"><img alt=\"\" src=\"//upload.wikimedia.org/wikipedia/commons/thumb/5/57/Brooklyn_Museum_-_Man_Meditating_in_a_Garden_Setting.jpg/205px-Brooklyn_Museum_-_Man_Meditating_in_a_Garden_Setting.jpg\" decoding=\"async\" width=\"205\" height=\"274\" class=\"thumbimage\" srcset=\"//upload.wikimedia.org/wikipedia/commons/thumb/5/57/Brooklyn_Museum_-_Man_Meditating_in_a_Garden_Setting.jpg/308px-Brooklyn_Museum_-_Man_Meditating_in_a_Garden_Setting.jpg 1.5x, //upload.wikimedia.org/wikipedia/commons/thumb/5/57/Brooklyn_Museum_-_Man_Meditating_in_a_Garden_Setting.jpg/410px-Brooklyn_Museum_-_Man_Meditating_in_a_Garden_Setting.jpg 2x\" data-file-width=\"575\" data-file-height=\"768\" /></a>  <div class=\"thumbcaption\"><div class=\"magnify\"><a href=\"/wiki/Ficheiro:Brooklyn_Museum_-_Man_Meditating_in_a_Garden_Setting.jpg\" class=\"internal\" title=\"Ampliar\"></a></div>Pintura oriental de uma pessoa meditando no jardim.</div></div></div>\\n<h2><span id=\"Ver_tamb.C3.A9m\"></span><span class=\"mw-headline\" id=\"Ver_tamb\\xc3\\xa9m\">Ver tamb\\xc3\\xa9m</span><span class=\"mw-editsection\"><span class=\"mw-editsection-bracket\">[</span><a href=\"/w/index.php?title=Medita%C3%A7%C3%A3o&amp;veaction=edit&amp;section=11\" class=\"mw-editsection-visualeditor\" title=\"Editar sec\\xc3\\xa7\\xc3\\xa3o: Ver tamb\\xc3\\xa9m\">editar</a><span class=\"mw-editsection-divider\"> | </span><a href=\"/w/index.php?title=Medita%C3%A7%C3%A3o&amp;action=edit&amp;section=11\" title=\"Editar sec\\xc3\\xa7\\xc3\\xa3o: Ver tamb\\xc3\\xa9m\">editar c\\xc3\\xb3digo-fonte</a><span class=\"mw-editsection-bracket\">]</span></span></h2>\\n<div class=\"noprint\" style=\"clear: right; border: solid #aaa 1px; margin: 0 0 1em 1em; font-size: 90%; background: #f9f9f9; width: 238px; padding: 5px; spacing: 0px; text-align: center; float: right;\">\\n<div style=\"float: left; vertical-align:middle;\"><div class=\"floatnone\"><img alt=\"\" src=\"//upload.wikimedia.org/wikipedia/commons/thumb/4/4a/Commons-logo.svg/22px-Commons-logo.svg.png\" decoding=\"async\" width=\"22\" height=\"30\" srcset=\"//upload.wikimedia.org/wikipedia/commons/thumb/4/4a/Commons-logo.svg/33px-Commons-logo.svg.png 1.5x, //upload.wikimedia.org/wikipedia/commons/thumb/4/4a/Commons-logo.svg/44px-Commons-logo.svg.png 2x\" data-file-width=\"1024\" data-file-height=\"1376\" /></div></div>\\n<div style=\"margin-left: 30px; line-height:normal; vertical-align:middle;\">O <a href=\"https://commons.wikimedia.org/wiki/P%C3%A1gina_principal\" class=\"extiw\" title=\"commons:P\\xc3\\xa1gina principal\">Commons</a> possui uma <i>categoria</i> com imagens e outros ficheiros sobre  <b><span class=\"plainlinks\"><a class=\"external text\" href=\"https://commons.wikimedia.org/wiki/Category:Meditation?uselang=pt\">Medita\\xc3\\xa7\\xc3\\xa3o</a></span></b></div>\\n</div>\\n<h3><span class=\"mw-headline\" id=\"Leituras_adicionais\">Leituras adicionais</span><span class=\"mw-editsection\"><span class=\"mw-editsection-bracket\">[</span><a href=\"/w/index.php?title=Medita%C3%A7%C3%A3o&amp;veaction=edit&amp;section=12\" class=\"mw-editsection-visualeditor\" title=\"Editar sec\\xc3\\xa7\\xc3\\xa3o: Leituras adicionais\">editar</a><span class=\"mw-editsection-divider\"> | </span><a href=\"/w/index.php?title=Medita%C3%A7%C3%A3o&amp;action=edit&amp;section=12\" title=\"Editar sec\\xc3\\xa7\\xc3\\xa3o: Leituras adicionais\">editar c\\xc3\\xb3digo-fonte</a><span class=\"mw-editsection-bracket\">]</span></span></h3>\\n<ul><li><a href=\"/wiki/Daimoku\" title=\"Daimoku\">Daimoku</a></li>\\n<li><a href=\"/wiki/Sri_Aurobindo\" title=\"Sri Aurobindo\">Sri Aurobindo</a>, <i>Uma Psicologia Maior.</i> <a href=\"/wiki/Especial:Fontes_de_livros/9788531607165\" class=\"internal mw-magiclink-isbn\">ISBN 978-8-53160-716-5</a></li>\\n<li><a href=\"/wiki/Sri_Chinmoy\" title=\"Sri Chinmoy\">Sri Chinmoy</a>, <i>Medita\\xc3\\xa7\\xc3\\xa3o - a Perfei\\xc3\\xa7\\xc3\\xa3o-Homem na Satisfa\\xc3\\xa7\\xc3\\xa3o-Deus</i> <a href=\"/wiki/Especial:Fontes_de_livros/9788531515316\" class=\"internal mw-magiclink-isbn\">ISBN 978-8-53151-531-6</a></li>\\n<li><a href=\"/wiki/Paramahansa_Yogananda\" title=\"Paramahansa Yogananda\">Paramahansa Yogananda</a>, <i>Autobiografia de um Iogue</i> <a href=\"/wiki/Especial:Fontes_de_livros/9780876123683\" class=\"internal mw-magiclink-isbn\">ISBN 978-0-87612-368-3</a></li>\\n<li><a href=\"/wiki/Eihei_Dogen\" title=\"Eihei Dogen\">Eihei Dogen</a>, <i>Fukan Zazengi: Instru\\xc3\\xa7\\xc3\\xb5es Universalmente Recomendadas para a Pr\\xc3\\xa1tica de Zazen</i></li>\\n<li><a href=\"/wiki/Swami_Vivekananda\" title=\"Swami Vivekananda\">Swami Vivekandanda</a>, O que \\xc3\\xa9 religi\\xc3\\xa3o <a href=\"/wiki/Especial:Fontes_de_livros/9788587546180\" class=\"internal mw-magiclink-isbn\">ISBN 9788587546180</a></li>\\n<li><a href=\"/wiki/Medita%C3%A7%C3%A3o_budista\" title=\"Medita\\xc3\\xa7\\xc3\\xa3o budista\">Medita\\xc3\\xa7\\xc3\\xa3o budista</a></li>\\n<li><a href=\"/wiki/Zazen\" title=\"Zazen\">Zazen</a></li></ul>\\n<h2 style=\"cursor: help;\" title=\"Esta se\\xc3\\xa7\\xc3\\xa3o foi configurada para n\\xc3\\xa3o ser edit\\xc3\\xa1vel diretamente. Edite a p\\xc3\\xa1gina toda ou a se\\xc3\\xa7\\xc3\\xa3o anterior em vez disso.\"><span id=\"Refer.C3.AAncias\"></span><span class=\"mw-headline\" id=\"Refer\\xc3\\xaancias\">Refer\\xc3\\xaancias</span></h2>\\n<div class=\"reflist\" style=\"list-style-type: decimal;\"><div class=\"mw-references-wrap mw-references-columns\"><ol class=\"references\">\\n<li id=\"cite_note-merriam-webster.com-1\"><span class=\"mw-cite-backlink\">\\xe2\\x86\\x91 <sup><i><b><a href=\"#cite_ref-merriam-webster.com_1-0\">a</a></b></i></sup> <sup><i><b><a href=\"#cite_ref-merriam-webster.com_1-1\">b</a></b></i></sup></span> <span class=\"reference-text\"><cite class=\"citation web\"><a rel=\"nofollow\" class=\"external text\" href=\"https://www.merriam-webster.com/dictionary/meditate\">\\xc2\\xabDefini\\xc3\\xa7\\xc3\\xa3o de medita\\xc3\\xa7\\xc3\\xa3o\\xc2\\xbb</a></cite><span title=\"ctx_ver=Z39.88-2004&amp;rfr_id=info%3Asid%2Fpt.wikipedia.org%3AMedita%C3%A7%C3%A3o&amp;rft.btitle=Defini%C3%A7%C3%A3o+de+medita%C3%A7%C3%A3o&amp;rft.genre=unknown&amp;rft_id=https%3A%2F%2Fwww.merriam-webster.com%2Fdictionary%2Fmeditate&amp;rft_val_fmt=info%3Aofi%2Ffmt%3Akev%3Amtx%3Abook\" class=\"Z3988\"><span style=\"display:none;\">&#160;</span></span></span>\\n</li>\\n<li id=\"cite_note-SHAPIRO-1981-2\"><span class=\"mw-cite-backlink\">\\xe2\\x86\\x91 <sup><i><b><a href=\"#cite_ref-SHAPIRO-1981_2-0\">a</a></b></i></sup> <sup><i><b><a href=\"#cite_ref-SHAPIRO-1981_2-1\">b</a></b></i></sup></span> <span class=\"reference-text\">SHAPIRO, D. (1981). <i>Meditation: Clinical and health-related applications</i>. The Western Journal of Medicine, 134(2), 141-142 <i>apud</i> MENEZES, Carolina Baptista; DELL\\'AGLIO, D\\xc3\\xa9bora Dalbosco. <i>Os efeitos da medita\\xc3\\xa7\\xc3\\xa3o \\xc3\\xa0 luz da investiga\\xc3\\xa7\\xc3\\xa3o cient\\xc3\\xadfica em Psicologia: revis\\xc3\\xa3o de literatura</i>. Psicol. cienc. prof.,  Bras\\xc3\\xadlia,  v. 29, n. 2, p. 276-289,    2009. Dispon\\xc3\\xadvel em &lt;<a rel=\"nofollow\" class=\"external free\" href=\"http://www.scielo.br/scielo.php?script=sci_arttext&amp;pid=S1414-98932009000200006&amp;lng=en&amp;nrm=iso\">http://www.scielo.br/scielo.php?script=sci_arttext&amp;pid=S1414-98932009000200006&amp;lng=en&amp;nrm=iso</a>&gt;. access on  17  June  2016.</span>\\n</li>\\n<li id=\"cite_note-LEVINE-2000-3\"><span class=\"mw-cite-backlink\"><a href=\"#cite_ref-LEVINE-2000_3-0\">\\xe2\\x86\\x91</a></span> <span class=\"reference-text\">LEVINE, M. (2000). <i>The positive psychology of buddhism and yoga: Paths to a mature happiness</i>. New Jersey: Lawrence Erlbaum Associates <i>apud</i> MENEZES, Carolina Baptista; DELL\\'AGLIO, D\\xc3\\xa9bora Dalbosco. <i>Os efeitos da medita\\xc3\\xa7\\xc3\\xa3o \\xc3\\xa0 luz da investiga\\xc3\\xa7\\xc3\\xa3o cient\\xc3\\xadfica em Psicologia: revis\\xc3\\xa3o de literatura</i>. Psicol. cienc. prof.,  Bras\\xc3\\xadlia, v. 29, n. 2, p. 276-289, 2009. Dispon\\xc3\\xadvel em &lt;<a rel=\"nofollow\" class=\"external free\" href=\"http://www.scielo.br/scielo.php?script=sci_arttext&amp;pid=S1414-98932009000200006&amp;lng=en&amp;nrm=iso\">http://www.scielo.br/scielo.php?script=sci_arttext&amp;pid=S1414-98932009000200006&amp;lng=en&amp;nrm=iso</a>&gt;. access on  17  June  2016.</span>\\n</li>\\n<li id=\"cite_note-Naranjo-2005-4\"><span class=\"mw-cite-backlink\"><a href=\"#cite_ref-Naranjo-2005_4-0\">\\xe2\\x86\\x91</a></span> <span class=\"reference-text\">NARANJO, C. (2005). <i>Entre medita\\xc3\\xa7\\xc3\\xa3o e psicoterapia</i>. Rio de Janeiro: Vozes <i>apud</i> MENEZES, Carolina Baptista; DELL\\'AGLIO, D\\xc3\\xa9bora Dalbosco. <i>Os efeitos da medita\\xc3\\xa7\\xc3\\xa3o \\xc3\\xa0 luz da investiga\\xc3\\xa7\\xc3\\xa3o cient\\xc3\\xadfica em Psicologia: revis\\xc3\\xa3o de literatura</i>. Psicol. cienc. prof.,  Bras\\xc3\\xadlia ,  v. 29, n. 2, p. 276-289, 2009. Dispon\\xc3\\xadvel em &lt;<a rel=\"nofollow\" class=\"external free\" href=\"http://www.scielo.br/scielo.php?script=sci_arttext&amp;pid=S1414-98932009000200006&amp;lng=en&amp;nrm=iso\">http://www.scielo.br/scielo.php?script=sci_arttext&amp;pid=S1414-98932009000200006&amp;lng=en&amp;nrm=iso</a>&gt;. access on  17  June  2016.</span>\\n</li>\\n<li id=\"cite_note-ReferenceA-5\"><span class=\"mw-cite-backlink\">\\xe2\\x86\\x91 <sup><i><b><a href=\"#cite_ref-ReferenceA_5-0\">a</a></b></i></sup> <sup><i><b><a href=\"#cite_ref-ReferenceA_5-1\">b</a></b></i></sup></span> <span class=\"reference-text\"><i>Zen Buddhism&#160;: a History: India and China</i> by Heinrich Dumoulin, James W. Heisig, Paul F. Knitter 2005 <small><a href=\"/wiki/Especial:Fontes_de_livros/0941532895\" class=\"internal mw-magiclink-isbn\">ISBN 0-941532-89-5</a></small> pages 15</span>\\n</li>\\n<li id=\"cite_note-6\"><span class=\"mw-cite-backlink\"><a href=\"#cite_ref-6\">\\xe2\\x86\\x91</a></span> <span class=\"reference-text\"><cite class=\"citation web\"><a rel=\"nofollow\" class=\"external text\" href=\"http://www.acessoaoinsight.net/glossario.php#bhavana\">\\xc2\\xabetimologia 2\\xc2\\xbb</a></cite><span title=\"ctx_ver=Z39.88-2004&amp;rfr_id=info%3Asid%2Fpt.wikipedia.org%3AMedita%C3%A7%C3%A3o&amp;rft.btitle=etimologia+2&amp;rft.genre=unknown&amp;rft_id=http%3A%2F%2Fwww.acessoaoinsight.net%2Fglossario.php%23bhavana&amp;rft_val_fmt=info%3Aofi%2Ffmt%3Akev%3Amtx%3Abook\" class=\"Z3988\"><span style=\"display:none;\">&#160;</span></span></span>\\n</li>\\n<li id=\"cite_note-7\"><span class=\"mw-cite-backlink\"><a href=\"#cite_ref-7\">\\xe2\\x86\\x91</a></span> <span class=\"reference-text\"><cite class=\"citation web\">Feuerstein, Georg (2006). <a rel=\"nofollow\" class=\"external text\" href=\"http://www.santosha.com/moksha/meditation1.html\">\\xc2\\xabYoga and Meditation (Dhyana)\\xc2\\xbb</a>. Moksha Journal</cite><span title=\"ctx_ver=Z39.88-2004&amp;rfr_id=info%3Asid%2Fpt.wikipedia.org%3AMedita%C3%A7%C3%A3o&amp;rft.aufirst=Georg&amp;rft.aulast=Feuerstein&amp;rft.btitle=Yoga+and+Meditation+%28Dhyana%29&amp;rft.date=2006&amp;rft.genre=unknown&amp;rft.pub=Moksha+Journal&amp;rft_id=http%3A%2F%2Fwww.santosha.com%2Fmoksha%2Fmeditation1.html&amp;rft_val_fmt=info%3Aofi%2Ffmt%3Akev%3Amtx%3Abook\" class=\"Z3988\"><span style=\"display:none;\">&#160;</span></span></span>\\n</li>\\n<li id=\"cite_note-8\"><span class=\"mw-cite-backlink\"><a href=\"#cite_ref-8\">\\xe2\\x86\\x91</a></span> <span class=\"reference-text\"><cite class=\"citation journal\">Macdonell, Arthur Anthony (1971 [reimpresso de 1929]). \\xc2\\xabA practical Sanskrit dictionary with transliteration, accentuation and etymological analysis throughout\\xc2\\xbb. <i>Oxford University Press</i></cite><span title=\"ctx_ver=Z39.88-2004&amp;rfr_id=info%3Asid%2Fpt.wikipedia.org%3AMedita%C3%A7%C3%A3o&amp;rft.atitle=A+practical+Sanskrit+dictionary+with+transliteration%2C+accentuation+and+etymological+analysis+throughout&amp;rft.aufirst=Arthur+Anthony&amp;rft.aulast=Macdonell&amp;rft.chron=1971+%5Breimpresso+de+1929%5D&amp;rft.genre=article&amp;rft.jtitle=Oxford+University+Press&amp;rft_val_fmt=info%3Aofi%2Ffmt%3Akev%3Amtx%3Ajournal\" class=\"Z3988\"><span style=\"display:none;\">&#160;</span></span> <span style=\"font-size:100%\" class=\"error citation-comment\">Verifique data em: <code style=\"color:inherit; border:inherit; padding:inherit;\">&#124;data=</code> (<a href=\"/wiki/Ajuda:Erros_nas_refer%C3%AAncias#bad_date\" title=\"Ajuda:Erros nas refer\\xc3\\xaancias\">ajuda</a>)</span></span>\\n</li>\\n<li id=\"cite_note-9\"><span class=\"mw-cite-backlink\"><a href=\"#cite_ref-9\">\\xe2\\x86\\x91</a></span> <span class=\"reference-text\"><cite class=\"citation journal\">Kristeller, Jean L. (2010). <a rel=\"nofollow\" class=\"external text\" href=\"https://books.google.com/?id=8K41STQ06MMC&amp;pg=PA162&amp;dq=isbn:9781572246942+easwaran+passage&amp;q=isbn%3A9781572246942%20easwaran%20passage\">\\xc2\\xabSpiritual engagement as a mechanism of change in mindfulness- and acceptance-based therapies\\xc2\\xbb</a>. <i>Assessing mindfulness and acceptance processes in clients: Illuminating the theory and practice of change</i>: 152\\xe2\\x80\\x93184. <a href=\"/wiki/International_Standard_Book_Number\" title=\"International Standard Book Number\">ISBN</a>&#160;<a href=\"/wiki/Especial:Fontes_de_livros/978-1-57224-694-2\" title=\"Especial:Fontes de livros/978-1-57224-694-2\">978-1-57224-694-2</a></cite><span title=\"ctx_ver=Z39.88-2004&amp;rfr_id=info%3Asid%2Fpt.wikipedia.org%3AMedita%C3%A7%C3%A3o&amp;rft.atitle=Spiritual+engagement+as+a+mechanism+of+change+in+mindfulness-+and+acceptance-based+therapies&amp;rft.aufirst=Jean+L.&amp;rft.aulast=Kristeller&amp;rft.date=2010&amp;rft.genre=article&amp;rft.isbn=978-1-57224-694-2&amp;rft.jtitle=Assessing+mindfulness+and+acceptance+processes+in+clients%3A+Illuminating+the+theory+and+practice+of+change&amp;rft.pages=152-184.&amp;rft_id=https%3A%2F%2Fbooks.google.com%2F%3Fid%3D8K41STQ06MMC%26pg%3DPA162%26dq%3Disbn%3A9781572246942%2Beaswaran%2Bpassage%26q%3Disbn%253A9781572246942%2520easwaran%2520passage&amp;rft_val_fmt=info%3Aofi%2Ffmt%3Akev%3Amtx%3Ajournal\" class=\"Z3988\"><span style=\"display:none;\">&#160;</span></span></span>\\n</li>\\n<li id=\"cite_note-10\"><span class=\"mw-cite-backlink\"><a href=\"#cite_ref-10\">\\xe2\\x86\\x91</a></span> <span class=\"reference-text\">Hadot, Pierre; Arnold I. Davidson (1995) Philosophy as a way of life <a href=\"/wiki/Especial:Fontes_de_livros/0631180338\" class=\"internal mw-magiclink-isbn\">ISBN 0-631-18033-8</a> pages 83-84</span>\\n</li>\\n<li id=\"cite_note-Spiritual_Psychology&#39;_page_109-11\"><span class=\"mw-cite-backlink\"><a href=\"#cite_ref-Spiritual_Psychology&#39;_page_109_11-0\">\\xe2\\x86\\x91</a></span> <span class=\"reference-text\"><i>Spiritual Psychology</i> by Akbar Husain 2006 <small><a href=\"/wiki/Especial:Fontes_de_livros/8182200954\" class=\"internal mw-magiclink-isbn\">ISBN 81-8220-095-4</a></small> page 109</span>\\n</li>\\n<li id=\"cite_note-12\"><span class=\"mw-cite-backlink\"><a href=\"#cite_ref-12\">\\xe2\\x86\\x91</a></span> <span class=\"reference-text\"><i>An introduction to the Christian Orthodox churches</i> by John Binns 2002 <small><a href=\"/wiki/Especial:Fontes_de_livros/0521667380\" class=\"internal mw-magiclink-isbn\">ISBN 0-521-66738-0</a></small> page 128</span>\\n</li>\\n<li id=\"cite_note-13\"><span class=\"mw-cite-backlink\"><a href=\"#cite_ref-13\">\\xe2\\x86\\x91</a></span> <span class=\"reference-text\"><cite class=\"citation web\"><a rel=\"nofollow\" class=\"external text\" href=\"http://orthodoxwiki.org/Hesychasm\">\\xc2\\xabHesychasm\\xc2\\xbb</a>. <i>OrthodoxWiki</i><span class=\"reference-accessdate\">. Consultado em 12 de maio de 2010</span></cite><span title=\"ctx_ver=Z39.88-2004&amp;rfr_id=info%3Asid%2Fpt.wikipedia.org%3AMedita%C3%A7%C3%A3o&amp;rft.atitle=Hesychasm&amp;rft.genre=unknown&amp;rft.jtitle=OrthodoxWiki&amp;rft_id=http%3A%2F%2Forthodoxwiki.org%2FHesychasm&amp;rft_val_fmt=info%3Aofi%2Ffmt%3Akev%3Amtx%3Ajournal\" class=\"Z3988\"><span style=\"display:none;\">&#160;</span></span></span>\\n</li>\\n<li id=\"cite_note-14\"><span class=\"mw-cite-backlink\"><a href=\"#cite_ref-14\">\\xe2\\x86\\x91</a></span> <span class=\"reference-text\"><a rel=\"nofollow\" class=\"external text\" href=\"https://web.archive.org/web/20101021081733/http://www.macedonian-heritage.gr/Athos/General/AthosHistory.html\">Archived</a> from <a rel=\"nofollow\" class=\"external text\" href=\"http://www.macedonian-heritage.gr/Athos/General/AthosHistory.html\">the original</a> <a rel=\"nofollow\" class=\"external text\" href=\"https://web.archive.org/web/20100729005209/http://www.macedonian-heritage.gr/Athos/General/AthosHistory.html\">Arquivado em</a> julho 29, 2010<span style=\"font-size:100%\" class=\"error citation-comment\"><sup>[Erro data trocada]</sup></span>, no <a href=\"/wiki/Wayback_Machine\" title=\"Wayback Machine\">Wayback Machine</a>. on February 11, 2014.</span>\\n</li>\\n<li id=\"cite_note-15\"><span class=\"mw-cite-backlink\"><a href=\"#cite_ref-15\">\\xe2\\x86\\x91</a></span> <span class=\"reference-text\"><i>Christian Spirituality: A Historical Sketch</i> by George Lane 2005 <small><a href=\"/wiki/Especial:Fontes_de_livros/0829420819\" class=\"internal mw-magiclink-isbn\">ISBN 0-8294-2081-9</a></small> page 20</span>\\n</li>\\n<li id=\"cite_note-16\"><span class=\"mw-cite-backlink\"><a href=\"#cite_ref-16\">\\xe2\\x86\\x91</a></span> <span class=\"reference-text\"><i>Christian spirituality: themes from the tradition</i> by Lawrence S. Cunningham, Keith J. Egan 1996 <small><a href=\"/wiki/Especial:Fontes_de_livros/0809136600\" class=\"internal mw-magiclink-isbn\">ISBN 0-8091-3660-0</a></small> page 38</span>\\n</li>\\n<li id=\"cite_note-17\"><span class=\"mw-cite-backlink\"><a href=\"#cite_ref-17\">\\xe2\\x86\\x91</a></span> <span class=\"reference-text\"><i>The Oblate Life</i> by Gervase Holdaway, 2008 <small><a href=\"/wiki/Especial:Fontes_de_livros/0814631762\" class=\"internal mw-magiclink-isbn\">ISBN 0-8146-3176-2</a></small> page 109</span>\\n</li>\\n<li id=\"cite_note-18\"><span class=\"mw-cite-backlink\"><a href=\"#cite_ref-18\">\\xe2\\x86\\x91</a></span> <span class=\"reference-text\"><i>After Augustine: the meditative reader and the text</i> by <a href=\"/w/index.php?title=Brian_Stock_(historian)&amp;action=edit&amp;redlink=1\" class=\"new\" title=\"Brian Stock (historian) (p\\xc3\\xa1gina n\\xc3\\xa3o existe)\">Brian Stock</a> 2001 <small><a href=\"/wiki/Especial:Fontes_de_livros/0812236025\" class=\"internal mw-magiclink-isbn\">ISBN 0-8122-3602-5</a></small> page 105</span>\\n</li>\\n<li id=\"cite_note-lutz08-19\"><span class=\"mw-cite-backlink\">\\xe2\\x86\\x91 <sup><i><b><a href=\"#cite_ref-lutz08_19-0\">a</a></b></i></sup> <sup><i><b><a href=\"#cite_ref-lutz08_19-1\">b</a></b></i></sup></span> <span class=\"reference-text\"><cite class=\"citation journal\">Lutz, Antoine; Slagter, Heleen A.; Dunne, John D.; Davidson, Richard J. (abril de 2008). <a rel=\"nofollow\" class=\"external text\" href=\"//www.ncbi.nlm.nih.gov/pmc/articles/PMC2693206\">\\xc2\\xabAttention regulation and monitoring in meditation\\xc2\\xbb</a>. <i>Trends in Cognitive Sciences</i>. <b>12</b> (4): 163\\xe2\\x80\\x93169. <a href=\"/wiki/PubMed_Central\" title=\"PubMed Central\">PMC</a>&#160;<span class=\"plainlinks\"><a rel=\"nofollow\" class=\"external text\" href=\"//www.ncbi.nlm.nih.gov/pmc/articles/PMC2693206\">2693206</a><span style=\"margin-left:0.1em\"><img alt=\"Acess\\xc3\\xadvel livremente\" src=\"//upload.wikimedia.org/wikipedia/commons/thumb/6/65/Lock-green.svg/9px-Lock-green.svg.png\" decoding=\"async\" title=\"Acess\\xc3\\xadvel livremente\" width=\"9\" height=\"14\" srcset=\"//upload.wikimedia.org/wikipedia/commons/thumb/6/65/Lock-green.svg/14px-Lock-green.svg.png 1.5x, //upload.wikimedia.org/wikipedia/commons/thumb/6/65/Lock-green.svg/18px-Lock-green.svg.png 2x\" data-file-width=\"512\" data-file-height=\"813\" /></span></span>. <a href=\"/wiki/PubMed_Identifier\" class=\"mw-redirect\" title=\"PubMed Identifier\">PMID</a>&#160;<a rel=\"nofollow\" class=\"external text\" href=\"//www.ncbi.nlm.nih.gov/pubmed/18329323\">18329323</a>. <a href=\"/wiki/Digital_object_identifier\" title=\"Digital object identifier\">doi</a>:<a rel=\"nofollow\" class=\"external text\" href=\"https://dx.doi.org/10.1016%2Fj.tics.2008.01.005\">10.1016/j.tics.2008.01.005</a>. <q>The term \\xe2\\x80\\x98meditation\\xe2\\x80\\x99 refers to a broad variety of practices...In order to narrow the explanandum to a more tractable scope, this article uses Buddhist contemplative techniques and their clinical secular derivatives as a paradigmatic framework (see e.g., 9,10 or 7,9 for reviews including other types of techniques, such as Yoga and Transcendental Meditation). Among the wide range of practices within the Buddhist tradition, we will further narrow this review to two common styles of meditation, FA and OM (see box 1\\xe2\\x80\\x93box 2), that are often combined, whether in a single session or over the course of practitioner\\'s training. These styles are found with some variation in several meditation traditions, including Zen, Vipassan\\xc4\\x81 and Tibetan Buddhism (e.g. 7,15,16)....The first style, FA meditation, entails voluntary focusing attention on a chosen object in a sustained fashion. The second style, OM meditation, involves non-reactively monitoring the content of experience from moment to moment, primarily as a means to recognize the nature of emotional and cognitive patterns</q></cite><span title=\"ctx_ver=Z39.88-2004&amp;rfr_id=info%3Asid%2Fpt.wikipedia.org%3AMedita%C3%A7%C3%A3o&amp;rft.atitle=Attention+regulation+and+monitoring+in+meditation&amp;rft.au=Davidson%2C+Richard+J.&amp;rft.au=Dunne%2C+John+D.&amp;rft.au=Slagter%2C+Heleen+A.&amp;rft.aufirst=Antoine&amp;rft.aulast=Lutz&amp;rft.date=2008-04&amp;rft.genre=article&amp;rft.issue=4&amp;rft.jtitle=Trends+in+Cognitive+Sciences&amp;rft.pages=163-169&amp;rft.volume=12&amp;rft_id=%2F%2Fwww.ncbi.nlm.nih.gov%2Fpmc%2Farticles%2FPMC2693206&amp;rft_id=%2F%2Fwww.ncbi.nlm.nih.gov%2Fpmc%2Farticles%2FPMC2693206&amp;rft_id=info%3Adoi%2F10.1016%2Fj.tics.2008.01.005&amp;rft_id=info%3Apmid%2F18329323&amp;rft_val_fmt=info%3Aofi%2Ffmt%3Akev%3Amtx%3Ajournal\" class=\"Z3988\"><span style=\"display:none;\">&#160;</span></span></span>\\n</li>\\n<li id=\"cite_note-20\"><span class=\"mw-cite-backlink\"><a href=\"#cite_ref-20\">\\xe2\\x86\\x91</a></span> <span class=\"reference-text\"><cite class=\"citation journal\"><a rel=\"nofollow\" class=\"external text\" href=\"https://nandan.com.br/o-que-e-meditacao/\">\\xc2\\xabO que \\xc3\\xa9 Medita\\xc3\\xa7\\xc3\\xa3o?\\xc2\\xbb</a>. <i>NANDAN</i>. 25 de julho de 2018</cite><span title=\"ctx_ver=Z39.88-2004&amp;rfr_id=info%3Asid%2Fpt.wikipedia.org%3AMedita%C3%A7%C3%A3o&amp;rft.atitle=O+que+%C3%A9+Medita%C3%A7%C3%A3o%3F&amp;rft.date=2018-07-25&amp;rft.genre=article&amp;rft.jtitle=NANDAN&amp;rft_id=https%3A%2F%2Fnandan.com.br%2Fo-que-e-meditacao%2F&amp;rft_val_fmt=info%3Aofi%2Ffmt%3Akev%3Amtx%3Ajournal\" class=\"Z3988\"><span style=\"display:none;\">&#160;</span></span></span>\\n</li>\\n<li id=\"cite_note-:0-21\"><span class=\"mw-cite-backlink\">\\xe2\\x86\\x91 <sup><i><b><a href=\"#cite_ref-:0_21-0\">a</a></b></i></sup> <sup><i><b><a href=\"#cite_ref-:0_21-1\">b</a></b></i></sup> <sup><i><b><a href=\"#cite_ref-:0_21-2\">c</a></b></i></sup> <sup><i><b><a href=\"#cite_ref-:0_21-3\">d</a></b></i></sup></span> <span class=\"reference-text\"><cite class=\"citation book\">Chinmoy, Sri (2008). <i>Medita\\xc3\\xa7\\xc3\\xa3o: a Perfei\\xc3\\xa7\\xc3\\xa3o-Homem na Satisfa\\xc3\\xa7\\xc3\\xa3o-Deus</i>. S\\xc3\\xa3o Paulo: Pensamento. 270&#160;p\\xc3\\xa1ginas. <a href=\"/wiki/International_Standard_Book_Number\" title=\"International Standard Book Number\">ISBN</a>&#160;<a href=\"/wiki/Especial:Fontes_de_livros/9788531515316\" title=\"Especial:Fontes de livros/9788531515316\">9788531515316</a></cite><span title=\"ctx_ver=Z39.88-2004&amp;rfr_id=info%3Asid%2Fpt.wikipedia.org%3AMedita%C3%A7%C3%A3o&amp;rft.aufirst=Sri&amp;rft.aulast=Chinmoy&amp;rft.btitle=Medita%C3%A7%C3%A3o%3A+a+Perfei%C3%A7%C3%A3o-Homem+na+Satisfa%C3%A7%C3%A3o-Deus&amp;rft.date=2008&amp;rft.genre=book&amp;rft.isbn=9788531515316&amp;rft.place=S%C3%A3o+Paulo&amp;rft.pub=Pensamento&amp;rft_val_fmt=info%3Aofi%2Ffmt%3Akev%3Amtx%3Abook\" class=\"Z3988\"><span style=\"display:none;\">&#160;</span></span> <span style=\"display:none;font-size:100%\" class=\"error citation-comment\"><code style=\"color:inherit; border:inherit; padding:inherit;\">&#124;acessodata=</code> requer <code style=\"color:inherit; border:inherit; padding:inherit;\">&#124;url=</code> (<a href=\"/wiki/Ajuda:Erros_nas_refer%C3%AAncias#accessdate_missing_url\" title=\"Ajuda:Erros nas refer\\xc3\\xaancias\">ajuda</a>)</span></span>\\n</li>\\n<li id=\"cite_note-22\"><span class=\"mw-cite-backlink\"><a href=\"#cite_ref-22\">\\xe2\\x86\\x91</a></span> <span class=\"reference-text\"><cite class=\"citation web\"><a rel=\"nofollow\" class=\"external text\" href=\"http://www.acessoaoinsight.net/meditacao.php\">\\xc2\\xabAcesso ao Insight - Budismo Theravada - meditacao\\xc2\\xbb</a>. <i>www.acessoaoinsight.net</i><span class=\"reference-accessdate\">. Consultado em 18 de junho de 2016</span></cite><span title=\"ctx_ver=Z39.88-2004&amp;rfr_id=info%3Asid%2Fpt.wikipedia.org%3AMedita%C3%A7%C3%A3o&amp;rft.atitle=Acesso+ao+Insight+-+Budismo+Theravada+-+meditacao&amp;rft.genre=unknown&amp;rft.jtitle=www.acessoaoinsight.net&amp;rft_id=http%3A%2F%2Fwww.acessoaoinsight.net%2Fmeditacao.php&amp;rft_val_fmt=info%3Aofi%2Ffmt%3Akev%3Amtx%3Ajournal\" class=\"Z3988\"><span style=\"display:none;\">&#160;</span></span></span>\\n</li>\\n<li id=\"cite_note-:1-23\"><span class=\"mw-cite-backlink\">\\xe2\\x86\\x91 <sup><i><b><a href=\"#cite_ref-:1_23-0\">a</a></b></i></sup> <sup><i><b><a href=\"#cite_ref-:1_23-1\">b</a></b></i></sup></span> <span class=\"reference-text\"><cite class=\"citation book\">Sri Chinmoy (2008). \\xc2\\xabOs Ramos da \\xc3\\x81rvore-Deus\\xc2\\xbb. <i>As Asas da Alegria</i>. S\\xc3\\xa3o Paulo: Pensamento. <a href=\"/wiki/International_Standard_Book_Number\" title=\"International Standard Book Number\">ISBN</a>&#160;<a href=\"/wiki/Especial:Fontes_de_livros/9788531515552\" title=\"Especial:Fontes de livros/9788531515552\">9788531515552</a></cite><span title=\"ctx_ver=Z39.88-2004&amp;rfr_id=info%3Asid%2Fpt.wikipedia.org%3AMedita%C3%A7%C3%A3o&amp;rft.atitle=Os+Ramos+da+%C3%81rvore-Deus&amp;rft.au=Sri+Chinmoy&amp;rft.btitle=As+Asas+da+Alegria&amp;rft.date=2008&amp;rft.genre=bookitem&amp;rft.isbn=9788531515552&amp;rft.place=S%C3%A3o+Paulo&amp;rft.pub=Pensamento&amp;rft_val_fmt=info%3Aofi%2Ffmt%3Akev%3Amtx%3Abook\" class=\"Z3988\"><span style=\"display:none;\">&#160;</span></span></span>\\n</li>\\n<li id=\"cite_note-24\"><span class=\"mw-cite-backlink\"><a href=\"#cite_ref-24\">\\xe2\\x86\\x91</a></span> <span class=\"reference-text\"><a rel=\"nofollow\" class=\"external text\" href=\"http://www.castroalves.br/drjair/meditacao_fundamentos_cientificos.pdf%20Jair%20de%20Oliveira%20Santos.%20MEDITA%C3%87%C3%83O:%20fundamentos%20cient%C3%ADficos.%20Salvador:%20Faculdade%20Castro%20Alves,%202010.%20(Apostila)\">Jair de Oliveira Santos. MEDITA\\xc3\\x87\\xc3\\x83O: fundamentos cient\\xc3\\xadficos. Salvador: Faculdade Castro Alves, 2010. (Apostila)</a> pdf</span>\\n</li>\\n<li id=\"cite_note-25\"><span class=\"mw-cite-backlink\"><a href=\"#cite_ref-25\">\\xe2\\x86\\x91</a></span> <span class=\"reference-text\"><cite class=\"citation web\"><a rel=\"nofollow\" class=\"external text\" href=\"http://www.acessoaoinsight.net/arquivo_textos_theravada/andando.php\">\\xc2\\xabAcesso ao Insight - Budismo Theravada - andando\\xc2\\xbb</a>. <i>www.acessoaoinsight.net</i><span class=\"reference-accessdate\">. Consultado em 18 de junho de 2016</span></cite><span title=\"ctx_ver=Z39.88-2004&amp;rfr_id=info%3Asid%2Fpt.wikipedia.org%3AMedita%C3%A7%C3%A3o&amp;rft.atitle=Acesso+ao+Insight+-+Budismo+Theravada+-+andando&amp;rft.genre=unknown&amp;rft.jtitle=www.acessoaoinsight.net&amp;rft_id=http%3A%2F%2Fwww.acessoaoinsight.net%2Farquivo_textos_theravada%2Fandando.php&amp;rft_val_fmt=info%3Aofi%2Ffmt%3Akev%3Amtx%3Ajournal\" class=\"Z3988\"><span style=\"display:none;\">&#160;</span></span></span>\\n</li>\\n<li id=\"cite_note-26\"><span class=\"mw-cite-backlink\"><a href=\"#cite_ref-26\">\\xe2\\x86\\x91</a></span> <span class=\"reference-text\"><cite class=\"citation journal\">Fishman, Aparajita (1984). <a rel=\"nofollow\" class=\"external text\" href=\"http://www.srichinmoy-reflections.com/a-truth-lived\">\\xc2\\xabA Truth Must be Lived\\xc2\\xbb</a>. <i>The Committee on the Study of Religion, Harvard College</i><span class=\"reference-accessdate\">. Consultado em 22 de mar\\xc3\\xa7o de 2018</span></cite><span title=\"ctx_ver=Z39.88-2004&amp;rfr_id=info%3Asid%2Fpt.wikipedia.org%3AMedita%C3%A7%C3%A3o&amp;rft.atitle=A+Truth+Must+be+Lived&amp;rft.aufirst=Aparajita&amp;rft.aulast=Fishman&amp;rft.date=1984&amp;rft.genre=article&amp;rft.jtitle=The+Committee+on+the+Study+of+Religion%2C+Harvard+College&amp;rft_id=http%3A%2F%2Fwww.srichinmoy-reflections.com%2Fa-truth-lived&amp;rft_val_fmt=info%3Aofi%2Ffmt%3Akev%3Amtx%3Ajournal\" class=\"Z3988\"><span style=\"display:none;\">&#160;</span></span></span>\\n</li>\\n<li id=\"cite_note-Harrington2015-27\"><span class=\"mw-cite-backlink\"><a href=\"#cite_ref-Harrington2015_27-0\">\\xe2\\x86\\x91</a></span> <span class=\"reference-text\"><cite class=\"citation journal\">Harrington A. Dunne JD. (outubro de 2015). <a rel=\"nofollow\" class=\"external text\" href=\"http://nrs.harvard.edu/urn-3:HUL.InstRepos:25757884\">\\xc2\\xabWhen mindfulness is therapy: Ethical qualms, historical perspectives\\xc2\\xbb</a>. <i>American Psychologist</i>. <b>70</b> (7): 621\\xe2\\x80\\x9331. <a href=\"/wiki/PubMed_Identifier\" class=\"mw-redirect\" title=\"PubMed Identifier\">PMID</a>&#160;<a rel=\"nofollow\" class=\"external text\" href=\"//www.ncbi.nlm.nih.gov/pubmed/26436312\">26436312</a>. <a href=\"/wiki/Digital_object_identifier\" title=\"Digital object identifier\">doi</a>:<a rel=\"nofollow\" class=\"external text\" href=\"https://dx.doi.org/10.1037%2Fa0039460\">10.1037/a0039460</a></cite><span title=\"ctx_ver=Z39.88-2004&amp;rfr_id=info%3Asid%2Fpt.wikipedia.org%3AMedita%C3%A7%C3%A3o&amp;rft.atitle=When+mindfulness+is+therapy%3A+Ethical+qualms%2C+historical+perspectives&amp;rft.au=Harrington+A.+Dunne+JD.&amp;rft.date=2015-10&amp;rft.genre=article&amp;rft.issue=7&amp;rft.jtitle=American+Psychologist&amp;rft.pages=621-31&amp;rft.volume=70&amp;rft_id=http%3A%2F%2Fnrs.harvard.edu%2Furn-3%3AHUL.InstRepos%3A25757884&amp;rft_id=info%3Adoi%2F10.1037%2Fa0039460&amp;rft_id=info%3Apmid%2F26436312&amp;rft_val_fmt=info%3Aofi%2Ffmt%3Akev%3Amtx%3Ajournal\" class=\"Z3988\"><span style=\"display:none;\">&#160;</span></span></span>\\n</li>\\n<li id=\"cite_note-Strauss-28\"><span class=\"mw-cite-backlink\"><a href=\"#cite_ref-Strauss_28-0\">\\xe2\\x86\\x91</a></span> <span class=\"reference-text\"><cite class=\"citation journal\">Strauss C, Cavanagh K, Oliver A, Pettman D (abril de 2014). <a rel=\"nofollow\" class=\"external text\" href=\"//www.ncbi.nlm.nih.gov/pmc/articles/PMC3999148\">\\xc2\\xabMindfulness-Based Interventions for People Diagnosed with a Current Episode of an Anxiety or Depressive Disorder: A Meta-Analysis of Randomised Controlled Trials\\xc2\\xbb</a>. <i>PLoS ONE</i>. <b>9</b> (4): e96110. <a href=\"/wiki/Bibcode\" title=\"Bibcode\">Bibcode</a>:<a rel=\"nofollow\" class=\"external text\" href=\"http://ui.adsabs.harvard.edu/abs/2014PLoSO...996110S\">2014PLoSO...996110S</a>. <a href=\"/wiki/PubMed_Central\" title=\"PubMed Central\">PMC</a>&#160;<span class=\"plainlinks\"><a rel=\"nofollow\" class=\"external text\" href=\"//www.ncbi.nlm.nih.gov/pmc/articles/PMC3999148\">3999148</a><span style=\"margin-left:0.1em\"><img alt=\"Acess\\xc3\\xadvel livremente\" src=\"//upload.wikimedia.org/wikipedia/commons/thumb/6/65/Lock-green.svg/9px-Lock-green.svg.png\" decoding=\"async\" title=\"Acess\\xc3\\xadvel livremente\" width=\"9\" height=\"14\" srcset=\"//upload.wikimedia.org/wikipedia/commons/thumb/6/65/Lock-green.svg/14px-Lock-green.svg.png 1.5x, //upload.wikimedia.org/wikipedia/commons/thumb/6/65/Lock-green.svg/18px-Lock-green.svg.png 2x\" data-file-width=\"512\" data-file-height=\"813\" /></span></span>. <a href=\"/wiki/PubMed_Identifier\" class=\"mw-redirect\" title=\"PubMed Identifier\">PMID</a>&#160;<a rel=\"nofollow\" class=\"external text\" href=\"//www.ncbi.nlm.nih.gov/pubmed/24763812\">24763812</a>. <a href=\"/wiki/Digital_object_identifier\" title=\"Digital object identifier\">doi</a>:<a rel=\"nofollow\" class=\"external text\" href=\"https://dx.doi.org/10.1371%2Fjournal.pone.0096110\">10.1371/journal.pone.0096110</a></cite><span title=\"ctx_ver=Z39.88-2004&amp;rfr_id=info%3Asid%2Fpt.wikipedia.org%3AMedita%C3%A7%C3%A3o&amp;rft.atitle=Mindfulness-Based+Interventions+for+People+Diagnosed+with+a+Current+Episode+of+an+Anxiety+or+Depressive+Disorder%3A+A+Meta-Analysis+of+Randomised+Controlled+Trials&amp;rft.au=Cavanagh%2C+K&amp;rft.au=Oliver%2C+A&amp;rft.au=Pettman%2C+D&amp;rft.aufirst=C&amp;rft.aulast=Strauss&amp;rft.date=2014-04&amp;rft.genre=article&amp;rft.issue=4&amp;rft.jtitle=PLoS+ONE&amp;rft.pages=e96110&amp;rft.volume=9&amp;rft_id=%2F%2Fwww.ncbi.nlm.nih.gov%2Fpmc%2Farticles%2FPMC3999148&amp;rft_id=%2F%2Fwww.ncbi.nlm.nih.gov%2Fpmc%2Farticles%2FPMC3999148&amp;rft_id=info%3Abibcode%2F2014PLoSO...996110S&amp;rft_id=info%3Adoi%2F10.1371%2Fjournal.pone.0096110&amp;rft_id=info%3Apmid%2F24763812&amp;rft_val_fmt=info%3Aofi%2Ffmt%3Akev%3Amtx%3Ajournal\" class=\"Z3988\"><span style=\"display:none;\">&#160;</span></span></span>\\n</li>\\n<li id=\"cite_note-Khoury2015-29\"><span class=\"mw-cite-backlink\"><a href=\"#cite_ref-Khoury2015_29-0\">\\xe2\\x86\\x91</a></span> <span class=\"reference-text\"><cite class=\"citation journal\">Khoury B, Sharma M, Rush SE, Fournier C (junho de 2015). \\xc2\\xabMindfulness-based stress reduction for healthy individuals: A meta-analysis\\xc2\\xbb. <i>J Psychosom Res</i>. <b>78</b> (6): 519\\xe2\\x80\\x93528. <a href=\"/wiki/PubMed_Identifier\" class=\"mw-redirect\" title=\"PubMed Identifier\">PMID</a>&#160;<a rel=\"nofollow\" class=\"external text\" href=\"//www.ncbi.nlm.nih.gov/pubmed/25818837\">25818837</a>. <a href=\"/wiki/Digital_object_identifier\" title=\"Digital object identifier\">doi</a>:<a rel=\"nofollow\" class=\"external text\" href=\"https://dx.doi.org/10.1016%2Fj.jpsychores.2015.03.009\">10.1016/j.jpsychores.2015.03.009</a></cite><span title=\"ctx_ver=Z39.88-2004&amp;rfr_id=info%3Asid%2Fpt.wikipedia.org%3AMedita%C3%A7%C3%A3o&amp;rft.atitle=Mindfulness-based+stress+reduction+for+healthy+individuals%3A+A+meta-analysis&amp;rft.au=Fournier%2C+C&amp;rft.au=Rush%2C+SE&amp;rft.au=Sharma%2C+M&amp;rft.aufirst=B&amp;rft.aulast=Khoury&amp;rft.date=2015-06&amp;rft.genre=article&amp;rft.issue=6&amp;rft.jtitle=J+Psychosom+Res&amp;rft.pages=519-528&amp;rft.volume=78&amp;rft_id=info%3Adoi%2F10.1016%2Fj.jpsychores.2015.03.009&amp;rft_id=info%3Apmid%2F25818837&amp;rft_val_fmt=info%3Aofi%2Ffmt%3Akev%3Amtx%3Ajournal\" class=\"Z3988\"><span style=\"display:none;\">&#160;</span></span></span>\\n</li>\\n<li id=\"cite_note-Chiesa-30\"><span class=\"mw-cite-backlink\"><a href=\"#cite_ref-Chiesa_30-0\">\\xe2\\x86\\x91</a></span> <span class=\"reference-text\"><cite class=\"citation journal\">Chiesa A (abril de 2014). \\xc2\\xabAre mindfulness-based interventions effective for substance use disorders? A systematic review of the evidence\\xc2\\xbb. <i>Subst Use Misuse</i>. <b>49</b> (5): 492\\xe2\\x80\\x93512. <a href=\"/wiki/PubMed_Identifier\" class=\"mw-redirect\" title=\"PubMed Identifier\">PMID</a>&#160;<a rel=\"nofollow\" class=\"external text\" href=\"//www.ncbi.nlm.nih.gov/pubmed/23461667\">23461667</a>. <a href=\"/wiki/Digital_object_identifier\" title=\"Digital object identifier\">doi</a>:<a rel=\"nofollow\" class=\"external text\" href=\"https://dx.doi.org/10.3109%2F10826084.2013.770027\">10.3109/10826084.2013.770027</a></cite><span title=\"ctx_ver=Z39.88-2004&amp;rfr_id=info%3Asid%2Fpt.wikipedia.org%3AMedita%C3%A7%C3%A3o&amp;rft.atitle=Are+mindfulness-based+interventions+effective+for+substance+use+disorders%3F+A+systematic+review+of+the+evidence&amp;rft.au=Chiesa+A&amp;rft.date=2014-04&amp;rft.genre=article&amp;rft.issue=5&amp;rft.jtitle=Subst+Use+Misuse&amp;rft.pages=492-512&amp;rft.volume=49&amp;rft_id=info%3Adoi%2F10.3109%2F10826084.2013.770027&amp;rft_id=info%3Apmid%2F23461667&amp;rft_val_fmt=info%3Aofi%2Ffmt%3Akev%3Amtx%3Ajournal\" class=\"Z3988\"><span style=\"display:none;\">&#160;</span></span></span>\\n</li>\\n</ol></div></div>\\n<div role=\"navigation\" class=\"navbox\" aria-labelledby=\"Controle_de_autoridade\" style=\"padding:3px\"><table class=\"nowraplinks hlist navbox-inner\" style=\"border-spacing:0;background:transparent;color:inherit\"><tbody><tr><th id=\"Controle_de_autoridade\" scope=\"row\" class=\"navbox-group\" style=\"width:1%;width: 12%; text-align:center;\"><a href=\"/wiki/Ajuda:Controle_de_autoridade\" title=\"Ajuda:Controle de autoridade\">Controle de autoridade</a></th><td class=\"navbox-list navbox-odd plainlinks\" style=\"text-align:left;border-left-width:2px;border-left-style:solid;width:100%;padding:0px\"><div style=\"padding:0em 0.25em\">\\n<ul><li><span style=\"white-space:nowrap;\"><a href=\"https://www.wikidata.org/wiki/Wikidata:Main_Page\" title=\"Wikidata\"><img alt=\"Wd\" src=\"//upload.wikimedia.org/wikipedia/commons/thumb/f/ff/Wikidata-logo.svg/20px-Wikidata-logo.svg.png\" decoding=\"async\" width=\"20\" height=\"11\" srcset=\"//upload.wikimedia.org/wikipedia/commons/thumb/f/ff/Wikidata-logo.svg/30px-Wikidata-logo.svg.png 1.5x, //upload.wikimedia.org/wikipedia/commons/thumb/f/ff/Wikidata-logo.svg/40px-Wikidata-logo.svg.png 2x\" data-file-width=\"1050\" data-file-height=\"590\" /></a>: <span class=\"uid\"><a href=\"https://www.wikidata.org/wiki/Q108458\" class=\"extiw\" title=\"wikidata:Q108458\">Q108458</a></span></span></li>\\n<li><span style=\"white-space:nowrap;\"><a href=\"/wiki/Art_%26_Architecture_Thesaurus\" class=\"mw-redirect\" title=\"Art &amp; Architecture Thesaurus\">AAT</a>: <span class=\"uid\"><span class=\"plainlinks\"><a rel=\"nofollow\" class=\"external text\" href=\"https://www.getty.edu/vow/AATFullDisplay?find=&amp;logic=AND&amp;note=&amp;subjectid=300264363\">300264363</a></span></span></span></li>\\n<li><span style=\"white-space:nowrap;\"><a href=\"/wiki/Biblioteca_Nacional_Central_de_Floren%C3%A7a\" title=\"Biblioteca Nacional Central de Floren\\xc3\\xa7a\">BNCF</a>: <span class=\"uid\"><span class=\"plainlinks\"><a rel=\"nofollow\" class=\"external text\" href=\"https://thes.bncf.firenze.sbn.it/termine.php?id=10940\">10940</a></span></span></span></li>\\n<li><span style=\"white-space:nowrap;\"><a href=\"/wiki/Biblioteca_Nacional_da_Fran%C3%A7a\" title=\"Biblioteca Nacional da Fran\\xc3\\xa7a\">BNF</a>: <span class=\"uid\"><span class=\"plainlinks\"><a rel=\"nofollow\" class=\"external text\" href=\"https://catalogue.bnf.fr/ark:/12148/cb119324707\">119324707</a></span></span></span></li>\\n<li><span style=\"white-space:nowrap;\"><a href=\"/wiki/Grande_Enciclop%C3%A9dia_Sovi%C3%A9tica\" title=\"Grande Enciclop\\xc3\\xa9dia Sovi\\xc3\\xa9tica\">BRE</a>: <span class=\"uid\"><span class=\"plainlinks\"><a rel=\"nofollow\" class=\"external text\" href=\"https://bigenc.ru/text/2197818\">2197818</a></span></span></span></li>\\n<li><span style=\"white-space:nowrap;\"><a href=\"/wiki/Encyclop%C3%A6dia_Britannica\" title=\"Encyclop\\xc3\\xa6dia Britannica\">EBID</a>: <span class=\"uid\"><span class=\"plainlinks\"><a rel=\"nofollow\" class=\"external text\" href=\"https://www.britannica.com/topic/meditation-mental-exercise\">ID</a></span></span></span></li>\\n<li><span style=\"white-space:nowrap;\"><a href=\"/wiki/Faceted_Application_of_Subject_Terminology\" title=\"Faceted Application of Subject Terminology\">FAST</a>: <span class=\"uid\"><span class=\"plainlinks\"><a rel=\"nofollow\" class=\"external text\" href=\"https://experimental.worldcat.org/fast/1015409/\">1015409</a></span></span></span></li>\\n<li><span style=\"white-space:nowrap;\"><a href=\"/wiki/Gran_Enciclop%C3%A8dia_Catalana\" title=\"Gran Enciclop\\xc3\\xa8dia Catalana\">GEC</a>: <span class=\"uid\"><span class=\"plainlinks\"><a rel=\"nofollow\" class=\"external text\" href=\"https://www.enciclopedia.cat/EC-GEC-0193585.xml\">0193585</a></span></span></span></li>\\n<li><span style=\"white-space:nowrap;\"><a href=\"/wiki/Gemeinsame_Normdatei\" title=\"Gemeinsame Normdatei\">GND</a>: <span class=\"uid\"><span class=\"plainlinks\"><a rel=\"nofollow\" class=\"external text\" href=\"https://d-nb.info/gnd/4038241-2\">4038241-2</a></span></span></span></li>\\n<li><span style=\"white-space:nowrap;\"><a href=\"/wiki/JSTOR\" title=\"JSTOR\">JSTOR</a>: <span class=\"uid\">meditation</span></span></li>\\n<li><span style=\"white-space:nowrap;\"><a href=\"/wiki/N%C3%BAmero_de_controle_da_Biblioteca_do_Congresso\" title=\"N\\xc3\\xbamero de controle da Biblioteca do Congresso\">LCCN</a>: <span class=\"uid\"><span class=\"plainlinks\"><a rel=\"nofollow\" class=\"external text\" href=\"https://id.loc.gov/authorities/sh85083210\">sh85083210</a></span></span></span></li>\\n<li><span style=\"white-space:nowrap;\"><a href=\"/wiki/Biblioteca_Nacional_da_Dieta\" title=\"Biblioteca Nacional da Dieta\">NDL</a>: <span class=\"uid\"><span class=\"plainlinks\"><a rel=\"nofollow\" class=\"external text\" href=\"https://id.ndl.go.jp/auth/ndlna/00577263\">00577263</a></span></span></span></li>\\n<li><span style=\"white-space:nowrap;\"><a href=\"/wiki/Biblioteca_t%C3%A9cnica_nacional_de_Praga\" class=\"mw-redirect\" title=\"Biblioteca t\\xc3\\xa9cnica nacional de Praga\">PSH</a>: <span class=\"uid\"><span class=\"plainlinks\"><a rel=\"nofollow\" class=\"external text\" href=\"https://psh.techlib.cz/skos/PSH9289\">9289</a></span></span></span></li></ul>\\n</div></td></tr></tbody></table></div><div role=\"navigation\" class=\"navbox\" aria-labelledby=\"Identificadores\" style=\"padding:3px\"><table class=\"nowraplinks hlist navbox-inner\" style=\"border-spacing:0;background:transparent;color:inherit\"><tbody><tr><th id=\"Identificadores\" scope=\"row\" class=\"navbox-group\" style=\"width:1%;width: 12%; text-align:center;\">Identificadores</th><td class=\"navbox-list navbox-odd plainlinks\" style=\"text-align:left;border-left-width:2px;border-left-style:solid;width:100%;padding:0px\"><div style=\"padding:0em 0.25em\">\\n<ul><li><span style=\"white-space:nowrap;\"><a href=\"/wiki/Medical_Subject_Headings\" title=\"Medical Subject Headings\">MeSH</a>: <span class=\"uid\"><span class=\"plainlinks\"><a rel=\"nofollow\" class=\"external text\" href=\"https://meshb.nlm.nih.gov/record/ui?ui=D019122\">D019122</a></span></span></span></li>\\n<li><span style=\"white-space:nowrap;\"><a href=\"/wiki/Medical_Subject_Headings\" title=\"Medical Subject Headings\">MeSH</a>: <span class=\"uid\"><span class=\"plainlinks\"><a rel=\"nofollow\" class=\"external text\" href=\"http://id.nlm.nih.gov/mesh/E02.190.525.374\">E02.190.525.374</a></span></span></span></li></ul>\\n</div></td></tr></tbody></table></div>\\n<div role=\"navigation\" class=\"navbox\" aria-labelledby=\"Religi\\xc3\\xa3o\" style=\"padding:3px\"><table class=\"nowraplinks hlist collapsible autocollapse navbox-inner\" style=\"border-spacing:0;background:transparent;color:inherit\"><tbody><tr><th scope=\"col\" class=\"navbox-title\" colspan=\"2\"><div class=\"plainlinks hlist navbar mini\"><ul><li class=\"nv-ver\"><a href=\"/wiki/Predefini%C3%A7%C3%A3o:Religi%C3%A3o\" title=\"Predefini\\xc3\\xa7\\xc3\\xa3o:Religi\\xc3\\xa3o\"><abbr title=\"Ver esta predefini\\xc3\\xa7\\xc3\\xa3o\" style=\";;background:none transparent;border:none;-moz-box-shadow:none;-webkit-box-shadow:none;box-shadow:none; padding:0;\">v</abbr></a></li><li class=\"nv-discutir\"><a href=\"/wiki/Predefini%C3%A7%C3%A3o_Discuss%C3%A3o:Religi%C3%A3o\" title=\"Predefini\\xc3\\xa7\\xc3\\xa3o Discuss\\xc3\\xa3o:Religi\\xc3\\xa3o\"><abbr title=\"Discutir esta predefini\\xc3\\xa7\\xc3\\xa3o\" style=\";;background:none transparent;border:none;-moz-box-shadow:none;-webkit-box-shadow:none;box-shadow:none; padding:0;\">d</abbr></a></li><li class=\"nv-editar\"><a class=\"external text\" href=\"https://pt.wikipedia.org/w/index.php?title=Predefini%C3%A7%C3%A3o:Religi%C3%A3o&amp;action=edit\"><abbr title=\"Editar esta predefini\\xc3\\xa7\\xc3\\xa3o\" style=\";;background:none transparent;border:none;-moz-box-shadow:none;-webkit-box-shadow:none;box-shadow:none; padding:0;\">e</abbr></a></li></ul></div><div id=\"Religi\\xc3\\xa3o\" style=\"font-size:114%;margin:0 4em\"><a href=\"/wiki/Religi%C3%A3o\" title=\"Religi\\xc3\\xa3o\">Religi\\xc3\\xa3o</a></div></th></tr><tr><th scope=\"row\" class=\"navbox-group\" style=\"width:1%\">Aspectos</th><td class=\"navbox-list navbox-odd\" style=\"text-align:left;border-left-width:2px;border-left-style:solid;width:100%;padding:0px\"><div style=\"padding:0em 0.25em\">\\n<ul><li><a href=\"/wiki/Adora%C3%A7%C3%A3o\" title=\"Adora\\xc3\\xa7\\xc3\\xa3o\">Adora\\xc3\\xa7\\xc3\\xa3o</a></li>\\n<li><a href=\"/wiki/Altar\" title=\"Altar\">Altar</a></li>\\n<li><a href=\"/wiki/Amuleto\" title=\"Amuleto\">Amuleto</a></li>\\n<li><a href=\"/wiki/Apostasia\" title=\"Apostasia\">Apostasia</a></li>\\n<li><a href=\"/wiki/Castigo_divino\" title=\"Castigo divino\">Castigo divino</a></li>\\n<li><a href=\"/wiki/Clero\" title=\"Clero\">Clero</a></li>\\n<li><a href=\"/wiki/Cren%C3%A7a_religiosa\" title=\"Cren\\xc3\\xa7a religiosa\">Cren\\xc3\\xa7as</a></li>\\n<li><a href=\"/wiki/Criacionismo\" title=\"Criacionismo\">Criacionismo</a></li>\\n<li><a href=\"/wiki/Convers%C3%A3o_(religi%C3%A3o)\" title=\"Convers\\xc3\\xa3o (religi\\xc3\\xa3o)\">Convers\\xc3\\xa3o</a></li>\\n<li><a href=\"/wiki/Culto_dos_mortos\" title=\"Culto dos mortos\">Culto dos mortos</a></li>\\n<li><a href=\"/wiki/Deidade\" title=\"Deidade\">Deidades</a></li>\\n<li><a href=\"/wiki/Deus\" title=\"Deus\">Deus</a></li>\\n<li><a href=\"/wiki/Devo%C3%A7%C3%A3o\" title=\"Devo\\xc3\\xa7\\xc3\\xa3o\">Devo\\xc3\\xa7\\xc3\\xa3o</a></li>\\n<li><a href=\"/wiki/Espiritualidade\" title=\"Espiritualidade\">Espiritualidade</a></li>\\n<li><a href=\"/wiki/Exegese\" title=\"Exegese\">Exegese</a></li>\\n<li><a href=\"/wiki/Feiti%C3%A7aria\" class=\"mw-redirect\" title=\"Feiti\\xc3\\xa7aria\">Feiti\\xc3\\xa7aria</a></li>\\n<li><a href=\"/wiki/Fetichismo_(religi%C3%A3o)\" title=\"Fetichismo (religi\\xc3\\xa3o)\">Fetiche</a></li>\\n<li><a href=\"/wiki/Heterodoxia\" title=\"Heterodoxia\">Heterodoxia</a></li>\\n<li><a href=\"/wiki/Messias\" title=\"Messias\">Messias</a></li>\\n<li><a href=\"/wiki/Misticismo\" title=\"Misticismo\">Misticismo</a></li>\\n<li><a href=\"/wiki/Mitologia\" title=\"Mitologia\">Mitologia</a></li>\\n<li><a href=\"/wiki/M%C3%BAsica_gospel\" title=\"M\\xc3\\xbasica gospel\">M\\xc3\\xbasica gospel</a></li>\\n<li><a href=\"/wiki/Religi%C3%A3o_OVNI\" title=\"Religi\\xc3\\xa3o OVNI\">Religi\\xc3\\xa3o OVNI</a></li>\\n<li><a href=\"/wiki/Ordena%C3%A7%C3%A3o_religiosa\" class=\"mw-redirect\" title=\"Ordena\\xc3\\xa7\\xc3\\xa3o religiosa\">Ordena\\xc3\\xa7\\xc3\\xa3o</a></li>\\n<li><a href=\"/wiki/Ortodoxia\" title=\"Ortodoxia\">Ortodoxia</a></li>\\n<li><a href=\"/wiki/Ortopraxia\" title=\"Ortopraxia\">Ortopraxia</a></li>\\n<li><a href=\"/wiki/Ora%C3%A7%C3%A3o\" title=\"Ora\\xc3\\xa7\\xc3\\xa3o\">Ora\\xc3\\xa7\\xc3\\xa3o</a></li>\\n<li><a href=\"/wiki/Pacto_com_o_diabo\" title=\"Pacto com o diabo\">Pacto com o diabo</a></li>\\n<li><a href=\"/wiki/Paganismo\" title=\"Paganismo\">Paganismo</a></li>\\n<li><a href=\"/wiki/Para%C3%ADso_(religi%C3%A3o)\" class=\"mw-redirect\" title=\"Para\\xc3\\xadso (religi\\xc3\\xa3o)\">Para\\xc3\\xadso</a></li>\\n<li><a href=\"/wiki/Pluralismo_religioso\" title=\"Pluralismo religioso\">Pluralismo religioso</a></li>\\n<li><a href=\"/wiki/P%C3%B3s-morte\" class=\"mw-redirect\" title=\"P\\xc3\\xb3s-morte\">P\\xc3\\xb3s-morte</a></li>\\n<li><a href=\"/wiki/Reencarna%C3%A7%C3%A3o\" title=\"Reencarna\\xc3\\xa7\\xc3\\xa3o\">Reencarna\\xc3\\xa7\\xc3\\xa3o</a></li>\\n<li><a href=\"/wiki/Ressurrei%C3%A7%C3%A3o\" title=\"Ressurrei\\xc3\\xa7\\xc3\\xa3o\">Ressurrei\\xc3\\xa7\\xc3\\xa3o</a></li>\\n<li><a href=\"/wiki/Ritual\" title=\"Ritual\">Ritual</a>\\n<ul><li><a href=\"/wiki/Liturgia\" title=\"Liturgia\">liturgia</a></li>\\n<li><a href=\"/wiki/Sacrif%C3%ADcio\" title=\"Sacrif\\xc3\\xadcio\">sacrif\\xc3\\xadcio</a></li></ul></li>\\n<li><a href=\"/wiki/Sincretismo\" title=\"Sincretismo\">Sincretismo</a></li>\\n<li><a href=\"/wiki/Sobrenatural\" title=\"Sobrenatural\">Sobrenatural</a></li>\\n<li><a href=\"/wiki/Simbolismo_religioso\" title=\"Simbolismo religioso\">S\\xc3\\xadmbolos</a></li>\\n<li><a href=\"/wiki/Totem\" title=\"Totem\">Totem</a></li>\\n<li><a href=\"/wiki/Verdade_(religi%C3%A3o)\" title=\"Verdade (religi\\xc3\\xa3o)\">Verdade</a></li>\\n<li><a href=\"/wiki/Xamanismo\" title=\"Xamanismo\">Xamanismo</a></li></ul>\\n</div></td></tr><tr><th scope=\"row\" class=\"navbox-group\" style=\"width:1%\">Religi\\xc3\\xa3o e<br /> sociedade</th><td class=\"navbox-list navbox-odd\" style=\"text-align:left;border-left-width:2px;border-left-style:solid;width:100%;padding:0px\"><div style=\"padding:0em 0.25em\"></div><table class=\"nowraplinks navbox-subgroup\" style=\"border-spacing:0\"><tbody><tr><th scope=\"row\" class=\"navbox-group\" style=\"width:1%;width:120px\">Conceitos</th><td class=\"navbox-list navbox-even\" style=\"text-align:left;border-left-width:2px;border-left-style:solid;width:100%;padding:0px\"><div style=\"padding:0em 0.25em\">\\n<ul><li><a href=\"/wiki/Clero\" title=\"Clero\">Clero</a>\\n<ul><li><a href=\"/wiki/Monasticismo\" title=\"Monasticismo\">Monasticismo</a></li>\\n<li><a href=\"/wiki/Ordena%C3%A7%C3%A3o_religiosa\" class=\"mw-redirect\" title=\"Ordena\\xc3\\xa7\\xc3\\xa3o religiosa\">Ordena\\xc3\\xa7\\xc3\\xa3o</a></li>\\n<li><a href=\"/wiki/Evangelismo\" class=\"mw-redirect\" title=\"Evangelismo\">Evangelismo</a></li>\\n<li><a href=\"/wiki/Mission%C3%A1rio\" class=\"mw-redirect\" title=\"Mission\\xc3\\xa1rio\">Mission\\xc3\\xa1rio</a></li>\\n<li><a href=\"/wiki/Proselitismo\" title=\"Proselitismo\">Proselitismo</a></li></ul></li>\\n<li><a href=\"/wiki/Educa%C3%A7%C3%A3o_religiosa\" title=\"Educa\\xc3\\xa7\\xc3\\xa3o religiosa\">Educa\\xc3\\xa7\\xc3\\xa3o</a></li>\\n<li><a href=\"/wiki/Fanatismo_religioso\" title=\"Fanatismo religioso\">Fanatismo</a></li>\\n<li><a href=\"/wiki/Liberdade_religiosa\" title=\"Liberdade religiosa\">Liberdade</a>\\n<ul><li><a href=\"/wiki/Pluralismo_religioso\" title=\"Pluralismo religioso\">Pluralismo</a></li>\\n<li><a href=\"/wiki/Sincretismo\" title=\"Sincretismo\">Sincretismo</a></li>\\n<li><a href=\"/wiki/Intoler%C3%A2ncia_religiosa\" title=\"Intoler\\xc3\\xa2ncia religiosa\">Intoler\\xc3\\xa2ncia</a></li>\\n<li><a href=\"/wiki/Universalismo\" title=\"Universalismo\">Universalismo</a></li></ul></li>\\n<li><a href=\"/wiki/Fundamentalismo\" title=\"Fundamentalismo\">Fundamentalismo</a></li>\\n<li><a href=\"/wiki/Homossexualidade_e_religi%C3%A3o\" title=\"Homossexualidade e religi\\xc3\\xa3o\">Homossexualidade</a></li>\\n<li>Feminismo\\n<ul><li><a href=\"/wiki/Feminismo_judaico\" title=\"Feminismo judaico\">Feminismo judaico</a></li>\\n<li><a href=\"/wiki/Feminismo_crist%C3%A3o\" title=\"Feminismo crist\\xc3\\xa3o\">Feminismo crist\\xc3\\xa3o</a></li>\\n<li><a href=\"/wiki/Feminismo_isl%C3%A2mico\" title=\"Feminismo isl\\xc3\\xa2mico\">Feminismo isl\\xc3\\xa2mico</a></li>\\n<li><i><a href=\"/wiki/Reclaiming\" title=\"Reclaiming\">Reclaiming</a></i></li></ul></li>\\n<li><a href=\"/wiki/Movimento_religioso\" title=\"Movimento religioso\">Movimento religioso</a></li>\\n<li><a href=\"/wiki/Cisma\" title=\"Cisma\">Cisma</a></li>\\n<li><a href=\"/wiki/Rela%C3%A7%C3%A3o_entre_religi%C3%A3o_e_ci%C3%AAncia\" title=\"Rela\\xc3\\xa7\\xc3\\xa3o entre religi\\xc3\\xa3o e ci\\xc3\\xaancia\">Ci\\xc3\\xaancia</a></li>\\n<li><a href=\"/wiki/Estado_confessional\" title=\"Estado confessional\">Estado</a></li>\\n<li><a href=\"/wiki/Teocracia\" title=\"Teocracia\">Teocracia</a></li>\\n<li><a href=\"/wiki/Guerra_santa\" title=\"Guerra santa\">Guerra</a></li>\\n<li><a href=\"/wiki/Religi%C3%A3o_%C3%A9tnica\" title=\"Religi\\xc3\\xa3o \\xc3\\xa9tnica\">Religi\\xc3\\xa3o \\xc3\\xa9tnica</a></li>\\n<li><a href=\"/wiki/Religi%C3%A3o_folcl%C3%B3rica\" class=\"mw-redirect\" title=\"Religi\\xc3\\xa3o folcl\\xc3\\xb3rica\">Religi\\xc3\\xa3o folcl\\xc3\\xb3rica</a></li></ul>\\n</div></td></tr><tr><th scope=\"row\" class=\"navbox-group\" style=\"width:1%;width:120px\">Pol\\xc3\\xadtica e religi\\xc3\\xa3o</th><td class=\"navbox-list navbox-odd\" style=\"text-align:left;border-left-width:2px;border-left-style:solid;width:100%;padding:0px\"><div style=\"padding:0em 0.25em\">\\n<ul><li><a href=\"/wiki/Secularismo\" title=\"Secularismo\">Secularismo</a></li>\\n<li><a href=\"/wiki/Laicismo\" title=\"Laicismo\">Laicismo</a></li>\\n<li><a href=\"/wiki/Antirreligi%C3%A3o\" title=\"Antirreligi\\xc3\\xa3o\">Antirreligi\\xc3\\xa3o</a></li>\\n<li><a href=\"/wiki/De%C3%ADsmo\" title=\"De\\xc3\\xadsmo\">De\\xc3\\xadsmo</a></li>\\n<li><a href=\"/wiki/Agnosticismo\" title=\"Agnosticismo\">Agnosticismo</a></li>\\n<li><a href=\"/wiki/Ate%C3%ADsmo\" title=\"Ate\\xc3\\xadsmo\">Ate\\xc3\\xadsmo</a></li>\\n<li><a href=\"/wiki/Cr%C3%ADtica_da_religi%C3%A3o\" class=\"mw-redirect\" title=\"Cr\\xc3\\xadtica da religi\\xc3\\xa3o\">Cr\\xc3\\xadtica da religi\\xc3\\xa3o</a></li>\\n<li><a href=\"/wiki/Estado_ateu\" class=\"mw-redirect\" title=\"Estado ateu\">Estado ateu</a></li>\\n<li><a href=\"/wiki/Satanismo_LaVey\" title=\"Satanismo LaVey\">Satanismo LaVey</a></li>\\n<li><a href=\"/wiki/Desconstru%C3%A7%C3%A3o_e_religi%C3%A3o\" title=\"Desconstru\\xc3\\xa7\\xc3\\xa3o e religi\\xc3\\xa3o\">Desconstru\\xc3\\xa7\\xc3\\xa3o</a></li>\\n<li><a href=\"/wiki/Juda%C3%ADsmo_human%C3%ADstico\" title=\"Juda\\xc3\\xadsmo human\\xc3\\xadstico\">Juda\\xc3\\xadsmo human\\xc3\\xadstico</a></li>\\n<li><a href=\"/wiki/Irreligi%C3%A3o\" title=\"Irreligi\\xc3\\xa3o\">Irreligi\\xc3\\xa3o</a></li>\\n<li><a href=\"/wiki/Pastafarianismo\" title=\"Pastafarianismo\">Pastafarianismo</a></li>\\n<li><a href=\"/wiki/Discordianismo\" title=\"Discordianismo\">Discordianismo</a></li>\\n<li><a href=\"/wiki/Humanismo_secular\" title=\"Humanismo secular\">Humanismo secular</a></li>\\n<li><a href=\"/wiki/Seculariza%C3%A7%C3%A3o\" title=\"Seculariza\\xc3\\xa7\\xc3\\xa3o\">Seculariza\\xc3\\xa7\\xc3\\xa3o</a></li>\\n<li><a href=\"/wiki/Separa%C3%A7%C3%A3o_Igreja-Estado\" title=\"Separa\\xc3\\xa7\\xc3\\xa3o Igreja-Estado\">Separa\\xc3\\xa7\\xc3\\xa3o Igreja-Estado</a></li>\\n<li><a href=\"/wiki/Feminismo_ate%C3%ADsta\" title=\"Feminismo ate\\xc3\\xadsta\">Feminismo ate\\xc3\\xadsta</a></li></ul>\\n</div></td></tr><tr><th scope=\"row\" class=\"navbox-group\" style=\"width:1%;width:120px\">Mito e ritual</th><td class=\"navbox-list navbox-even\" style=\"text-align:left;border-left-width:2px;border-left-style:solid;width:100%;padding:0px\"><div style=\"padding:0em 0.25em\">\\n<ul><li><a href=\"/wiki/Culto_dos_ancestrais\" class=\"mw-redirect\" title=\"Culto dos ancestrais\">Culto dos ancestrais</a></li>\\n<li><i><a href=\"/wiki/Ethos\" title=\"Ethos\">Ethos</a></i></li>\\n<li><a href=\"/wiki/Folclore\" title=\"Folclore\">Folclore</a></li>\\n<li><a href=\"/wiki/Mitologia\" title=\"Mitologia\">Mitologia</a></li>\\n<li><a href=\"/wiki/Ortopraxia\" title=\"Ortopraxia\">Ortopraxia</a></li>\\n<li><a href=\"/wiki/Ritual\" title=\"Ritual\">Ritual</a></li>\\n<li><a href=\"/wiki/Sacrif%C3%ADcio\" title=\"Sacrif\\xc3\\xadcio\">Sacrif\\xc3\\xadcio</a>\\n<ul><li><a href=\"/wiki/Sacrif%C3%ADcio_animal\" title=\"Sacrif\\xc3\\xadcio animal\">Animal</a></li>\\n<li><a href=\"/wiki/Sacrif%C3%ADcio_humano\" title=\"Sacrif\\xc3\\xadcio humano\">Humano</a></li></ul></li>\\n<li><a href=\"/wiki/Magia\" title=\"Magia\">Feiti\\xc3\\xa7aria</a></li>\\n<li><a href=\"/wiki/Tradi%C3%A7%C3%A3o\" title=\"Tradi\\xc3\\xa7\\xc3\\xa3o\">Tradi\\xc3\\xa7\\xc3\\xa3o</a></li>\\n<li><a href=\"/wiki/Virtude\" title=\"Virtude\">Virtude</a></li>\\n<li><a href=\"/wiki/Bruxaria\" title=\"Bruxaria\">Bruxaria</a></li></ul>\\n</div></td></tr></tbody></table><div></div></td></tr><tr><th scope=\"row\" class=\"navbox-group\" style=\"width:1%\"><a href=\"/wiki/Categoria:Listas_de_religi%C3%A3o\" title=\"Categoria:Listas de religi\\xc3\\xa3o\">Listas</a></th><td class=\"navbox-list navbox-odd\" style=\"text-align:left;border-left-width:2px;border-left-style:solid;width:100%;padding:0px\"><div style=\"padding:0em 0.25em\">\\n<ul><li><a href=\"/wiki/Lista_de_religi%C3%B5es_e_tradi%C3%A7%C3%B5es_espirituais\" title=\"Lista de religi\\xc3\\xb5es e tradi\\xc3\\xa7\\xc3\\xb5es espirituais\">Religi\\xc3\\xb5es e tradi\\xc3\\xa7\\xc3\\xb5es espirituais</a></li>\\n<li><a href=\"/wiki/Demografia_das_popula%C3%A7%C3%B5es_por_religi%C3%A3o\" title=\"Demografia das popula\\xc3\\xa7\\xc3\\xb5es por religi\\xc3\\xa3o\">Popula\\xc3\\xa7\\xc3\\xb5es</a></li>\\n<li><a href=\"/wiki/Lista_de_pa%C3%ADses_por_principais_grupos_religiosos\" title=\"Lista de pa\\xc3\\xadses por principais grupos religiosos\">Religi\\xc3\\xa3o por pa\\xc3\\xads</a></li>\\n<li><a href=\"/wiki/Lista_de_fundadores_de_tradi%C3%A7%C3%B5es_religiosas\" title=\"Lista de fundadores de tradi\\xc3\\xa7\\xc3\\xb5es religiosas\">Fundadores</a></li></ul>\\n</div></td></tr></tbody></table></div>\\n<ul class=\"noprint\" style=\"border-top: solid silver 1px; border-bottom:1px solid silver; padding:3px; background-color: #F9F9F9; text-align: center; margin-top:10px; margin-left: 0; clear: both;\"><li style=\"display: inline;\"><span style=\"white-space: nowrap; margin: auto 1.5em\"><span style=\"margin-right: 0.5em\"><a href=\"/wiki/Ficheiro:EndlessKnot03d.png\" title=\"Portal da espiritualidade\"><img alt=\"\" src=\"//upload.wikimedia.org/wikipedia/commons/thumb/1/14/EndlessKnot03d.png/25px-EndlessKnot03d.png\" decoding=\"async\" width=\"25\" height=\"30\" srcset=\"//upload.wikimedia.org/wikipedia/commons/thumb/1/14/EndlessKnot03d.png/37px-EndlessKnot03d.png 1.5x, //upload.wikimedia.org/wikipedia/commons/thumb/1/14/EndlessKnot03d.png/49px-EndlessKnot03d.png 2x\" data-file-width=\"378\" data-file-height=\"459\" /></a></span> <span style=\"font-weight:bold\"><a href=\"/wiki/Portal:Espiritualidade\" title=\"Portal:Espiritualidade\">Portal da espiritualidade</a></span></span></li> <li style=\"display: inline;\"><span style=\"white-space: nowrap; margin: auto 1.5em\"><span style=\"margin-right: 0.5em\"><a href=\"/wiki/Ficheiro:P_religion_world.svg\" title=\"Portal da religi\\xc3\\xa3o\"><img alt=\"\" src=\"//upload.wikimedia.org/wikipedia/commons/thumb/2/28/P_religion_world.svg/25px-P_religion_world.svg.png\" decoding=\"async\" width=\"25\" height=\"23\" srcset=\"//upload.wikimedia.org/wikipedia/commons/thumb/2/28/P_religion_world.svg/38px-P_religion_world.svg.png 1.5x, //upload.wikimedia.org/wikipedia/commons/thumb/2/28/P_religion_world.svg/50px-P_religion_world.svg.png 2x\" data-file-width=\"400\" data-file-height=\"360\" /></a></span> <span style=\"font-weight:bold\"><a href=\"/wiki/Portal:Religi%C3%A3o\" title=\"Portal:Religi\\xc3\\xa3o\">Portal da religi\\xc3\\xa3o</a></span></span></li> <li style=\"display: inline;\"><span style=\"white-space: nowrap; margin: auto 1.5em\"><span style=\"margin-right: 0.5em\"><a href=\"/wiki/Ficheiro:Gatunek_leczniczy_darkgreen_on_102_255_0_6C_transparent.svg\" title=\"Portal da sa\\xc3\\xbade\"><img alt=\"\" src=\"//upload.wikimedia.org/wikipedia/commons/thumb/9/9e/Gatunek_leczniczy_darkgreen_on_102_255_0_6C_transparent.svg/25px-Gatunek_leczniczy_darkgreen_on_102_255_0_6C_transparent.svg.png\" decoding=\"async\" width=\"25\" height=\"25\" srcset=\"//upload.wikimedia.org/wikipedia/commons/thumb/9/9e/Gatunek_leczniczy_darkgreen_on_102_255_0_6C_transparent.svg/38px-Gatunek_leczniczy_darkgreen_on_102_255_0_6C_transparent.svg.png 1.5x, //upload.wikimedia.org/wikipedia/commons/thumb/9/9e/Gatunek_leczniczy_darkgreen_on_102_255_0_6C_transparent.svg/50px-Gatunek_leczniczy_darkgreen_on_102_255_0_6C_transparent.svg.png 2x\" data-file-width=\"30\" data-file-height=\"30\" /></a></span> <span style=\"font-weight:bold\"><a href=\"/wiki/Portal:Sa%C3%BAde\" title=\"Portal:Sa\\xc3\\xbade\">Portal da sa\\xc3\\xbade</a></span></span></li>       </ul>\\n<!-- \\nNewPP limit report\\nParsed by mw1352\\nCached time: 20211002221642\\nCache expiry: 1814400\\nReduced expiry: false\\nComplications: []\\nCPU time usage: 0.709 seconds\\nReal time usage: 0.832 seconds\\nPreprocessor visited node count: 3948/1000000\\nPost\\xe2\\x80\\x90expand include size: 80900/2097152 bytes\\nTemplate argument size: 820/2097152 bytes\\nHighest expansion depth: 10/40\\nExpensive parser function count: 14/500\\nUnstrip recursion depth: 0/20\\nUnstrip post\\xe2\\x80\\x90expand size: 34896/5000000 bytes\\nLua time usage: 0.405/10.000 seconds\\nLua memory usage: 9060843/52428800 bytes\\nNumber of Wikibase entities loaded: 0/400\\n-->\\n<!--\\nTransclusion expansion time report (%,ms,calls,template)\\n100.00%  689.094      1 -total\\n 55.88%  385.088      1 Predefini\\xc3\\xa7\\xc3\\xa3o:Controle_de_autoridade\\n 22.85%  157.435      1 Predefini\\xc3\\xa7\\xc3\\xa3o:Refer\\xc3\\xaancias\\n 10.07%   69.383      1 Predefini\\xc3\\xa7\\xc3\\xa3o:Portal3\\n  9.38%   64.669      3 Predefini\\xc3\\xa7\\xc3\\xa3o:Portal3/Portais\\n  8.47%   58.336      6 Predefini\\xc3\\xa7\\xc3\\xa3o:Citar_web\\n  5.29%   36.479      9 Predefini\\xc3\\xa7\\xc3\\xa3o:Citar_peri\\xc3\\xb3dico\\n  3.53%   24.359      1 Predefini\\xc3\\xa7\\xc3\\xa3o:Commonscat\\n  3.05%   20.999      2 Predefini\\xc3\\xa7\\xc3\\xa3o:Se_vazio\\n  2.81%   19.374      2 Predefini\\xc3\\xa7\\xc3\\xa3o:Navbox\\n-->\\n\\n<!-- Saved in parser cache with key ptwiki:pcache:idhash:5648-0!canonical and timestamp 20211002221641 and revision id 61923438. Serialized with JSON.\\n -->\\n</div><noscript><img src=\"//pt.wikipedia.org/wiki/Special:CentralAutoLogin/start?type=1x1\" alt=\"\" title=\"\" width=\"1\" height=\"1\" style=\"border: none; position: absolute;\" /></noscript>\\n<div class=\"printfooter\">Obtida de \"<a dir=\"ltr\" href=\"https://pt.wikipedia.org/w/index.php?title=Medita\\xc3\\xa7\\xc3\\xa3o&amp;oldid=61923438\">https://pt.wikipedia.org/w/index.php?title=Medita\\xc3\\xa7\\xc3\\xa3o&amp;oldid=61923438</a>\"</div></div>\\n\\t\\t<div id=\"catlinks\" class=\"catlinks\" data-mw=\"interface\"><div id=\"mw-normal-catlinks\" class=\"mw-normal-catlinks\"><a href=\"/wiki/Especial:Categorias\" title=\"Especial:Categorias\">Categorias</a>: <ul><li><a href=\"/wiki/Categoria:Pr%C3%A1ticas_religiosas\" title=\"Categoria:Pr\\xc3\\xa1ticas religiosas\">Pr\\xc3\\xa1ticas religiosas</a></li><li><a href=\"/wiki/Categoria:Medita%C3%A7%C3%A3o\" title=\"Categoria:Medita\\xc3\\xa7\\xc3\\xa3o\">Medita\\xc3\\xa7\\xc3\\xa3o</a></li><li><a href=\"/wiki/Categoria:Religi%C3%A3o\" title=\"Categoria:Religi\\xc3\\xa3o\">Religi\\xc3\\xa3o</a></li></ul></div><div id=\"mw-hidden-catlinks\" class=\"mw-hidden-catlinks mw-hidden-cats-hidden\">Categorias ocultas: <ul><li><a href=\"/wiki/Categoria:!P%C3%A1ginas_com_erros_CS1:_datas\" title=\"Categoria:!P\\xc3\\xa1ginas com erros CS1: datas\">!P\\xc3\\xa1ginas com erros CS1: datas</a></li><li><a href=\"/wiki/Categoria:!Predefini%C3%A7%C3%A3o_Webarchive_wayback_links\" title=\"Categoria:!Predefini\\xc3\\xa7\\xc3\\xa3o Webarchive wayback links\">!Predefini\\xc3\\xa7\\xc3\\xa3o Webarchive wayback links</a></li><li><a href=\"/wiki/Categoria:!Avisos_na_predefini%C3%A7%C3%A3o_Webarchive\" title=\"Categoria:!Avisos na predefini\\xc3\\xa7\\xc3\\xa3o Webarchive\">!Avisos na predefini\\xc3\\xa7\\xc3\\xa3o Webarchive</a></li><li><a href=\"/wiki/Categoria:!P%C3%A1ginas_com_refer%C3%AAncias_sem_URL_e_com_acessodata\" title=\"Categoria:!P\\xc3\\xa1ginas com refer\\xc3\\xaancias sem URL e com acessodata\">!P\\xc3\\xa1ginas com refer\\xc3\\xaancias sem URL e com acessodata</a></li><li><a href=\"/wiki/Categoria:!P%C3%A1ginas_que_usam_hiperliga%C3%A7%C3%B5es_m%C3%A1gicas_ISBN\" title=\"Categoria:!P\\xc3\\xa1ginas que usam hiperliga\\xc3\\xa7\\xc3\\xb5es m\\xc3\\xa1gicas ISBN\">!P\\xc3\\xa1ginas que usam hiperliga\\xc3\\xa7\\xc3\\xb5es m\\xc3\\xa1gicas ISBN</a></li></ul></div></div>\\n\\t</div>\\n\\n\\n</main>\\n<div id=\\'mw-data-after-content\\'>\\n\\t<div class=\"read-more-container\"></div>\\n</div>\\n\\n\\t</div> \\n</div> \\n\\n<div class=\"mw-workspace-container mw-footer-container\">\\n\\t<div class=\"mw-content-container\">\\n\\t\\t<footer id=\"footer\" class=\"mw-footer\" role=\"contentinfo\" >\\n\\t<ul id=\"footer-info\" >\\n\\t<li id=\"footer-info-lastmod\"> Esta p\\xc3\\xa1gina foi editada pela \\xc3\\xbaltima vez \\xc3\\xa0s 22h35min de 26 de agosto de 2021.</li>\\n\\t<li id=\"footer-info-copyright\">Este texto \\xc3\\xa9 disponibilizado nos termos da licen\\xc3\\xa7a <a href=\"https://creativecommons.org/licenses/by-sa/3.0/deed.pt\">Atribui\\xc3\\xa7\\xc3\\xa3o-CompartilhaIgual 3.0 N\\xc3\\xa3o Adaptada (CC BY-SA 3.0) da Creative Commons</a>;\\npode estar sujeito a condi\\xc3\\xa7\\xc3\\xb5es adicionais.\\nPara mais detalhes, consulte as <a href=\"https://foundation.wikimedia.org/wiki/Condi\\xc3\\xa7\\xc3\\xb5es_de_Uso\">condi\\xc3\\xa7\\xc3\\xb5es de utiliza\\xc3\\xa7\\xc3\\xa3o</a>.</li>\\n</ul>\\n\\n\\t<ul id=\"footer-places\" >\\n\\t<li id=\"footer-places-privacy\"><a href=\"https://meta.wikimedia.org/wiki/Privacy_policy/pt-br\" class=\"extiw\" title=\"m:Privacy policy/pt-br\">Pol\\xc3\\xadtica de privacidade</a></li>\\n\\t<li id=\"footer-places-about\"><a href=\"/wiki/Wikip%C3%A9dia:Sobre\" class=\"mw-redirect\" title=\"Wikip\\xc3\\xa9dia:Sobre\">Sobre a Wikip\\xc3\\xa9dia</a></li>\\n\\t<li id=\"footer-places-disclaimer\"><a href=\"/wiki/Wikip%C3%A9dia:Aviso_geral\" title=\"Wikip\\xc3\\xa9dia:Aviso geral\">Avisos gerais</a></li>\\n\\t<li id=\"footer-places-mobileview\"><a href=\"//pt.m.wikipedia.org/w/index.php?title=Medita%C3%A7%C3%A3o&amp;mobileaction=toggle_view_mobile\" class=\"noprint stopMobileRedirectToggle\">Vers\\xc3\\xa3o m\\xc3\\xb3vel</a></li>\\n\\t<li id=\"footer-places-developers\"><a href=\"https://www.mediawiki.org/wiki/Special:MyLanguage/How_to_contribute\">Programadores</a></li>\\n\\t<li id=\"footer-places-statslink\"><a href=\"https://stats.wikimedia.org/#/pt.wikipedia.org\">Estat\\xc3\\xadsticas</a></li>\\n\\t<li id=\"footer-places-cookiestatement\"><a href=\"https://foundation.wikimedia.org/wiki/Cookie_statement\">Declara\\xc3\\xa7\\xc3\\xa3o sobre \\'\\'cookies\\'\\'</a></li>\\n</ul>\\n\\n\\t<ul id=\"footer-icons\" class=\"noprint\">\\n\\t<li id=\"footer-copyrightico\"><a href=\"https://wikimediafoundation.org/\"><img src=\"/static/images/footer/wikimedia-button.png\" srcset=\"/static/images/footer/wikimedia-button-1.5x.png 1.5x, /static/images/footer/wikimedia-button-2x.png 2x\" width=\"88\" height=\"31\" alt=\"Wikimedia Foundation\" loading=\"lazy\" /></a></li>\\n\\t<li id=\"footer-poweredbyico\"><a href=\"https://www.mediawiki.org/\"><img src=\"/static/images/footer/poweredby_mediawiki_88x31.png\" alt=\"Powered by MediaWiki\" srcset=\"/static/images/footer/poweredby_mediawiki_132x47.png 1.5x, /static/images/footer/poweredby_mediawiki_176x62.png 2x\" width=\"88\" height=\"31\" loading=\"lazy\"/></a></li>\\n</ul>\\n\\n</footer>\\n\\n\\t</div>\\n</div>\\n\\t</div> \\n</div> \\n\\n<script>(RLQ=window.RLQ||[]).push(function(){mw.config.set({\"wgPageParseReport\":{\"limitreport\":{\"cputime\":\"0.709\",\"walltime\":\"0.832\",\"ppvisitednodes\":{\"value\":3948,\"limit\":1000000},\"postexpandincludesize\":{\"value\":80900,\"limit\":2097152},\"templateargumentsize\":{\"value\":820,\"limit\":2097152},\"expansiondepth\":{\"value\":10,\"limit\":40},\"expensivefunctioncount\":{\"value\":14,\"limit\":500},\"unstrip-depth\":{\"value\":0,\"limit\":20},\"unstrip-size\":{\"value\":34896,\"limit\":5000000},\"entityaccesscount\":{\"value\":0,\"limit\":400},\"timingprofile\":[\"100.00%  689.094      1 -total\",\" 55.88%  385.088      1 Predefini\\xc3\\xa7\\xc3\\xa3o:Controle_de_autoridade\",\" 22.85%  157.435      1 Predefini\\xc3\\xa7\\xc3\\xa3o:Refer\\xc3\\xaancias\",\" 10.07%   69.383      1 Predefini\\xc3\\xa7\\xc3\\xa3o:Portal3\",\"  9.38%   64.669      3 Predefini\\xc3\\xa7\\xc3\\xa3o:Portal3/Portais\",\"  8.47%   58.336      6 Predefini\\xc3\\xa7\\xc3\\xa3o:Citar_web\",\"  5.29%   36.479      9 Predefini\\xc3\\xa7\\xc3\\xa3o:Citar_peri\\xc3\\xb3dico\",\"  3.53%   24.359      1 Predefini\\xc3\\xa7\\xc3\\xa3o:Commonscat\",\"  3.05%   20.999      2 Predefini\\xc3\\xa7\\xc3\\xa3o:Se_vazio\",\"  2.81%   19.374      2 Predefini\\xc3\\xa7\\xc3\\xa3o:Navbox\"]},\"scribunto\":{\"limitreport-timeusage\":{\"value\":\"0.405\",\"limit\":\"10.000\"},\"limitreport-memusage\":{\"value\":9060843,\"limit\":52428800}},\"cachereport\":{\"origin\":\"mw1352\",\"timestamp\":\"20211002221642\",\"ttl\":1814400,\"transientcontent\":false}}});});</script>\\n<script type=\"application/ld+json\">{\"@context\":\"https:\\\\/\\\\/schema.org\",\"@type\":\"Article\",\"name\":\"Medita\\\\u00e7\\\\u00e3o\",\"url\":\"https:\\\\/\\\\/pt.wikipedia.org\\\\/wiki\\\\/Medita%C3%A7%C3%A3o\",\"sameAs\":\"http:\\\\/\\\\/www.wikidata.org\\\\/entity\\\\/Q108458\",\"mainEntity\":\"http:\\\\/\\\\/www.wikidata.org\\\\/entity\\\\/Q108458\",\"author\":{\"@type\":\"Organization\",\"name\":\"Contribuidores dos projetos da Wikimedia\"},\"publisher\":{\"@type\":\"Organization\",\"name\":\"Funda\\\\u00e7\\\\u00e3o Wikimedia, Inc.\",\"logo\":{\"@type\":\"ImageObject\",\"url\":\"https:\\\\/\\\\/www.wikimedia.org\\\\/static\\\\/images\\\\/wmf-hor-googpub.png\"}},\"datePublished\":\"2004-02-29T17:23:06Z\",\"dateModified\":\"2021-08-26T22:35:01Z\",\"image\":\"https:\\\\/\\\\/upload.wikimedia.org\\\\/wikipedia\\\\/commons\\\\/4\\\\/43\\\\/Sri_Chinmoy_in_Kamakura.jpg\",\"headline\":\"conjunto de t\\\\u00e9cnicas para instrospe\\\\u00e7\\\\u00e3o e foco da aten\\\\u00e7\\\\u00e3o\"}</script>\\n<script>(RLQ=window.RLQ||[]).push(function(){mw.config.set({\"wgBackendResponseTime\":158,\"wgHostname\":\"mw1452\"});});</script>\\n</body></html>'"
            ]
          },
          "metadata": {},
          "execution_count": 52
        }
      ]
    },
    {
      "cell_type": "code",
      "metadata": {
        "colab": {
          "base_uri": "https://localhost:8080/"
        },
        "id": "1-JHnvULULwM",
        "outputId": "1ad3acbe-7ce9-48cd-92bb-908f428899a2"
      },
      "source": [
        "dados_html = bs.BeautifulSoup(dados, 'lxml')\n",
        "dados_html"
      ],
      "execution_count": null,
      "outputs": [
        {
          "output_type": "execute_result",
          "data": {
            "text/plain": [
              "<!DOCTYPE html>\n",
              "<html class=\"client-nojs\" dir=\"ltr\" lang=\"pt\">\n",
              "<head>\n",
              "<meta charset=\"utf-8\"/>\n",
              "<title>Meditação – Wikipédia, a enciclopédia livre</title>\n",
              "<script>document.documentElement.className=\"client-js\";RLCONF={\"wgBreakFrames\":!1,\"wgSeparatorTransformTable\":[\",\\t.\",\" \\t,\"],\"wgDigitTransformTable\":[\"\",\"\"],\"wgDefaultDateFormat\":\"dmy\",\"wgMonthNames\":[\"\",\"janeiro\",\"fevereiro\",\"março\",\"abril\",\"maio\",\"junho\",\"julho\",\"agosto\",\"setembro\",\"outubro\",\"novembro\",\"dezembro\"],\"wgRequestId\":\"c9901955-76df-4b9d-9629-ee651a4ab7b9\",\"wgCSPNonce\":!1,\"wgCanonicalNamespace\":\"\",\"wgCanonicalSpecialPageName\":!1,\"wgNamespaceNumber\":0,\"wgPageName\":\"Meditação\",\"wgTitle\":\"Meditação\",\"wgCurRevisionId\":61923438,\"wgRevisionId\":61923438,\"wgArticleId\":5648,\"wgIsArticle\":!0,\"wgIsRedirect\":!1,\"wgAction\":\"view\",\"wgUserName\":null,\"wgUserGroups\":[\"*\"],\"wgCategories\":[\"!Páginas com erros CS1: datas\",\"!Predefinição Webarchive wayback links\",\"!Avisos na predefinição Webarchive\",\"!Páginas com referências sem URL e com acessodata\",\"!Páginas que usam hiperligações mágicas ISBN\",\"Práticas religiosas\",\"Meditação\",\"Religião\"],\"wgPageContentLanguage\":\n",
              "\"pt\",\"wgPageContentModel\":\"wikitext\",\"wgRelevantPageName\":\"Meditação\",\"wgRelevantArticleId\":5648,\"wgIsProbablyEditable\":!0,\"wgRelevantPageIsProbablyEditable\":!0,\"wgRestrictionEdit\":[],\"wgRestrictionMove\":[],\"wgMediaViewerOnClick\":!0,\"wgMediaViewerEnabledByDefault\":!0,\"wgPopupsFlags\":10,\"wgVisualEditor\":{\"pageLanguageCode\":\"pt\",\"pageLanguageDir\":\"ltr\",\"pageVariantFallbacks\":\"pt\"},\"wgMFDisplayWikibaseDescriptions\":{\"search\":!0,\"nearby\":!0,\"watchlist\":!0,\"tagline\":!0},\"wgWMESchemaEditAttemptStepOversample\":!1,\"wgULSCurrentAutonym\":\"português\",\"wgNoticeProject\":\"wikipedia\",\"wgEditSubmitButtonLabelPublish\":!0,\"wgULSPosition\":\"interlanguage\",\"wgULSisCompactLinksEnabled\":!0,\"wgGENewcomerTasksGuidanceEnabled\":!0,\"wgGEAskQuestionEnabled\":!0,\"wgGELinkRecommendationsFrontendEnabled\":!1,\"wgCentralAuthMobileDomain\":!1,\"wgWikibaseItemId\":\"Q108458\",\"wgSiteNoticeId\":\"2.30\"};RLSTATE={\"ext.globalCssJs.user.styles\":\"ready\",\"site.styles\":\"ready\",\"noscript\":\"ready\",\n",
              "\"user.styles\":\"ready\",\"ext.globalCssJs.user\":\"ready\",\"user\":\"ready\",\"user.options\":\"loading\",\"ext.cite.styles\":\"ready\",\"mediawiki.ui.button\":\"ready\",\"skins.vector.styles\":\"ready\",\"skins.vector.icons\":\"ready\",\"mediawiki.ui.icon\":\"ready\",\"ext.visualEditor.desktopArticleTarget.noscript\":\"ready\",\"ext.uls.interlanguage\":\"ready\",\"ext.wikimediaBadges\":\"ready\",\"wikibase.client.init\":\"ready\",\"ext.dismissableSiteNotice.styles\":\"ready\"};RLPAGEMODULES=[\"ext.cite.ux-enhancements\",\"site\",\"mediawiki.page.ready\",\"mediawiki.toc\",\"skins.vector.js\",\"ext.gadget.Topicon\",\"ext.gadget.Metacaixa\",\"ext.gadget.TitleRewrite\",\"ext.gadget.ElementosOcultaveis\",\"ext.gadget.FeedbackHighlight\",\"ext.gadget.ReferenceTooltips\",\"ext.gadget.NewVillagePump\",\"ext.gadget.wikibugs\",\"ext.gadget.charinsert\",\"ext.gadget.requestForAdminship\",\"ext.gadget.EnhancedSearch\",\"ext.gadget.WikiMiniAtlas\",\"ext.gadget.PagesForDeletion\",\"mmv.head\",\"mmv.bootstrap.autostart\",\"ext.popups\",\"ext.visualEditor.desktopArticleTarget.init\",\n",
              "\"ext.visualEditor.targetLoader\",\"ext.eventLogging\",\"ext.wikimediaEvents\",\"ext.navigationTiming\",\"ext.uls.compactlinks\",\"ext.uls.interface\",\"ext.cx.eventlogging.campaigns\",\"ext.centralNotice.geoIP\",\"ext.centralNotice.startUp\",\"ext.centralauth.centralautologin\",\"ext.growthExperiments.SuggestedEditSession\",\"ext.dismissableSiteNotice\"];</script>\n",
              "<script>(RLQ=window.RLQ||[]).push(function(){mw.loader.implement(\"user.options@1hzgi\",function($,jQuery,require,module){/*@nomin*/mw.user.tokens.set({\"patrolToken\":\"+\\\\\",\"watchToken\":\"+\\\\\",\"csrfToken\":\"+\\\\\"});mw.user.options.set({\"variant\":\"pt\"});\n",
              "});});</script>\n",
              "<link href=\"/w/load.php?lang=pt&amp;modules=ext.cite.styles%7Cext.dismissableSiteNotice.styles%7Cext.uls.interlanguage%7Cext.visualEditor.desktopArticleTarget.noscript%7Cext.wikimediaBadges%7Cmediawiki.ui.button%2Cicon%7Cskins.vector.icons%2Cstyles%7Cwikibase.client.init&amp;only=styles&amp;skin=vector\" rel=\"stylesheet\"/>\n",
              "<script async=\"\" src=\"/w/load.php?lang=pt&amp;modules=startup&amp;only=scripts&amp;raw=1&amp;skin=vector\"></script>\n",
              "<meta content=\"\" name=\"ResourceLoaderDynamicStyles\"/>\n",
              "<link href=\"/w/load.php?lang=pt&amp;modules=site.styles&amp;only=styles&amp;skin=vector\" rel=\"stylesheet\"/>\n",
              "<meta content=\"MediaWiki 1.38.0-wmf.2\" name=\"generator\"/>\n",
              "<meta content=\"origin\" name=\"referrer\"/>\n",
              "<meta content=\"origin-when-crossorigin\" name=\"referrer\"/>\n",
              "<meta content=\"origin-when-cross-origin\" name=\"referrer\"/>\n",
              "<meta content=\"telephone=no\" name=\"format-detection\"/>\n",
              "<meta content=\"https://upload.wikimedia.org/wikipedia/commons/thumb/4/43/Sri_Chinmoy_in_Kamakura.jpg/1200px-Sri_Chinmoy_in_Kamakura.jpg\" property=\"og:image\"/>\n",
              "<meta content=\"Meditação – Wikipédia, a enciclopédia livre\" property=\"og:title\"/>\n",
              "<meta content=\"website\" property=\"og:type\"/>\n",
              "<link href=\"//upload.wikimedia.org\" rel=\"preconnect\"/>\n",
              "<link href=\"//pt.m.wikipedia.org/wiki/Medita%C3%A7%C3%A3o\" media=\"only screen and (max-width: 720px)\" rel=\"alternate\"/>\n",
              "<link href=\"/w/index.php?title=Medita%C3%A7%C3%A3o&amp;action=edit\" rel=\"alternate\" title=\"Editar\" type=\"application/x-wiki\"/>\n",
              "<link href=\"/w/index.php?title=Medita%C3%A7%C3%A3o&amp;action=edit\" rel=\"edit\" title=\"Editar\"/>\n",
              "<link href=\"/static/apple-touch/wikipedia.png\" rel=\"apple-touch-icon\"/>\n",
              "<link href=\"/static/favicon/wikipedia.ico\" rel=\"shortcut icon\"/>\n",
              "<link href=\"/w/opensearch_desc.php\" rel=\"search\" title=\"Wikipédia (pt)\" type=\"application/opensearchdescription+xml\"/>\n",
              "<link href=\"//pt.wikipedia.org/w/api.php?action=rsd\" rel=\"EditURI\" type=\"application/rsd+xml\"/>\n",
              "<link href=\"https://creativecommons.org/licenses/by-sa/3.0/\" rel=\"license\"/>\n",
              "<link href=\"https://pt.wikipedia.org/wiki/Medita%C3%A7%C3%A3o\" rel=\"canonical\"/>\n",
              "<link href=\"//meta.wikimedia.org\" rel=\"dns-prefetch\"/>\n",
              "<link href=\"//login.wikimedia.org\" rel=\"dns-prefetch\"/>\n",
              "</head>\n",
              "<body class=\"mediawiki ltr sitedir-ltr mw-hide-empty-elt ns-0 ns-subject mw-editable page-Meditação rootpage-Meditação skin-vector action-view skin-vector-search-vue\"><div class=\"mw-page-container\">\n",
              "<a class=\"mw-jump-link\" href=\"#content\">Saltar para o conteúdo</a>\n",
              "<div class=\"mw-page-container-inner\">\n",
              "<input checked=\"\" class=\"mw-checkbox-hack-checkbox\" id=\"mw-sidebar-checkbox\" type=\"checkbox\"/>\n",
              "<header class=\"mw-header\">\n",
              "<label aria-controls=\"mw-panel\" class=\"mw-checkbox-hack-button mw-ui-icon mw-ui-button mw-ui-quiet mw-ui-icon-element\" data-event-name=\"ui.sidebar\" for=\"mw-sidebar-checkbox\" id=\"mw-sidebar-button\" role=\"button\" tabindex=\"0\" title=\"Menu principal\">\n",
              "\t\tAlternar barra lateral\n",
              "\t</label>\n",
              "<a class=\"mw-logo\" href=\"/wiki/Wikip%C3%A9dia:P%C3%A1gina_principal\">\n",
              "<img alt=\"\" aria-hidden=\"true\" class=\"mw-logo-icon\" height=\"50\" src=\"/static/images/mobile/copyright/wikipedia.png\" width=\"50\"/>\n",
              "<span class=\"mw-logo-container\">\n",
              "<img alt=\"Wikipédia\" class=\"mw-logo-wordmark\" height=\"18\" src=\"/static/images/mobile/copyright/wikipedia-wordmark-fr.svg\" width=\"119\"/>\n",
              "<img alt=\"\" class=\"mw-logo-tagline\" height=\"13\" src=\"/static/images/mobile/copyright/wikipedia-tagline-pt.svg\" width=\"113\"/>\n",
              "</span>\n",
              "</a>\n",
              "<div class=\"vector-search-box-vue vector-search-box-collapses vector-search-box-show-thumbnail vector-search-box\" id=\"p-search\" role=\"search\">\n",
              "<div>\n",
              "<form action=\"/w/index.php\" class=\"vector-search-box-form\" id=\"searchform\">\n",
              "<div class=\"vector-search-box-inner\" data-search-loc=\"header-moved\" id=\"simpleSearch\">\n",
              "<input accesskey=\"f\" autocapitalize=\"sentences\" class=\"vector-search-box-input\" id=\"searchInput\" name=\"search\" placeholder=\"Pesquisar na Wikipédia\" title=\"Pesquisar na Wikipédia [f]\" type=\"search\"/>\n",
              "<input name=\"title\" type=\"hidden\" value=\"Especial:Pesquisar\"/>\n",
              "<input class=\"searchButton mw-fallbackSearchButton\" id=\"mw-searchButton\" name=\"fulltext\" title=\"Procurar páginas que contêm este texto\" type=\"submit\" value=\"Pesquisar\"/>\n",
              "<input class=\"searchButton\" id=\"searchButton\" name=\"go\" title=\"Ir para uma página com este nome exacto, caso exista\" type=\"submit\" value=\"Ir\"/>\n",
              "</div>\n",
              "</form>\n",
              "</div>\n",
              "<a class=\"mw-ui-button mw-ui-quiet mw-ui-icon mw-ui-icon-element mw-ui-icon-wikimedia-search search-toggle\" href=\"/wiki/Especial:Pesquisar\">\n",
              "<span>Busca</span>\n",
              "</a>\n",
              "</div>\n",
              "<div class=\"vector-user-links\">\n",
              "<nav aria-labelledby=\"p-personal-more-label\" class=\"mw-portlet mw-portlet-personal-more vector-menu vector-user-menu-more\" id=\"p-personal-more\" role=\"navigation\">\n",
              "<h3 aria-hidden=\"true\" aria-label=\"\" class=\"vector-menu-heading\" id=\"p-personal-more-label\">\n",
              "<span>Links do usuário</span>\n",
              "</h3>\n",
              "<div class=\"vector-menu-content\">\n",
              "<ul class=\"vector-menu-content-list\">\n",
              "<li class=\"user-links-collapsible-item\" id=\"p-createaccount\">\n",
              "<a class=\"mw-ui-button mw-ui-quiet\" href=\"/w/index.php?title=Especial:Criar_conta&amp;returnto=Medita%C3%A7%C3%A3o\" icon=\"userAvatar\" title=\"É encorajado a criar uma conta e iniciar sessão; no entanto, não é obrigatório\"><span>Criar uma conta</span></a>\n",
              "</li>\n",
              "</ul>\n",
              "</div>\n",
              "</nav>\n",
              "<nav aria-labelledby=\"p-personal-label\" class=\"mw-portlet mw-portlet-personal vector-user-menu vector-user-menu-logged-out vector-menu vector-menu-dropdown\" id=\"p-personal\" role=\"navigation\" title=\"Mais opções\">\n",
              "<input aria-haspopup=\"true\" aria-labelledby=\"p-personal-label\" class=\" vector-menu-checkbox\" data-event-name=\"ui.dropdown-p-personal\" id=\"p-personal-checkbox\" role=\"button\" type=\"checkbox\"/>\n",
              "<h3 aria-hidden=\"true\" aria-label=\"\" class=\"vector-menu-heading mw-ui-button mw-ui-quiet mw-ui-icon mw-ui-icon-element mw-ui-icon-wikimedia-ellipsis\" id=\"p-personal-label\">\n",
              "<span>Ferramentas pessoais</span>\n",
              "<span class=\"vector-menu-checkbox-expanded\">expanded</span>\n",
              "<span class=\"vector-menu-checkbox-collapsed\">collapsed</span>\n",
              "</h3>\n",
              "<div class=\"vector-menu-content\">\n",
              "<div class=\"vector-user-menu-create-account\"><a class=\"user-links-collapsible-item vector-menu-content-item mw-ui-icon mw-ui-icon-before mw-ui-icon-wikimedia-userAvatar\" href=\"/w/index.php?title=Especial:Criar_conta&amp;returnto=Medita%C3%A7%C3%A3o\" icon=\"userAvatar\" title=\"É encorajado a criar uma conta e iniciar sessão; no entanto, não é obrigatório\"><span>Criar uma conta</span></a></div>\n",
              "<div class=\"vector-user-menu-login\"><a accesskey=\"o\" class=\"vector-menu-content-item vector-menu-content-item-login mw-ui-icon mw-ui-icon-before mw-ui-icon-wikimedia-logIn\" href=\"/w/index.php?title=Especial:Entrar&amp;returnto=Medita%C3%A7%C3%A3o\" icon=\"logIn\" title=\"Aconselhamos-lhe a criar uma conta na Wikipédia, embora tal não seja obrigatório. [o]\"><span>Entrar</span></a></div>\n",
              "<div class=\"vector-user-menu-anon-editor\">\n",
              "<p>\n",
              "\t\tPáginas para editores conectados <a aria-label=\"Learn more about editing\" href=\"/wiki/Ajuda:Introduction\"><span>saiba mais</span></a>\n",
              "</p>\n",
              "</div>\n",
              "<ul class=\"vector-menu-content-list\"><li class=\"mw-list-item\" id=\"pt-anontalk\"><a accesskey=\"n\" href=\"/wiki/Especial:Minha_discuss%C3%A3o\" title=\"Discussão sobre edições feitas a partir deste endereço IP [n]\"><span>Discussão</span></a></li><li class=\"mw-list-item\" id=\"pt-anoncontribs\"><a accesskey=\"y\" href=\"/wiki/Especial:Minhas_contribui%C3%A7%C3%B5es\" title=\"Uma lista de edições feitas a partir deste endereço IP [y]\"><span>Contribuições</span></a></li></ul>\n",
              "</div>\n",
              "</nav>\n",
              "</div>\n",
              "</header>\n",
              "<div class=\"mw-workspace-container\">\n",
              "<div id=\"mw-navigation\">\n",
              "<div class=\"mw-sidebar\" id=\"mw-panel\">\n",
              "<nav aria-labelledby=\"p-navigation-label\" class=\"mw-portlet mw-portlet-navigation vector-menu vector-menu-portal portal\" id=\"p-navigation\" role=\"navigation\">\n",
              "<h3 aria-hidden=\"true\" aria-label=\"\" class=\"vector-menu-heading\" id=\"p-navigation-label\">\n",
              "<span>Navegação</span>\n",
              "</h3>\n",
              "<div class=\"vector-menu-content\">\n",
              "<ul class=\"vector-menu-content-list\"><li class=\"mw-list-item\" id=\"n-mainpage-description\"><a accesskey=\"z\" href=\"/wiki/Wikip%C3%A9dia:P%C3%A1gina_principal\" title=\"Visitar a página principal [z]\"><span>Página principal</span></a></li><li class=\"mw-list-item\" id=\"n-featuredcontent\"><a href=\"/wiki/Portal:Conte%C3%BAdo_destacado\"><span>Conteúdo destacado</span></a></li><li class=\"mw-list-item\" id=\"n-currentevents\"><a href=\"/wiki/Portal:Eventos_atuais\" title=\"Informação temática sobre eventos atuais\"><span>Eventos atuais</span></a></li><li class=\"mw-list-item\" id=\"n-villagepump\"><a href=\"/wiki/Wikip%C3%A9dia:Esplanada\"><span>Esplanada</span></a></li><li class=\"mw-list-item\" id=\"n-randompage\"><a accesskey=\"x\" href=\"/wiki/Especial:Aleat%C3%B3ria\" title=\"Carregar página aleatória [x]\"><span>Página aleatória</span></a></li><li class=\"mw-list-item\" id=\"n-portals\"><a href=\"/wiki/Portal:%C3%8Dndice\"><span>Portais</span></a></li><li class=\"mw-list-item\" id=\"n-bug_in_article\"><a href=\"/wiki/Wikip%C3%A9dia:Informe_um_erro\"><span>Informar um erro</span></a></li></ul>\n",
              "</div>\n",
              "</nav>\n",
              "<nav aria-labelledby=\"p-interaction-label\" class=\"mw-portlet mw-portlet-interaction vector-menu vector-menu-portal portal\" id=\"p-interaction\" role=\"navigation\">\n",
              "<h3 aria-hidden=\"true\" aria-label=\"\" class=\"vector-menu-heading\" id=\"p-interaction-label\">\n",
              "<span>Colaboração</span>\n",
              "</h3>\n",
              "<div class=\"vector-menu-content\">\n",
              "<ul class=\"vector-menu-content-list\"><li class=\"mw-list-item\" id=\"n-welcome\"><a href=\"/wiki/Wikip%C3%A9dia:Boas-vindas\"><span>Boas-vindas</span></a></li><li class=\"mw-list-item\" id=\"n-help\"><a href=\"/wiki/Ajuda:P%C3%A1gina_principal\" title=\"Um local reservado para auxílio.\"><span>Ajuda</span></a></li><li class=\"mw-list-item\" id=\"n-testpage\"><a href=\"/wiki/Ajuda:P%C3%A1gina_de_testes\"><span>Página de testes</span></a></li><li class=\"mw-list-item\" id=\"n-portal\"><a href=\"/wiki/Wikip%C3%A9dia:Portal_comunit%C3%A1rio\" title=\"Sobre o projeto\"><span>Portal comunitário</span></a></li><li class=\"mw-list-item\" id=\"n-recentchanges\"><a accesskey=\"r\" href=\"/wiki/Especial:Mudan%C3%A7as_recentes\" title=\"Uma lista de mudanças recentes nesta wiki [r]\"><span>Mudanças recentes</span></a></li><li class=\"mw-list-item\" id=\"n-maintenance\"><a href=\"/wiki/Wikip%C3%A9dia:Manuten%C3%A7%C3%A3o\"><span>Manutenção</span></a></li><li class=\"mw-list-item\" id=\"n-createpage\"><a href=\"/wiki/Ajuda:Guia_de_edi%C3%A7%C3%A3o/Como_come%C3%A7ar_uma_p%C3%A1gina\"><span>Criar página</span></a></li><li class=\"mw-list-item\" id=\"n-newpages-description\"><a href=\"/wiki/Especial:P%C3%A1ginas_novas\"><span>Páginas novas</span></a></li><li class=\"mw-list-item\" id=\"n-contact-description\"><a href=\"/wiki/Wikip%C3%A9dia:Contato\"><span>Contato</span></a></li><li class=\"mw-list-item\" id=\"n-sitesupport\"><a href=\"//donate.wikimedia.org/wiki/Special:FundraiserRedirector?utm_source=donate&amp;utm_medium=sidebar&amp;utm_campaign=20120521SB001&amp;uselang=pt\" title=\"Ajude-nos\"><span>Donativos</span></a></li></ul>\n",
              "</div>\n",
              "</nav>\n",
              "<nav aria-labelledby=\"p-tb-label\" class=\"mw-portlet mw-portlet-tb vector-menu vector-menu-portal portal\" id=\"p-tb\" role=\"navigation\">\n",
              "<h3 aria-hidden=\"true\" aria-label=\"\" class=\"vector-menu-heading\" id=\"p-tb-label\">\n",
              "<span>Ferramentas</span>\n",
              "</h3>\n",
              "<div class=\"vector-menu-content\">\n",
              "<ul class=\"vector-menu-content-list\"><li class=\"mw-list-item\" id=\"t-whatlinkshere\"><a accesskey=\"j\" href=\"/wiki/Especial:P%C3%A1ginas_afluentes/Medita%C3%A7%C3%A3o\" title=\"Lista de todas as páginas que contêm hiperligações para esta [j]\"><span>Páginas afluentes</span></a></li><li class=\"mw-list-item\" id=\"t-recentchangeslinked\"><a accesskey=\"k\" href=\"/wiki/Especial:Altera%C3%A7%C3%B5es_relacionadas/Medita%C3%A7%C3%A3o\" rel=\"nofollow\" title=\"Mudanças recentes nas páginas para as quais esta contém hiperligações [k]\"><span>Alterações relacionadas</span></a></li><li class=\"mw-list-item\" id=\"t-upload\"><a accesskey=\"u\" href=\"/wiki/Wikipedia:Carregar_ficheiro\" title=\"Carregar ficheiros [u]\"><span>Carregar ficheiro</span></a></li><li class=\"mw-list-item\" id=\"t-specialpages\"><a accesskey=\"q\" href=\"/wiki/Especial:P%C3%A1ginas_especiais\" title=\"Lista de páginas especiais [q]\"><span>Páginas especiais</span></a></li><li class=\"mw-list-item\" id=\"t-permalink\"><a href=\"/w/index.php?title=Medita%C3%A7%C3%A3o&amp;oldid=61923438\" title=\"Hiperligação permanente para esta revisão da página\"><span>Hiperligação permanente</span></a></li><li class=\"mw-list-item\" id=\"t-info\"><a href=\"/w/index.php?title=Medita%C3%A7%C3%A3o&amp;action=info\" title=\"Mais informações sobre esta página\"><span>Informações da página</span></a></li><li class=\"mw-list-item\" id=\"t-cite\"><a href=\"/w/index.php?title=Especial:Citar&amp;page=Medita%C3%A7%C3%A3o&amp;id=61923438&amp;wpFormIdentifier=titleform\" title=\"Informação sobre como citar esta página\"><span>Citar esta página</span></a></li><li class=\"mw-list-item\" id=\"t-wikibase\"><a accesskey=\"g\" href=\"https://www.wikidata.org/wiki/Special:EntityPage/Q108458\" title=\"Hiperligação para o elemento do repositório de dados [g]\"><span>Elemento Wikidata</span></a></li></ul>\n",
              "</div>\n",
              "</nav>\n",
              "<nav aria-labelledby=\"p-coll-print_export-label\" class=\"mw-portlet mw-portlet-coll-print_export vector-menu vector-menu-portal portal\" id=\"p-coll-print_export\" role=\"navigation\">\n",
              "<h3 aria-hidden=\"true\" aria-label=\"\" class=\"vector-menu-heading\" id=\"p-coll-print_export-label\">\n",
              "<span>Imprimir/exportar</span>\n",
              "</h3>\n",
              "<div class=\"vector-menu-content\">\n",
              "<ul class=\"vector-menu-content-list\"><li class=\"mw-list-item\" id=\"coll-create_a_book\"><a href=\"/w/index.php?title=Especial:Livro&amp;bookcmd=book_creator&amp;referer=Medita%C3%A7%C3%A3o\"><span>Criar um livro</span></a></li><li class=\"mw-list-item\" id=\"coll-download-as-rl\"><a href=\"/w/index.php?title=Especial:DownloadAsPdf&amp;page=Medita%C3%A7%C3%A3o&amp;action=show-download-screen\"><span>Descarregar como PDF</span></a></li><li class=\"mw-list-item\" id=\"t-print\"><a accesskey=\"p\" href=\"/w/index.php?title=Medita%C3%A7%C3%A3o&amp;printable=yes\" title=\"Versão para impressão desta página [p]\"><span>Versão para impressão</span></a></li></ul>\n",
              "</div>\n",
              "</nav>\n",
              "<nav aria-labelledby=\"p-wikibase-otherprojects-label\" class=\"mw-portlet mw-portlet-wikibase-otherprojects vector-menu vector-menu-portal portal\" id=\"p-wikibase-otherprojects\" role=\"navigation\">\n",
              "<h3 aria-hidden=\"true\" aria-label=\"\" class=\"vector-menu-heading\" id=\"p-wikibase-otherprojects-label\">\n",
              "<span>Noutros projetos</span>\n",
              "</h3>\n",
              "<div class=\"vector-menu-content\">\n",
              "<ul class=\"vector-menu-content-list\"><li class=\"wb-otherproject-link wb-otherproject-commons mw-list-item\"><a href=\"https://commons.wikimedia.org/wiki/Category:Meditation\" hreflang=\"en\"><span>Wikimedia Commons</span></a></li></ul>\n",
              "</div>\n",
              "</nav>\n",
              "</div>\n",
              "<div id=\"mw-head\">\n",
              "<div class=\"mw-article-toolbar-container\">\n",
              "<div id=\"left-navigation\">\n",
              "<nav aria-labelledby=\"p-namespaces-label\" class=\"mw-portlet mw-portlet-namespaces vector-menu vector-menu-tabs\" id=\"p-namespaces\" role=\"navigation\">\n",
              "<h3 aria-hidden=\"true\" aria-label=\"\" class=\"vector-menu-heading\" id=\"p-namespaces-label\">\n",
              "<span>Espaços nominais</span>\n",
              "</h3>\n",
              "<div class=\"vector-menu-content\">\n",
              "<ul class=\"vector-menu-content-list\"><li class=\"selected mw-list-item\" id=\"ca-nstab-main\"><a accesskey=\"c\" href=\"/wiki/Medita%C3%A7%C3%A3o\" title=\"Ver a página de conteúdo [c]\"><span>Artigo</span></a></li><li class=\"mw-list-item\" id=\"ca-talk\"><a accesskey=\"t\" href=\"/wiki/Discuss%C3%A3o:Medita%C3%A7%C3%A3o\" rel=\"discussion\" title=\"Discussão sobre o conteúdo da página [t]\"><span>Discussão</span></a></li></ul>\n",
              "</div>\n",
              "</nav>\n",
              "<nav aria-labelledby=\"p-variants-label\" class=\"mw-portlet mw-portlet-variants emptyPortlet vector-menu-dropdown-noicon vector-menu vector-menu-dropdown\" id=\"p-variants\" role=\"navigation\">\n",
              "<input aria-haspopup=\"true\" aria-labelledby=\"p-variants-label\" class=\" vector-menu-checkbox\" data-event-name=\"ui.dropdown-p-variants\" id=\"p-variants-checkbox\" role=\"button\" type=\"checkbox\"/>\n",
              "<h3 aria-hidden=\"true\" aria-label=\"Change language variant\" class=\"vector-menu-heading\" id=\"p-variants-label\">\n",
              "<span>Variantes</span>\n",
              "<span class=\"vector-menu-checkbox-expanded\">expanded</span>\n",
              "<span class=\"vector-menu-checkbox-collapsed\">collapsed</span>\n",
              "</h3>\n",
              "<div class=\"vector-menu-content\">\n",
              "<ul class=\"vector-menu-content-list\"></ul>\n",
              "</div>\n",
              "</nav>\n",
              "</div>\n",
              "<div id=\"right-navigation\">\n",
              "<nav aria-labelledby=\"p-views-label\" class=\"mw-portlet mw-portlet-views vector-menu vector-menu-tabs\" id=\"p-views\" role=\"navigation\">\n",
              "<h3 aria-hidden=\"true\" aria-label=\"\" class=\"vector-menu-heading\" id=\"p-views-label\">\n",
              "<span>Vistas</span>\n",
              "</h3>\n",
              "<div class=\"vector-menu-content\">\n",
              "<ul class=\"vector-menu-content-list\"><li class=\"selected mw-list-item\" id=\"ca-view\"><a href=\"/wiki/Medita%C3%A7%C3%A3o\"><span>Ler</span></a></li><li class=\"mw-list-item\" id=\"ca-ve-edit\"><a accesskey=\"v\" href=\"/w/index.php?title=Medita%C3%A7%C3%A3o&amp;veaction=edit\" title=\"Editar esta página [v]\"><span>Editar</span></a></li><li class=\"collapsible mw-list-item\" id=\"ca-edit\"><a accesskey=\"e\" href=\"/w/index.php?title=Medita%C3%A7%C3%A3o&amp;action=edit\" title=\"Editar esta página [e]\"><span>Editar código-fonte</span></a></li><li class=\"mw-list-item\" id=\"ca-history\"><a accesskey=\"h\" href=\"/w/index.php?title=Medita%C3%A7%C3%A3o&amp;action=history\" title=\"Edições anteriores desta página. [h]\"><span>Ver histórico</span></a></li></ul>\n",
              "</div>\n",
              "</nav>\n",
              "<nav aria-labelledby=\"p-cactions-label\" class=\"mw-portlet mw-portlet-cactions emptyPortlet vector-menu-dropdown-noicon vector-menu vector-menu-dropdown\" id=\"p-cactions\" role=\"navigation\" title=\"Mais opções\">\n",
              "<input aria-haspopup=\"true\" aria-labelledby=\"p-cactions-label\" class=\" vector-menu-checkbox\" data-event-name=\"ui.dropdown-p-cactions\" id=\"p-cactions-checkbox\" role=\"button\" type=\"checkbox\"/>\n",
              "<h3 aria-hidden=\"true\" aria-label=\"\" class=\"vector-menu-heading\" id=\"p-cactions-label\">\n",
              "<span>Mais</span>\n",
              "<span class=\"vector-menu-checkbox-expanded\">expanded</span>\n",
              "<span class=\"vector-menu-checkbox-collapsed\">collapsed</span>\n",
              "</h3>\n",
              "<div class=\"vector-menu-content\">\n",
              "<ul class=\"vector-menu-content-list\"></ul>\n",
              "</div>\n",
              "</nav>\n",
              "</div>\n",
              "</div>\n",
              "</div>\n",
              "</div>\n",
              "<div class=\"mw-content-container\">\n",
              "<main class=\"mw-body\" id=\"content\" role=\"main\">\n",
              "<a id=\"top\"></a>\n",
              "<div id=\"siteNotice\"><!-- CentralNotice --><div id=\"mw-dismissablenotice-anonplace\"></div><script>(function(){var node=document.getElementById(\"mw-dismissablenotice-anonplace\");if(node){node.outerHTML=\"\\u003Cdiv class=\\\"mw-dismissable-notice\\\"\\u003E\\u003Cdiv class=\\\"mw-dismissable-notice-close\\\"\\u003E[\\u003Ca tabindex=\\\"0\\\" role=\\\"button\\\"\\u003Eocultar\\u003C/a\\u003E]\\u003C/div\\u003E\\u003Cdiv class=\\\"mw-dismissable-notice-body\\\"\\u003E\\u003Cdiv id=\\\"localNotice\\\" lang=\\\"pt\\\" dir=\\\"ltr\\\"\\u003E\\u003C/div\\u003E\\u003C/div\\u003E\\u003C/div\\u003E\";}}());</script></div>\n",
              "<header class=\"mw-body-header\">\n",
              "<nav aria-labelledby=\"p-lang-btn-label\" class=\"mw-portlet mw-portlet-lang vector-menu vector-menu-dropdown\" id=\"p-lang-btn\" role=\"navigation\">\n",
              "<input aria-haspopup=\"true\" aria-labelledby=\"p-lang-btn-label\" class=\" mw-interlanguage-selector vector-menu-checkbox\" data-event-name=\"ui.dropdown-p-lang-btn\" id=\"p-lang-btn-checkbox\" role=\"button\" type=\"checkbox\"/>\n",
              "<h3 aria-hidden=\"true\" aria-label=\"Go to an article in another language. Available in 82 languages\" class=\" vector-menu-heading mw-ui-button mw-ui-quiet\" id=\"p-lang-btn-label\">\n",
              "<span class=\"mw-ui-icon mw-ui-icon-wikimedia-language\"></span>\n",
              "<span>82 idiomas</span>\n",
              "<span class=\"vector-menu-checkbox-expanded\">expanded</span>\n",
              "<span class=\"vector-menu-checkbox-collapsed\">collapsed</span>\n",
              "</h3>\n",
              "<div class=\"vector-menu-content\">\n",
              "<ul class=\"vector-menu-content-list\"><li class=\"interlanguage-link interwiki-af mw-list-item\"><a class=\"interlanguage-link-target\" href=\"https://af.wikipedia.org/wiki/Meditasie\" hreflang=\"af\" lang=\"af\" title=\"Meditasie — africanês\"><span>Afrikaans</span></a></li><li class=\"interlanguage-link interwiki-als mw-list-item\"><a class=\"interlanguage-link-target\" href=\"https://als.wikipedia.org/wiki/Meditation\" hreflang=\"gsw\" lang=\"gsw\" title=\"Meditation — Alemannisch\"><span>Alemannisch</span></a></li><li class=\"interlanguage-link interwiki-ar mw-list-item\"><a class=\"interlanguage-link-target\" href=\"https://ar.wikipedia.org/wiki/%D8%AA%D8%A3%D9%85%D9%84\" hreflang=\"ar\" lang=\"ar\" title=\"تأمل — árabe\"><span>العربية</span></a></li><li class=\"interlanguage-link interwiki-ast mw-list-item\"><a class=\"interlanguage-link-target\" href=\"https://ast.wikipedia.org/wiki/Meditaci%C3%B3n\" hreflang=\"ast\" lang=\"ast\" title=\"Meditación — asturiano\"><span>Asturianu</span></a></li><li class=\"interlanguage-link interwiki-az mw-list-item\"><a class=\"interlanguage-link-target\" href=\"https://az.wikipedia.org/wiki/Meditasiya\" hreflang=\"az\" lang=\"az\" title=\"Meditasiya — azerbaijano\"><span>Azərbaycanca</span></a></li><li class=\"interlanguage-link interwiki-bg mw-list-item\"><a class=\"interlanguage-link-target\" href=\"https://bg.wikipedia.org/wiki/%D0%9C%D0%B5%D0%B4%D0%B8%D1%82%D0%B0%D1%86%D0%B8%D1%8F\" hreflang=\"bg\" lang=\"bg\" title=\"Медитация — búlgaro\"><span>Български</span></a></li><li class=\"interlanguage-link interwiki-bn mw-list-item\"><a class=\"interlanguage-link-target\" href=\"https://bn.wikipedia.org/wiki/%E0%A6%A7%E0%A7%8D%E0%A6%AF%E0%A6%BE%E0%A6%A8\" hreflang=\"bn\" lang=\"bn\" title=\"ধ্যান — bengalês\"><span>বাংলা</span></a></li><li class=\"interlanguage-link interwiki-bo mw-list-item\"><a class=\"interlanguage-link-target\" href=\"https://bo.wikipedia.org/wiki/%E0%BD%8F%E0%BD%B2%E0%BD%84%E0%BC%8B%E0%BD%84%E0%BD%BA%E0%BC%8B%E0%BD%A0%E0%BD%9B%E0%BD%B2%E0%BD%93%E0%BC%8D\" hreflang=\"bo\" lang=\"bo\" title=\"ཏིང་ངེ་འཛིན། — tibetano\"><span>བོད་ཡིག</span></a></li><li class=\"interlanguage-link interwiki-ca mw-list-item\"><a class=\"interlanguage-link-target\" href=\"https://ca.wikipedia.org/wiki/Meditaci%C3%B3\" hreflang=\"ca\" lang=\"ca\" title=\"Meditació — catalão\"><span>Català</span></a></li><li class=\"interlanguage-link interwiki-cs mw-list-item\"><a class=\"interlanguage-link-target\" href=\"https://cs.wikipedia.org/wiki/Meditace\" hreflang=\"cs\" lang=\"cs\" title=\"Meditace — checo\"><span>Čeština</span></a></li><li class=\"interlanguage-link interwiki-cy mw-list-item\"><a class=\"interlanguage-link-target\" href=\"https://cy.wikipedia.org/wiki/Myfyrdod\" hreflang=\"cy\" lang=\"cy\" title=\"Myfyrdod — galês\"><span>Cymraeg</span></a></li><li class=\"interlanguage-link interwiki-da mw-list-item\"><a class=\"interlanguage-link-target\" href=\"https://da.wikipedia.org/wiki/Meditation\" hreflang=\"da\" lang=\"da\" title=\"Meditation — dinamarquês\"><span>Dansk</span></a></li><li class=\"interlanguage-link interwiki-de mw-list-item\"><a class=\"interlanguage-link-target\" href=\"https://de.wikipedia.org/wiki/Meditation\" hreflang=\"de\" lang=\"de\" title=\"Meditation — alemão\"><span>Deutsch</span></a></li><li class=\"interlanguage-link interwiki-el mw-list-item\"><a class=\"interlanguage-link-target\" href=\"https://el.wikipedia.org/wiki/%CE%94%CE%B9%CE%B1%CE%BB%CE%BF%CE%B3%CE%B9%CF%83%CE%BC%CF%8C%CF%82\" hreflang=\"el\" lang=\"el\" title=\"Διαλογισμός — grego\"><span>Ελληνικά</span></a></li><li class=\"interlanguage-link interwiki-en mw-list-item\"><a class=\"interlanguage-link-target\" href=\"https://en.wikipedia.org/wiki/Meditation\" hreflang=\"en\" lang=\"en\" title=\"Meditation — inglês\"><span>English</span></a></li><li class=\"interlanguage-link interwiki-eo mw-list-item\"><a class=\"interlanguage-link-target\" href=\"https://eo.wikipedia.org/wiki/Meditado\" hreflang=\"eo\" lang=\"eo\" title=\"Meditado — esperanto\"><span>Esperanto</span></a></li><li class=\"interlanguage-link interwiki-es mw-list-item\"><a class=\"interlanguage-link-target\" href=\"https://es.wikipedia.org/wiki/Meditaci%C3%B3n\" hreflang=\"es\" lang=\"es\" title=\"Meditación — espanhol\"><span>Español</span></a></li><li class=\"interlanguage-link interwiki-et mw-list-item\"><a class=\"interlanguage-link-target\" href=\"https://et.wikipedia.org/wiki/Meditatsioon\" hreflang=\"et\" lang=\"et\" title=\"Meditatsioon — estónio\"><span>Eesti</span></a></li><li class=\"interlanguage-link interwiki-eu mw-list-item\"><a class=\"interlanguage-link-target\" href=\"https://eu.wikipedia.org/wiki/Meditazio\" hreflang=\"eu\" lang=\"eu\" title=\"Meditazio — basco\"><span>Euskara</span></a></li><li class=\"interlanguage-link interwiki-fa mw-list-item\"><a class=\"interlanguage-link-target\" href=\"https://fa.wikipedia.org/wiki/%D9%85%D8%AF%DB%8C%D8%AA%DB%8C%D8%B4%D9%86\" hreflang=\"fa\" lang=\"fa\" title=\"مدیتیشن — persa\"><span>فارسی</span></a></li><li class=\"interlanguage-link interwiki-fi mw-list-item\"><a class=\"interlanguage-link-target\" href=\"https://fi.wikipedia.org/wiki/Meditaatio\" hreflang=\"fi\" lang=\"fi\" title=\"Meditaatio — finlandês\"><span>Suomi</span></a></li><li class=\"interlanguage-link interwiki-fr mw-list-item\"><a class=\"interlanguage-link-target\" href=\"https://fr.wikipedia.org/wiki/M%C3%A9ditation\" hreflang=\"fr\" lang=\"fr\" title=\"Méditation — francês\"><span>Français</span></a></li><li class=\"interlanguage-link interwiki-fy mw-list-item\"><a class=\"interlanguage-link-target\" href=\"https://fy.wikipedia.org/wiki/Meditaasje\" hreflang=\"fy\" lang=\"fy\" title=\"Meditaasje — frísico ocidental\"><span>Frysk</span></a></li><li class=\"interlanguage-link interwiki-gcr mw-list-item\"><a class=\"interlanguage-link-target\" href=\"https://gcr.wikipedia.org/wiki/M%C3%A9ditasyon\" hreflang=\"gcr\" lang=\"gcr\" title=\"Méditasyon — Guianan Creole\"><span>Kriyòl gwiyannen</span></a></li><li class=\"interlanguage-link interwiki-gl mw-list-item\"><a class=\"interlanguage-link-target\" href=\"https://gl.wikipedia.org/wiki/Meditaci%C3%B3n\" hreflang=\"gl\" lang=\"gl\" title=\"Meditación — galego\"><span>Galego</span></a></li><li class=\"interlanguage-link interwiki-he mw-list-item\"><a class=\"interlanguage-link-target\" href=\"https://he.wikipedia.org/wiki/%D7%9E%D7%93%D7%99%D7%98%D7%A6%D7%99%D7%94\" hreflang=\"he\" lang=\"he\" title=\"מדיטציה — hebraico\"><span>עברית</span></a></li><li class=\"interlanguage-link interwiki-hi mw-list-item\"><a class=\"interlanguage-link-target\" href=\"https://hi.wikipedia.org/wiki/%E0%A4%A7%E0%A5%8D%E0%A4%AF%E0%A4%BE%E0%A4%A8_(%E0%A4%95%E0%A5%8D%E0%A4%B0%E0%A4%BF%E0%A4%AF%E0%A4%BE)\" hreflang=\"hi\" lang=\"hi\" title=\"ध्यान (क्रिया) — hindi\"><span>हिन्दी</span></a></li><li class=\"interlanguage-link interwiki-hr mw-list-item\"><a class=\"interlanguage-link-target\" href=\"https://hr.wikipedia.org/wiki/Meditacija\" hreflang=\"hr\" lang=\"hr\" title=\"Meditacija — croata\"><span>Hrvatski</span></a></li><li class=\"interlanguage-link interwiki-hu mw-list-item\"><a class=\"interlanguage-link-target\" href=\"https://hu.wikipedia.org/wiki/Medit%C3%A1ci%C3%B3\" hreflang=\"hu\" lang=\"hu\" title=\"Meditáció — húngaro\"><span>Magyar</span></a></li><li class=\"interlanguage-link interwiki-hy mw-list-item\"><a class=\"interlanguage-link-target\" href=\"https://hy.wikipedia.org/wiki/%D5%84%D5%A5%D5%A4%D5%AB%D5%BF%D5%A1%D6%81%D5%AB%D5%A1\" hreflang=\"hy\" lang=\"hy\" title=\"Մեդիտացիա — arménio\"><span>Հայերեն</span></a></li><li class=\"interlanguage-link interwiki-ia mw-list-item\"><a class=\"interlanguage-link-target\" href=\"https://ia.wikipedia.org/wiki/Meditation\" hreflang=\"ia\" lang=\"ia\" title=\"Meditation — interlíngua\"><span>Interlingua</span></a></li><li class=\"interlanguage-link interwiki-id mw-list-item\"><a class=\"interlanguage-link-target\" href=\"https://id.wikipedia.org/wiki/Semadi\" hreflang=\"id\" lang=\"id\" title=\"Semadi — indonésio\"><span>Bahasa Indonesia</span></a></li><li class=\"interlanguage-link interwiki-it mw-list-item\"><a class=\"interlanguage-link-target\" href=\"https://it.wikipedia.org/wiki/Meditazione\" hreflang=\"it\" lang=\"it\" title=\"Meditazione — italiano\"><span>Italiano</span></a></li><li class=\"interlanguage-link interwiki-ja mw-list-item\"><a class=\"interlanguage-link-target\" href=\"https://ja.wikipedia.org/wiki/%E7%9E%91%E6%83%B3\" hreflang=\"ja\" lang=\"ja\" title=\"瞑想 — japonês\"><span>日本語</span></a></li><li class=\"interlanguage-link interwiki-jam mw-list-item\"><a class=\"interlanguage-link-target\" href=\"https://jam.wikipedia.org/wiki/Meditieshan\" hreflang=\"jam\" lang=\"jam\" title=\"Meditieshan — Jamaican Creole English\"><span>Patois</span></a></li><li class=\"interlanguage-link interwiki-kk mw-list-item\"><a class=\"interlanguage-link-target\" href=\"https://kk.wikipedia.org/wiki/%D0%9C%D0%B5%D0%B4%D0%B8%D1%82%D0%B0%D1%86%D0%B8%D1%8F\" hreflang=\"kk\" lang=\"kk\" title=\"Медитация — cazaque\"><span>Қазақша</span></a></li><li class=\"interlanguage-link interwiki-km mw-list-item\"><a class=\"interlanguage-link-target\" href=\"https://km.wikipedia.org/wiki/%E1%9E%80%E1%9E%B6%E1%9E%9A%E1%9E%8F%E1%9E%B6%E1%9F%86%E1%9E%84%E1%9E%9F%E1%9E%98%E1%9E%B6%E1%9E%92%E1%9E%B7\" hreflang=\"km\" lang=\"km\" title=\"ការតាំងសមាធិ — khmer\"><span>ភាសាខ្មែរ</span></a></li><li class=\"interlanguage-link interwiki-kn mw-list-item\"><a class=\"interlanguage-link-target\" href=\"https://kn.wikipedia.org/wiki/%E0%B2%A7%E0%B3%8D%E0%B2%AF%E0%B2%BE%E0%B2%A8\" hreflang=\"kn\" lang=\"kn\" title=\"ಧ್ಯಾನ — canarim\"><span>ಕನ್ನಡ</span></a></li><li class=\"interlanguage-link interwiki-ko mw-list-item\"><a class=\"interlanguage-link-target\" href=\"https://ko.wikipedia.org/wiki/%EB%AA%85%EC%83%81\" hreflang=\"ko\" lang=\"ko\" title=\"명상 — coreano\"><span>한국어</span></a></li><li class=\"interlanguage-link interwiki-ky mw-list-item\"><a class=\"interlanguage-link-target\" href=\"https://ky.wikipedia.org/wiki/%D0%9C%D0%B5%D0%B4%D0%B8%D1%82%D0%B0%D1%86%D0%B8%D1%8F\" hreflang=\"ky\" lang=\"ky\" title=\"Медитация — quirguiz\"><span>Кыргызча</span></a></li><li class=\"interlanguage-link interwiki-la mw-list-item\"><a class=\"interlanguage-link-target\" href=\"https://la.wikipedia.org/wiki/Meditatio\" hreflang=\"la\" lang=\"la\" title=\"Meditatio — latim\"><span>Latina</span></a></li><li class=\"interlanguage-link interwiki-lt mw-list-item\"><a class=\"interlanguage-link-target\" href=\"https://lt.wikipedia.org/wiki/Meditacija\" hreflang=\"lt\" lang=\"lt\" title=\"Meditacija — lituano\"><span>Lietuvių</span></a></li><li class=\"interlanguage-link interwiki-lv mw-list-item\"><a class=\"interlanguage-link-target\" href=\"https://lv.wikipedia.org/wiki/Medit%C4%81cija\" hreflang=\"lv\" lang=\"lv\" title=\"Meditācija — letão\"><span>Latviešu</span></a></li><li class=\"interlanguage-link interwiki-mk mw-list-item\"><a class=\"interlanguage-link-target\" href=\"https://mk.wikipedia.org/wiki/%D0%9C%D0%B5%D0%B4%D0%B8%D1%82%D0%B0%D1%86%D0%B8%D1%98%D0%B0\" hreflang=\"mk\" lang=\"mk\" title=\"Медитација — macedónio\"><span>Македонски</span></a></li><li class=\"interlanguage-link interwiki-mn mw-list-item\"><a class=\"interlanguage-link-target\" href=\"https://mn.wikipedia.org/wiki/%D0%91%D1%8F%D1%81%D0%B0%D0%BB%D0%B3%D0%B0%D0%BB\" hreflang=\"mn\" lang=\"mn\" title=\"Бясалгал — mongol\"><span>Монгол</span></a></li><li class=\"interlanguage-link interwiki-mr mw-list-item\"><a class=\"interlanguage-link-target\" href=\"https://mr.wikipedia.org/wiki/%E0%A4%A7%E0%A5%8D%E0%A4%AF%E0%A4%BE%E0%A4%A8\" hreflang=\"mr\" lang=\"mr\" title=\"ध्यान — marata\"><span>मराठी</span></a></li><li class=\"interlanguage-link interwiki-mwl mw-list-item\"><a class=\"interlanguage-link-target\" href=\"https://mwl.wikipedia.org/wiki/Medita%C3%A7on\" hreflang=\"mwl\" lang=\"mwl\" title=\"Meditaçon — mirandês\"><span>Mirandés</span></a></li><li class=\"interlanguage-link interwiki-my mw-list-item\"><a class=\"interlanguage-link-target\" href=\"https://my.wikipedia.org/wiki/%E1%80%90%E1%80%9B%E1%80%AC%E1%80%B8%E1%80%9B%E1%80%BE%E1%80%AF%E1%80%99%E1%80%BE%E1%80%90%E1%80%BA%E1%80%81%E1%80%BC%E1%80%84%E1%80%BA%E1%80%B8\" hreflang=\"my\" lang=\"my\" title=\"တရားရှုမှတ်ခြင်း — birmanês\"><span>မြန်မာဘာသာ</span></a></li><li class=\"interlanguage-link interwiki-mzn mw-list-item\"><a class=\"interlanguage-link-target\" href=\"https://mzn.wikipedia.org/wiki/%D9%85%D8%AF%DB%8C%D8%AA%DB%8C%D8%B4%D9%86\" hreflang=\"mzn\" lang=\"mzn\" title=\"مدیتیشن — mazandarani\"><span>مازِرونی</span></a></li><li class=\"interlanguage-link interwiki-nds-nl mw-list-item\"><a class=\"interlanguage-link-target\" href=\"https://nds-nl.wikipedia.org/wiki/Meditatie\" hreflang=\"nds-NL\" lang=\"nds-NL\" title=\"Meditatie — baixo-saxão\"><span>Nedersaksies</span></a></li><li class=\"interlanguage-link interwiki-new mw-list-item\"><a class=\"interlanguage-link-target\" href=\"https://new.wikipedia.org/wiki/%E0%A4%A7%E0%A5%8D%E0%A4%AF%E0%A4%BE%E0%A4%A8\" hreflang=\"new\" lang=\"new\" title=\"ध्यान — newari\"><span>नेपाल भाषा</span></a></li><li class=\"interlanguage-link interwiki-nl mw-list-item\"><a class=\"interlanguage-link-target\" href=\"https://nl.wikipedia.org/wiki/Meditatie\" hreflang=\"nl\" lang=\"nl\" title=\"Meditatie — neerlandês\"><span>Nederlands</span></a></li><li class=\"interlanguage-link interwiki-nn mw-list-item\"><a class=\"interlanguage-link-target\" href=\"https://nn.wikipedia.org/wiki/Meditasjon\" hreflang=\"nn\" lang=\"nn\" title=\"Meditasjon — norueguês nynorsk\"><span>Norsk nynorsk</span></a></li><li class=\"interlanguage-link interwiki-no mw-list-item\"><a class=\"interlanguage-link-target\" href=\"https://no.wikipedia.org/wiki/Meditasjon\" hreflang=\"nb\" lang=\"nb\" title=\"Meditasjon — norueguês bokmål\"><span>Norsk bokmål</span></a></li><li class=\"interlanguage-link interwiki-oc mw-list-item\"><a class=\"interlanguage-link-target\" href=\"https://oc.wikipedia.org/wiki/Meditacion\" hreflang=\"oc\" lang=\"oc\" title=\"Meditacion — occitano\"><span>Occitan</span></a></li><li class=\"interlanguage-link interwiki-pam mw-list-item\"><a class=\"interlanguage-link-target\" href=\"https://pam.wikipedia.org/wiki/P%C3%A1mang%C3%BAnam\" hreflang=\"pam\" lang=\"pam\" title=\"Pámangúnam — pampango\"><span>Kapampangan</span></a></li><li class=\"interlanguage-link interwiki-pl mw-list-item\"><a class=\"interlanguage-link-target\" href=\"https://pl.wikipedia.org/wiki/Medytacja\" hreflang=\"pl\" lang=\"pl\" title=\"Medytacja — polaco\"><span>Polski</span></a></li><li class=\"interlanguage-link interwiki-pnb mw-list-item\"><a class=\"interlanguage-link-target\" href=\"https://pnb.wikipedia.org/wiki/%D9%85%D8%B1%D8%A7%D9%82%D8%A8%DB%81\" hreflang=\"pnb\" lang=\"pnb\" title=\"مراقبہ — Western Punjabi\"><span>پنجابی</span></a></li><li class=\"interlanguage-link interwiki-ro mw-list-item\"><a class=\"interlanguage-link-target\" href=\"https://ro.wikipedia.org/wiki/Medita%C8%9Bie\" hreflang=\"ro\" lang=\"ro\" title=\"Meditație — romeno\"><span>Română</span></a></li><li class=\"interlanguage-link interwiki-ru mw-list-item\"><a class=\"interlanguage-link-target\" href=\"https://ru.wikipedia.org/wiki/%D0%9C%D0%B5%D0%B4%D0%B8%D1%82%D0%B0%D1%86%D0%B8%D1%8F\" hreflang=\"ru\" lang=\"ru\" title=\"Медитация — russo\"><span>Русский</span></a></li><li class=\"interlanguage-link interwiki-sh mw-list-item\"><a class=\"interlanguage-link-target\" href=\"https://sh.wikipedia.org/wiki/Meditacija\" hreflang=\"sh\" lang=\"sh\" title=\"Meditacija — servo-croata\"><span>Srpskohrvatski / српскохрватски</span></a></li><li class=\"interlanguage-link interwiki-si mw-list-item\"><a class=\"interlanguage-link-target\" href=\"https://si.wikipedia.org/wiki/%E0%B6%B7%E0%B7%8F%E0%B7%80%E0%B6%B1%E0%B7%8F\" hreflang=\"si\" lang=\"si\" title=\"භාවනා — cingalês\"><span>සිංහල</span></a></li><li class=\"interlanguage-link interwiki-simple mw-list-item\"><a class=\"interlanguage-link-target\" href=\"https://simple.wikipedia.org/wiki/Meditation\" hreflang=\"en-simple\" lang=\"en-simple\" title=\"Meditation — Simple English\"><span>Simple English</span></a></li><li class=\"interlanguage-link interwiki-sk mw-list-item\"><a class=\"interlanguage-link-target\" href=\"https://sk.wikipedia.org/wiki/Medit%C3%A1cia\" hreflang=\"sk\" lang=\"sk\" title=\"Meditácia — eslovaco\"><span>Slovenčina</span></a></li><li class=\"interlanguage-link interwiki-sl mw-list-item\"><a class=\"interlanguage-link-target\" href=\"https://sl.wikipedia.org/wiki/Meditacija\" hreflang=\"sl\" lang=\"sl\" title=\"Meditacija — esloveno\"><span>Slovenščina</span></a></li><li class=\"interlanguage-link interwiki-sq mw-list-item\"><a class=\"interlanguage-link-target\" href=\"https://sq.wikipedia.org/wiki/Meditimi\" hreflang=\"sq\" lang=\"sq\" title=\"Meditimi — albanês\"><span>Shqip</span></a></li><li class=\"interlanguage-link interwiki-sr mw-list-item\"><a class=\"interlanguage-link-target\" href=\"https://sr.wikipedia.org/wiki/%D0%9C%D0%B5%D0%B4%D0%B8%D1%82%D0%B0%D1%86%D0%B8%D1%98%D0%B0\" hreflang=\"sr\" lang=\"sr\" title=\"Медитација — sérvio\"><span>Српски / srpski</span></a></li><li class=\"interlanguage-link interwiki-sv mw-list-item\"><a class=\"interlanguage-link-target\" href=\"https://sv.wikipedia.org/wiki/Meditation\" hreflang=\"sv\" lang=\"sv\" title=\"Meditation — sueco\"><span>Svenska</span></a></li><li class=\"interlanguage-link interwiki-sw mw-list-item\"><a class=\"interlanguage-link-target\" href=\"https://sw.wikipedia.org/wiki/Tafakuri\" hreflang=\"sw\" lang=\"sw\" title=\"Tafakuri — suaíli\"><span>Kiswahili</span></a></li><li class=\"interlanguage-link interwiki-ta mw-list-item\"><a class=\"interlanguage-link-target\" href=\"https://ta.wikipedia.org/wiki/%E0%AE%A4%E0%AE%BF%E0%AE%AF%E0%AE%BE%E0%AE%A9%E0%AE%AE%E0%AF%8D\" hreflang=\"ta\" lang=\"ta\" title=\"தியானம் — tâmil\"><span>தமிழ்</span></a></li><li class=\"interlanguage-link interwiki-te mw-list-item\"><a class=\"interlanguage-link-target\" href=\"https://te.wikipedia.org/wiki/%E0%B0%A7%E0%B1%8D%E0%B0%AF%E0%B0%BE%E0%B0%A8%E0%B0%82\" hreflang=\"te\" lang=\"te\" title=\"ధ్యానం — telugu\"><span>తెలుగు</span></a></li><li class=\"interlanguage-link interwiki-tpi mw-list-item\"><a class=\"interlanguage-link-target\" href=\"https://tpi.wikipedia.org/wiki/Meditesen\" hreflang=\"tpi\" lang=\"tpi\" title=\"Meditesen — tok pisin\"><span>Tok Pisin</span></a></li><li class=\"interlanguage-link interwiki-tr mw-list-item\"><a class=\"interlanguage-link-target\" href=\"https://tr.wikipedia.org/wiki/Meditasyon\" hreflang=\"tr\" lang=\"tr\" title=\"Meditasyon — turco\"><span>Türkçe</span></a></li><li class=\"interlanguage-link interwiki-tt mw-list-item\"><a class=\"interlanguage-link-target\" href=\"https://tt.wikipedia.org/wiki/%D0%9C%D0%B5%D0%B4%D0%B8%D1%82%D0%B0%D1%86%D0%B8%D1%8F\" hreflang=\"tt\" lang=\"tt\" title=\"Медитация — tatar\"><span>Татарча/tatarça</span></a></li><li class=\"interlanguage-link interwiki-uk mw-list-item\"><a class=\"interlanguage-link-target\" href=\"https://uk.wikipedia.org/wiki/%D0%9C%D0%B5%D0%B4%D0%B8%D1%82%D0%B0%D1%86%D1%96%D1%8F\" hreflang=\"uk\" lang=\"uk\" title=\"Медитація — ucraniano\"><span>Українська</span></a></li><li class=\"interlanguage-link interwiki-ur mw-list-item\"><a class=\"interlanguage-link-target\" href=\"https://ur.wikipedia.org/wiki/%D9%85%D8%B1%D8%A7%D9%82%D8%A8%DB%81\" hreflang=\"ur\" lang=\"ur\" title=\"مراقبہ — urdu\"><span>اردو</span></a></li><li class=\"interlanguage-link interwiki-vi mw-list-item\"><a class=\"interlanguage-link-target\" href=\"https://vi.wikipedia.org/wiki/Thi%E1%BB%81n_(th%E1%BB%B1c_h%C3%A0nh)\" hreflang=\"vi\" lang=\"vi\" title=\"Thiền (thực hành) — vietnamita\"><span>Tiếng Việt</span></a></li><li class=\"interlanguage-link interwiki-war mw-list-item\"><a class=\"interlanguage-link-target\" href=\"https://war.wikipedia.org/wiki/Meditasyon\" hreflang=\"war\" lang=\"war\" title=\"Meditasyon — waray\"><span>Winaray</span></a></li><li class=\"interlanguage-link interwiki-wuu mw-list-item\"><a class=\"interlanguage-link-target\" href=\"https://wuu.wikipedia.org/wiki/%E5%86%A5%E6%83%B3\" hreflang=\"wuu\" lang=\"wuu\" title=\"冥想 — wu\"><span>吴语</span></a></li><li class=\"interlanguage-link interwiki-yi mw-list-item\"><a class=\"interlanguage-link-target\" href=\"https://yi.wikipedia.org/wiki/%D7%9E%D7%A2%D7%93%D7%99%D7%98%D7%90%D7%A6%D7%99%D7%A2\" hreflang=\"yi\" lang=\"yi\" title=\"מעדיטאציע — iídiche\"><span>ייִדיש</span></a></li><li class=\"interlanguage-link interwiki-zh mw-list-item\"><a class=\"interlanguage-link-target\" href=\"https://zh.wikipedia.org/wiki/%E5%86%A5%E6%83%B3\" hreflang=\"zh\" lang=\"zh\" title=\"冥想 — chinês\"><span>中文</span></a></li><li class=\"interlanguage-link interwiki-zh-yue mw-list-item\"><a class=\"interlanguage-link-target\" href=\"https://zh-yue.wikipedia.org/wiki/%E5%86%A5%E6%83%B3\" hreflang=\"yue\" lang=\"yue\" title=\"冥想 — Cantonese\"><span>粵語</span></a></li></ul>\n",
              "<div class=\"after-portlet after-portlet-lang\"><span class=\"wb-langlinks-edit wb-langlinks-link\"><a class=\"wbc-editpage\" href=\"https://www.wikidata.org/wiki/Special:EntityPage/Q108458#sitelinks-wikipedia\" title=\"Editar hiperligações interlínguas\">Editar hiperligações</a></span></div>\n",
              "</div>\n",
              "</nav>\n",
              "<h1 class=\"firstHeading\" id=\"firstHeading\">Meditação</h1>\n",
              "<div class=\"mw-indicators\">\n",
              "</div>\n",
              "<div class=\"noprint\" id=\"siteSub\">Origem: Wikipédia, a enciclopédia livre.</div>\n",
              "</header>\n",
              "<div class=\"vector-body\" id=\"bodyContent\">\n",
              "<div id=\"contentSub\"></div>\n",
              "<div id=\"contentSub2\"></div>\n",
              "<div class=\"mw-body-content mw-content-ltr\" dir=\"ltr\" id=\"mw-content-text\" lang=\"pt\"><div class=\"mw-parser-output\"><div class=\"hatnote\"><img alt=\"Disambig grey.svg\" data-file-height=\"200\" data-file-width=\"260\" decoding=\"async\" height=\"15\" src=\"//upload.wikimedia.org/wikipedia/commons/thumb/4/4a/Disambig_grey.svg/20px-Disambig_grey.svg.png\" srcset=\"//upload.wikimedia.org/wikipedia/commons/thumb/4/4a/Disambig_grey.svg/30px-Disambig_grey.svg.png 1.5x, //upload.wikimedia.org/wikipedia/commons/thumb/4/4a/Disambig_grey.svg/40px-Disambig_grey.svg.png 2x\" width=\"20\"/> <b>Nota:</b> Para outros significados, veja <a class=\"mw-disambig\" href=\"/wiki/Medita%C3%A7%C3%A3o_(desambigua%C3%A7%C3%A3o)\" title=\"Meditação (desambiguação)\">Meditação (desambiguação)</a>.</div>\n",
              "<div class=\"thumb tright\"><div class=\"thumbinner\" style=\"width:252px;\"><a class=\"image\" href=\"/wiki/Ficheiro:Sri_Chinmoy_in_Kamakura.jpg\"><img alt=\"\" class=\"thumbimage\" data-file-height=\"2000\" data-file-width=\"1500\" decoding=\"async\" height=\"333\" src=\"//upload.wikimedia.org/wikipedia/commons/thumb/4/43/Sri_Chinmoy_in_Kamakura.jpg/250px-Sri_Chinmoy_in_Kamakura.jpg\" srcset=\"//upload.wikimedia.org/wikipedia/commons/thumb/4/43/Sri_Chinmoy_in_Kamakura.jpg/375px-Sri_Chinmoy_in_Kamakura.jpg 1.5x, //upload.wikimedia.org/wikipedia/commons/thumb/4/43/Sri_Chinmoy_in_Kamakura.jpg/500px-Sri_Chinmoy_in_Kamakura.jpg 2x\" width=\"250\"/></a> <div class=\"thumbcaption\"><div class=\"magnify\"><a class=\"internal\" href=\"/wiki/Ficheiro:Sri_Chinmoy_in_Kamakura.jpg\" title=\"Ampliar\"></a></div>Estátua do <a href=\"/wiki/Buda\" title=\"Buda\">Buda</a> em <a class=\"mw-redirect\" href=\"/wiki/Kamakura_(Kanagawa)\" title=\"Kamakura (Kanagawa)\">Kamakura</a>, <a href=\"/wiki/Jap%C3%A3o\" title=\"Japão\">Japão</a>, sentado e com os olhos entreabertos em meditação</div></div></div><p>\n",
              "A <b>meditação</b> pode ser definida como uma prática na qual o indivíduo utiliza técnicas para focar sua mente num objeto, pensamento ou atividade em particular, visando alcançar um estado de clareza mental e emocional.<sup class=\"reference\" id=\"cite_ref-merriam-webster.com_1-0\"><a href=\"#cite_note-merriam-webster.com-1\"><span>[</span>1<span>]</span></a></sup><sup class=\"reference\" id=\"cite_ref-SHAPIRO-1981_2-0\"><a href=\"#cite_note-SHAPIRO-1981-2\"><span>[</span>2<span>]</span></a></sup> Sua origem é muito antiga, remontando as tradições orientais, especialmente a <a href=\"/wiki/Ioga\" title=\"Ioga\">ioga</a><sup class=\"reference\" id=\"cite_ref-LEVINE-2000_3-0\"><a href=\"#cite_note-LEVINE-2000-3\"><span>[</span>3<span>]</span></a></sup>, mas o termo também se refere a práticas adotadas por alguns caminhos espirituais ou religiões, como o <a href=\"/wiki/Budismo\" title=\"Budismo\">budismo</a> e <a href=\"/wiki/Cristianismo\" title=\"Cristianismo\">cristianismo</a>, entre outras.<sup class=\"reference\" id=\"cite_ref-Naranjo-2005_4-0\"><a href=\"#cite_note-Naranjo-2005-4\"><span>[</span>4<span>]</span></a></sup> Textos orientais consideram a meditação como instrumento que leva em direção à <a href=\"/wiki/Moksha\" title=\"Moksha\">libertação</a>.<sup class=\"reference\" id=\"cite_ref-ReferenceA_5-0\"><a href=\"#cite_note-ReferenceA-5\"><span>[</span>5<span>]</span></a></sup></p><div class=\"thumb tright\"><div class=\"thumbinner\" style=\"width:252px;\"><a class=\"image\" href=\"/wiki/Ficheiro:Solitude.jpg\"><img alt=\"\" class=\"thumbimage\" data-file-height=\"1024\" data-file-width=\"768\" decoding=\"async\" height=\"333\" src=\"//upload.wikimedia.org/wikipedia/commons/thumb/d/d0/Solitude.jpg/250px-Solitude.jpg\" srcset=\"//upload.wikimedia.org/wikipedia/commons/thumb/d/d0/Solitude.jpg/375px-Solitude.jpg 1.5x, //upload.wikimedia.org/wikipedia/commons/thumb/d/d0/Solitude.jpg/500px-Solitude.jpg 2x\" width=\"250\"/></a> <div class=\"thumbcaption\"><div class=\"magnify\"><a class=\"internal\" href=\"/wiki/Ficheiro:Solitude.jpg\" title=\"Ampliar\"></a></div>Meditando na natureza</div></div></div>\n",
              "<div aria-labelledby=\"mw-toc-heading\" class=\"toc\" id=\"toc\" role=\"navigation\"><input class=\"toctogglecheckbox\" id=\"toctogglecheckbox\" role=\"button\" style=\"display:none\" type=\"checkbox\"/><div class=\"toctitle\" dir=\"ltr\" lang=\"pt\"><h2 id=\"mw-toc-heading\">Índice</h2><span class=\"toctogglespan\"><label class=\"toctogglelabel\" for=\"toctogglecheckbox\"></label></span></div>\n",
              "<ul>\n",
              "<li class=\"toclevel-1 tocsection-1\"><a href=\"#Etimologia\"><span class=\"tocnumber\">1</span> <span class=\"toctext\">Etimologia</span></a></li>\n",
              "<li class=\"toclevel-1 tocsection-2\"><a href=\"#História\"><span class=\"tocnumber\">2</span> <span class=\"toctext\">História</span></a></li>\n",
              "<li class=\"toclevel-1 tocsection-3\"><a href=\"#Definição\"><span class=\"tocnumber\">3</span> <span class=\"toctext\">Definição</span></a></li>\n",
              "<li class=\"toclevel-1 tocsection-4\"><a href=\"#Objetivos\"><span class=\"tocnumber\">4</span> <span class=\"toctext\">Objetivos</span></a></li>\n",
              "<li class=\"toclevel-1 tocsection-5\"><a href=\"#Prática\"><span class=\"tocnumber\">5</span> <span class=\"toctext\">Prática</span></a>\n",
              "<ul>\n",
              "<li class=\"toclevel-2 tocsection-6\"><a href=\"#Postura\"><span class=\"tocnumber\">5.1</span> <span class=\"toctext\">Postura</span></a></li>\n",
              "<li class=\"toclevel-2 tocsection-7\"><a href=\"#Métodos\"><span class=\"tocnumber\">5.2</span> <span class=\"toctext\">Métodos</span></a></li>\n",
              "<li class=\"toclevel-2 tocsection-8\"><a href=\"#Duração\"><span class=\"tocnumber\">5.3</span> <span class=\"toctext\">Duração</span></a></li>\n",
              "<li class=\"toclevel-2 tocsection-9\"><a href=\"#Aprendizado\"><span class=\"tocnumber\">5.4</span> <span class=\"toctext\">Aprendizado</span></a></li>\n",
              "</ul>\n",
              "</li>\n",
              "<li class=\"toclevel-1 tocsection-10\"><a href=\"#Meditação_e_saúde\"><span class=\"tocnumber\">6</span> <span class=\"toctext\">Meditação e saúde</span></a></li>\n",
              "<li class=\"toclevel-1 tocsection-11\"><a href=\"#Ver_também\"><span class=\"tocnumber\">7</span> <span class=\"toctext\">Ver também</span></a>\n",
              "<ul>\n",
              "<li class=\"toclevel-2 tocsection-12\"><a href=\"#Leituras_adicionais\"><span class=\"tocnumber\">7.1</span> <span class=\"toctext\">Leituras adicionais</span></a></li>\n",
              "</ul>\n",
              "</li>\n",
              "<li class=\"toclevel-1\"><a href=\"#Referências\"><span class=\"tocnumber\">8</span> <span class=\"toctext\">Referências</span></a></li>\n",
              "</ul>\n",
              "</div>\n",
              "<h2><span class=\"mw-headline\" id=\"Etimologia\">Etimologia</span><span class=\"mw-editsection\"><span class=\"mw-editsection-bracket\">[</span><a class=\"mw-editsection-visualeditor\" href=\"/w/index.php?title=Medita%C3%A7%C3%A3o&amp;veaction=edit&amp;section=1\" title=\"Editar secção: Etimologia\">editar</a><span class=\"mw-editsection-divider\"> | </span><a href=\"/w/index.php?title=Medita%C3%A7%C3%A3o&amp;action=edit&amp;section=1\" title=\"Editar secção: Etimologia\">editar código-fonte</a><span class=\"mw-editsection-bracket\">]</span></span></h2>\n",
              "<p>O termo em <a class=\"mw-redirect\" href=\"/wiki/L%C3%ADngua_p%C3%A1li\" title=\"Língua páli\">páli</a> utilizado para referir-se a meditação é <i>bhavana</i>, que significa \"cultivo\".<sup class=\"reference\" id=\"cite_ref-6\"><a href=\"#cite_note-6\"><span>[</span>6<span>]</span></a></sup> O termo meditação foi utilizado como palavra para traduzir práticas espirituais orientais, referidas pelo termo <i>dhyana</i> no <a href=\"/wiki/Budismo\" title=\"Budismo\">budismo</a> e <a href=\"/wiki/Hindu%C3%ADsmo\" title=\"Hinduísmo\">hinduísmo</a>.<sup class=\"reference\" id=\"cite_ref-7\"><a href=\"#cite_note-7\"><span>[</span>7<span>]</span></a></sup><sup class=\"reference\" id=\"cite_ref-8\"><a href=\"#cite_note-8\"><span>[</span>8<span>]</span></a></sup> Estudiosos notaram que o termo \"meditação\" no uso contemporâneo é paralelo ao significado do termo \"<a href=\"/wiki/Contempla%C3%A7%C3%A3o\" title=\"Contemplação\">contemplação</a>\" no cristianismo.<sup class=\"reference\" id=\"cite_ref-9\"><a href=\"#cite_note-9\"><span>[</span>9<span>]</span></a></sup>\n",
              "</p>\n",
              "<h2><span id=\"Hist.C3.B3ria\"></span><span class=\"mw-headline\" id=\"História\">História</span><span class=\"mw-editsection\"><span class=\"mw-editsection-bracket\">[</span><a class=\"mw-editsection-visualeditor\" href=\"/w/index.php?title=Medita%C3%A7%C3%A3o&amp;veaction=edit&amp;section=2\" title=\"Editar secção: História\">editar</a><span class=\"mw-editsection-divider\"> | </span><a href=\"/w/index.php?title=Medita%C3%A7%C3%A3o&amp;action=edit&amp;section=2\" title=\"Editar secção: História\">editar código-fonte</a><span class=\"mw-editsection-bracket\">]</span></span></h2>\n",
              "<p>Os <a href=\"/wiki/Vedas\" title=\"Vedas\">Vedas</a> hinduístas estão entre as primeiras referências escritas sobre meditação. Outras formas surgiram associadas ao <a class=\"mw-redirect\" href=\"/wiki/Confucianismo\" title=\"Confucianismo\">confucianismo</a> e <a class=\"mw-redirect\" href=\"/wiki/Tao%C3%ADsmo\" title=\"Taoísmo\">taoísmo</a> na China, assim como no <a href=\"/wiki/Hindu%C3%ADsmo\" title=\"Hinduísmo\">hinduísmo</a>, <a href=\"/wiki/Jainismo\" title=\"Jainismo\">jainismo</a> e <a href=\"/wiki/Budismo\" title=\"Budismo\">budismo</a> no Nepal e Índia. No terceiro século depois de Cristo, <a href=\"/wiki/Plotino\" title=\"Plotino\">Plotino</a> havia estabelecido técnicas para a meditação. No ocidente, mesmo 20 anos a.C., dentro do Império Romano, <a href=\"/wiki/F%C3%ADlon_de_Alexandria\" title=\"Fílon de Alexandria\">Fílon de Alexandria</a> nomeou práticas espirituais que envolviam atenção e concentração.<sup class=\"reference\" id=\"cite_ref-10\"><a href=\"#cite_note-10\"><span>[</span>10<span>]</span></a></sup> Já no século XII, o sufismo utilizava de palavras sagradas e métodos específicos para meditação, como o controle da respiração.<sup class=\"reference\" id=\"cite_ref-Spiritual_Psychology'_page_109_11-0\"><a href=\"#cite_note-Spiritual_Psychology'_page_109-11\"><span>[</span>11<span>]</span></a></sup> A existência de interação com indianos, nepaleses ou sufis pode ser uma indicação da abordagem cristã ortodoxa ao <a href=\"/wiki/Hesicasmo\" title=\"Hesicasmo\">hesicasmo</a>, desenvolvida principalmente na Grécia entre os séculos X e XIV, mas não foram encontradas provas concretas.<sup class=\"reference\" id=\"cite_ref-12\"><a href=\"#cite_note-12\"><span>[</span>12<span>]</span></a></sup><sup class=\"reference\" id=\"cite_ref-13\"><a href=\"#cite_note-13\"><span>[</span>13<span>]</span></a></sup><sup class=\"reference\" id=\"cite_ref-14\"><a href=\"#cite_note-14\"><span>[</span>14<span>]</span></a></sup>\n",
              "</p><p>\n",
              "A meditação cristã praticada desde o século sexto foi definida pelo monge Guigo II no <a href=\"/wiki/S%C3%A9culo_XII\" title=\"Século XII\">século XII</a> com os termos \"leitura, reflexão, oração e contemplação\" e teve seu desenvolvimento continuado no <a href=\"/wiki/S%C3%A9culo_XVI\" title=\"Século XVI\">século XVI</a> em diante por <a href=\"/wiki/In%C3%A1cio_de_Loyola\" title=\"Inácio de Loyola\">Inácio de Loyola</a> e <a href=\"/wiki/Teresa_de_%C3%81vila\" title=\"Teresa de Ávila\">Teresa de Ávila</a>.<sup class=\"reference\" id=\"cite_ref-15\"><a href=\"#cite_note-15\"><span>[</span>15<span>]</span></a></sup><sup class=\"reference\" id=\"cite_ref-16\"><a href=\"#cite_note-16\"><span>[</span>16<span>]</span></a></sup><sup class=\"reference\" id=\"cite_ref-17\"><a href=\"#cite_note-17\"><span>[</span>17<span>]</span></a></sup><sup class=\"reference\" id=\"cite_ref-18\"><a href=\"#cite_note-18\"><span>[</span>18<span>]</span></a></sup></p><div class=\"thumb tright\"><div class=\"thumbinner\" style=\"width:252px;\"><a class=\"image\" href=\"/wiki/Ficheiro:Sri-Chinmoy-Barcelona-World-Parliament-religions.jpg\"><img alt=\"\" class=\"thumbimage\" data-file-height=\"629\" data-file-width=\"800\" decoding=\"async\" height=\"197\" src=\"//upload.wikimedia.org/wikipedia/commons/thumb/0/0e/Sri-Chinmoy-Barcelona-World-Parliament-religions.jpg/250px-Sri-Chinmoy-Barcelona-World-Parliament-religions.jpg\" srcset=\"//upload.wikimedia.org/wikipedia/commons/thumb/0/0e/Sri-Chinmoy-Barcelona-World-Parliament-religions.jpg/375px-Sri-Chinmoy-Barcelona-World-Parliament-religions.jpg 1.5x, //upload.wikimedia.org/wikipedia/commons/thumb/0/0e/Sri-Chinmoy-Barcelona-World-Parliament-religions.jpg/500px-Sri-Chinmoy-Barcelona-World-Parliament-religions.jpg 2x\" width=\"250\"/></a> <div class=\"thumbcaption\"><div class=\"magnify\"><a class=\"internal\" href=\"/wiki/Ficheiro:Sri-Chinmoy-Barcelona-World-Parliament-religions.jpg\" title=\"Ampliar\"></a></div><a href=\"/wiki/Sri_Chinmoy\" title=\"Sri Chinmoy\">Sri Chinmoy</a> na meditação de abertura do <a href=\"/wiki/Parlamento_Mundial_de_Religi%C3%B5es\" title=\"Parlamento Mundial de Religiões\">Parlamento Mundial de Religiões</a> em Barcelona, 2004</div></div></div>\n",
              "<h2><span id=\"Defini.C3.A7.C3.A3o\"></span><span class=\"mw-headline\" id=\"Definição\">Definição</span><span class=\"mw-editsection\"><span class=\"mw-editsection-bracket\">[</span><a class=\"mw-editsection-visualeditor\" href=\"/w/index.php?title=Medita%C3%A7%C3%A3o&amp;veaction=edit&amp;section=3\" title=\"Editar secção: Definição\">editar</a><span class=\"mw-editsection-divider\"> | </span><a href=\"/w/index.php?title=Medita%C3%A7%C3%A3o&amp;action=edit&amp;section=3\" title=\"Editar secção: Definição\">editar código-fonte</a><span class=\"mw-editsection-bracket\">]</span></span></h2>\n",
              "<p>A definição de meditação pode variar de acordo com o contexto em que se encontra, variando de qual religião tem origem ou se é usada de maneira secular. Em meio acadêmico, a meditação já chegou a ser dividida em dois tipos de abordagem. A \"atenção focada\" compreende a concentração voluntária num objeto, respiração, imagem ou palavras. O outro tipo, o \"monitoramento aberto\", envolve uma observação não-reativa do conteúdo da experiência que ocorre num dado momento.<sup class=\"reference\" id=\"cite_ref-lutz08_19-0\"><a href=\"#cite_note-lutz08-19\"><span>[</span>19<span>]</span></a></sup>\n",
              "</p><p>Algumas definições do que é meditação estão relacionadas a uma prática ou técnica, outras vezes estão relacionadas a uma explicação de um estado de consciência ou simplesmente são usadas como um verbo.<sup class=\"reference\" id=\"cite_ref-20\"><a href=\"#cite_note-20\"><span>[</span>20<span>]</span></a></sup>\n",
              "</p><p>Algumas distintas definições que normalmente são usadas para meditação são:\n",
              "</p>\n",
              "<ul><li>prática de focar a mente em um único objeto (por exemplo: em uma estátua religiosa, na própria respiração, em um <a href=\"/wiki/Mantra\" title=\"Mantra\">mantra</a>);<sup class=\"reference\" id=\"cite_ref-:0_21-0\"><a href=\"#cite_note-:0-21\"><span>[</span>21<span>]</span></a></sup></li>\n",
              "<li>uma abertura mental para o <a href=\"/wiki/Divindade\" title=\"Divindade\">divino</a>, objetivando a orientação de um poder mais alto;</li>\n",
              "<li>um <a class=\"new\" href=\"/w/index.php?title=Estado_de_sil%C3%AAncio&amp;action=edit&amp;redlink=1\" title=\"Estado de silêncio (página não existe)\">estado de silêncio</a> que é vivenciado quando a <a href=\"/wiki/Mente\" title=\"Mente\">mente</a> se torna vazia e sem <a href=\"/wiki/Pensamento\" title=\"Pensamento\">pensamentos</a>;<sup class=\"reference\" id=\"cite_ref-:0_21-1\"><a href=\"#cite_note-:0-21\"><span>[</span>21<span>]</span></a></sup></li>\n",
              "<li>contemplação da realidade e seus aspectos (como a <a href=\"/wiki/Anicca\" title=\"Anicca\">impermanência</a>, por exemplo);</li>\n",
              "<li>atingir estados superiores de consciência e inconsciência;</li>\n",
              "<li>desenvolvimento de uma determinada qualidade mental, como energia, <a href=\"/wiki/Concentra%C3%A7%C3%A3o_mental\" title=\"Concentração mental\">concentração</a>, plena atenção, bondade etc.; <sup class=\"reference\" id=\"cite_ref-22\"><a href=\"#cite_note-22\"><span>[</span>22<span>]</span></a></sup><sup class=\"reference\" id=\"cite_ref-:1_23-0\"><a href=\"#cite_note-:1-23\"><span>[</span>23<span>]</span></a></sup></li>\n",
              "<li>pensamento sustentado e aplicado em um tema (como na <a href=\"/wiki/Medita%C3%A7%C3%A3o_crist%C3%A3\" title=\"Meditação cristã\">meditação cristã</a>).</li></ul>\n",
              "<p><br/>\n",
              "</p><p>\n",
              "Ainda que algumas definições da palavra 'meditação' usadas por diferentes religiões sejam bem diferentes e até mesmo contraditórias, é ponto comum que apontem para uma realidade interior e o desenvolvimento/compreensão desta realidade. A compreensão de o que é a meditação deve ser feita sempre dentro do contexto em que é apresentada, da religião ou da escola que a apresenta, caso contrário as distintas explicações podem se tornar contraditórias.<sup class=\"reference\" id=\"cite_ref-:1_23-1\"><a href=\"#cite_note-:1-23\"><span>[</span>23<span>]</span></a></sup> </p><div class=\"thumb tright\"><div class=\"thumbinner\" style=\"width:252px;\"><a class=\"image\" href=\"/wiki/Ficheiro:Abbot_of_Watkungtaphao_in_Phu_Soidao_Waterfall.jpg\"><img alt=\"\" class=\"thumbimage\" data-file-height=\"1380\" data-file-width=\"1148\" decoding=\"async\" height=\"301\" src=\"//upload.wikimedia.org/wikipedia/commons/thumb/2/23/Abbot_of_Watkungtaphao_in_Phu_Soidao_Waterfall.jpg/250px-Abbot_of_Watkungtaphao_in_Phu_Soidao_Waterfall.jpg\" srcset=\"//upload.wikimedia.org/wikipedia/commons/thumb/2/23/Abbot_of_Watkungtaphao_in_Phu_Soidao_Waterfall.jpg/375px-Abbot_of_Watkungtaphao_in_Phu_Soidao_Waterfall.jpg 1.5x, //upload.wikimedia.org/wikipedia/commons/thumb/2/23/Abbot_of_Watkungtaphao_in_Phu_Soidao_Waterfall.jpg/500px-Abbot_of_Watkungtaphao_in_Phu_Soidao_Waterfall.jpg 2x\" width=\"250\"/></a> <div class=\"thumbcaption\"><div class=\"magnify\"><a class=\"internal\" href=\"/wiki/Ficheiro:Abbot_of_Watkungtaphao_in_Phu_Soidao_Waterfall.jpg\" title=\"Ampliar\"></a></div>Ábade do templo Watkungtaphao sentado de pernas cruzadas e mãos sobrepostas no colo.</div></div></div>\n",
              "<h2><span class=\"mw-headline\" id=\"Objetivos\">Objetivos</span><span class=\"mw-editsection\"><span class=\"mw-editsection-bracket\">[</span><a class=\"mw-editsection-visualeditor\" href=\"/w/index.php?title=Medita%C3%A7%C3%A3o&amp;veaction=edit&amp;section=4\" title=\"Editar secção: Objetivos\">editar</a><span class=\"mw-editsection-divider\"> | </span><a href=\"/w/index.php?title=Medita%C3%A7%C3%A3o&amp;action=edit&amp;section=4\" title=\"Editar secção: Objetivos\">editar código-fonte</a><span class=\"mw-editsection-bracket\">]</span></span></h2><p>\n",
              "A meditação pode ser praticada por diversos motivos: desde a simples concentração dos pensamentos, até a busca pelo <a href=\"/wiki/Nirvana\" title=\"Nirvana\">nirvana</a>. Desde tempos antigos, as tradições orientais consideram a meditação como um passo em direção à <a href=\"/wiki/Moksha\" title=\"Moksha\">libertação</a>.<sup class=\"reference\" id=\"cite_ref-ReferenceA_5-1\"><a href=\"#cite_note-ReferenceA-5\"><span>[</span>5<span>]</span></a></sup> Há praticantes da meditação que relataram melhora na concentração, <a href=\"/wiki/Consci%C3%AAncia\" title=\"Consciência\">consciência</a>, autodisciplina e equanimidade.<sup class=\"reference\" id=\"cite_ref-24\"><a href=\"#cite_note-24\"><span>[</span>24<span>]</span></a></sup> Segundo dicionários modernos, a meditação é vista como uma prática onde o indivíduo utiliza técnicas para focar sua mente num objeto, pensamento ou atividade em particular, visando alcançar um estado de clareza mental e emocional.<sup class=\"reference\" id=\"cite_ref-merriam-webster.com_1-1\"><a href=\"#cite_note-merriam-webster.com-1\"><span>[</span>1<span>]</span></a></sup><sup class=\"reference\" id=\"cite_ref-SHAPIRO-1981_2-1\"><a href=\"#cite_note-SHAPIRO-1981-2\"><span>[</span>2<span>]</span></a></sup> </p><div class=\"thumb tright\"><div class=\"thumbinner\" style=\"width:252px;\"><a class=\"image\" href=\"/wiki/Ficheiro:20170208_meditation-stool.jpg\"><img alt=\"\" class=\"thumbimage\" data-file-height=\"3480\" data-file-width=\"4640\" decoding=\"async\" height=\"188\" src=\"//upload.wikimedia.org/wikipedia/commons/thumb/9/94/20170208_meditation-stool.jpg/250px-20170208_meditation-stool.jpg\" srcset=\"//upload.wikimedia.org/wikipedia/commons/thumb/9/94/20170208_meditation-stool.jpg/375px-20170208_meditation-stool.jpg 1.5x, //upload.wikimedia.org/wikipedia/commons/thumb/9/94/20170208_meditation-stool.jpg/500px-20170208_meditation-stool.jpg 2x\" width=\"250\"/></a> <div class=\"thumbcaption\"><div class=\"magnify\"><a class=\"internal\" href=\"/wiki/Ficheiro:20170208_meditation-stool.jpg\" title=\"Ampliar\"></a></div>Um banco especial para facililtar sentar-se em seiza (ajoelhado).</div></div></div>\n",
              "<h2><span id=\"Pr.C3.A1tica\"></span><span class=\"mw-headline\" id=\"Prática\">Prática</span><span class=\"mw-editsection\"><span class=\"mw-editsection-bracket\">[</span><a class=\"mw-editsection-visualeditor\" href=\"/w/index.php?title=Medita%C3%A7%C3%A3o&amp;veaction=edit&amp;section=5\" title=\"Editar secção: Prática\">editar</a><span class=\"mw-editsection-divider\"> | </span><a href=\"/w/index.php?title=Medita%C3%A7%C3%A3o&amp;action=edit&amp;section=5\" title=\"Editar secção: Prática\">editar código-fonte</a><span class=\"mw-editsection-bracket\">]</span></span></h2>\n",
              "<p>A prática de meditação pode ter inúmeras variantes quanto à postura do corpo, objeto de meditação.\n",
              "</p>\n",
              "<h3><span class=\"mw-headline\" id=\"Postura\">Postura</span><span class=\"mw-editsection\"><span class=\"mw-editsection-bracket\">[</span><a class=\"mw-editsection-visualeditor\" href=\"/w/index.php?title=Medita%C3%A7%C3%A3o&amp;veaction=edit&amp;section=6\" title=\"Editar secção: Postura\">editar</a><span class=\"mw-editsection-divider\"> | </span><a href=\"/w/index.php?title=Medita%C3%A7%C3%A3o&amp;action=edit&amp;section=6\" title=\"Editar secção: Postura\">editar código-fonte</a><span class=\"mw-editsection-bracket\">]</span></span></h3>\n",
              "<p>A meditação pode ser realizada sentado, em pé ou andando, variando pelo contexto onde é ensinada. A posição sentada é adotada normalmente por ser considerada a mais fácil, onde o corpo se encontra em repouso mas ainda alerta. A famosa <a href=\"/wiki/Posi%C3%A7%C3%A3o_de_l%C3%B3tus\" title=\"Posição de lótus\">posição de lótus</a> se difundiu muito como sinônimo de meditação por ser usada no <a href=\"/wiki/Ioga\" title=\"Ioga\">ioga</a> como uma posição ideal de meditação, onde mantém o corpo estável, mas pode ser difícil de alcançar e não é recomendada caso traga desconforto ou distraia o praticante do objeto da sua prática ou técnica. Inúmeras posições de meditação podem ser usadas como de pernas cruzadas, de joelhos (seiza), meio-lótus (com uma perna em cima da outra), birmanesa, etc.<sup class=\"reference\" id=\"cite_ref-:0_21-2\"><a href=\"#cite_note-:0-21\"><span>[</span>21<span>]</span></a></sup> Na tradição budista é comum se encontrar a prática da meditação andando, que é vista como uma postura onde se desenvolve concentração em movimento, energia para a mente e vitalidade para o corpo.<sup class=\"reference\" id=\"cite_ref-25\"><a href=\"#cite_note-25\"><span>[</span>25<span>]</span></a></sup>\n",
              "</p>\n",
              "<h3><span id=\"M.C3.A9todos\"></span><span class=\"mw-headline\" id=\"Métodos\">Métodos</span><span class=\"mw-editsection\"><span class=\"mw-editsection-bracket\">[</span><a class=\"mw-editsection-visualeditor\" href=\"/w/index.php?title=Medita%C3%A7%C3%A3o&amp;veaction=edit&amp;section=7\" title=\"Editar secção: Métodos\">editar</a><span class=\"mw-editsection-divider\"> | </span><a href=\"/w/index.php?title=Medita%C3%A7%C3%A3o&amp;action=edit&amp;section=7\" title=\"Editar secção: Métodos\">editar código-fonte</a><span class=\"mw-editsection-bracket\">]</span></span></h3>\n",
              "<p>Em linhas gerais, pode-se descrever dois grupos de técnicas de meditação. A \"atenção focada\" compreende a concentração voluntária num objeto, respiração, imagem ou palavras. O outro tipo, o \"monitoramento aberto\", envolve uma observação não-reativa do conteúdo da experiência que ocorre num dado momento.<sup class=\"reference\" id=\"cite_ref-lutz08_19-1\"><a href=\"#cite_note-lutz08-19\"><span>[</span>19<span>]</span></a></sup>\n",
              "</p>\n",
              "<h3><span id=\"Dura.C3.A7.C3.A3o\"></span><span class=\"mw-headline\" id=\"Duração\">Duração</span><span class=\"mw-editsection\"><span class=\"mw-editsection-bracket\">[</span><a class=\"mw-editsection-visualeditor\" href=\"/w/index.php?title=Medita%C3%A7%C3%A3o&amp;veaction=edit&amp;section=8\" title=\"Editar secção: Duração\">editar</a><span class=\"mw-editsection-divider\"> | </span><a href=\"/w/index.php?title=Medita%C3%A7%C3%A3o&amp;action=edit&amp;section=8\" title=\"Editar secção: Duração\">editar código-fonte</a><span class=\"mw-editsection-bracket\">]</span></span></h3>\n",
              "<p>Normalmente, não há um tempo mínimo preestabelecido. Pode-se iniciar com um período de poucos minutos e, conforme se aperfeiçoa, esse tempo pode aumentar até para horas, dias, ou em casos excepcionais, até 21 dias (o <a class=\"mw-redirect\" href=\"/wiki/Samadhi\" title=\"Samadhi\">samadhi</a>). É importante ressaltar que a frequência da prática também influencia muito os resultados.<sup class=\"reference\" id=\"cite_ref-:0_21-3\"><a href=\"#cite_note-:0-21\"><span>[</span>21<span>]</span></a></sup>\n",
              "</p>\n",
              "<h3><span class=\"mw-headline\" id=\"Aprendizado\">Aprendizado</span><span class=\"mw-editsection\"><span class=\"mw-editsection-bracket\">[</span><a class=\"mw-editsection-visualeditor\" href=\"/w/index.php?title=Medita%C3%A7%C3%A3o&amp;veaction=edit&amp;section=9\" title=\"Editar secção: Aprendizado\">editar</a><span class=\"mw-editsection-divider\"> | </span><a href=\"/w/index.php?title=Medita%C3%A7%C3%A3o&amp;action=edit&amp;section=9\" title=\"Editar secção: Aprendizado\">editar código-fonte</a><span class=\"mw-editsection-bracket\">]</span></span></h3>\n",
              "<p>Nas tradições espirituais ou religiosas de meditação, o professor realizado é aquele que consegue ensinar o aprendiz em silêncio, através da sua própria consciência interior ou pelo olhar silencioso (<a href=\"/wiki/Inicia%C3%A7%C3%A3o\" title=\"Iniciação\">iniciação</a>). Ele não precisa explicar exteriormente como meditar ou ensinar uma técnica específica.<sup class=\"reference\" id=\"cite_ref-26\"><a href=\"#cite_note-26\"><span>[</span>26<span>]</span></a></sup>\n",
              "</p>\n",
              "<h2><span id=\"Medita.C3.A7.C3.A3o_e_sa.C3.BAde\"></span><span class=\"mw-headline\" id=\"Meditação_e_saúde\">Meditação e saúde</span><span class=\"mw-editsection\"><span class=\"mw-editsection-bracket\">[</span><a class=\"mw-editsection-visualeditor\" href=\"/w/index.php?title=Medita%C3%A7%C3%A3o&amp;veaction=edit&amp;section=10\" title=\"Editar secção: Meditação e saúde\">editar</a><span class=\"mw-editsection-divider\"> | </span><a href=\"/w/index.php?title=Medita%C3%A7%C3%A3o&amp;action=edit&amp;section=10\" title=\"Editar secção: Meditação e saúde\">editar código-fonte</a><span class=\"mw-editsection-bracket\">]</span></span></h2><p>\n",
              "Historicamente, a meditação foi sempre usada e associada à prática espiritual e de autodescobrimento. No entanto, desde 1970, a <a href=\"/wiki/Psicologia\" title=\"Psicologia\">psicologia</a> e <a href=\"/wiki/Psiquiatria\" title=\"Psiquiatria\">psiquiatria</a> desenvolveram técnicas de meditação para diversos distúrbios psicológicos.<sup class=\"reference\" id=\"cite_ref-Harrington2015_27-0\"><a href=\"#cite_note-Harrington2015-27\"><span>[</span>27<span>]</span></a></sup> Práticas de \"monitoramento aberto\" (vide 'definição' acima) são utilizadas na psicologia para reduzir problemas mentais e físicos,<sup class=\"reference\" id=\"cite_ref-Strauss_28-0\"><a href=\"#cite_note-Strauss-28\"><span>[</span>28<span>]</span></a></sup><sup class=\"reference\" id=\"cite_ref-Khoury2015_29-0\"><a href=\"#cite_note-Khoury2015-29\"><span>[</span>29<span>]</span></a></sup> bem como <a href=\"/wiki/Drogadi%C3%A7%C3%A3o\" title=\"Drogadição\">dependência química</a>. A evidência é insuficiente sobre o efeito da meditação no humor, atenção, alimentação, sono ou peso corporal.<sup class=\"reference\" id=\"cite_ref-Chiesa_30-0\"><a href=\"#cite_note-Chiesa-30\"><span>[</span>30<span>]</span></a></sup></p><div class=\"thumb tright\"><div class=\"thumbinner\" style=\"width:207px;\"><a class=\"image\" href=\"/wiki/Ficheiro:Brooklyn_Museum_-_Man_Meditating_in_a_Garden_Setting.jpg\"><img alt=\"\" class=\"thumbimage\" data-file-height=\"768\" data-file-width=\"575\" decoding=\"async\" height=\"274\" src=\"//upload.wikimedia.org/wikipedia/commons/thumb/5/57/Brooklyn_Museum_-_Man_Meditating_in_a_Garden_Setting.jpg/205px-Brooklyn_Museum_-_Man_Meditating_in_a_Garden_Setting.jpg\" srcset=\"//upload.wikimedia.org/wikipedia/commons/thumb/5/57/Brooklyn_Museum_-_Man_Meditating_in_a_Garden_Setting.jpg/308px-Brooklyn_Museum_-_Man_Meditating_in_a_Garden_Setting.jpg 1.5x, //upload.wikimedia.org/wikipedia/commons/thumb/5/57/Brooklyn_Museum_-_Man_Meditating_in_a_Garden_Setting.jpg/410px-Brooklyn_Museum_-_Man_Meditating_in_a_Garden_Setting.jpg 2x\" width=\"205\"/></a> <div class=\"thumbcaption\"><div class=\"magnify\"><a class=\"internal\" href=\"/wiki/Ficheiro:Brooklyn_Museum_-_Man_Meditating_in_a_Garden_Setting.jpg\" title=\"Ampliar\"></a></div>Pintura oriental de uma pessoa meditando no jardim.</div></div></div>\n",
              "<h2><span id=\"Ver_tamb.C3.A9m\"></span><span class=\"mw-headline\" id=\"Ver_também\">Ver também</span><span class=\"mw-editsection\"><span class=\"mw-editsection-bracket\">[</span><a class=\"mw-editsection-visualeditor\" href=\"/w/index.php?title=Medita%C3%A7%C3%A3o&amp;veaction=edit&amp;section=11\" title=\"Editar secção: Ver também\">editar</a><span class=\"mw-editsection-divider\"> | </span><a href=\"/w/index.php?title=Medita%C3%A7%C3%A3o&amp;action=edit&amp;section=11\" title=\"Editar secção: Ver também\">editar código-fonte</a><span class=\"mw-editsection-bracket\">]</span></span></h2>\n",
              "<div class=\"noprint\" style=\"clear: right; border: solid #aaa 1px; margin: 0 0 1em 1em; font-size: 90%; background: #f9f9f9; width: 238px; padding: 5px; spacing: 0px; text-align: center; float: right;\">\n",
              "<div style=\"float: left; vertical-align:middle;\"><div class=\"floatnone\"><img alt=\"\" data-file-height=\"1376\" data-file-width=\"1024\" decoding=\"async\" height=\"30\" src=\"//upload.wikimedia.org/wikipedia/commons/thumb/4/4a/Commons-logo.svg/22px-Commons-logo.svg.png\" srcset=\"//upload.wikimedia.org/wikipedia/commons/thumb/4/4a/Commons-logo.svg/33px-Commons-logo.svg.png 1.5x, //upload.wikimedia.org/wikipedia/commons/thumb/4/4a/Commons-logo.svg/44px-Commons-logo.svg.png 2x\" width=\"22\"/></div></div>\n",
              "<div style=\"margin-left: 30px; line-height:normal; vertical-align:middle;\">O <a class=\"extiw\" href=\"https://commons.wikimedia.org/wiki/P%C3%A1gina_principal\" title=\"commons:Página principal\">Commons</a> possui uma <i>categoria</i> com imagens e outros ficheiros sobre  <b><span class=\"plainlinks\"><a class=\"external text\" href=\"https://commons.wikimedia.org/wiki/Category:Meditation?uselang=pt\">Meditação</a></span></b></div>\n",
              "</div>\n",
              "<h3><span class=\"mw-headline\" id=\"Leituras_adicionais\">Leituras adicionais</span><span class=\"mw-editsection\"><span class=\"mw-editsection-bracket\">[</span><a class=\"mw-editsection-visualeditor\" href=\"/w/index.php?title=Medita%C3%A7%C3%A3o&amp;veaction=edit&amp;section=12\" title=\"Editar secção: Leituras adicionais\">editar</a><span class=\"mw-editsection-divider\"> | </span><a href=\"/w/index.php?title=Medita%C3%A7%C3%A3o&amp;action=edit&amp;section=12\" title=\"Editar secção: Leituras adicionais\">editar código-fonte</a><span class=\"mw-editsection-bracket\">]</span></span></h3>\n",
              "<ul><li><a href=\"/wiki/Daimoku\" title=\"Daimoku\">Daimoku</a></li>\n",
              "<li><a href=\"/wiki/Sri_Aurobindo\" title=\"Sri Aurobindo\">Sri Aurobindo</a>, <i>Uma Psicologia Maior.</i> <a class=\"internal mw-magiclink-isbn\" href=\"/wiki/Especial:Fontes_de_livros/9788531607165\">ISBN 978-8-53160-716-5</a></li>\n",
              "<li><a href=\"/wiki/Sri_Chinmoy\" title=\"Sri Chinmoy\">Sri Chinmoy</a>, <i>Meditação - a Perfeição-Homem na Satisfação-Deus</i> <a class=\"internal mw-magiclink-isbn\" href=\"/wiki/Especial:Fontes_de_livros/9788531515316\">ISBN 978-8-53151-531-6</a></li>\n",
              "<li><a href=\"/wiki/Paramahansa_Yogananda\" title=\"Paramahansa Yogananda\">Paramahansa Yogananda</a>, <i>Autobiografia de um Iogue</i> <a class=\"internal mw-magiclink-isbn\" href=\"/wiki/Especial:Fontes_de_livros/9780876123683\">ISBN 978-0-87612-368-3</a></li>\n",
              "<li><a href=\"/wiki/Eihei_Dogen\" title=\"Eihei Dogen\">Eihei Dogen</a>, <i>Fukan Zazengi: Instruções Universalmente Recomendadas para a Prática de Zazen</i></li>\n",
              "<li><a href=\"/wiki/Swami_Vivekananda\" title=\"Swami Vivekananda\">Swami Vivekandanda</a>, O que é religião <a class=\"internal mw-magiclink-isbn\" href=\"/wiki/Especial:Fontes_de_livros/9788587546180\">ISBN 9788587546180</a></li>\n",
              "<li><a href=\"/wiki/Medita%C3%A7%C3%A3o_budista\" title=\"Meditação budista\">Meditação budista</a></li>\n",
              "<li><a href=\"/wiki/Zazen\" title=\"Zazen\">Zazen</a></li></ul>\n",
              "<h2 style=\"cursor: help;\" title=\"Esta seção foi configurada para não ser editável diretamente. Edite a página toda ou a seção anterior em vez disso.\"><span id=\"Refer.C3.AAncias\"></span><span class=\"mw-headline\" id=\"Referências\">Referências</span></h2>\n",
              "<div class=\"reflist\" style=\"list-style-type: decimal;\"><div class=\"mw-references-wrap mw-references-columns\"><ol class=\"references\">\n",
              "<li id=\"cite_note-merriam-webster.com-1\"><span class=\"mw-cite-backlink\">↑ <sup><i><b><a href=\"#cite_ref-merriam-webster.com_1-0\">a</a></b></i></sup> <sup><i><b><a href=\"#cite_ref-merriam-webster.com_1-1\">b</a></b></i></sup></span> <span class=\"reference-text\"><cite class=\"citation web\"><a class=\"external text\" href=\"https://www.merriam-webster.com/dictionary/meditate\" rel=\"nofollow\">«Definição de meditação»</a></cite><span class=\"Z3988\" title=\"ctx_ver=Z39.88-2004&amp;rfr_id=info%3Asid%2Fpt.wikipedia.org%3AMedita%C3%A7%C3%A3o&amp;rft.btitle=Defini%C3%A7%C3%A3o+de+medita%C3%A7%C3%A3o&amp;rft.genre=unknown&amp;rft_id=https%3A%2F%2Fwww.merriam-webster.com%2Fdictionary%2Fmeditate&amp;rft_val_fmt=info%3Aofi%2Ffmt%3Akev%3Amtx%3Abook\"><span style=\"display:none;\"> </span></span></span>\n",
              "</li>\n",
              "<li id=\"cite_note-SHAPIRO-1981-2\"><span class=\"mw-cite-backlink\">↑ <sup><i><b><a href=\"#cite_ref-SHAPIRO-1981_2-0\">a</a></b></i></sup> <sup><i><b><a href=\"#cite_ref-SHAPIRO-1981_2-1\">b</a></b></i></sup></span> <span class=\"reference-text\">SHAPIRO, D. (1981). <i>Meditation: Clinical and health-related applications</i>. The Western Journal of Medicine, 134(2), 141-142 <i>apud</i> MENEZES, Carolina Baptista; DELL'AGLIO, Débora Dalbosco. <i>Os efeitos da meditação à luz da investigação científica em Psicologia: revisão de literatura</i>. Psicol. cienc. prof.,  Brasília,  v. 29, n. 2, p. 276-289,    2009. Disponível em &lt;<a class=\"external free\" href=\"http://www.scielo.br/scielo.php?script=sci_arttext&amp;pid=S1414-98932009000200006&amp;lng=en&amp;nrm=iso\" rel=\"nofollow\">http://www.scielo.br/scielo.php?script=sci_arttext&amp;pid=S1414-98932009000200006&amp;lng=en&amp;nrm=iso</a>&gt;. access on  17  June  2016.</span>\n",
              "</li>\n",
              "<li id=\"cite_note-LEVINE-2000-3\"><span class=\"mw-cite-backlink\"><a href=\"#cite_ref-LEVINE-2000_3-0\">↑</a></span> <span class=\"reference-text\">LEVINE, M. (2000). <i>The positive psychology of buddhism and yoga: Paths to a mature happiness</i>. New Jersey: Lawrence Erlbaum Associates <i>apud</i> MENEZES, Carolina Baptista; DELL'AGLIO, Débora Dalbosco. <i>Os efeitos da meditação à luz da investigação científica em Psicologia: revisão de literatura</i>. Psicol. cienc. prof.,  Brasília, v. 29, n. 2, p. 276-289, 2009. Disponível em &lt;<a class=\"external free\" href=\"http://www.scielo.br/scielo.php?script=sci_arttext&amp;pid=S1414-98932009000200006&amp;lng=en&amp;nrm=iso\" rel=\"nofollow\">http://www.scielo.br/scielo.php?script=sci_arttext&amp;pid=S1414-98932009000200006&amp;lng=en&amp;nrm=iso</a>&gt;. access on  17  June  2016.</span>\n",
              "</li>\n",
              "<li id=\"cite_note-Naranjo-2005-4\"><span class=\"mw-cite-backlink\"><a href=\"#cite_ref-Naranjo-2005_4-0\">↑</a></span> <span class=\"reference-text\">NARANJO, C. (2005). <i>Entre meditação e psicoterapia</i>. Rio de Janeiro: Vozes <i>apud</i> MENEZES, Carolina Baptista; DELL'AGLIO, Débora Dalbosco. <i>Os efeitos da meditação à luz da investigação científica em Psicologia: revisão de literatura</i>. Psicol. cienc. prof.,  Brasília ,  v. 29, n. 2, p. 276-289, 2009. Disponível em &lt;<a class=\"external free\" href=\"http://www.scielo.br/scielo.php?script=sci_arttext&amp;pid=S1414-98932009000200006&amp;lng=en&amp;nrm=iso\" rel=\"nofollow\">http://www.scielo.br/scielo.php?script=sci_arttext&amp;pid=S1414-98932009000200006&amp;lng=en&amp;nrm=iso</a>&gt;. access on  17  June  2016.</span>\n",
              "</li>\n",
              "<li id=\"cite_note-ReferenceA-5\"><span class=\"mw-cite-backlink\">↑ <sup><i><b><a href=\"#cite_ref-ReferenceA_5-0\">a</a></b></i></sup> <sup><i><b><a href=\"#cite_ref-ReferenceA_5-1\">b</a></b></i></sup></span> <span class=\"reference-text\"><i>Zen Buddhism : a History: India and China</i> by Heinrich Dumoulin, James W. Heisig, Paul F. Knitter 2005 <small><a class=\"internal mw-magiclink-isbn\" href=\"/wiki/Especial:Fontes_de_livros/0941532895\">ISBN 0-941532-89-5</a></small> pages 15</span>\n",
              "</li>\n",
              "<li id=\"cite_note-6\"><span class=\"mw-cite-backlink\"><a href=\"#cite_ref-6\">↑</a></span> <span class=\"reference-text\"><cite class=\"citation web\"><a class=\"external text\" href=\"http://www.acessoaoinsight.net/glossario.php#bhavana\" rel=\"nofollow\">«etimologia 2»</a></cite><span class=\"Z3988\" title=\"ctx_ver=Z39.88-2004&amp;rfr_id=info%3Asid%2Fpt.wikipedia.org%3AMedita%C3%A7%C3%A3o&amp;rft.btitle=etimologia+2&amp;rft.genre=unknown&amp;rft_id=http%3A%2F%2Fwww.acessoaoinsight.net%2Fglossario.php%23bhavana&amp;rft_val_fmt=info%3Aofi%2Ffmt%3Akev%3Amtx%3Abook\"><span style=\"display:none;\"> </span></span></span>\n",
              "</li>\n",
              "<li id=\"cite_note-7\"><span class=\"mw-cite-backlink\"><a href=\"#cite_ref-7\">↑</a></span> <span class=\"reference-text\"><cite class=\"citation web\">Feuerstein, Georg (2006). <a class=\"external text\" href=\"http://www.santosha.com/moksha/meditation1.html\" rel=\"nofollow\">«Yoga and Meditation (Dhyana)»</a>. Moksha Journal</cite><span class=\"Z3988\" title=\"ctx_ver=Z39.88-2004&amp;rfr_id=info%3Asid%2Fpt.wikipedia.org%3AMedita%C3%A7%C3%A3o&amp;rft.aufirst=Georg&amp;rft.aulast=Feuerstein&amp;rft.btitle=Yoga+and+Meditation+%28Dhyana%29&amp;rft.date=2006&amp;rft.genre=unknown&amp;rft.pub=Moksha+Journal&amp;rft_id=http%3A%2F%2Fwww.santosha.com%2Fmoksha%2Fmeditation1.html&amp;rft_val_fmt=info%3Aofi%2Ffmt%3Akev%3Amtx%3Abook\"><span style=\"display:none;\"> </span></span></span>\n",
              "</li>\n",
              "<li id=\"cite_note-8\"><span class=\"mw-cite-backlink\"><a href=\"#cite_ref-8\">↑</a></span> <span class=\"reference-text\"><cite class=\"citation journal\">Macdonell, Arthur Anthony (1971 [reimpresso de 1929]). «A practical Sanskrit dictionary with transliteration, accentuation and etymological analysis throughout». <i>Oxford University Press</i></cite><span class=\"Z3988\" title=\"ctx_ver=Z39.88-2004&amp;rfr_id=info%3Asid%2Fpt.wikipedia.org%3AMedita%C3%A7%C3%A3o&amp;rft.atitle=A+practical+Sanskrit+dictionary+with+transliteration%2C+accentuation+and+etymological+analysis+throughout&amp;rft.aufirst=Arthur+Anthony&amp;rft.aulast=Macdonell&amp;rft.chron=1971+%5Breimpresso+de+1929%5D&amp;rft.genre=article&amp;rft.jtitle=Oxford+University+Press&amp;rft_val_fmt=info%3Aofi%2Ffmt%3Akev%3Amtx%3Ajournal\"><span style=\"display:none;\"> </span></span> <span class=\"error citation-comment\" style=\"font-size:100%\">Verifique data em: <code style=\"color:inherit; border:inherit; padding:inherit;\">|data=</code> (<a href=\"/wiki/Ajuda:Erros_nas_refer%C3%AAncias#bad_date\" title=\"Ajuda:Erros nas referências\">ajuda</a>)</span></span>\n",
              "</li>\n",
              "<li id=\"cite_note-9\"><span class=\"mw-cite-backlink\"><a href=\"#cite_ref-9\">↑</a></span> <span class=\"reference-text\"><cite class=\"citation journal\">Kristeller, Jean L. (2010). <a class=\"external text\" href=\"https://books.google.com/?id=8K41STQ06MMC&amp;pg=PA162&amp;dq=isbn:9781572246942+easwaran+passage&amp;q=isbn%3A9781572246942%20easwaran%20passage\" rel=\"nofollow\">«Spiritual engagement as a mechanism of change in mindfulness- and acceptance-based therapies»</a>. <i>Assessing mindfulness and acceptance processes in clients: Illuminating the theory and practice of change</i>: 152–184. <a href=\"/wiki/International_Standard_Book_Number\" title=\"International Standard Book Number\">ISBN</a> <a href=\"/wiki/Especial:Fontes_de_livros/978-1-57224-694-2\" title=\"Especial:Fontes de livros/978-1-57224-694-2\">978-1-57224-694-2</a></cite><span class=\"Z3988\" title=\"ctx_ver=Z39.88-2004&amp;rfr_id=info%3Asid%2Fpt.wikipedia.org%3AMedita%C3%A7%C3%A3o&amp;rft.atitle=Spiritual+engagement+as+a+mechanism+of+change+in+mindfulness-+and+acceptance-based+therapies&amp;rft.aufirst=Jean+L.&amp;rft.aulast=Kristeller&amp;rft.date=2010&amp;rft.genre=article&amp;rft.isbn=978-1-57224-694-2&amp;rft.jtitle=Assessing+mindfulness+and+acceptance+processes+in+clients%3A+Illuminating+the+theory+and+practice+of+change&amp;rft.pages=152-184.&amp;rft_id=https%3A%2F%2Fbooks.google.com%2F%3Fid%3D8K41STQ06MMC%26pg%3DPA162%26dq%3Disbn%3A9781572246942%2Beaswaran%2Bpassage%26q%3Disbn%253A9781572246942%2520easwaran%2520passage&amp;rft_val_fmt=info%3Aofi%2Ffmt%3Akev%3Amtx%3Ajournal\"><span style=\"display:none;\"> </span></span></span>\n",
              "</li>\n",
              "<li id=\"cite_note-10\"><span class=\"mw-cite-backlink\"><a href=\"#cite_ref-10\">↑</a></span> <span class=\"reference-text\">Hadot, Pierre; Arnold I. Davidson (1995) Philosophy as a way of life <a class=\"internal mw-magiclink-isbn\" href=\"/wiki/Especial:Fontes_de_livros/0631180338\">ISBN 0-631-18033-8</a> pages 83-84</span>\n",
              "</li>\n",
              "<li id=\"cite_note-Spiritual_Psychology'_page_109-11\"><span class=\"mw-cite-backlink\"><a href=\"#cite_ref-Spiritual_Psychology'_page_109_11-0\">↑</a></span> <span class=\"reference-text\"><i>Spiritual Psychology</i> by Akbar Husain 2006 <small><a class=\"internal mw-magiclink-isbn\" href=\"/wiki/Especial:Fontes_de_livros/8182200954\">ISBN 81-8220-095-4</a></small> page 109</span>\n",
              "</li>\n",
              "<li id=\"cite_note-12\"><span class=\"mw-cite-backlink\"><a href=\"#cite_ref-12\">↑</a></span> <span class=\"reference-text\"><i>An introduction to the Christian Orthodox churches</i> by John Binns 2002 <small><a class=\"internal mw-magiclink-isbn\" href=\"/wiki/Especial:Fontes_de_livros/0521667380\">ISBN 0-521-66738-0</a></small> page 128</span>\n",
              "</li>\n",
              "<li id=\"cite_note-13\"><span class=\"mw-cite-backlink\"><a href=\"#cite_ref-13\">↑</a></span> <span class=\"reference-text\"><cite class=\"citation web\"><a class=\"external text\" href=\"http://orthodoxwiki.org/Hesychasm\" rel=\"nofollow\">«Hesychasm»</a>. <i>OrthodoxWiki</i><span class=\"reference-accessdate\">. Consultado em 12 de maio de 2010</span></cite><span class=\"Z3988\" title=\"ctx_ver=Z39.88-2004&amp;rfr_id=info%3Asid%2Fpt.wikipedia.org%3AMedita%C3%A7%C3%A3o&amp;rft.atitle=Hesychasm&amp;rft.genre=unknown&amp;rft.jtitle=OrthodoxWiki&amp;rft_id=http%3A%2F%2Forthodoxwiki.org%2FHesychasm&amp;rft_val_fmt=info%3Aofi%2Ffmt%3Akev%3Amtx%3Ajournal\"><span style=\"display:none;\"> </span></span></span>\n",
              "</li>\n",
              "<li id=\"cite_note-14\"><span class=\"mw-cite-backlink\"><a href=\"#cite_ref-14\">↑</a></span> <span class=\"reference-text\"><a class=\"external text\" href=\"https://web.archive.org/web/20101021081733/http://www.macedonian-heritage.gr/Athos/General/AthosHistory.html\" rel=\"nofollow\">Archived</a> from <a class=\"external text\" href=\"http://www.macedonian-heritage.gr/Athos/General/AthosHistory.html\" rel=\"nofollow\">the original</a> <a class=\"external text\" href=\"https://web.archive.org/web/20100729005209/http://www.macedonian-heritage.gr/Athos/General/AthosHistory.html\" rel=\"nofollow\">Arquivado em</a> julho 29, 2010<span class=\"error citation-comment\" style=\"font-size:100%\"><sup>[Erro data trocada]</sup></span>, no <a href=\"/wiki/Wayback_Machine\" title=\"Wayback Machine\">Wayback Machine</a>. on February 11, 2014.</span>\n",
              "</li>\n",
              "<li id=\"cite_note-15\"><span class=\"mw-cite-backlink\"><a href=\"#cite_ref-15\">↑</a></span> <span class=\"reference-text\"><i>Christian Spirituality: A Historical Sketch</i> by George Lane 2005 <small><a class=\"internal mw-magiclink-isbn\" href=\"/wiki/Especial:Fontes_de_livros/0829420819\">ISBN 0-8294-2081-9</a></small> page 20</span>\n",
              "</li>\n",
              "<li id=\"cite_note-16\"><span class=\"mw-cite-backlink\"><a href=\"#cite_ref-16\">↑</a></span> <span class=\"reference-text\"><i>Christian spirituality: themes from the tradition</i> by Lawrence S. Cunningham, Keith J. Egan 1996 <small><a class=\"internal mw-magiclink-isbn\" href=\"/wiki/Especial:Fontes_de_livros/0809136600\">ISBN 0-8091-3660-0</a></small> page 38</span>\n",
              "</li>\n",
              "<li id=\"cite_note-17\"><span class=\"mw-cite-backlink\"><a href=\"#cite_ref-17\">↑</a></span> <span class=\"reference-text\"><i>The Oblate Life</i> by Gervase Holdaway, 2008 <small><a class=\"internal mw-magiclink-isbn\" href=\"/wiki/Especial:Fontes_de_livros/0814631762\">ISBN 0-8146-3176-2</a></small> page 109</span>\n",
              "</li>\n",
              "<li id=\"cite_note-18\"><span class=\"mw-cite-backlink\"><a href=\"#cite_ref-18\">↑</a></span> <span class=\"reference-text\"><i>After Augustine: the meditative reader and the text</i> by <a class=\"new\" href=\"/w/index.php?title=Brian_Stock_(historian)&amp;action=edit&amp;redlink=1\" title=\"Brian Stock (historian) (página não existe)\">Brian Stock</a> 2001 <small><a class=\"internal mw-magiclink-isbn\" href=\"/wiki/Especial:Fontes_de_livros/0812236025\">ISBN 0-8122-3602-5</a></small> page 105</span>\n",
              "</li>\n",
              "<li id=\"cite_note-lutz08-19\"><span class=\"mw-cite-backlink\">↑ <sup><i><b><a href=\"#cite_ref-lutz08_19-0\">a</a></b></i></sup> <sup><i><b><a href=\"#cite_ref-lutz08_19-1\">b</a></b></i></sup></span> <span class=\"reference-text\"><cite class=\"citation journal\">Lutz, Antoine; Slagter, Heleen A.; Dunne, John D.; Davidson, Richard J. (abril de 2008). <a class=\"external text\" href=\"//www.ncbi.nlm.nih.gov/pmc/articles/PMC2693206\" rel=\"nofollow\">«Attention regulation and monitoring in meditation»</a>. <i>Trends in Cognitive Sciences</i>. <b>12</b> (4): 163–169. <a href=\"/wiki/PubMed_Central\" title=\"PubMed Central\">PMC</a> <span class=\"plainlinks\"><a class=\"external text\" href=\"//www.ncbi.nlm.nih.gov/pmc/articles/PMC2693206\" rel=\"nofollow\">2693206</a><span style=\"margin-left:0.1em\"><img alt=\"Acessível livremente\" data-file-height=\"813\" data-file-width=\"512\" decoding=\"async\" height=\"14\" src=\"//upload.wikimedia.org/wikipedia/commons/thumb/6/65/Lock-green.svg/9px-Lock-green.svg.png\" srcset=\"//upload.wikimedia.org/wikipedia/commons/thumb/6/65/Lock-green.svg/14px-Lock-green.svg.png 1.5x, //upload.wikimedia.org/wikipedia/commons/thumb/6/65/Lock-green.svg/18px-Lock-green.svg.png 2x\" title=\"Acessível livremente\" width=\"9\"/></span></span>. <a class=\"mw-redirect\" href=\"/wiki/PubMed_Identifier\" title=\"PubMed Identifier\">PMID</a> <a class=\"external text\" href=\"//www.ncbi.nlm.nih.gov/pubmed/18329323\" rel=\"nofollow\">18329323</a>. <a href=\"/wiki/Digital_object_identifier\" title=\"Digital object identifier\">doi</a>:<a class=\"external text\" href=\"https://dx.doi.org/10.1016%2Fj.tics.2008.01.005\" rel=\"nofollow\">10.1016/j.tics.2008.01.005</a>. <q>The term ‘meditation’ refers to a broad variety of practices...In order to narrow the explanandum to a more tractable scope, this article uses Buddhist contemplative techniques and their clinical secular derivatives as a paradigmatic framework (see e.g., 9,10 or 7,9 for reviews including other types of techniques, such as Yoga and Transcendental Meditation). Among the wide range of practices within the Buddhist tradition, we will further narrow this review to two common styles of meditation, FA and OM (see box 1–box 2), that are often combined, whether in a single session or over the course of practitioner's training. These styles are found with some variation in several meditation traditions, including Zen, Vipassanā and Tibetan Buddhism (e.g. 7,15,16)....The first style, FA meditation, entails voluntary focusing attention on a chosen object in a sustained fashion. The second style, OM meditation, involves non-reactively monitoring the content of experience from moment to moment, primarily as a means to recognize the nature of emotional and cognitive patterns</q></cite><span class=\"Z3988\" title=\"ctx_ver=Z39.88-2004&amp;rfr_id=info%3Asid%2Fpt.wikipedia.org%3AMedita%C3%A7%C3%A3o&amp;rft.atitle=Attention+regulation+and+monitoring+in+meditation&amp;rft.au=Davidson%2C+Richard+J.&amp;rft.au=Dunne%2C+John+D.&amp;rft.au=Slagter%2C+Heleen+A.&amp;rft.aufirst=Antoine&amp;rft.aulast=Lutz&amp;rft.date=2008-04&amp;rft.genre=article&amp;rft.issue=4&amp;rft.jtitle=Trends+in+Cognitive+Sciences&amp;rft.pages=163-169&amp;rft.volume=12&amp;rft_id=%2F%2Fwww.ncbi.nlm.nih.gov%2Fpmc%2Farticles%2FPMC2693206&amp;rft_id=%2F%2Fwww.ncbi.nlm.nih.gov%2Fpmc%2Farticles%2FPMC2693206&amp;rft_id=info%3Adoi%2F10.1016%2Fj.tics.2008.01.005&amp;rft_id=info%3Apmid%2F18329323&amp;rft_val_fmt=info%3Aofi%2Ffmt%3Akev%3Amtx%3Ajournal\"><span style=\"display:none;\"> </span></span></span>\n",
              "</li>\n",
              "<li id=\"cite_note-20\"><span class=\"mw-cite-backlink\"><a href=\"#cite_ref-20\">↑</a></span> <span class=\"reference-text\"><cite class=\"citation journal\"><a class=\"external text\" href=\"https://nandan.com.br/o-que-e-meditacao/\" rel=\"nofollow\">«O que é Meditação?»</a>. <i>NANDAN</i>. 25 de julho de 2018</cite><span class=\"Z3988\" title=\"ctx_ver=Z39.88-2004&amp;rfr_id=info%3Asid%2Fpt.wikipedia.org%3AMedita%C3%A7%C3%A3o&amp;rft.atitle=O+que+%C3%A9+Medita%C3%A7%C3%A3o%3F&amp;rft.date=2018-07-25&amp;rft.genre=article&amp;rft.jtitle=NANDAN&amp;rft_id=https%3A%2F%2Fnandan.com.br%2Fo-que-e-meditacao%2F&amp;rft_val_fmt=info%3Aofi%2Ffmt%3Akev%3Amtx%3Ajournal\"><span style=\"display:none;\"> </span></span></span>\n",
              "</li>\n",
              "<li id=\"cite_note-:0-21\"><span class=\"mw-cite-backlink\">↑ <sup><i><b><a href=\"#cite_ref-:0_21-0\">a</a></b></i></sup> <sup><i><b><a href=\"#cite_ref-:0_21-1\">b</a></b></i></sup> <sup><i><b><a href=\"#cite_ref-:0_21-2\">c</a></b></i></sup> <sup><i><b><a href=\"#cite_ref-:0_21-3\">d</a></b></i></sup></span> <span class=\"reference-text\"><cite class=\"citation book\">Chinmoy, Sri (2008). <i>Meditação: a Perfeição-Homem na Satisfação-Deus</i>. São Paulo: Pensamento. 270 páginas. <a href=\"/wiki/International_Standard_Book_Number\" title=\"International Standard Book Number\">ISBN</a> <a href=\"/wiki/Especial:Fontes_de_livros/9788531515316\" title=\"Especial:Fontes de livros/9788531515316\">9788531515316</a></cite><span class=\"Z3988\" title=\"ctx_ver=Z39.88-2004&amp;rfr_id=info%3Asid%2Fpt.wikipedia.org%3AMedita%C3%A7%C3%A3o&amp;rft.aufirst=Sri&amp;rft.aulast=Chinmoy&amp;rft.btitle=Medita%C3%A7%C3%A3o%3A+a+Perfei%C3%A7%C3%A3o-Homem+na+Satisfa%C3%A7%C3%A3o-Deus&amp;rft.date=2008&amp;rft.genre=book&amp;rft.isbn=9788531515316&amp;rft.place=S%C3%A3o+Paulo&amp;rft.pub=Pensamento&amp;rft_val_fmt=info%3Aofi%2Ffmt%3Akev%3Amtx%3Abook\"><span style=\"display:none;\"> </span></span> <span class=\"error citation-comment\" style=\"display:none;font-size:100%\"><code style=\"color:inherit; border:inherit; padding:inherit;\">|acessodata=</code> requer <code style=\"color:inherit; border:inherit; padding:inherit;\">|url=</code> (<a href=\"/wiki/Ajuda:Erros_nas_refer%C3%AAncias#accessdate_missing_url\" title=\"Ajuda:Erros nas referências\">ajuda</a>)</span></span>\n",
              "</li>\n",
              "<li id=\"cite_note-22\"><span class=\"mw-cite-backlink\"><a href=\"#cite_ref-22\">↑</a></span> <span class=\"reference-text\"><cite class=\"citation web\"><a class=\"external text\" href=\"http://www.acessoaoinsight.net/meditacao.php\" rel=\"nofollow\">«Acesso ao Insight - Budismo Theravada - meditacao»</a>. <i>www.acessoaoinsight.net</i><span class=\"reference-accessdate\">. Consultado em 18 de junho de 2016</span></cite><span class=\"Z3988\" title=\"ctx_ver=Z39.88-2004&amp;rfr_id=info%3Asid%2Fpt.wikipedia.org%3AMedita%C3%A7%C3%A3o&amp;rft.atitle=Acesso+ao+Insight+-+Budismo+Theravada+-+meditacao&amp;rft.genre=unknown&amp;rft.jtitle=www.acessoaoinsight.net&amp;rft_id=http%3A%2F%2Fwww.acessoaoinsight.net%2Fmeditacao.php&amp;rft_val_fmt=info%3Aofi%2Ffmt%3Akev%3Amtx%3Ajournal\"><span style=\"display:none;\"> </span></span></span>\n",
              "</li>\n",
              "<li id=\"cite_note-:1-23\"><span class=\"mw-cite-backlink\">↑ <sup><i><b><a href=\"#cite_ref-:1_23-0\">a</a></b></i></sup> <sup><i><b><a href=\"#cite_ref-:1_23-1\">b</a></b></i></sup></span> <span class=\"reference-text\"><cite class=\"citation book\">Sri Chinmoy (2008). «Os Ramos da Árvore-Deus». <i>As Asas da Alegria</i>. São Paulo: Pensamento. <a href=\"/wiki/International_Standard_Book_Number\" title=\"International Standard Book Number\">ISBN</a> <a href=\"/wiki/Especial:Fontes_de_livros/9788531515552\" title=\"Especial:Fontes de livros/9788531515552\">9788531515552</a></cite><span class=\"Z3988\" title=\"ctx_ver=Z39.88-2004&amp;rfr_id=info%3Asid%2Fpt.wikipedia.org%3AMedita%C3%A7%C3%A3o&amp;rft.atitle=Os+Ramos+da+%C3%81rvore-Deus&amp;rft.au=Sri+Chinmoy&amp;rft.btitle=As+Asas+da+Alegria&amp;rft.date=2008&amp;rft.genre=bookitem&amp;rft.isbn=9788531515552&amp;rft.place=S%C3%A3o+Paulo&amp;rft.pub=Pensamento&amp;rft_val_fmt=info%3Aofi%2Ffmt%3Akev%3Amtx%3Abook\"><span style=\"display:none;\"> </span></span></span>\n",
              "</li>\n",
              "<li id=\"cite_note-24\"><span class=\"mw-cite-backlink\"><a href=\"#cite_ref-24\">↑</a></span> <span class=\"reference-text\"><a class=\"external text\" href=\"http://www.castroalves.br/drjair/meditacao_fundamentos_cientificos.pdf%20Jair%20de%20Oliveira%20Santos.%20MEDITA%C3%87%C3%83O:%20fundamentos%20cient%C3%ADficos.%20Salvador:%20Faculdade%20Castro%20Alves,%202010.%20(Apostila)\" rel=\"nofollow\">Jair de Oliveira Santos. MEDITAÇÃO: fundamentos científicos. Salvador: Faculdade Castro Alves, 2010. (Apostila)</a> pdf</span>\n",
              "</li>\n",
              "<li id=\"cite_note-25\"><span class=\"mw-cite-backlink\"><a href=\"#cite_ref-25\">↑</a></span> <span class=\"reference-text\"><cite class=\"citation web\"><a class=\"external text\" href=\"http://www.acessoaoinsight.net/arquivo_textos_theravada/andando.php\" rel=\"nofollow\">«Acesso ao Insight - Budismo Theravada - andando»</a>. <i>www.acessoaoinsight.net</i><span class=\"reference-accessdate\">. Consultado em 18 de junho de 2016</span></cite><span class=\"Z3988\" title=\"ctx_ver=Z39.88-2004&amp;rfr_id=info%3Asid%2Fpt.wikipedia.org%3AMedita%C3%A7%C3%A3o&amp;rft.atitle=Acesso+ao+Insight+-+Budismo+Theravada+-+andando&amp;rft.genre=unknown&amp;rft.jtitle=www.acessoaoinsight.net&amp;rft_id=http%3A%2F%2Fwww.acessoaoinsight.net%2Farquivo_textos_theravada%2Fandando.php&amp;rft_val_fmt=info%3Aofi%2Ffmt%3Akev%3Amtx%3Ajournal\"><span style=\"display:none;\"> </span></span></span>\n",
              "</li>\n",
              "<li id=\"cite_note-26\"><span class=\"mw-cite-backlink\"><a href=\"#cite_ref-26\">↑</a></span> <span class=\"reference-text\"><cite class=\"citation journal\">Fishman, Aparajita (1984). <a class=\"external text\" href=\"http://www.srichinmoy-reflections.com/a-truth-lived\" rel=\"nofollow\">«A Truth Must be Lived»</a>. <i>The Committee on the Study of Religion, Harvard College</i><span class=\"reference-accessdate\">. Consultado em 22 de março de 2018</span></cite><span class=\"Z3988\" title=\"ctx_ver=Z39.88-2004&amp;rfr_id=info%3Asid%2Fpt.wikipedia.org%3AMedita%C3%A7%C3%A3o&amp;rft.atitle=A+Truth+Must+be+Lived&amp;rft.aufirst=Aparajita&amp;rft.aulast=Fishman&amp;rft.date=1984&amp;rft.genre=article&amp;rft.jtitle=The+Committee+on+the+Study+of+Religion%2C+Harvard+College&amp;rft_id=http%3A%2F%2Fwww.srichinmoy-reflections.com%2Fa-truth-lived&amp;rft_val_fmt=info%3Aofi%2Ffmt%3Akev%3Amtx%3Ajournal\"><span style=\"display:none;\"> </span></span></span>\n",
              "</li>\n",
              "<li id=\"cite_note-Harrington2015-27\"><span class=\"mw-cite-backlink\"><a href=\"#cite_ref-Harrington2015_27-0\">↑</a></span> <span class=\"reference-text\"><cite class=\"citation journal\">Harrington A. Dunne JD. (outubro de 2015). <a class=\"external text\" href=\"http://nrs.harvard.edu/urn-3:HUL.InstRepos:25757884\" rel=\"nofollow\">«When mindfulness is therapy: Ethical qualms, historical perspectives»</a>. <i>American Psychologist</i>. <b>70</b> (7): 621–31. <a class=\"mw-redirect\" href=\"/wiki/PubMed_Identifier\" title=\"PubMed Identifier\">PMID</a> <a class=\"external text\" href=\"//www.ncbi.nlm.nih.gov/pubmed/26436312\" rel=\"nofollow\">26436312</a>. <a href=\"/wiki/Digital_object_identifier\" title=\"Digital object identifier\">doi</a>:<a class=\"external text\" href=\"https://dx.doi.org/10.1037%2Fa0039460\" rel=\"nofollow\">10.1037/a0039460</a></cite><span class=\"Z3988\" title=\"ctx_ver=Z39.88-2004&amp;rfr_id=info%3Asid%2Fpt.wikipedia.org%3AMedita%C3%A7%C3%A3o&amp;rft.atitle=When+mindfulness+is+therapy%3A+Ethical+qualms%2C+historical+perspectives&amp;rft.au=Harrington+A.+Dunne+JD.&amp;rft.date=2015-10&amp;rft.genre=article&amp;rft.issue=7&amp;rft.jtitle=American+Psychologist&amp;rft.pages=621-31&amp;rft.volume=70&amp;rft_id=http%3A%2F%2Fnrs.harvard.edu%2Furn-3%3AHUL.InstRepos%3A25757884&amp;rft_id=info%3Adoi%2F10.1037%2Fa0039460&amp;rft_id=info%3Apmid%2F26436312&amp;rft_val_fmt=info%3Aofi%2Ffmt%3Akev%3Amtx%3Ajournal\"><span style=\"display:none;\"> </span></span></span>\n",
              "</li>\n",
              "<li id=\"cite_note-Strauss-28\"><span class=\"mw-cite-backlink\"><a href=\"#cite_ref-Strauss_28-0\">↑</a></span> <span class=\"reference-text\"><cite class=\"citation journal\">Strauss C, Cavanagh K, Oliver A, Pettman D (abril de 2014). <a class=\"external text\" href=\"//www.ncbi.nlm.nih.gov/pmc/articles/PMC3999148\" rel=\"nofollow\">«Mindfulness-Based Interventions for People Diagnosed with a Current Episode of an Anxiety or Depressive Disorder: A Meta-Analysis of Randomised Controlled Trials»</a>. <i>PLoS ONE</i>. <b>9</b> (4): e96110. <a href=\"/wiki/Bibcode\" title=\"Bibcode\">Bibcode</a>:<a class=\"external text\" href=\"http://ui.adsabs.harvard.edu/abs/2014PLoSO...996110S\" rel=\"nofollow\">2014PLoSO...996110S</a>. <a href=\"/wiki/PubMed_Central\" title=\"PubMed Central\">PMC</a> <span class=\"plainlinks\"><a class=\"external text\" href=\"//www.ncbi.nlm.nih.gov/pmc/articles/PMC3999148\" rel=\"nofollow\">3999148</a><span style=\"margin-left:0.1em\"><img alt=\"Acessível livremente\" data-file-height=\"813\" data-file-width=\"512\" decoding=\"async\" height=\"14\" src=\"//upload.wikimedia.org/wikipedia/commons/thumb/6/65/Lock-green.svg/9px-Lock-green.svg.png\" srcset=\"//upload.wikimedia.org/wikipedia/commons/thumb/6/65/Lock-green.svg/14px-Lock-green.svg.png 1.5x, //upload.wikimedia.org/wikipedia/commons/thumb/6/65/Lock-green.svg/18px-Lock-green.svg.png 2x\" title=\"Acessível livremente\" width=\"9\"/></span></span>. <a class=\"mw-redirect\" href=\"/wiki/PubMed_Identifier\" title=\"PubMed Identifier\">PMID</a> <a class=\"external text\" href=\"//www.ncbi.nlm.nih.gov/pubmed/24763812\" rel=\"nofollow\">24763812</a>. <a href=\"/wiki/Digital_object_identifier\" title=\"Digital object identifier\">doi</a>:<a class=\"external text\" href=\"https://dx.doi.org/10.1371%2Fjournal.pone.0096110\" rel=\"nofollow\">10.1371/journal.pone.0096110</a></cite><span class=\"Z3988\" title=\"ctx_ver=Z39.88-2004&amp;rfr_id=info%3Asid%2Fpt.wikipedia.org%3AMedita%C3%A7%C3%A3o&amp;rft.atitle=Mindfulness-Based+Interventions+for+People+Diagnosed+with+a+Current+Episode+of+an+Anxiety+or+Depressive+Disorder%3A+A+Meta-Analysis+of+Randomised+Controlled+Trials&amp;rft.au=Cavanagh%2C+K&amp;rft.au=Oliver%2C+A&amp;rft.au=Pettman%2C+D&amp;rft.aufirst=C&amp;rft.aulast=Strauss&amp;rft.date=2014-04&amp;rft.genre=article&amp;rft.issue=4&amp;rft.jtitle=PLoS+ONE&amp;rft.pages=e96110&amp;rft.volume=9&amp;rft_id=%2F%2Fwww.ncbi.nlm.nih.gov%2Fpmc%2Farticles%2FPMC3999148&amp;rft_id=%2F%2Fwww.ncbi.nlm.nih.gov%2Fpmc%2Farticles%2FPMC3999148&amp;rft_id=info%3Abibcode%2F2014PLoSO...996110S&amp;rft_id=info%3Adoi%2F10.1371%2Fjournal.pone.0096110&amp;rft_id=info%3Apmid%2F24763812&amp;rft_val_fmt=info%3Aofi%2Ffmt%3Akev%3Amtx%3Ajournal\"><span style=\"display:none;\"> </span></span></span>\n",
              "</li>\n",
              "<li id=\"cite_note-Khoury2015-29\"><span class=\"mw-cite-backlink\"><a href=\"#cite_ref-Khoury2015_29-0\">↑</a></span> <span class=\"reference-text\"><cite class=\"citation journal\">Khoury B, Sharma M, Rush SE, Fournier C (junho de 2015). «Mindfulness-based stress reduction for healthy individuals: A meta-analysis». <i>J Psychosom Res</i>. <b>78</b> (6): 519–528. <a class=\"mw-redirect\" href=\"/wiki/PubMed_Identifier\" title=\"PubMed Identifier\">PMID</a> <a class=\"external text\" href=\"//www.ncbi.nlm.nih.gov/pubmed/25818837\" rel=\"nofollow\">25818837</a>. <a href=\"/wiki/Digital_object_identifier\" title=\"Digital object identifier\">doi</a>:<a class=\"external text\" href=\"https://dx.doi.org/10.1016%2Fj.jpsychores.2015.03.009\" rel=\"nofollow\">10.1016/j.jpsychores.2015.03.009</a></cite><span class=\"Z3988\" title=\"ctx_ver=Z39.88-2004&amp;rfr_id=info%3Asid%2Fpt.wikipedia.org%3AMedita%C3%A7%C3%A3o&amp;rft.atitle=Mindfulness-based+stress+reduction+for+healthy+individuals%3A+A+meta-analysis&amp;rft.au=Fournier%2C+C&amp;rft.au=Rush%2C+SE&amp;rft.au=Sharma%2C+M&amp;rft.aufirst=B&amp;rft.aulast=Khoury&amp;rft.date=2015-06&amp;rft.genre=article&amp;rft.issue=6&amp;rft.jtitle=J+Psychosom+Res&amp;rft.pages=519-528&amp;rft.volume=78&amp;rft_id=info%3Adoi%2F10.1016%2Fj.jpsychores.2015.03.009&amp;rft_id=info%3Apmid%2F25818837&amp;rft_val_fmt=info%3Aofi%2Ffmt%3Akev%3Amtx%3Ajournal\"><span style=\"display:none;\"> </span></span></span>\n",
              "</li>\n",
              "<li id=\"cite_note-Chiesa-30\"><span class=\"mw-cite-backlink\"><a href=\"#cite_ref-Chiesa_30-0\">↑</a></span> <span class=\"reference-text\"><cite class=\"citation journal\">Chiesa A (abril de 2014). «Are mindfulness-based interventions effective for substance use disorders? A systematic review of the evidence». <i>Subst Use Misuse</i>. <b>49</b> (5): 492–512. <a class=\"mw-redirect\" href=\"/wiki/PubMed_Identifier\" title=\"PubMed Identifier\">PMID</a> <a class=\"external text\" href=\"//www.ncbi.nlm.nih.gov/pubmed/23461667\" rel=\"nofollow\">23461667</a>. <a href=\"/wiki/Digital_object_identifier\" title=\"Digital object identifier\">doi</a>:<a class=\"external text\" href=\"https://dx.doi.org/10.3109%2F10826084.2013.770027\" rel=\"nofollow\">10.3109/10826084.2013.770027</a></cite><span class=\"Z3988\" title=\"ctx_ver=Z39.88-2004&amp;rfr_id=info%3Asid%2Fpt.wikipedia.org%3AMedita%C3%A7%C3%A3o&amp;rft.atitle=Are+mindfulness-based+interventions+effective+for+substance+use+disorders%3F+A+systematic+review+of+the+evidence&amp;rft.au=Chiesa+A&amp;rft.date=2014-04&amp;rft.genre=article&amp;rft.issue=5&amp;rft.jtitle=Subst+Use+Misuse&amp;rft.pages=492-512&amp;rft.volume=49&amp;rft_id=info%3Adoi%2F10.3109%2F10826084.2013.770027&amp;rft_id=info%3Apmid%2F23461667&amp;rft_val_fmt=info%3Aofi%2Ffmt%3Akev%3Amtx%3Ajournal\"><span style=\"display:none;\"> </span></span></span>\n",
              "</li>\n",
              "</ol></div></div>\n",
              "<div aria-labelledby=\"Controle_de_autoridade\" class=\"navbox\" role=\"navigation\" style=\"padding:3px\"><table class=\"nowraplinks hlist navbox-inner\" style=\"border-spacing:0;background:transparent;color:inherit\"><tbody><tr><th class=\"navbox-group\" id=\"Controle_de_autoridade\" scope=\"row\" style=\"width:1%;width: 12%; text-align:center;\"><a href=\"/wiki/Ajuda:Controle_de_autoridade\" title=\"Ajuda:Controle de autoridade\">Controle de autoridade</a></th><td class=\"navbox-list navbox-odd plainlinks\" style=\"text-align:left;border-left-width:2px;border-left-style:solid;width:100%;padding:0px\"><div style=\"padding:0em 0.25em\">\n",
              "<ul><li><span style=\"white-space:nowrap;\"><a href=\"https://www.wikidata.org/wiki/Wikidata:Main_Page\" title=\"Wikidata\"><img alt=\"Wd\" data-file-height=\"590\" data-file-width=\"1050\" decoding=\"async\" height=\"11\" src=\"//upload.wikimedia.org/wikipedia/commons/thumb/f/ff/Wikidata-logo.svg/20px-Wikidata-logo.svg.png\" srcset=\"//upload.wikimedia.org/wikipedia/commons/thumb/f/ff/Wikidata-logo.svg/30px-Wikidata-logo.svg.png 1.5x, //upload.wikimedia.org/wikipedia/commons/thumb/f/ff/Wikidata-logo.svg/40px-Wikidata-logo.svg.png 2x\" width=\"20\"/></a>: <span class=\"uid\"><a class=\"extiw\" href=\"https://www.wikidata.org/wiki/Q108458\" title=\"wikidata:Q108458\">Q108458</a></span></span></li>\n",
              "<li><span style=\"white-space:nowrap;\"><a class=\"mw-redirect\" href=\"/wiki/Art_%26_Architecture_Thesaurus\" title=\"Art &amp; Architecture Thesaurus\">AAT</a>: <span class=\"uid\"><span class=\"plainlinks\"><a class=\"external text\" href=\"https://www.getty.edu/vow/AATFullDisplay?find=&amp;logic=AND&amp;note=&amp;subjectid=300264363\" rel=\"nofollow\">300264363</a></span></span></span></li>\n",
              "<li><span style=\"white-space:nowrap;\"><a href=\"/wiki/Biblioteca_Nacional_Central_de_Floren%C3%A7a\" title=\"Biblioteca Nacional Central de Florença\">BNCF</a>: <span class=\"uid\"><span class=\"plainlinks\"><a class=\"external text\" href=\"https://thes.bncf.firenze.sbn.it/termine.php?id=10940\" rel=\"nofollow\">10940</a></span></span></span></li>\n",
              "<li><span style=\"white-space:nowrap;\"><a href=\"/wiki/Biblioteca_Nacional_da_Fran%C3%A7a\" title=\"Biblioteca Nacional da França\">BNF</a>: <span class=\"uid\"><span class=\"plainlinks\"><a class=\"external text\" href=\"https://catalogue.bnf.fr/ark:/12148/cb119324707\" rel=\"nofollow\">119324707</a></span></span></span></li>\n",
              "<li><span style=\"white-space:nowrap;\"><a href=\"/wiki/Grande_Enciclop%C3%A9dia_Sovi%C3%A9tica\" title=\"Grande Enciclopédia Soviética\">BRE</a>: <span class=\"uid\"><span class=\"plainlinks\"><a class=\"external text\" href=\"https://bigenc.ru/text/2197818\" rel=\"nofollow\">2197818</a></span></span></span></li>\n",
              "<li><span style=\"white-space:nowrap;\"><a href=\"/wiki/Encyclop%C3%A6dia_Britannica\" title=\"Encyclopædia Britannica\">EBID</a>: <span class=\"uid\"><span class=\"plainlinks\"><a class=\"external text\" href=\"https://www.britannica.com/topic/meditation-mental-exercise\" rel=\"nofollow\">ID</a></span></span></span></li>\n",
              "<li><span style=\"white-space:nowrap;\"><a href=\"/wiki/Faceted_Application_of_Subject_Terminology\" title=\"Faceted Application of Subject Terminology\">FAST</a>: <span class=\"uid\"><span class=\"plainlinks\"><a class=\"external text\" href=\"https://experimental.worldcat.org/fast/1015409/\" rel=\"nofollow\">1015409</a></span></span></span></li>\n",
              "<li><span style=\"white-space:nowrap;\"><a href=\"/wiki/Gran_Enciclop%C3%A8dia_Catalana\" title=\"Gran Enciclopèdia Catalana\">GEC</a>: <span class=\"uid\"><span class=\"plainlinks\"><a class=\"external text\" href=\"https://www.enciclopedia.cat/EC-GEC-0193585.xml\" rel=\"nofollow\">0193585</a></span></span></span></li>\n",
              "<li><span style=\"white-space:nowrap;\"><a href=\"/wiki/Gemeinsame_Normdatei\" title=\"Gemeinsame Normdatei\">GND</a>: <span class=\"uid\"><span class=\"plainlinks\"><a class=\"external text\" href=\"https://d-nb.info/gnd/4038241-2\" rel=\"nofollow\">4038241-2</a></span></span></span></li>\n",
              "<li><span style=\"white-space:nowrap;\"><a href=\"/wiki/JSTOR\" title=\"JSTOR\">JSTOR</a>: <span class=\"uid\">meditation</span></span></li>\n",
              "<li><span style=\"white-space:nowrap;\"><a href=\"/wiki/N%C3%BAmero_de_controle_da_Biblioteca_do_Congresso\" title=\"Número de controle da Biblioteca do Congresso\">LCCN</a>: <span class=\"uid\"><span class=\"plainlinks\"><a class=\"external text\" href=\"https://id.loc.gov/authorities/sh85083210\" rel=\"nofollow\">sh85083210</a></span></span></span></li>\n",
              "<li><span style=\"white-space:nowrap;\"><a href=\"/wiki/Biblioteca_Nacional_da_Dieta\" title=\"Biblioteca Nacional da Dieta\">NDL</a>: <span class=\"uid\"><span class=\"plainlinks\"><a class=\"external text\" href=\"https://id.ndl.go.jp/auth/ndlna/00577263\" rel=\"nofollow\">00577263</a></span></span></span></li>\n",
              "<li><span style=\"white-space:nowrap;\"><a class=\"mw-redirect\" href=\"/wiki/Biblioteca_t%C3%A9cnica_nacional_de_Praga\" title=\"Biblioteca técnica nacional de Praga\">PSH</a>: <span class=\"uid\"><span class=\"plainlinks\"><a class=\"external text\" href=\"https://psh.techlib.cz/skos/PSH9289\" rel=\"nofollow\">9289</a></span></span></span></li></ul>\n",
              "</div></td></tr></tbody></table></div><div aria-labelledby=\"Identificadores\" class=\"navbox\" role=\"navigation\" style=\"padding:3px\"><table class=\"nowraplinks hlist navbox-inner\" style=\"border-spacing:0;background:transparent;color:inherit\"><tbody><tr><th class=\"navbox-group\" id=\"Identificadores\" scope=\"row\" style=\"width:1%;width: 12%; text-align:center;\">Identificadores</th><td class=\"navbox-list navbox-odd plainlinks\" style=\"text-align:left;border-left-width:2px;border-left-style:solid;width:100%;padding:0px\"><div style=\"padding:0em 0.25em\">\n",
              "<ul><li><span style=\"white-space:nowrap;\"><a href=\"/wiki/Medical_Subject_Headings\" title=\"Medical Subject Headings\">MeSH</a>: <span class=\"uid\"><span class=\"plainlinks\"><a class=\"external text\" href=\"https://meshb.nlm.nih.gov/record/ui?ui=D019122\" rel=\"nofollow\">D019122</a></span></span></span></li>\n",
              "<li><span style=\"white-space:nowrap;\"><a href=\"/wiki/Medical_Subject_Headings\" title=\"Medical Subject Headings\">MeSH</a>: <span class=\"uid\"><span class=\"plainlinks\"><a class=\"external text\" href=\"http://id.nlm.nih.gov/mesh/E02.190.525.374\" rel=\"nofollow\">E02.190.525.374</a></span></span></span></li></ul>\n",
              "</div></td></tr></tbody></table></div>\n",
              "<div aria-labelledby=\"Religião\" class=\"navbox\" role=\"navigation\" style=\"padding:3px\"><table class=\"nowraplinks hlist collapsible autocollapse navbox-inner\" style=\"border-spacing:0;background:transparent;color:inherit\"><tbody><tr><th class=\"navbox-title\" colspan=\"2\" scope=\"col\"><div class=\"plainlinks hlist navbar mini\"><ul><li class=\"nv-ver\"><a href=\"/wiki/Predefini%C3%A7%C3%A3o:Religi%C3%A3o\" title=\"Predefinição:Religião\"><abbr style=\";;background:none transparent;border:none;-moz-box-shadow:none;-webkit-box-shadow:none;box-shadow:none; padding:0;\" title=\"Ver esta predefinição\">v</abbr></a></li><li class=\"nv-discutir\"><a href=\"/wiki/Predefini%C3%A7%C3%A3o_Discuss%C3%A3o:Religi%C3%A3o\" title=\"Predefinição Discussão:Religião\"><abbr style=\";;background:none transparent;border:none;-moz-box-shadow:none;-webkit-box-shadow:none;box-shadow:none; padding:0;\" title=\"Discutir esta predefinição\">d</abbr></a></li><li class=\"nv-editar\"><a class=\"external text\" href=\"https://pt.wikipedia.org/w/index.php?title=Predefini%C3%A7%C3%A3o:Religi%C3%A3o&amp;action=edit\"><abbr style=\";;background:none transparent;border:none;-moz-box-shadow:none;-webkit-box-shadow:none;box-shadow:none; padding:0;\" title=\"Editar esta predefinição\">e</abbr></a></li></ul></div><div id=\"Religião\" style=\"font-size:114%;margin:0 4em\"><a href=\"/wiki/Religi%C3%A3o\" title=\"Religião\">Religião</a></div></th></tr><tr><th class=\"navbox-group\" scope=\"row\" style=\"width:1%\">Aspectos</th><td class=\"navbox-list navbox-odd\" style=\"text-align:left;border-left-width:2px;border-left-style:solid;width:100%;padding:0px\"><div style=\"padding:0em 0.25em\">\n",
              "<ul><li><a href=\"/wiki/Adora%C3%A7%C3%A3o\" title=\"Adoração\">Adoração</a></li>\n",
              "<li><a href=\"/wiki/Altar\" title=\"Altar\">Altar</a></li>\n",
              "<li><a href=\"/wiki/Amuleto\" title=\"Amuleto\">Amuleto</a></li>\n",
              "<li><a href=\"/wiki/Apostasia\" title=\"Apostasia\">Apostasia</a></li>\n",
              "<li><a href=\"/wiki/Castigo_divino\" title=\"Castigo divino\">Castigo divino</a></li>\n",
              "<li><a href=\"/wiki/Clero\" title=\"Clero\">Clero</a></li>\n",
              "<li><a href=\"/wiki/Cren%C3%A7a_religiosa\" title=\"Crença religiosa\">Crenças</a></li>\n",
              "<li><a href=\"/wiki/Criacionismo\" title=\"Criacionismo\">Criacionismo</a></li>\n",
              "<li><a href=\"/wiki/Convers%C3%A3o_(religi%C3%A3o)\" title=\"Conversão (religião)\">Conversão</a></li>\n",
              "<li><a href=\"/wiki/Culto_dos_mortos\" title=\"Culto dos mortos\">Culto dos mortos</a></li>\n",
              "<li><a href=\"/wiki/Deidade\" title=\"Deidade\">Deidades</a></li>\n",
              "<li><a href=\"/wiki/Deus\" title=\"Deus\">Deus</a></li>\n",
              "<li><a href=\"/wiki/Devo%C3%A7%C3%A3o\" title=\"Devoção\">Devoção</a></li>\n",
              "<li><a href=\"/wiki/Espiritualidade\" title=\"Espiritualidade\">Espiritualidade</a></li>\n",
              "<li><a href=\"/wiki/Exegese\" title=\"Exegese\">Exegese</a></li>\n",
              "<li><a class=\"mw-redirect\" href=\"/wiki/Feiti%C3%A7aria\" title=\"Feitiçaria\">Feitiçaria</a></li>\n",
              "<li><a href=\"/wiki/Fetichismo_(religi%C3%A3o)\" title=\"Fetichismo (religião)\">Fetiche</a></li>\n",
              "<li><a href=\"/wiki/Heterodoxia\" title=\"Heterodoxia\">Heterodoxia</a></li>\n",
              "<li><a href=\"/wiki/Messias\" title=\"Messias\">Messias</a></li>\n",
              "<li><a href=\"/wiki/Misticismo\" title=\"Misticismo\">Misticismo</a></li>\n",
              "<li><a href=\"/wiki/Mitologia\" title=\"Mitologia\">Mitologia</a></li>\n",
              "<li><a href=\"/wiki/M%C3%BAsica_gospel\" title=\"Música gospel\">Música gospel</a></li>\n",
              "<li><a href=\"/wiki/Religi%C3%A3o_OVNI\" title=\"Religião OVNI\">Religião OVNI</a></li>\n",
              "<li><a class=\"mw-redirect\" href=\"/wiki/Ordena%C3%A7%C3%A3o_religiosa\" title=\"Ordenação religiosa\">Ordenação</a></li>\n",
              "<li><a href=\"/wiki/Ortodoxia\" title=\"Ortodoxia\">Ortodoxia</a></li>\n",
              "<li><a href=\"/wiki/Ortopraxia\" title=\"Ortopraxia\">Ortopraxia</a></li>\n",
              "<li><a href=\"/wiki/Ora%C3%A7%C3%A3o\" title=\"Oração\">Oração</a></li>\n",
              "<li><a href=\"/wiki/Pacto_com_o_diabo\" title=\"Pacto com o diabo\">Pacto com o diabo</a></li>\n",
              "<li><a href=\"/wiki/Paganismo\" title=\"Paganismo\">Paganismo</a></li>\n",
              "<li><a class=\"mw-redirect\" href=\"/wiki/Para%C3%ADso_(religi%C3%A3o)\" title=\"Paraíso (religião)\">Paraíso</a></li>\n",
              "<li><a href=\"/wiki/Pluralismo_religioso\" title=\"Pluralismo religioso\">Pluralismo religioso</a></li>\n",
              "<li><a class=\"mw-redirect\" href=\"/wiki/P%C3%B3s-morte\" title=\"Pós-morte\">Pós-morte</a></li>\n",
              "<li><a href=\"/wiki/Reencarna%C3%A7%C3%A3o\" title=\"Reencarnação\">Reencarnação</a></li>\n",
              "<li><a href=\"/wiki/Ressurrei%C3%A7%C3%A3o\" title=\"Ressurreição\">Ressurreição</a></li>\n",
              "<li><a href=\"/wiki/Ritual\" title=\"Ritual\">Ritual</a>\n",
              "<ul><li><a href=\"/wiki/Liturgia\" title=\"Liturgia\">liturgia</a></li>\n",
              "<li><a href=\"/wiki/Sacrif%C3%ADcio\" title=\"Sacrifício\">sacrifício</a></li></ul></li>\n",
              "<li><a href=\"/wiki/Sincretismo\" title=\"Sincretismo\">Sincretismo</a></li>\n",
              "<li><a href=\"/wiki/Sobrenatural\" title=\"Sobrenatural\">Sobrenatural</a></li>\n",
              "<li><a href=\"/wiki/Simbolismo_religioso\" title=\"Simbolismo religioso\">Símbolos</a></li>\n",
              "<li><a href=\"/wiki/Totem\" title=\"Totem\">Totem</a></li>\n",
              "<li><a href=\"/wiki/Verdade_(religi%C3%A3o)\" title=\"Verdade (religião)\">Verdade</a></li>\n",
              "<li><a href=\"/wiki/Xamanismo\" title=\"Xamanismo\">Xamanismo</a></li></ul>\n",
              "</div></td></tr><tr><th class=\"navbox-group\" scope=\"row\" style=\"width:1%\">Religião e<br/> sociedade</th><td class=\"navbox-list navbox-odd\" style=\"text-align:left;border-left-width:2px;border-left-style:solid;width:100%;padding:0px\"><div style=\"padding:0em 0.25em\"></div><table class=\"nowraplinks navbox-subgroup\" style=\"border-spacing:0\"><tbody><tr><th class=\"navbox-group\" scope=\"row\" style=\"width:1%;width:120px\">Conceitos</th><td class=\"navbox-list navbox-even\" style=\"text-align:left;border-left-width:2px;border-left-style:solid;width:100%;padding:0px\"><div style=\"padding:0em 0.25em\">\n",
              "<ul><li><a href=\"/wiki/Clero\" title=\"Clero\">Clero</a>\n",
              "<ul><li><a href=\"/wiki/Monasticismo\" title=\"Monasticismo\">Monasticismo</a></li>\n",
              "<li><a class=\"mw-redirect\" href=\"/wiki/Ordena%C3%A7%C3%A3o_religiosa\" title=\"Ordenação religiosa\">Ordenação</a></li>\n",
              "<li><a class=\"mw-redirect\" href=\"/wiki/Evangelismo\" title=\"Evangelismo\">Evangelismo</a></li>\n",
              "<li><a class=\"mw-redirect\" href=\"/wiki/Mission%C3%A1rio\" title=\"Missionário\">Missionário</a></li>\n",
              "<li><a href=\"/wiki/Proselitismo\" title=\"Proselitismo\">Proselitismo</a></li></ul></li>\n",
              "<li><a href=\"/wiki/Educa%C3%A7%C3%A3o_religiosa\" title=\"Educação religiosa\">Educação</a></li>\n",
              "<li><a href=\"/wiki/Fanatismo_religioso\" title=\"Fanatismo religioso\">Fanatismo</a></li>\n",
              "<li><a href=\"/wiki/Liberdade_religiosa\" title=\"Liberdade religiosa\">Liberdade</a>\n",
              "<ul><li><a href=\"/wiki/Pluralismo_religioso\" title=\"Pluralismo religioso\">Pluralismo</a></li>\n",
              "<li><a href=\"/wiki/Sincretismo\" title=\"Sincretismo\">Sincretismo</a></li>\n",
              "<li><a href=\"/wiki/Intoler%C3%A2ncia_religiosa\" title=\"Intolerância religiosa\">Intolerância</a></li>\n",
              "<li><a href=\"/wiki/Universalismo\" title=\"Universalismo\">Universalismo</a></li></ul></li>\n",
              "<li><a href=\"/wiki/Fundamentalismo\" title=\"Fundamentalismo\">Fundamentalismo</a></li>\n",
              "<li><a href=\"/wiki/Homossexualidade_e_religi%C3%A3o\" title=\"Homossexualidade e religião\">Homossexualidade</a></li>\n",
              "<li>Feminismo\n",
              "<ul><li><a href=\"/wiki/Feminismo_judaico\" title=\"Feminismo judaico\">Feminismo judaico</a></li>\n",
              "<li><a href=\"/wiki/Feminismo_crist%C3%A3o\" title=\"Feminismo cristão\">Feminismo cristão</a></li>\n",
              "<li><a href=\"/wiki/Feminismo_isl%C3%A2mico\" title=\"Feminismo islâmico\">Feminismo islâmico</a></li>\n",
              "<li><i><a href=\"/wiki/Reclaiming\" title=\"Reclaiming\">Reclaiming</a></i></li></ul></li>\n",
              "<li><a href=\"/wiki/Movimento_religioso\" title=\"Movimento religioso\">Movimento religioso</a></li>\n",
              "<li><a href=\"/wiki/Cisma\" title=\"Cisma\">Cisma</a></li>\n",
              "<li><a href=\"/wiki/Rela%C3%A7%C3%A3o_entre_religi%C3%A3o_e_ci%C3%AAncia\" title=\"Relação entre religião e ciência\">Ciência</a></li>\n",
              "<li><a href=\"/wiki/Estado_confessional\" title=\"Estado confessional\">Estado</a></li>\n",
              "<li><a href=\"/wiki/Teocracia\" title=\"Teocracia\">Teocracia</a></li>\n",
              "<li><a href=\"/wiki/Guerra_santa\" title=\"Guerra santa\">Guerra</a></li>\n",
              "<li><a href=\"/wiki/Religi%C3%A3o_%C3%A9tnica\" title=\"Religião étnica\">Religião étnica</a></li>\n",
              "<li><a class=\"mw-redirect\" href=\"/wiki/Religi%C3%A3o_folcl%C3%B3rica\" title=\"Religião folclórica\">Religião folclórica</a></li></ul>\n",
              "</div></td></tr><tr><th class=\"navbox-group\" scope=\"row\" style=\"width:1%;width:120px\">Política e religião</th><td class=\"navbox-list navbox-odd\" style=\"text-align:left;border-left-width:2px;border-left-style:solid;width:100%;padding:0px\"><div style=\"padding:0em 0.25em\">\n",
              "<ul><li><a href=\"/wiki/Secularismo\" title=\"Secularismo\">Secularismo</a></li>\n",
              "<li><a href=\"/wiki/Laicismo\" title=\"Laicismo\">Laicismo</a></li>\n",
              "<li><a href=\"/wiki/Antirreligi%C3%A3o\" title=\"Antirreligião\">Antirreligião</a></li>\n",
              "<li><a href=\"/wiki/De%C3%ADsmo\" title=\"Deísmo\">Deísmo</a></li>\n",
              "<li><a href=\"/wiki/Agnosticismo\" title=\"Agnosticismo\">Agnosticismo</a></li>\n",
              "<li><a href=\"/wiki/Ate%C3%ADsmo\" title=\"Ateísmo\">Ateísmo</a></li>\n",
              "<li><a class=\"mw-redirect\" href=\"/wiki/Cr%C3%ADtica_da_religi%C3%A3o\" title=\"Crítica da religião\">Crítica da religião</a></li>\n",
              "<li><a class=\"mw-redirect\" href=\"/wiki/Estado_ateu\" title=\"Estado ateu\">Estado ateu</a></li>\n",
              "<li><a href=\"/wiki/Satanismo_LaVey\" title=\"Satanismo LaVey\">Satanismo LaVey</a></li>\n",
              "<li><a href=\"/wiki/Desconstru%C3%A7%C3%A3o_e_religi%C3%A3o\" title=\"Desconstrução e religião\">Desconstrução</a></li>\n",
              "<li><a href=\"/wiki/Juda%C3%ADsmo_human%C3%ADstico\" title=\"Judaísmo humanístico\">Judaísmo humanístico</a></li>\n",
              "<li><a href=\"/wiki/Irreligi%C3%A3o\" title=\"Irreligião\">Irreligião</a></li>\n",
              "<li><a href=\"/wiki/Pastafarianismo\" title=\"Pastafarianismo\">Pastafarianismo</a></li>\n",
              "<li><a href=\"/wiki/Discordianismo\" title=\"Discordianismo\">Discordianismo</a></li>\n",
              "<li><a href=\"/wiki/Humanismo_secular\" title=\"Humanismo secular\">Humanismo secular</a></li>\n",
              "<li><a href=\"/wiki/Seculariza%C3%A7%C3%A3o\" title=\"Secularização\">Secularização</a></li>\n",
              "<li><a href=\"/wiki/Separa%C3%A7%C3%A3o_Igreja-Estado\" title=\"Separação Igreja-Estado\">Separação Igreja-Estado</a></li>\n",
              "<li><a href=\"/wiki/Feminismo_ate%C3%ADsta\" title=\"Feminismo ateísta\">Feminismo ateísta</a></li></ul>\n",
              "</div></td></tr><tr><th class=\"navbox-group\" scope=\"row\" style=\"width:1%;width:120px\">Mito e ritual</th><td class=\"navbox-list navbox-even\" style=\"text-align:left;border-left-width:2px;border-left-style:solid;width:100%;padding:0px\"><div style=\"padding:0em 0.25em\">\n",
              "<ul><li><a class=\"mw-redirect\" href=\"/wiki/Culto_dos_ancestrais\" title=\"Culto dos ancestrais\">Culto dos ancestrais</a></li>\n",
              "<li><i><a href=\"/wiki/Ethos\" title=\"Ethos\">Ethos</a></i></li>\n",
              "<li><a href=\"/wiki/Folclore\" title=\"Folclore\">Folclore</a></li>\n",
              "<li><a href=\"/wiki/Mitologia\" title=\"Mitologia\">Mitologia</a></li>\n",
              "<li><a href=\"/wiki/Ortopraxia\" title=\"Ortopraxia\">Ortopraxia</a></li>\n",
              "<li><a href=\"/wiki/Ritual\" title=\"Ritual\">Ritual</a></li>\n",
              "<li><a href=\"/wiki/Sacrif%C3%ADcio\" title=\"Sacrifício\">Sacrifício</a>\n",
              "<ul><li><a href=\"/wiki/Sacrif%C3%ADcio_animal\" title=\"Sacrifício animal\">Animal</a></li>\n",
              "<li><a href=\"/wiki/Sacrif%C3%ADcio_humano\" title=\"Sacrifício humano\">Humano</a></li></ul></li>\n",
              "<li><a href=\"/wiki/Magia\" title=\"Magia\">Feitiçaria</a></li>\n",
              "<li><a href=\"/wiki/Tradi%C3%A7%C3%A3o\" title=\"Tradição\">Tradição</a></li>\n",
              "<li><a href=\"/wiki/Virtude\" title=\"Virtude\">Virtude</a></li>\n",
              "<li><a href=\"/wiki/Bruxaria\" title=\"Bruxaria\">Bruxaria</a></li></ul>\n",
              "</div></td></tr></tbody></table><div></div></td></tr><tr><th class=\"navbox-group\" scope=\"row\" style=\"width:1%\"><a href=\"/wiki/Categoria:Listas_de_religi%C3%A3o\" title=\"Categoria:Listas de religião\">Listas</a></th><td class=\"navbox-list navbox-odd\" style=\"text-align:left;border-left-width:2px;border-left-style:solid;width:100%;padding:0px\"><div style=\"padding:0em 0.25em\">\n",
              "<ul><li><a href=\"/wiki/Lista_de_religi%C3%B5es_e_tradi%C3%A7%C3%B5es_espirituais\" title=\"Lista de religiões e tradições espirituais\">Religiões e tradições espirituais</a></li>\n",
              "<li><a href=\"/wiki/Demografia_das_popula%C3%A7%C3%B5es_por_religi%C3%A3o\" title=\"Demografia das populações por religião\">Populações</a></li>\n",
              "<li><a href=\"/wiki/Lista_de_pa%C3%ADses_por_principais_grupos_religiosos\" title=\"Lista de países por principais grupos religiosos\">Religião por país</a></li>\n",
              "<li><a href=\"/wiki/Lista_de_fundadores_de_tradi%C3%A7%C3%B5es_religiosas\" title=\"Lista de fundadores de tradições religiosas\">Fundadores</a></li></ul>\n",
              "</div></td></tr></tbody></table></div>\n",
              "<ul class=\"noprint\" style=\"border-top: solid silver 1px; border-bottom:1px solid silver; padding:3px; background-color: #F9F9F9; text-align: center; margin-top:10px; margin-left: 0; clear: both;\"><li style=\"display: inline;\"><span style=\"white-space: nowrap; margin: auto 1.5em\"><span style=\"margin-right: 0.5em\"><a href=\"/wiki/Ficheiro:EndlessKnot03d.png\" title=\"Portal da espiritualidade\"><img alt=\"\" data-file-height=\"459\" data-file-width=\"378\" decoding=\"async\" height=\"30\" src=\"//upload.wikimedia.org/wikipedia/commons/thumb/1/14/EndlessKnot03d.png/25px-EndlessKnot03d.png\" srcset=\"//upload.wikimedia.org/wikipedia/commons/thumb/1/14/EndlessKnot03d.png/37px-EndlessKnot03d.png 1.5x, //upload.wikimedia.org/wikipedia/commons/thumb/1/14/EndlessKnot03d.png/49px-EndlessKnot03d.png 2x\" width=\"25\"/></a></span> <span style=\"font-weight:bold\"><a href=\"/wiki/Portal:Espiritualidade\" title=\"Portal:Espiritualidade\">Portal da espiritualidade</a></span></span></li> <li style=\"display: inline;\"><span style=\"white-space: nowrap; margin: auto 1.5em\"><span style=\"margin-right: 0.5em\"><a href=\"/wiki/Ficheiro:P_religion_world.svg\" title=\"Portal da religião\"><img alt=\"\" data-file-height=\"360\" data-file-width=\"400\" decoding=\"async\" height=\"23\" src=\"//upload.wikimedia.org/wikipedia/commons/thumb/2/28/P_religion_world.svg/25px-P_religion_world.svg.png\" srcset=\"//upload.wikimedia.org/wikipedia/commons/thumb/2/28/P_religion_world.svg/38px-P_religion_world.svg.png 1.5x, //upload.wikimedia.org/wikipedia/commons/thumb/2/28/P_religion_world.svg/50px-P_religion_world.svg.png 2x\" width=\"25\"/></a></span> <span style=\"font-weight:bold\"><a href=\"/wiki/Portal:Religi%C3%A3o\" title=\"Portal:Religião\">Portal da religião</a></span></span></li> <li style=\"display: inline;\"><span style=\"white-space: nowrap; margin: auto 1.5em\"><span style=\"margin-right: 0.5em\"><a href=\"/wiki/Ficheiro:Gatunek_leczniczy_darkgreen_on_102_255_0_6C_transparent.svg\" title=\"Portal da saúde\"><img alt=\"\" data-file-height=\"30\" data-file-width=\"30\" decoding=\"async\" height=\"25\" src=\"//upload.wikimedia.org/wikipedia/commons/thumb/9/9e/Gatunek_leczniczy_darkgreen_on_102_255_0_6C_transparent.svg/25px-Gatunek_leczniczy_darkgreen_on_102_255_0_6C_transparent.svg.png\" srcset=\"//upload.wikimedia.org/wikipedia/commons/thumb/9/9e/Gatunek_leczniczy_darkgreen_on_102_255_0_6C_transparent.svg/38px-Gatunek_leczniczy_darkgreen_on_102_255_0_6C_transparent.svg.png 1.5x, //upload.wikimedia.org/wikipedia/commons/thumb/9/9e/Gatunek_leczniczy_darkgreen_on_102_255_0_6C_transparent.svg/50px-Gatunek_leczniczy_darkgreen_on_102_255_0_6C_transparent.svg.png 2x\" width=\"25\"/></a></span> <span style=\"font-weight:bold\"><a href=\"/wiki/Portal:Sa%C3%BAde\" title=\"Portal:Saúde\">Portal da saúde</a></span></span></li> </ul>\n",
              "<!-- \n",
              "NewPP limit report\n",
              "Parsed by mw1352\n",
              "Cached time: 20211002221642\n",
              "Cache expiry: 1814400\n",
              "Reduced expiry: false\n",
              "Complications: []\n",
              "CPU time usage: 0.709 seconds\n",
              "Real time usage: 0.832 seconds\n",
              "Preprocessor visited node count: 3948/1000000\n",
              "Post‐expand include size: 80900/2097152 bytes\n",
              "Template argument size: 820/2097152 bytes\n",
              "Highest expansion depth: 10/40\n",
              "Expensive parser function count: 14/500\n",
              "Unstrip recursion depth: 0/20\n",
              "Unstrip post‐expand size: 34896/5000000 bytes\n",
              "Lua time usage: 0.405/10.000 seconds\n",
              "Lua memory usage: 9060843/52428800 bytes\n",
              "Number of Wikibase entities loaded: 0/400\n",
              "-->\n",
              "<!--\n",
              "Transclusion expansion time report (%,ms,calls,template)\n",
              "100.00%  689.094      1 -total\n",
              " 55.88%  385.088      1 Predefinição:Controle_de_autoridade\n",
              " 22.85%  157.435      1 Predefinição:Referências\n",
              " 10.07%   69.383      1 Predefinição:Portal3\n",
              "  9.38%   64.669      3 Predefinição:Portal3/Portais\n",
              "  8.47%   58.336      6 Predefinição:Citar_web\n",
              "  5.29%   36.479      9 Predefinição:Citar_periódico\n",
              "  3.53%   24.359      1 Predefinição:Commonscat\n",
              "  3.05%   20.999      2 Predefinição:Se_vazio\n",
              "  2.81%   19.374      2 Predefinição:Navbox\n",
              "-->\n",
              "<!-- Saved in parser cache with key ptwiki:pcache:idhash:5648-0!canonical and timestamp 20211002221641 and revision id 61923438. Serialized with JSON.\n",
              " -->\n",
              "</div><noscript><img alt=\"\" height=\"1\" src=\"//pt.wikipedia.org/wiki/Special:CentralAutoLogin/start?type=1x1\" style=\"border: none; position: absolute;\" title=\"\" width=\"1\"/></noscript>\n",
              "<div class=\"printfooter\">Obtida de \"<a dir=\"ltr\" href=\"https://pt.wikipedia.org/w/index.php?title=Meditação&amp;oldid=61923438\">https://pt.wikipedia.org/w/index.php?title=Meditação&amp;oldid=61923438</a>\"</div></div>\n",
              "<div class=\"catlinks\" data-mw=\"interface\" id=\"catlinks\"><div class=\"mw-normal-catlinks\" id=\"mw-normal-catlinks\"><a href=\"/wiki/Especial:Categorias\" title=\"Especial:Categorias\">Categorias</a>: <ul><li><a href=\"/wiki/Categoria:Pr%C3%A1ticas_religiosas\" title=\"Categoria:Práticas religiosas\">Práticas religiosas</a></li><li><a href=\"/wiki/Categoria:Medita%C3%A7%C3%A3o\" title=\"Categoria:Meditação\">Meditação</a></li><li><a href=\"/wiki/Categoria:Religi%C3%A3o\" title=\"Categoria:Religião\">Religião</a></li></ul></div><div class=\"mw-hidden-catlinks mw-hidden-cats-hidden\" id=\"mw-hidden-catlinks\">Categorias ocultas: <ul><li><a href=\"/wiki/Categoria:!P%C3%A1ginas_com_erros_CS1:_datas\" title=\"Categoria:!Páginas com erros CS1: datas\">!Páginas com erros CS1: datas</a></li><li><a href=\"/wiki/Categoria:!Predefini%C3%A7%C3%A3o_Webarchive_wayback_links\" title=\"Categoria:!Predefinição Webarchive wayback links\">!Predefinição Webarchive wayback links</a></li><li><a href=\"/wiki/Categoria:!Avisos_na_predefini%C3%A7%C3%A3o_Webarchive\" title=\"Categoria:!Avisos na predefinição Webarchive\">!Avisos na predefinição Webarchive</a></li><li><a href=\"/wiki/Categoria:!P%C3%A1ginas_com_refer%C3%AAncias_sem_URL_e_com_acessodata\" title=\"Categoria:!Páginas com referências sem URL e com acessodata\">!Páginas com referências sem URL e com acessodata</a></li><li><a href=\"/wiki/Categoria:!P%C3%A1ginas_que_usam_hiperliga%C3%A7%C3%B5es_m%C3%A1gicas_ISBN\" title=\"Categoria:!Páginas que usam hiperligações mágicas ISBN\">!Páginas que usam hiperligações mágicas ISBN</a></li></ul></div></div>\n",
              "</div>\n",
              "</main>\n",
              "<div id=\"mw-data-after-content\">\n",
              "<div class=\"read-more-container\"></div>\n",
              "</div>\n",
              "</div>\n",
              "</div>\n",
              "<div class=\"mw-workspace-container mw-footer-container\">\n",
              "<div class=\"mw-content-container\">\n",
              "<footer class=\"mw-footer\" id=\"footer\" role=\"contentinfo\">\n",
              "<ul id=\"footer-info\">\n",
              "<li id=\"footer-info-lastmod\"> Esta página foi editada pela última vez às 22h35min de 26 de agosto de 2021.</li>\n",
              "<li id=\"footer-info-copyright\">Este texto é disponibilizado nos termos da licença <a href=\"https://creativecommons.org/licenses/by-sa/3.0/deed.pt\">Atribuição-CompartilhaIgual 3.0 Não Adaptada (CC BY-SA 3.0) da Creative Commons</a>;\n",
              "pode estar sujeito a condições adicionais.\n",
              "Para mais detalhes, consulte as <a href=\"https://foundation.wikimedia.org/wiki/Condições_de_Uso\">condições de utilização</a>.</li>\n",
              "</ul>\n",
              "<ul id=\"footer-places\">\n",
              "<li id=\"footer-places-privacy\"><a class=\"extiw\" href=\"https://meta.wikimedia.org/wiki/Privacy_policy/pt-br\" title=\"m:Privacy policy/pt-br\">Política de privacidade</a></li>\n",
              "<li id=\"footer-places-about\"><a class=\"mw-redirect\" href=\"/wiki/Wikip%C3%A9dia:Sobre\" title=\"Wikipédia:Sobre\">Sobre a Wikipédia</a></li>\n",
              "<li id=\"footer-places-disclaimer\"><a href=\"/wiki/Wikip%C3%A9dia:Aviso_geral\" title=\"Wikipédia:Aviso geral\">Avisos gerais</a></li>\n",
              "<li id=\"footer-places-mobileview\"><a class=\"noprint stopMobileRedirectToggle\" href=\"//pt.m.wikipedia.org/w/index.php?title=Medita%C3%A7%C3%A3o&amp;mobileaction=toggle_view_mobile\">Versão móvel</a></li>\n",
              "<li id=\"footer-places-developers\"><a href=\"https://www.mediawiki.org/wiki/Special:MyLanguage/How_to_contribute\">Programadores</a></li>\n",
              "<li id=\"footer-places-statslink\"><a href=\"https://stats.wikimedia.org/#/pt.wikipedia.org\">Estatísticas</a></li>\n",
              "<li id=\"footer-places-cookiestatement\"><a href=\"https://foundation.wikimedia.org/wiki/Cookie_statement\">Declaração sobre ''cookies''</a></li>\n",
              "</ul>\n",
              "<ul class=\"noprint\" id=\"footer-icons\">\n",
              "<li id=\"footer-copyrightico\"><a href=\"https://wikimediafoundation.org/\"><img alt=\"Wikimedia Foundation\" height=\"31\" loading=\"lazy\" src=\"/static/images/footer/wikimedia-button.png\" srcset=\"/static/images/footer/wikimedia-button-1.5x.png 1.5x, /static/images/footer/wikimedia-button-2x.png 2x\" width=\"88\"/></a></li>\n",
              "<li id=\"footer-poweredbyico\"><a href=\"https://www.mediawiki.org/\"><img alt=\"Powered by MediaWiki\" height=\"31\" loading=\"lazy\" src=\"/static/images/footer/poweredby_mediawiki_88x31.png\" srcset=\"/static/images/footer/poweredby_mediawiki_132x47.png 1.5x, /static/images/footer/poweredby_mediawiki_176x62.png 2x\" width=\"88\"/></a></li>\n",
              "</ul>\n",
              "</footer>\n",
              "</div>\n",
              "</div>\n",
              "</div>\n",
              "</div>\n",
              "<script>(RLQ=window.RLQ||[]).push(function(){mw.config.set({\"wgPageParseReport\":{\"limitreport\":{\"cputime\":\"0.709\",\"walltime\":\"0.832\",\"ppvisitednodes\":{\"value\":3948,\"limit\":1000000},\"postexpandincludesize\":{\"value\":80900,\"limit\":2097152},\"templateargumentsize\":{\"value\":820,\"limit\":2097152},\"expansiondepth\":{\"value\":10,\"limit\":40},\"expensivefunctioncount\":{\"value\":14,\"limit\":500},\"unstrip-depth\":{\"value\":0,\"limit\":20},\"unstrip-size\":{\"value\":34896,\"limit\":5000000},\"entityaccesscount\":{\"value\":0,\"limit\":400},\"timingprofile\":[\"100.00%  689.094      1 -total\",\" 55.88%  385.088      1 Predefinição:Controle_de_autoridade\",\" 22.85%  157.435      1 Predefinição:Referências\",\" 10.07%   69.383      1 Predefinição:Portal3\",\"  9.38%   64.669      3 Predefinição:Portal3/Portais\",\"  8.47%   58.336      6 Predefinição:Citar_web\",\"  5.29%   36.479      9 Predefinição:Citar_periódico\",\"  3.53%   24.359      1 Predefinição:Commonscat\",\"  3.05%   20.999      2 Predefinição:Se_vazio\",\"  2.81%   19.374      2 Predefinição:Navbox\"]},\"scribunto\":{\"limitreport-timeusage\":{\"value\":\"0.405\",\"limit\":\"10.000\"},\"limitreport-memusage\":{\"value\":9060843,\"limit\":52428800}},\"cachereport\":{\"origin\":\"mw1352\",\"timestamp\":\"20211002221642\",\"ttl\":1814400,\"transientcontent\":false}}});});</script>\n",
              "<script type=\"application/ld+json\">{\"@context\":\"https:\\/\\/schema.org\",\"@type\":\"Article\",\"name\":\"Medita\\u00e7\\u00e3o\",\"url\":\"https:\\/\\/pt.wikipedia.org\\/wiki\\/Medita%C3%A7%C3%A3o\",\"sameAs\":\"http:\\/\\/www.wikidata.org\\/entity\\/Q108458\",\"mainEntity\":\"http:\\/\\/www.wikidata.org\\/entity\\/Q108458\",\"author\":{\"@type\":\"Organization\",\"name\":\"Contribuidores dos projetos da Wikimedia\"},\"publisher\":{\"@type\":\"Organization\",\"name\":\"Funda\\u00e7\\u00e3o Wikimedia, Inc.\",\"logo\":{\"@type\":\"ImageObject\",\"url\":\"https:\\/\\/www.wikimedia.org\\/static\\/images\\/wmf-hor-googpub.png\"}},\"datePublished\":\"2004-02-29T17:23:06Z\",\"dateModified\":\"2021-08-26T22:35:01Z\",\"image\":\"https:\\/\\/upload.wikimedia.org\\/wikipedia\\/commons\\/4\\/43\\/Sri_Chinmoy_in_Kamakura.jpg\",\"headline\":\"conjunto de t\\u00e9cnicas para instrospe\\u00e7\\u00e3o e foco da aten\\u00e7\\u00e3o\"}</script>\n",
              "<script>(RLQ=window.RLQ||[]).push(function(){mw.config.set({\"wgBackendResponseTime\":158,\"wgHostname\":\"mw1452\"});});</script>\n",
              "</body></html>"
            ]
          },
          "metadata": {},
          "execution_count": 53
        }
      ]
    },
    {
      "cell_type": "code",
      "metadata": {
        "id": "Z0EeT54gUd2v"
      },
      "source": [
        "paragrafos = dados_html.find_all('p')"
      ],
      "execution_count": null,
      "outputs": []
    },
    {
      "cell_type": "code",
      "metadata": {
        "colab": {
          "base_uri": "https://localhost:8080/"
        },
        "id": "5ppe9jcrUxYl",
        "outputId": "dd87dbfe-0d14-4d1f-8164-6a2212b502f4"
      },
      "source": [
        "len(paragrafos)"
      ],
      "execution_count": null,
      "outputs": [
        {
          "output_type": "execute_result",
          "data": {
            "text/plain": [
              "17"
            ]
          },
          "metadata": {},
          "execution_count": 55
        }
      ]
    },
    {
      "cell_type": "code",
      "metadata": {
        "colab": {
          "base_uri": "https://localhost:8080/",
          "height": 35
        },
        "id": "AwKilC1SUzIp",
        "outputId": "b84e5437-ff33-42de-b9b7-885ed6f6f617"
      },
      "source": [
        "paragrafos[0].text"
      ],
      "execution_count": null,
      "outputs": [
        {
          "output_type": "execute_result",
          "data": {
            "application/vnd.google.colaboratory.intrinsic+json": {
              "type": "string"
            },
            "text/plain": [
              "'\\n\\t\\tPáginas para editores conectados saiba mais\\n'"
            ]
          },
          "metadata": {},
          "execution_count": 56
        }
      ]
    },
    {
      "cell_type": "code",
      "metadata": {
        "id": "6r02E4wsU1ru"
      },
      "source": [
        "conteudo = ''\n",
        "for p in paragrafos:\n",
        "  conteudo += p.text"
      ],
      "execution_count": null,
      "outputs": []
    },
    {
      "cell_type": "code",
      "metadata": {
        "colab": {
          "base_uri": "https://localhost:8080/",
          "height": 174
        },
        "id": "03ShkO9vVJ4o",
        "outputId": "3dc20513-20af-4d91-b261-4886ee10fd51"
      },
      "source": [
        "conteudo"
      ],
      "execution_count": null,
      "outputs": [
        {
          "output_type": "execute_result",
          "data": {
            "application/vnd.google.colaboratory.intrinsic+json": {
              "type": "string"
            },
            "text/plain": [
              "'\\n\\t\\tPáginas para editores conectados saiba mais\\n\\nA meditação pode ser definida como uma prática na qual o indivíduo utiliza técnicas para focar sua mente num objeto, pensamento ou atividade em particular, visando alcançar um estado de clareza mental e emocional.[1][2] Sua origem é muito antiga, remontando as tradições orientais, especialmente a ioga[3], mas o termo também se refere a práticas adotadas por alguns caminhos espirituais ou religiões, como o budismo e cristianismo, entre outras.[4] Textos orientais consideram a meditação como instrumento que leva em direção à libertação.[5]O termo em páli utilizado para referir-se a meditação é bhavana, que significa \"cultivo\".[6] O termo meditação foi utilizado como palavra para traduzir práticas espirituais orientais, referidas pelo termo dhyana no budismo e hinduísmo.[7][8] Estudiosos notaram que o termo \"meditação\" no uso contemporâneo é paralelo ao significado do termo \"contemplação\" no cristianismo.[9]\\nOs Vedas hinduístas estão entre as primeiras referências escritas sobre meditação. Outras formas surgiram associadas ao confucianismo e taoísmo na China, assim como no hinduísmo, jainismo e budismo no Nepal e Índia. No terceiro século depois de Cristo, Plotino havia estabelecido técnicas para a meditação. No ocidente, mesmo 20 anos a.C., dentro do Império Romano, Fílon de Alexandria nomeou práticas espirituais que envolviam atenção e concentração.[10] Já no século XII, o sufismo utilizava de palavras sagradas e métodos específicos para meditação, como o controle da respiração.[11] A existência de interação com indianos, nepaleses ou sufis pode ser uma indicação da abordagem cristã ortodoxa ao hesicasmo, desenvolvida principalmente na Grécia entre os séculos X e XIV, mas não foram encontradas provas concretas.[12][13][14]\\n\\nA meditação cristã praticada desde o século sexto foi definida pelo monge Guigo II no século XII com os termos \"leitura, reflexão, oração e contemplação\" e teve seu desenvolvimento continuado no século XVI em diante por Inácio de Loyola e Teresa de Ávila.[15][16][17][18]A definição de meditação pode variar de acordo com o contexto em que se encontra, variando de qual religião tem origem ou se é usada de maneira secular. Em meio acadêmico, a meditação já chegou a ser dividida em dois tipos de abordagem. A \"atenção focada\" compreende a concentração voluntária num objeto, respiração, imagem ou palavras. O outro tipo, o \"monitoramento aberto\", envolve uma observação não-reativa do conteúdo da experiência que ocorre num dado momento.[19]\\nAlgumas definições do que é meditação estão relacionadas a uma prática ou técnica, outras vezes estão relacionadas a uma explicação de um estado de consciência ou simplesmente são usadas como um verbo.[20]\\nAlgumas distintas definições que normalmente são usadas para meditação são:\\n\\n\\nAinda que algumas definições da palavra \\'meditação\\' usadas por diferentes religiões sejam bem diferentes e até mesmo contraditórias, é ponto comum que apontem para uma realidade interior e o desenvolvimento/compreensão desta realidade. A compreensão de o que é a meditação deve ser feita sempre dentro do contexto em que é apresentada, da religião ou da escola que a apresenta, caso contrário as distintas explicações podem se tornar contraditórias.[23] \\nA meditação pode ser praticada por diversos motivos: desde a simples concentração dos pensamentos, até a busca pelo nirvana. Desde tempos antigos, as tradições orientais consideram a meditação como um passo em direção à libertação.[5] Há praticantes da meditação que relataram melhora na concentração, consciência, autodisciplina e equanimidade.[24] Segundo dicionários modernos, a meditação é vista como uma prática onde o indivíduo utiliza técnicas para focar sua mente num objeto, pensamento ou atividade em particular, visando alcançar um estado de clareza mental e emocional.[1][2] A prática de meditação pode ter inúmeras variantes quanto à postura do corpo, objeto de meditação.\\nA meditação pode ser realizada sentado, em pé ou andando, variando pelo contexto onde é ensinada. A posição sentada é adotada normalmente por ser considerada a mais fácil, onde o corpo se encontra em repouso mas ainda alerta. A famosa posição de lótus se difundiu muito como sinônimo de meditação por ser usada no ioga como uma posição ideal de meditação, onde mantém o corpo estável, mas pode ser difícil de alcançar e não é recomendada caso traga desconforto ou distraia o praticante do objeto da sua prática ou técnica. Inúmeras posições de meditação podem ser usadas como de pernas cruzadas, de joelhos (seiza), meio-lótus (com uma perna em cima da outra), birmanesa, etc.[21] Na tradição budista é comum se encontrar a prática da meditação andando, que é vista como uma postura onde se desenvolve concentração em movimento, energia para a mente e vitalidade para o corpo.[25]\\nEm linhas gerais, pode-se descrever dois grupos de técnicas de meditação. A \"atenção focada\" compreende a concentração voluntária num objeto, respiração, imagem ou palavras. O outro tipo, o \"monitoramento aberto\", envolve uma observação não-reativa do conteúdo da experiência que ocorre num dado momento.[19]\\nNormalmente, não há um tempo mínimo preestabelecido. Pode-se iniciar com um período de poucos minutos e, conforme se aperfeiçoa, esse tempo pode aumentar até para horas, dias, ou em casos excepcionais, até 21 dias (o samadhi). É importante ressaltar que a frequência da prática também influencia muito os resultados.[21]\\nNas tradições espirituais ou religiosas de meditação, o professor realizado é aquele que consegue ensinar o aprendiz em silêncio, através da sua própria consciência interior ou pelo olhar silencioso (iniciação). Ele não precisa explicar exteriormente como meditar ou ensinar uma técnica específica.[26]\\n\\nHistoricamente, a meditação foi sempre usada e associada à prática espiritual e de autodescobrimento. No entanto, desde 1970, a psicologia e psiquiatria desenvolveram técnicas de meditação para diversos distúrbios psicológicos.[27] Práticas de \"monitoramento aberto\" (vide \\'definição\\' acima) são utilizadas na psicologia para reduzir problemas mentais e físicos,[28][29] bem como dependência química. A evidência é insuficiente sobre o efeito da meditação no humor, atenção, alimentação, sono ou peso corporal.[30]'"
            ]
          },
          "metadata": {},
          "execution_count": 58
        }
      ]
    },
    {
      "cell_type": "code",
      "metadata": {
        "colab": {
          "base_uri": "https://localhost:8080/",
          "height": 174
        },
        "id": "U7gtJon9VMpd",
        "outputId": "ef9a062c-55a5-4b24-c439-38c1a5c1105e"
      },
      "source": [
        "conteudo = conteudo.lower()\n",
        "conteudo"
      ],
      "execution_count": null,
      "outputs": [
        {
          "output_type": "execute_result",
          "data": {
            "application/vnd.google.colaboratory.intrinsic+json": {
              "type": "string"
            },
            "text/plain": [
              "'\\n\\t\\tpáginas para editores conectados saiba mais\\n\\na meditação pode ser definida como uma prática na qual o indivíduo utiliza técnicas para focar sua mente num objeto, pensamento ou atividade em particular, visando alcançar um estado de clareza mental e emocional.[1][2] sua origem é muito antiga, remontando as tradições orientais, especialmente a ioga[3], mas o termo também se refere a práticas adotadas por alguns caminhos espirituais ou religiões, como o budismo e cristianismo, entre outras.[4] textos orientais consideram a meditação como instrumento que leva em direção à libertação.[5]o termo em páli utilizado para referir-se a meditação é bhavana, que significa \"cultivo\".[6] o termo meditação foi utilizado como palavra para traduzir práticas espirituais orientais, referidas pelo termo dhyana no budismo e hinduísmo.[7][8] estudiosos notaram que o termo \"meditação\" no uso contemporâneo é paralelo ao significado do termo \"contemplação\" no cristianismo.[9]\\nos vedas hinduístas estão entre as primeiras referências escritas sobre meditação. outras formas surgiram associadas ao confucianismo e taoísmo na china, assim como no hinduísmo, jainismo e budismo no nepal e índia. no terceiro século depois de cristo, plotino havia estabelecido técnicas para a meditação. no ocidente, mesmo 20 anos a.c., dentro do império romano, fílon de alexandria nomeou práticas espirituais que envolviam atenção e concentração.[10] já no século xii, o sufismo utilizava de palavras sagradas e métodos específicos para meditação, como o controle da respiração.[11] a existência de interação com indianos, nepaleses ou sufis pode ser uma indicação da abordagem cristã ortodoxa ao hesicasmo, desenvolvida principalmente na grécia entre os séculos x e xiv, mas não foram encontradas provas concretas.[12][13][14]\\n\\na meditação cristã praticada desde o século sexto foi definida pelo monge guigo ii no século xii com os termos \"leitura, reflexão, oração e contemplação\" e teve seu desenvolvimento continuado no século xvi em diante por inácio de loyola e teresa de ávila.[15][16][17][18]a definição de meditação pode variar de acordo com o contexto em que se encontra, variando de qual religião tem origem ou se é usada de maneira secular. em meio acadêmico, a meditação já chegou a ser dividida em dois tipos de abordagem. a \"atenção focada\" compreende a concentração voluntária num objeto, respiração, imagem ou palavras. o outro tipo, o \"monitoramento aberto\", envolve uma observação não-reativa do conteúdo da experiência que ocorre num dado momento.[19]\\nalgumas definições do que é meditação estão relacionadas a uma prática ou técnica, outras vezes estão relacionadas a uma explicação de um estado de consciência ou simplesmente são usadas como um verbo.[20]\\nalgumas distintas definições que normalmente são usadas para meditação são:\\n\\n\\nainda que algumas definições da palavra \\'meditação\\' usadas por diferentes religiões sejam bem diferentes e até mesmo contraditórias, é ponto comum que apontem para uma realidade interior e o desenvolvimento/compreensão desta realidade. a compreensão de o que é a meditação deve ser feita sempre dentro do contexto em que é apresentada, da religião ou da escola que a apresenta, caso contrário as distintas explicações podem se tornar contraditórias.[23] \\na meditação pode ser praticada por diversos motivos: desde a simples concentração dos pensamentos, até a busca pelo nirvana. desde tempos antigos, as tradições orientais consideram a meditação como um passo em direção à libertação.[5] há praticantes da meditação que relataram melhora na concentração, consciência, autodisciplina e equanimidade.[24] segundo dicionários modernos, a meditação é vista como uma prática onde o indivíduo utiliza técnicas para focar sua mente num objeto, pensamento ou atividade em particular, visando alcançar um estado de clareza mental e emocional.[1][2] a prática de meditação pode ter inúmeras variantes quanto à postura do corpo, objeto de meditação.\\na meditação pode ser realizada sentado, em pé ou andando, variando pelo contexto onde é ensinada. a posição sentada é adotada normalmente por ser considerada a mais fácil, onde o corpo se encontra em repouso mas ainda alerta. a famosa posição de lótus se difundiu muito como sinônimo de meditação por ser usada no ioga como uma posição ideal de meditação, onde mantém o corpo estável, mas pode ser difícil de alcançar e não é recomendada caso traga desconforto ou distraia o praticante do objeto da sua prática ou técnica. inúmeras posições de meditação podem ser usadas como de pernas cruzadas, de joelhos (seiza), meio-lótus (com uma perna em cima da outra), birmanesa, etc.[21] na tradição budista é comum se encontrar a prática da meditação andando, que é vista como uma postura onde se desenvolve concentração em movimento, energia para a mente e vitalidade para o corpo.[25]\\nem linhas gerais, pode-se descrever dois grupos de técnicas de meditação. a \"atenção focada\" compreende a concentração voluntária num objeto, respiração, imagem ou palavras. o outro tipo, o \"monitoramento aberto\", envolve uma observação não-reativa do conteúdo da experiência que ocorre num dado momento.[19]\\nnormalmente, não há um tempo mínimo preestabelecido. pode-se iniciar com um período de poucos minutos e, conforme se aperfeiçoa, esse tempo pode aumentar até para horas, dias, ou em casos excepcionais, até 21 dias (o samadhi). é importante ressaltar que a frequência da prática também influencia muito os resultados.[21]\\nnas tradições espirituais ou religiosas de meditação, o professor realizado é aquele que consegue ensinar o aprendiz em silêncio, através da sua própria consciência interior ou pelo olhar silencioso (iniciação). ele não precisa explicar exteriormente como meditar ou ensinar uma técnica específica.[26]\\n\\nhistoricamente, a meditação foi sempre usada e associada à prática espiritual e de autodescobrimento. no entanto, desde 1970, a psicologia e psiquiatria desenvolveram técnicas de meditação para diversos distúrbios psicológicos.[27] práticas de \"monitoramento aberto\" (vide \\'definição\\' acima) são utilizadas na psicologia para reduzir problemas mentais e físicos,[28][29] bem como dependência química. a evidência é insuficiente sobre o efeito da meditação no humor, atenção, alimentação, sono ou peso corporal.[30]'"
            ]
          },
          "metadata": {},
          "execution_count": 59
        }
      ]
    },
    {
      "cell_type": "markdown",
      "metadata": {
        "id": "pxoWCAiDVc2r"
      },
      "source": [
        "#Buscas em textos com spaCy"
      ]
    },
    {
      "cell_type": "code",
      "metadata": {
        "colab": {
          "base_uri": "https://localhost:8080/"
        },
        "id": "rTcBaAuGVWN_",
        "outputId": "7469ec5b-7cda-496e-90da-53fbddbac6c5"
      },
      "source": [
        "pln = spacy.load('pt')\n",
        "pln"
      ],
      "execution_count": null,
      "outputs": [
        {
          "output_type": "execute_result",
          "data": {
            "text/plain": [
              "<spacy.lang.pt.Portuguese at 0x7f0876e63e10>"
            ]
          },
          "metadata": {},
          "execution_count": 60
        }
      ]
    },
    {
      "cell_type": "code",
      "metadata": {
        "id": "EsZOmIFGVnAF"
      },
      "source": [
        "string = 'meditação'\n",
        "token_pesquisa = pln(string)"
      ],
      "execution_count": null,
      "outputs": []
    },
    {
      "cell_type": "code",
      "metadata": {
        "colab": {
          "base_uri": "https://localhost:8080/"
        },
        "id": "hmTtRogsp2q2",
        "outputId": "bbfd160c-60d0-4e9d-ca59-446ab46da340"
      },
      "source": [
        "pln.vocab"
      ],
      "execution_count": null,
      "outputs": [
        {
          "output_type": "execute_result",
          "data": {
            "text/plain": [
              "<spacy.vocab.Vocab at 0x7f0876e5ccb0>"
            ]
          },
          "metadata": {},
          "execution_count": 62
        }
      ]
    },
    {
      "cell_type": "code",
      "metadata": {
        "id": "Y7JwA9jZV0NU"
      },
      "source": [
        "from spacy.matcher import PhraseMatcher\n",
        "matcher = PhraseMatcher(pln.vocab)\n",
        "matcher.add ('SEARCH', None, token_pesquisa)"
      ],
      "execution_count": null,
      "outputs": []
    },
    {
      "cell_type": "code",
      "metadata": {
        "colab": {
          "base_uri": "https://localhost:8080/"
        },
        "id": "-cSb7FQvqWhb",
        "outputId": "98dc86ca-00e2-4ffb-a0ac-87afcda5c6d5"
      },
      "source": [
        "doc = pln(conteudo)\n",
        "matches = matcher(doc)\n",
        "matches"
      ],
      "execution_count": null,
      "outputs": [
        {
          "output_type": "execute_result",
          "data": {
            "text/plain": [
              "[(8661325627334373315, 9, 10),\n",
              " (8661325627334373315, 90, 91),\n",
              " (8661325627334373315, 106, 107),\n",
              " (8661325627334373315, 117, 118),\n",
              " (8661325627334373315, 143, 144),\n",
              " (8661325627334373315, 172, 173),\n",
              " (8661325627334373315, 212, 213),\n",
              " (8661325627334373315, 255, 256),\n",
              " (8661325627334373315, 305, 306),\n",
              " (8661325627334373315, 353, 354),\n",
              " (8661325627334373315, 385, 386),\n",
              " (8661325627334373315, 445, 446),\n",
              " (8661325627334373315, 483, 484),\n",
              " (8661325627334373315, 494, 495),\n",
              " (8661325627334373315, 533, 534),\n",
              " (8661325627334373315, 567, 568),\n",
              " (8661325627334373315, 597, 598),\n",
              " (8661325627334373315, 609, 610),\n",
              " (8661325627334373315, 627, 628),\n",
              " (8661325627334373315, 664, 665),\n",
              " (8661325627334373315, 677, 678),\n",
              " (8661325627334373315, 681, 682),\n",
              " (8661325627334373315, 734, 735),\n",
              " (8661325627334373315, 745, 746),\n",
              " (8661325627334373315, 781, 782),\n",
              " (8661325627334373315, 821, 822),\n",
              " (8661325627334373315, 859, 860),\n",
              " (8661325627334373315, 971, 972),\n",
              " (8661325627334373315, 1017, 1018),\n",
              " (8661325627334373315, 1043, 1044),\n",
              " (8661325627334373315, 1086, 1087)]"
            ]
          },
          "metadata": {},
          "execution_count": 64
        }
      ]
    },
    {
      "cell_type": "code",
      "metadata": {
        "colab": {
          "base_uri": "https://localhost:8080/"
        },
        "id": "yAO8NkRPrdJ2",
        "outputId": "24be73cd-0c4b-46d2-e22b-9441eb770309"
      },
      "source": [
        "doc [3044:3045], doc[3044-5:3045+5]"
      ],
      "execution_count": null,
      "outputs": [
        {
          "output_type": "execute_result",
          "data": {
            "text/plain": [
              "(, )"
            ]
          },
          "metadata": {},
          "execution_count": 65
        }
      ]
    },
    {
      "cell_type": "code",
      "metadata": {
        "colab": {
          "base_uri": "https://localhost:8080/"
        },
        "id": "2XwTouJBvZel",
        "outputId": "f797ec19-b815-4209-eb81-1f0fe15b8e3f"
      },
      "source": [
        "matches[0], matches[0][1], matches[0][2]"
      ],
      "execution_count": null,
      "outputs": [
        {
          "output_type": "execute_result",
          "data": {
            "text/plain": [
              "((8661325627334373315, 9, 10), 9, 10)"
            ]
          },
          "metadata": {},
          "execution_count": 66
        }
      ]
    },
    {
      "cell_type": "code",
      "metadata": {
        "id": "zMPHtt6qvzIt"
      },
      "source": [
        "from IPython.core.display import HTML"
      ],
      "execution_count": null,
      "outputs": []
    },
    {
      "cell_type": "code",
      "metadata": {
        "id": "PeldFDRIv66x"
      },
      "source": [
        "numero_palavras = 50"
      ],
      "execution_count": null,
      "outputs": []
    },
    {
      "cell_type": "code",
      "metadata": {
        "colab": {
          "base_uri": "https://localhost:8080/"
        },
        "id": "uRiev9Z2v92J",
        "outputId": "66d562b1-adb7-44db-fb7c-5b6c1c8a8775"
      },
      "source": [
        "doc = pln(conteudo)\n",
        "matches = matcher(doc)\n",
        "texto = ''\n",
        "display (HTML(f'<h1>{string.upper()}</h1>'))\n",
        "display (HTML(f\"\"\"<p><strong>Resultados encontrados</strong>{len(matches)}</p>\"\"\"))\n",
        "for i in matches:\n",
        "  inicio =i[1] - numero_palavras\n",
        "  if inicio < 0:\n",
        "    inicio = 0\n",
        "  texto += str(doc[inicio:i[2] + numero_palavras]).replace(string, f\"<mark>{string}</mark>\")\n",
        "  texto += \"<br /><br />\"\n",
        "display(HTML(f\"\"\"... {texto} ...\"\"\"))"
      ],
      "execution_count": null,
      "outputs": [
        {
          "output_type": "display_data",
          "data": {
            "text/html": [
              "<h1>MEDITAÇÃO</h1>"
            ],
            "text/plain": [
              "<IPython.core.display.HTML object>"
            ]
          },
          "metadata": {}
        },
        {
          "output_type": "display_data",
          "data": {
            "text/html": [
              "<p><strong>Resultados encontrados</strong>31</p>"
            ],
            "text/plain": [
              "<IPython.core.display.HTML object>"
            ]
          },
          "metadata": {}
        },
        {
          "output_type": "display_data",
          "data": {
            "text/html": [
              "... \n",
              "\t\tpáginas para editores conectados saiba mais\n",
              "\n",
              "a <mark>meditação</mark> pode ser definida como uma prática na qual o indivíduo utiliza técnicas para focar sua mente num objeto, pensamento ou atividade em particular, visando alcançar um estado de clareza mental e emocional.[1][2] sua origem é muito antiga, remontando as tradições orientais, especialmente a ioga[3]<br /><br />clareza mental e emocional.[1][2] sua origem é muito antiga, remontando as tradições orientais, especialmente a ioga[3], mas o termo também se refere a práticas adotadas por alguns caminhos espirituais ou religiões, como o budismo e cristianismo, entre outras.[4] textos orientais consideram a <mark>meditação</mark> como instrumento que leva em direção à libertação.[5]o termo em páli utilizado para referir-se a <mark>meditação</mark> é bhavana, que significa \"cultivo\".[6] o termo <mark>meditação</mark> foi utilizado como palavra para traduzir práticas espirituais orientais, referidas pelo termo dhyana no budismo e hinduísmo.[7][8] estudiosos notaram que o<br /><br />especialmente a ioga[3], mas o termo também se refere a práticas adotadas por alguns caminhos espirituais ou religiões, como o budismo e cristianismo, entre outras.[4] textos orientais consideram a <mark>meditação</mark> como instrumento que leva em direção à libertação.[5]o termo em páli utilizado para referir-se a <mark>meditação</mark> é bhavana, que significa \"cultivo\".[6] o termo <mark>meditação</mark> foi utilizado como palavra para traduzir práticas espirituais orientais, referidas pelo termo dhyana no budismo e hinduísmo.[7][8] estudiosos notaram que o termo \"<mark>meditação</mark>\" no uso contemporâneo é paralelo ao significado do termo \"contemplação<br /><br />a práticas adotadas por alguns caminhos espirituais ou religiões, como o budismo e cristianismo, entre outras.[4] textos orientais consideram a <mark>meditação</mark> como instrumento que leva em direção à libertação.[5]o termo em páli utilizado para referir-se a <mark>meditação</mark> é bhavana, que significa \"cultivo\".[6] o termo <mark>meditação</mark> foi utilizado como palavra para traduzir práticas espirituais orientais, referidas pelo termo dhyana no budismo e hinduísmo.[7][8] estudiosos notaram que o termo \"<mark>meditação</mark>\" no uso contemporâneo é paralelo ao significado do termo \"contemplação\" no cristianismo.[9]\n",
              "os vedas hinduístas estão entre as<br /><br />que leva em direção à libertação.[5]o termo em páli utilizado para referir-se a <mark>meditação</mark> é bhavana, que significa \"cultivo\".[6] o termo <mark>meditação</mark> foi utilizado como palavra para traduzir práticas espirituais orientais, referidas pelo termo dhyana no budismo e hinduísmo.[7][8] estudiosos notaram que o termo \"<mark>meditação</mark>\" no uso contemporâneo é paralelo ao significado do termo \"contemplação\" no cristianismo.[9]\n",
              "os vedas hinduístas estão entre as primeiras referências escritas sobre <mark>meditação</mark>. outras formas surgiram associadas ao confucianismo e taoísmo na china, assim como no hinduísmo, jainismo e budismo<br /><br />para traduzir práticas espirituais orientais, referidas pelo termo dhyana no budismo e hinduísmo.[7][8] estudiosos notaram que o termo \"<mark>meditação</mark>\" no uso contemporâneo é paralelo ao significado do termo \"contemplação\" no cristianismo.[9]\n",
              "os vedas hinduístas estão entre as primeiras referências escritas sobre <mark>meditação</mark>. outras formas surgiram associadas ao confucianismo e taoísmo na china, assim como no hinduísmo, jainismo e budismo no nepal e índia. no terceiro século depois de cristo, plotino havia estabelecido técnicas para a <mark>meditação</mark>. no ocidente, mesmo 20 anos a.c.,<br /><br />os vedas hinduístas estão entre as primeiras referências escritas sobre <mark>meditação</mark>. outras formas surgiram associadas ao confucianismo e taoísmo na china, assim como no hinduísmo, jainismo e budismo no nepal e índia. no terceiro século depois de cristo, plotino havia estabelecido técnicas para a <mark>meditação</mark>. no ocidente, mesmo 20 anos a.c., dentro do império romano, fílon de alexandria nomeou práticas espirituais que envolviam atenção e concentração.[10] já no século xii, o sufismo utilizava de palavras sagradas e métodos específicos para <mark>meditação</mark>, como o controle da respiração.[11]<br /><br />, plotino havia estabelecido técnicas para a <mark>meditação</mark>. no ocidente, mesmo 20 anos a.c., dentro do império romano, fílon de alexandria nomeou práticas espirituais que envolviam atenção e concentração.[10] já no século xii, o sufismo utilizava de palavras sagradas e métodos específicos para <mark>meditação</mark>, como o controle da respiração.[11] a existência de interação com indianos, nepaleses ou sufis pode ser uma indicação da abordagem cristã ortodoxa ao hesicasmo, desenvolvida principalmente na grécia entre os séculos x e xiv, mas não foram encontradas provas concretas.[12][13][14]\n",
              "\n",
              "a <mark>meditação</mark><br /><br /><mark>meditação</mark>, como o controle da respiração.[11] a existência de interação com indianos, nepaleses ou sufis pode ser uma indicação da abordagem cristã ortodoxa ao hesicasmo, desenvolvida principalmente na grécia entre os séculos x e xiv, mas não foram encontradas provas concretas.[12][13][14]\n",
              "\n",
              "a <mark>meditação</mark> cristã praticada desde o século sexto foi definida pelo monge guigo ii no século xii com os termos \"leitura, reflexão, oração e contemplação\" e teve seu desenvolvimento continuado no século xvi em diante por inácio de loyola e teresa de ávila.[15][16][17][18]a definição de <mark>meditação</mark> pode variar<br /><br />\n",
              "\n",
              "a <mark>meditação</mark> cristã praticada desde o século sexto foi definida pelo monge guigo ii no século xii com os termos \"leitura, reflexão, oração e contemplação\" e teve seu desenvolvimento continuado no século xvi em diante por inácio de loyola e teresa de ávila.[15][16][17][18]a definição de <mark>meditação</mark> pode variar de acordo com o contexto em que se encontra, variando de qual religião tem origem ou se é usada de maneira secular. em meio acadêmico, a <mark>meditação</mark> já chegou a ser dividida em dois tipos de abordagem. a \"atenção focada\" compreende a<br /><br />seu desenvolvimento continuado no século xvi em diante por inácio de loyola e teresa de ávila.[15][16][17][18]a definição de <mark>meditação</mark> pode variar de acordo com o contexto em que se encontra, variando de qual religião tem origem ou se é usada de maneira secular. em meio acadêmico, a <mark>meditação</mark> já chegou a ser dividida em dois tipos de abordagem. a \"atenção focada\" compreende a concentração voluntária num objeto, respiração, imagem ou palavras. o outro tipo, o \"monitoramento aberto\", envolve uma observação não-reativa do conteúdo da experiência que ocorre num<br /><br />abordagem. a \"atenção focada\" compreende a concentração voluntária num objeto, respiração, imagem ou palavras. o outro tipo, o \"monitoramento aberto\", envolve uma observação não-reativa do conteúdo da experiência que ocorre num dado momento.[19]\n",
              "algumas definições do que é <mark>meditação</mark> estão relacionadas a uma prática ou técnica, outras vezes estão relacionadas a uma explicação de um estado de consciência ou simplesmente são usadas como um verbo.[20]\n",
              "algumas distintas definições que normalmente são usadas para <mark>meditação</mark> são:\n",
              "\n",
              "\n",
              "ainda que algumas definições da palavra '<mark>meditação</mark>'<br /><br />que ocorre num dado momento.[19]\n",
              "algumas definições do que é <mark>meditação</mark> estão relacionadas a uma prática ou técnica, outras vezes estão relacionadas a uma explicação de um estado de consciência ou simplesmente são usadas como um verbo.[20]\n",
              "algumas distintas definições que normalmente são usadas para <mark>meditação</mark> são:\n",
              "\n",
              "\n",
              "ainda que algumas definições da palavra '<mark>meditação</mark>' usadas por diferentes religiões sejam bem diferentes e até mesmo contraditórias, é ponto comum que apontem para uma realidade interior e o desenvolvimento/compreensão desta realidade. a compreensão de o que é a <mark>meditação</mark><br /><br />é <mark>meditação</mark> estão relacionadas a uma prática ou técnica, outras vezes estão relacionadas a uma explicação de um estado de consciência ou simplesmente são usadas como um verbo.[20]\n",
              "algumas distintas definições que normalmente são usadas para <mark>meditação</mark> são:\n",
              "\n",
              "\n",
              "ainda que algumas definições da palavra '<mark>meditação</mark>' usadas por diferentes religiões sejam bem diferentes e até mesmo contraditórias, é ponto comum que apontem para uma realidade interior e o desenvolvimento/compreensão desta realidade. a compreensão de o que é a <mark>meditação</mark> deve ser feita sempre dentro do contexto em que é apresentada<br /><br /><mark>meditação</mark> são:\n",
              "\n",
              "\n",
              "ainda que algumas definições da palavra '<mark>meditação</mark>' usadas por diferentes religiões sejam bem diferentes e até mesmo contraditórias, é ponto comum que apontem para uma realidade interior e o desenvolvimento/compreensão desta realidade. a compreensão de o que é a <mark>meditação</mark> deve ser feita sempre dentro do contexto em que é apresentada, da religião ou da escola que a apresenta, caso contrário as distintas explicações podem se tornar contraditórias.[23] \n",
              "a <mark>meditação</mark> pode ser praticada por diversos motivos: desde a simples concentração dos pensamentos, até a<br /><br />e o desenvolvimento/compreensão desta realidade. a compreensão de o que é a <mark>meditação</mark> deve ser feita sempre dentro do contexto em que é apresentada, da religião ou da escola que a apresenta, caso contrário as distintas explicações podem se tornar contraditórias.[23] \n",
              "a <mark>meditação</mark> pode ser praticada por diversos motivos: desde a simples concentração dos pensamentos, até a busca pelo nirvana. desde tempos antigos, as tradições orientais consideram a <mark>meditação</mark> como um passo em direção à libertação.[5] há praticantes da <mark>meditação</mark> que relataram melhora na concentração, consciência,<br /><br />religião ou da escola que a apresenta, caso contrário as distintas explicações podem se tornar contraditórias.[23] \n",
              "a <mark>meditação</mark> pode ser praticada por diversos motivos: desde a simples concentração dos pensamentos, até a busca pelo nirvana. desde tempos antigos, as tradições orientais consideram a <mark>meditação</mark> como um passo em direção à libertação.[5] há praticantes da <mark>meditação</mark> que relataram melhora na concentração, consciência, autodisciplina e equanimidade.[24] segundo dicionários modernos, a <mark>meditação</mark> é vista como uma prática onde o indivíduo utiliza técnicas para focar sua mente num objeto, pensamento ou atividade<br /><br />explicações podem se tornar contraditórias.[23] \n",
              "a <mark>meditação</mark> pode ser praticada por diversos motivos: desde a simples concentração dos pensamentos, até a busca pelo nirvana. desde tempos antigos, as tradições orientais consideram a <mark>meditação</mark> como um passo em direção à libertação.[5] há praticantes da <mark>meditação</mark> que relataram melhora na concentração, consciência, autodisciplina e equanimidade.[24] segundo dicionários modernos, a <mark>meditação</mark> é vista como uma prática onde o indivíduo utiliza técnicas para focar sua mente num objeto, pensamento ou atividade em particular, visando alcançar um estado de clareza mental e emocional.[1][2<br /><br />simples concentração dos pensamentos, até a busca pelo nirvana. desde tempos antigos, as tradições orientais consideram a <mark>meditação</mark> como um passo em direção à libertação.[5] há praticantes da <mark>meditação</mark> que relataram melhora na concentração, consciência, autodisciplina e equanimidade.[24] segundo dicionários modernos, a <mark>meditação</mark> é vista como uma prática onde o indivíduo utiliza técnicas para focar sua mente num objeto, pensamento ou atividade em particular, visando alcançar um estado de clareza mental e emocional.[1][2] a prática de <mark>meditação</mark> pode ter inúmeras variantes quanto à postura do corpo, objeto de <mark>meditação</mark><br /><br />concentração, consciência, autodisciplina e equanimidade.[24] segundo dicionários modernos, a <mark>meditação</mark> é vista como uma prática onde o indivíduo utiliza técnicas para focar sua mente num objeto, pensamento ou atividade em particular, visando alcançar um estado de clareza mental e emocional.[1][2] a prática de <mark>meditação</mark> pode ter inúmeras variantes quanto à postura do corpo, objeto de <mark>meditação</mark>.\n",
              "a <mark>meditação</mark> pode ser realizada sentado, em pé ou andando, variando pelo contexto onde é ensinada. a posição sentada é adotada normalmente por ser considerada a mais fácil, onde o corpo<br /><br /><mark>meditação</mark> é vista como uma prática onde o indivíduo utiliza técnicas para focar sua mente num objeto, pensamento ou atividade em particular, visando alcançar um estado de clareza mental e emocional.[1][2] a prática de <mark>meditação</mark> pode ter inúmeras variantes quanto à postura do corpo, objeto de <mark>meditação</mark>.\n",
              "a <mark>meditação</mark> pode ser realizada sentado, em pé ou andando, variando pelo contexto onde é ensinada. a posição sentada é adotada normalmente por ser considerada a mais fácil, onde o corpo se encontra em repouso mas ainda alerta. a famosa posição de lótus<br /><br />uma prática onde o indivíduo utiliza técnicas para focar sua mente num objeto, pensamento ou atividade em particular, visando alcançar um estado de clareza mental e emocional.[1][2] a prática de <mark>meditação</mark> pode ter inúmeras variantes quanto à postura do corpo, objeto de <mark>meditação</mark>.\n",
              "a <mark>meditação</mark> pode ser realizada sentado, em pé ou andando, variando pelo contexto onde é ensinada. a posição sentada é adotada normalmente por ser considerada a mais fácil, onde o corpo se encontra em repouso mas ainda alerta. a famosa posição de lótus se difundiu muito como<br /><br />realizada sentado, em pé ou andando, variando pelo contexto onde é ensinada. a posição sentada é adotada normalmente por ser considerada a mais fácil, onde o corpo se encontra em repouso mas ainda alerta. a famosa posição de lótus se difundiu muito como sinônimo de <mark>meditação</mark> por ser usada no ioga como uma posição ideal de <mark>meditação</mark>, onde mantém o corpo estável, mas pode ser difícil de alcançar e não é recomendada caso traga desconforto ou distraia o praticante do objeto da sua prática ou técnica. inúmeras posições de <mark>meditação</mark> podem ser usadas<br /><br />onde é ensinada. a posição sentada é adotada normalmente por ser considerada a mais fácil, onde o corpo se encontra em repouso mas ainda alerta. a famosa posição de lótus se difundiu muito como sinônimo de <mark>meditação</mark> por ser usada no ioga como uma posição ideal de <mark>meditação</mark>, onde mantém o corpo estável, mas pode ser difícil de alcançar e não é recomendada caso traga desconforto ou distraia o praticante do objeto da sua prática ou técnica. inúmeras posições de <mark>meditação</mark> podem ser usadas como de pernas cruzadas, de joelhos (seiza),<br /><br />como sinônimo de <mark>meditação</mark> por ser usada no ioga como uma posição ideal de <mark>meditação</mark>, onde mantém o corpo estável, mas pode ser difícil de alcançar e não é recomendada caso traga desconforto ou distraia o praticante do objeto da sua prática ou técnica. inúmeras posições de <mark>meditação</mark> podem ser usadas como de pernas cruzadas, de joelhos (seiza), meio-lótus (com uma perna em cima da outra), birmanesa, etc.[21] na tradição budista é comum se encontrar a prática da <mark>meditação</mark> andando, que é vista como uma postura onde se<br /><br />objeto da sua prática ou técnica. inúmeras posições de <mark>meditação</mark> podem ser usadas como de pernas cruzadas, de joelhos (seiza), meio-lótus (com uma perna em cima da outra), birmanesa, etc.[21] na tradição budista é comum se encontrar a prática da <mark>meditação</mark> andando, que é vista como uma postura onde se desenvolve concentração em movimento, energia para a mente e vitalidade para o corpo.[25]\n",
              "em linhas gerais, pode-se descrever dois grupos de técnicas de <mark>meditação</mark>. a \"atenção focada\" compreende a concentração voluntária num objeto<br /><br />etc.[21] na tradição budista é comum se encontrar a prática da <mark>meditação</mark> andando, que é vista como uma postura onde se desenvolve concentração em movimento, energia para a mente e vitalidade para o corpo.[25]\n",
              "em linhas gerais, pode-se descrever dois grupos de técnicas de <mark>meditação</mark>. a \"atenção focada\" compreende a concentração voluntária num objeto, respiração, imagem ou palavras. o outro tipo, o \"monitoramento aberto\", envolve uma observação não-reativa do conteúdo da experiência que ocorre num dado momento.[19]\n",
              "normalmente, não há um tempo<br /><br />e, conforme se aperfeiçoa, esse tempo pode aumentar até para horas, dias, ou em casos excepcionais, até 21 dias (o samadhi). é importante ressaltar que a frequência da prática também influencia muito os resultados.[21]\n",
              "nas tradições espirituais ou religiosas de <mark>meditação</mark>, o professor realizado é aquele que consegue ensinar o aprendiz em silêncio, através da sua própria consciência interior ou pelo olhar silencioso (iniciação). ele não precisa explicar exteriormente como meditar ou ensinar uma técnica específica.[26]\n",
              "\n",
              "historicamente, a <mark>meditação</mark> foi sempre usada e<br /><br />espirituais ou religiosas de <mark>meditação</mark>, o professor realizado é aquele que consegue ensinar o aprendiz em silêncio, através da sua própria consciência interior ou pelo olhar silencioso (iniciação). ele não precisa explicar exteriormente como meditar ou ensinar uma técnica específica.[26]\n",
              "\n",
              "historicamente, a <mark>meditação</mark> foi sempre usada e associada à prática espiritual e de autodescobrimento. no entanto, desde 1970, a psicologia e psiquiatria desenvolveram técnicas de <mark>meditação</mark> para diversos distúrbios psicológicos.[27] práticas de \"monitoramento aberto\" (vide 'definição' acima) são utilizadas na psicologia para reduzir<br /><br />pelo olhar silencioso (iniciação). ele não precisa explicar exteriormente como meditar ou ensinar uma técnica específica.[26]\n",
              "\n",
              "historicamente, a <mark>meditação</mark> foi sempre usada e associada à prática espiritual e de autodescobrimento. no entanto, desde 1970, a psicologia e psiquiatria desenvolveram técnicas de <mark>meditação</mark> para diversos distúrbios psicológicos.[27] práticas de \"monitoramento aberto\" (vide 'definição' acima) são utilizadas na psicologia para reduzir problemas mentais e físicos,[28][29] bem como dependência química. a evidência é insuficiente sobre o efeito da <mark>meditação</mark> no humor, atenção, alimentação,<br /><br />a psicologia e psiquiatria desenvolveram técnicas de <mark>meditação</mark> para diversos distúrbios psicológicos.[27] práticas de \"monitoramento aberto\" (vide 'definição' acima) são utilizadas na psicologia para reduzir problemas mentais e físicos,[28][29] bem como dependência química. a evidência é insuficiente sobre o efeito da <mark>meditação</mark> no humor, atenção, alimentação, sono ou peso corporal.[30]<br /><br /> ..."
            ],
            "text/plain": [
              "<IPython.core.display.HTML object>"
            ]
          },
          "metadata": {}
        }
      ]
    },
    {
      "cell_type": "markdown",
      "metadata": {
        "id": "oEpCp-aIvVUB"
      },
      "source": [
        "# Extração de entidades nomeadas"
      ]
    },
    {
      "cell_type": "code",
      "metadata": {
        "colab": {
          "base_uri": "https://localhost:8080/"
        },
        "id": "fIIGmMtJxALP",
        "outputId": "853479cd-e0a6-4137-eca5-bed1fbde22a9"
      },
      "source": [
        "for entidade in doc.ents:\n",
        "  print(entidade.text, entidade.label_)"
      ],
      "execution_count": null,
      "outputs": [
        {
          "output_type": "stream",
          "name": "stdout",
          "text": [
            "ioga[3 ORG\n",
            "china LOC\n",
            "nepal LOC\n",
            "índia LOC\n",
            "cristo PER\n",
            "plotino PER\n",
            "império romano LOC\n",
            "fílon de alexandria PER\n",
            "xii MISC\n",
            "respiração.[11 MISC\n",
            "grécia LOC\n",
            "guigo ii PER\n",
            "xii MISC\n",
            "inácio de loyola PER\n",
            "teresa de ávila.[15][16][17][18]a definição de meditação PER\n",
            "contraditórias.[23 MISC\n",
            "nirvana ORG\n",
            "libertação.[5 ORG\n",
            "lótus PER\n",
            "seiza PER\n",
            "meio-lótus PER\n",
            "etc.[21 ORG\n"
          ]
        }
      ]
    },
    {
      "cell_type": "code",
      "metadata": {
        "colab": {
          "base_uri": "https://localhost:8080/"
        },
        "id": "yTWIyRauuVMQ",
        "outputId": "9c42df41-ecd9-4053-9261-cd47caa4d168"
      },
      "source": [
        "from spacy import displacy\n",
        "displacy.render(doc, style = 'ent', jupyter = True)"
      ],
      "execution_count": null,
      "outputs": [
        {
          "output_type": "display_data",
          "data": {
            "text/html": [
              "<span class=\"tex2jax_ignore\"><div class=\"entities\" style=\"line-height: 2.5; direction: ltr\"></br>\t\tpáginas para editores conectados saiba mais</br></br>a meditação pode ser definida como uma prática na qual o indivíduo utiliza técnicas para focar sua mente num objeto, pensamento ou atividade em particular, visando alcançar um estado de clareza mental e emocional.[1][2] sua origem é muito antiga, remontando as tradições orientais, especialmente a \n",
              "<mark class=\"entity\" style=\"background: #7aecec; padding: 0.45em 0.6em; margin: 0 0.25em; line-height: 1; border-radius: 0.35em;\">\n",
              "    ioga[3\n",
              "    <span style=\"font-size: 0.8em; font-weight: bold; line-height: 1; border-radius: 0.35em; text-transform: uppercase; vertical-align: middle; margin-left: 0.5rem\">ORG</span>\n",
              "</mark>\n",
              "], mas o termo também se refere a práticas adotadas por alguns caminhos espirituais ou religiões, como o budismo e cristianismo, entre outras.[4] textos orientais consideram a meditação como instrumento que leva em direção à libertação.[5]o termo em páli utilizado para referir-se a meditação é bhavana, que significa &quot;cultivo&quot;.[6] o termo meditação foi utilizado como palavra para traduzir práticas espirituais orientais, referidas pelo termo dhyana no budismo e hinduísmo.[7][8] estudiosos notaram que o termo &quot;meditação&quot; no uso contemporâneo é paralelo ao significado do termo &quot;contemplação&quot; no cristianismo.[9]</br>os vedas hinduístas estão entre as primeiras referências escritas sobre meditação. outras formas surgiram associadas ao confucianismo e taoísmo na \n",
              "<mark class=\"entity\" style=\"background: #ff9561; padding: 0.45em 0.6em; margin: 0 0.25em; line-height: 1; border-radius: 0.35em;\">\n",
              "    china\n",
              "    <span style=\"font-size: 0.8em; font-weight: bold; line-height: 1; border-radius: 0.35em; text-transform: uppercase; vertical-align: middle; margin-left: 0.5rem\">LOC</span>\n",
              "</mark>\n",
              ", assim como no hinduísmo, jainismo e budismo no \n",
              "<mark class=\"entity\" style=\"background: #ff9561; padding: 0.45em 0.6em; margin: 0 0.25em; line-height: 1; border-radius: 0.35em;\">\n",
              "    nepal\n",
              "    <span style=\"font-size: 0.8em; font-weight: bold; line-height: 1; border-radius: 0.35em; text-transform: uppercase; vertical-align: middle; margin-left: 0.5rem\">LOC</span>\n",
              "</mark>\n",
              " e \n",
              "<mark class=\"entity\" style=\"background: #ff9561; padding: 0.45em 0.6em; margin: 0 0.25em; line-height: 1; border-radius: 0.35em;\">\n",
              "    índia\n",
              "    <span style=\"font-size: 0.8em; font-weight: bold; line-height: 1; border-radius: 0.35em; text-transform: uppercase; vertical-align: middle; margin-left: 0.5rem\">LOC</span>\n",
              "</mark>\n",
              ". no terceiro século depois de \n",
              "<mark class=\"entity\" style=\"background: #ddd; padding: 0.45em 0.6em; margin: 0 0.25em; line-height: 1; border-radius: 0.35em;\">\n",
              "    cristo\n",
              "    <span style=\"font-size: 0.8em; font-weight: bold; line-height: 1; border-radius: 0.35em; text-transform: uppercase; vertical-align: middle; margin-left: 0.5rem\">PER</span>\n",
              "</mark>\n",
              ", \n",
              "<mark class=\"entity\" style=\"background: #ddd; padding: 0.45em 0.6em; margin: 0 0.25em; line-height: 1; border-radius: 0.35em;\">\n",
              "    plotino\n",
              "    <span style=\"font-size: 0.8em; font-weight: bold; line-height: 1; border-radius: 0.35em; text-transform: uppercase; vertical-align: middle; margin-left: 0.5rem\">PER</span>\n",
              "</mark>\n",
              " havia estabelecido técnicas para a meditação. no ocidente, mesmo 20 anos a.c., dentro do \n",
              "<mark class=\"entity\" style=\"background: #ff9561; padding: 0.45em 0.6em; margin: 0 0.25em; line-height: 1; border-radius: 0.35em;\">\n",
              "    império romano\n",
              "    <span style=\"font-size: 0.8em; font-weight: bold; line-height: 1; border-radius: 0.35em; text-transform: uppercase; vertical-align: middle; margin-left: 0.5rem\">LOC</span>\n",
              "</mark>\n",
              ", \n",
              "<mark class=\"entity\" style=\"background: #ddd; padding: 0.45em 0.6em; margin: 0 0.25em; line-height: 1; border-radius: 0.35em;\">\n",
              "    fílon de alexandria\n",
              "    <span style=\"font-size: 0.8em; font-weight: bold; line-height: 1; border-radius: 0.35em; text-transform: uppercase; vertical-align: middle; margin-left: 0.5rem\">PER</span>\n",
              "</mark>\n",
              " nomeou práticas espirituais que envolviam atenção e concentração.[10] já no século \n",
              "<mark class=\"entity\" style=\"background: #ddd; padding: 0.45em 0.6em; margin: 0 0.25em; line-height: 1; border-radius: 0.35em;\">\n",
              "    xii\n",
              "    <span style=\"font-size: 0.8em; font-weight: bold; line-height: 1; border-radius: 0.35em; text-transform: uppercase; vertical-align: middle; margin-left: 0.5rem\">MISC</span>\n",
              "</mark>\n",
              ", o sufismo utilizava de palavras sagradas e métodos específicos para meditação, como o controle da \n",
              "<mark class=\"entity\" style=\"background: #ddd; padding: 0.45em 0.6em; margin: 0 0.25em; line-height: 1; border-radius: 0.35em;\">\n",
              "    respiração.[11\n",
              "    <span style=\"font-size: 0.8em; font-weight: bold; line-height: 1; border-radius: 0.35em; text-transform: uppercase; vertical-align: middle; margin-left: 0.5rem\">MISC</span>\n",
              "</mark>\n",
              "] a existência de interação com indianos, nepaleses ou sufis pode ser uma indicação da abordagem cristã ortodoxa ao hesicasmo, desenvolvida principalmente na \n",
              "<mark class=\"entity\" style=\"background: #ff9561; padding: 0.45em 0.6em; margin: 0 0.25em; line-height: 1; border-radius: 0.35em;\">\n",
              "    grécia\n",
              "    <span style=\"font-size: 0.8em; font-weight: bold; line-height: 1; border-radius: 0.35em; text-transform: uppercase; vertical-align: middle; margin-left: 0.5rem\">LOC</span>\n",
              "</mark>\n",
              " entre os séculos x e xiv, mas não foram encontradas provas concretas.[12][13][14]</br></br>a meditação cristã praticada desde o século sexto foi definida pelo monge \n",
              "<mark class=\"entity\" style=\"background: #ddd; padding: 0.45em 0.6em; margin: 0 0.25em; line-height: 1; border-radius: 0.35em;\">\n",
              "    guigo ii\n",
              "    <span style=\"font-size: 0.8em; font-weight: bold; line-height: 1; border-radius: 0.35em; text-transform: uppercase; vertical-align: middle; margin-left: 0.5rem\">PER</span>\n",
              "</mark>\n",
              " no século \n",
              "<mark class=\"entity\" style=\"background: #ddd; padding: 0.45em 0.6em; margin: 0 0.25em; line-height: 1; border-radius: 0.35em;\">\n",
              "    xii\n",
              "    <span style=\"font-size: 0.8em; font-weight: bold; line-height: 1; border-radius: 0.35em; text-transform: uppercase; vertical-align: middle; margin-left: 0.5rem\">MISC</span>\n",
              "</mark>\n",
              " com os termos &quot;leitura, reflexão, oração e contemplação&quot; e teve seu desenvolvimento continuado no século xvi em diante por \n",
              "<mark class=\"entity\" style=\"background: #ddd; padding: 0.45em 0.6em; margin: 0 0.25em; line-height: 1; border-radius: 0.35em;\">\n",
              "    inácio de loyola\n",
              "    <span style=\"font-size: 0.8em; font-weight: bold; line-height: 1; border-radius: 0.35em; text-transform: uppercase; vertical-align: middle; margin-left: 0.5rem\">PER</span>\n",
              "</mark>\n",
              " e \n",
              "<mark class=\"entity\" style=\"background: #ddd; padding: 0.45em 0.6em; margin: 0 0.25em; line-height: 1; border-radius: 0.35em;\">\n",
              "    teresa de ávila.[15][16][17][18]a definição de meditação\n",
              "    <span style=\"font-size: 0.8em; font-weight: bold; line-height: 1; border-radius: 0.35em; text-transform: uppercase; vertical-align: middle; margin-left: 0.5rem\">PER</span>\n",
              "</mark>\n",
              " pode variar de acordo com o contexto em que se encontra, variando de qual religião tem origem ou se é usada de maneira secular. em meio acadêmico, a meditação já chegou a ser dividida em dois tipos de abordagem. a &quot;atenção focada&quot; compreende a concentração voluntária num objeto, respiração, imagem ou palavras. o outro tipo, o &quot;monitoramento aberto&quot;, envolve uma observação não-reativa do conteúdo da experiência que ocorre num dado momento.[19]</br>algumas definições do que é meditação estão relacionadas a uma prática ou técnica, outras vezes estão relacionadas a uma explicação de um estado de consciência ou simplesmente são usadas como um verbo.[20]</br>algumas distintas definições que normalmente são usadas para meditação são:</br></br></br>ainda que algumas definições da palavra 'meditação' usadas por diferentes religiões sejam bem diferentes e até mesmo contraditórias, é ponto comum que apontem para uma realidade interior e o desenvolvimento/compreensão desta realidade. a compreensão de o que é a meditação deve ser feita sempre dentro do contexto em que é apresentada, da religião ou da escola que a apresenta, caso contrário as distintas explicações podem se tornar \n",
              "<mark class=\"entity\" style=\"background: #ddd; padding: 0.45em 0.6em; margin: 0 0.25em; line-height: 1; border-radius: 0.35em;\">\n",
              "    contraditórias.[23\n",
              "    <span style=\"font-size: 0.8em; font-weight: bold; line-height: 1; border-radius: 0.35em; text-transform: uppercase; vertical-align: middle; margin-left: 0.5rem\">MISC</span>\n",
              "</mark>\n",
              "] </br>a meditação pode ser praticada por diversos motivos: desde a simples concentração dos pensamentos, até a busca pelo \n",
              "<mark class=\"entity\" style=\"background: #7aecec; padding: 0.45em 0.6em; margin: 0 0.25em; line-height: 1; border-radius: 0.35em;\">\n",
              "    nirvana\n",
              "    <span style=\"font-size: 0.8em; font-weight: bold; line-height: 1; border-radius: 0.35em; text-transform: uppercase; vertical-align: middle; margin-left: 0.5rem\">ORG</span>\n",
              "</mark>\n",
              ". desde tempos antigos, as tradições orientais consideram a meditação como um passo em direção à \n",
              "<mark class=\"entity\" style=\"background: #7aecec; padding: 0.45em 0.6em; margin: 0 0.25em; line-height: 1; border-radius: 0.35em;\">\n",
              "    libertação.[5\n",
              "    <span style=\"font-size: 0.8em; font-weight: bold; line-height: 1; border-radius: 0.35em; text-transform: uppercase; vertical-align: middle; margin-left: 0.5rem\">ORG</span>\n",
              "</mark>\n",
              "] há praticantes da meditação que relataram melhora na concentração, consciência, autodisciplina e equanimidade.[24] segundo dicionários modernos, a meditação é vista como uma prática onde o indivíduo utiliza técnicas para focar sua mente num objeto, pensamento ou atividade em particular, visando alcançar um estado de clareza mental e emocional.[1][2] a prática de meditação pode ter inúmeras variantes quanto à postura do corpo, objeto de meditação.</br>a meditação pode ser realizada sentado, em pé ou andando, variando pelo contexto onde é ensinada. a posição sentada é adotada normalmente por ser considerada a mais fácil, onde o corpo se encontra em repouso mas ainda alerta. a famosa posição de \n",
              "<mark class=\"entity\" style=\"background: #ddd; padding: 0.45em 0.6em; margin: 0 0.25em; line-height: 1; border-radius: 0.35em;\">\n",
              "    lótus\n",
              "    <span style=\"font-size: 0.8em; font-weight: bold; line-height: 1; border-radius: 0.35em; text-transform: uppercase; vertical-align: middle; margin-left: 0.5rem\">PER</span>\n",
              "</mark>\n",
              " se difundiu muito como sinônimo de meditação por ser usada no ioga como uma posição ideal de meditação, onde mantém o corpo estável, mas pode ser difícil de alcançar e não é recomendada caso traga desconforto ou distraia o praticante do objeto da sua prática ou técnica. inúmeras posições de meditação podem ser usadas como de pernas cruzadas, de joelhos (\n",
              "<mark class=\"entity\" style=\"background: #ddd; padding: 0.45em 0.6em; margin: 0 0.25em; line-height: 1; border-radius: 0.35em;\">\n",
              "    seiza\n",
              "    <span style=\"font-size: 0.8em; font-weight: bold; line-height: 1; border-radius: 0.35em; text-transform: uppercase; vertical-align: middle; margin-left: 0.5rem\">PER</span>\n",
              "</mark>\n",
              "), \n",
              "<mark class=\"entity\" style=\"background: #ddd; padding: 0.45em 0.6em; margin: 0 0.25em; line-height: 1; border-radius: 0.35em;\">\n",
              "    meio-lótus\n",
              "    <span style=\"font-size: 0.8em; font-weight: bold; line-height: 1; border-radius: 0.35em; text-transform: uppercase; vertical-align: middle; margin-left: 0.5rem\">PER</span>\n",
              "</mark>\n",
              " (com uma perna em cima da outra), birmanesa, \n",
              "<mark class=\"entity\" style=\"background: #7aecec; padding: 0.45em 0.6em; margin: 0 0.25em; line-height: 1; border-radius: 0.35em;\">\n",
              "    etc.[21\n",
              "    <span style=\"font-size: 0.8em; font-weight: bold; line-height: 1; border-radius: 0.35em; text-transform: uppercase; vertical-align: middle; margin-left: 0.5rem\">ORG</span>\n",
              "</mark>\n",
              "] na tradição budista é comum se encontrar a prática da meditação andando, que é vista como uma postura onde se desenvolve concentração em movimento, energia para a mente e vitalidade para o corpo.[25]\n",
              "em linhas gerais, pode-se descrever dois grupos de técnicas de meditação. a &quot;atenção focada&quot; compreende a concentração voluntária num objeto, respiração, imagem ou palavras. o outro tipo, o &quot;monitoramento aberto&quot;, envolve uma observação não-reativa do conteúdo da experiência que ocorre num dado momento.[19]\n",
              "normalmente, não há um tempo mínimo preestabelecido. pode-se iniciar com um período de poucos minutos e, conforme se aperfeiçoa, esse tempo pode aumentar até para horas, dias, ou em casos excepcionais, até 21 dias (o samadhi). é importante ressaltar que a frequência da prática também influencia muito os resultados.[21]\n",
              "nas tradições espirituais ou religiosas de meditação, o professor realizado é aquele que consegue ensinar o aprendiz em silêncio, através da sua própria consciência interior ou pelo olhar silencioso (iniciação). ele não precisa explicar exteriormente como meditar ou ensinar uma técnica específica.[26]\n",
              "\n",
              "historicamente, a meditação foi sempre usada e associada à prática espiritual e de autodescobrimento. no entanto, desde 1970, a psicologia e psiquiatria desenvolveram técnicas de meditação para diversos distúrbios psicológicos.[27] práticas de &quot;monitoramento aberto&quot; (vide 'definição' acima) são utilizadas na psicologia para reduzir problemas mentais e físicos,[28][29] bem como dependência química. a evidência é insuficiente sobre o efeito da meditação no humor, atenção, alimentação, sono ou peso corporal.[30]</div></span>"
            ],
            "text/plain": [
              "<IPython.core.display.HTML object>"
            ]
          },
          "metadata": {}
        }
      ]
    },
    {
      "cell_type": "markdown",
      "metadata": {
        "id": "A_3rASxY0Uzv"
      },
      "source": [
        "#Nuvem de palavras com Python"
      ]
    },
    {
      "cell_type": "code",
      "metadata": {
        "colab": {
          "base_uri": "https://localhost:8080/"
        },
        "id": "OV_K5-En3b_i",
        "outputId": "638d137a-7e1f-49cf-f437-01ad4c6ffaf9"
      },
      "source": [
        "from spacy.lang.pt.stop_words import STOP_WORDS\n",
        "print(STOP_WORDS)"
      ],
      "execution_count": null,
      "outputs": [
        {
          "output_type": "stream",
          "name": "stdout",
          "text": [
            "{'vem', 'quarta', 'lá', 'vossas', 'favor', 'dão', 'dá', 'caminho', 'vêm', 'nossos', 'tentei', 'vocês', 'porquê', 'vais', 'dentro', 'temos', 'sem', 'ontem', 'vez', 'lugar', 'foste', 'ir', 'oitavo', 'meus', 'quinze', 'pela', 'fora', 'primeira', 'tarde', 'podia', 'menos', 'oitava', 'também', 'partir', 'você', 'des', 'teve', 'pelas', 'disso', 'momento', 'quando', 'têm', 'coisa', 'apenas', 'estive', 'enquanto', 'além', 'quem', 'certeza', 'ali', 'grupo', 'nove', 'só', 'contudo', 'tanto', 'ter', 'dezoito', 'lado', 'sexta', 'todos', 'já', 'estivemos', 'fomos', 'nenhuma', 'com', 'porquanto', 'baixo', 'vários', 'cá', 'breve', 'estar', 'fazes', 'tuas', 'todo', 'nosso', 'aí', 'somente', 'posso', 'quê', 'dar', 'conselho', 'mais', 'vai', 'tiveram', 'nível', 'diz', 'tempo', 'povo', 'tentaram', 'deste', 'apoio', 'algumas', 'vos', 'corrente', 'novo', 'que', 'desde', 'doze', 'ambos', 'nas', 'usar', 'fazeis', 'outras', 'seis', 'nós', 'podem', 'porém', 'sob', 'aquele', 'essas', 'tão', 'quero', 'tiveste', 'vós', 'és', 'dezanove', 'faço', 'grande', 'são', 'dizer', 'tens', 'fazemos', 'fará', 'outros', 'tudo', 'segunda', 'pegar', 'vens', 'sistema', 'ser', 'onze', 'parte', 'pode', 'tivemos', 'oito', 'se', 'nos', 'poder', 'tente', 'vinte', 'foram', 'estão', 'ademais', 'outra', 'porque', 'quatro', 'à', 'custa', 'apoia', 'veja', 'dezasseis', 'estará', 'aquilo', 'onde', 'algo', 'eu', 'todas', 'zero', 'adeus', 'sétimo', 'treze', 'dessa', 'número', 'por', 'debaixo', 'longe', 'até', 'cedo', 'tua', 'mal', 'num', 'for', 'tenho', 'aqueles', 'aqui', 'quanto', 'vão', 'nada', 'naquela', 'dos', 'próprio', 'catorze', 'puderam', 'geral', 'seus', 'aquela', 'área', 'esse', 'obrigado', 'esteve', 'portanto', 'sétima', 'como', 'tipo', 'próxima', 'tu', 'tanta', 'toda', 'quinta', 'tivestes', 'saber', 'bem', 'assim', 'fazer', 'segundo', 'sou', 'obrigada', 'qual', 'essa', 'numa', 'bastante', 'estou', 'estes', 'tendes', 'mesmo', 'uns', 'cima', 'em', 'ao', 'ou', 'lhe', 'aos', 'posição', 'os', 'nesta', 'era', 'na', 'maiorias', 'cujo', 'tal', 'estiveste', 'sabe', 'teus', 'local', 'mas', 'quieta', 'sei', 'aquelas', 'sua', 'máximo', 'cinco', 'logo', 'daquele', 'parece', 'qualquer', 'no', 'nessa', 'esses', 'de', 'nuns', 'cento', 'embora', 'quinto', 'minha', 'nesse', 'quer', 'minhas', 'terceiro', 'sim', 'quarto', 'querem', 'pontos', 'após', 'meu', 'novos', 'às', 'estás', 'ligado', 'nova', 'nem', 'inicio', 'estiveram', 'usa', 'nunca', 'grandes', 'isto', 'deve', 'nossas', 'pouca', 'ela', 'menor', 'quieto', 'mês', 'ora', 'está', 'põem', 'três', 'eventual', 'um', 'ver', 'próximo', 'vezes', 'desse', 'pelo', 'das', 'exemplo', 'possível', 'seria', 'foi', 'tive', 'depois', 'iniciar', 'questão', 'fim', 'sois', 'suas', 'vindo', 'sete', 'elas', 'ambas', 'atrás', 'estas', 'estivestes', 'sobre', 'muitos', 'sexto', 'meio', 'duas', 'último', 'contra', 'relação', 'mil', 'maior', 'dez', 'terceira', 'inclusive', 'deverá', 'isso', 'para', 'falta', 'dizem', 'dezassete', 'comprida', 'pelos', 'umas', 'números', 'demais', 'nossa', 'me', 'ponto', 'antes', 'diante', 'estado', 'tem', 'irá', 'perto', 'cada', 'direita', 'neste', 'poderá', 'fui', 'pouco', 'estava', 'põe', 'somos', 'boa', 'possivelmente', 'conhecida', 'devem', 'cuja', 'é', 'conhecido', 'tentar', 'do', 'uma', 'ele', 'fazia', 'primeiro', 'valor', 'então', 'apontar', 'forma', 'tais', 'não', 'comprido', 'eles', 'faz', 'daquela', 'talvez', 'dois', 'esta', 'vossos', 'bom', 'seu', 'teu', 'vinda', 'através', 'quais', 'novas', 'vosso', 'desta', 'sempre', 'da', 'pois', 'ainda', 'este', 'final', 'naquele', 'vossa', 'entre', 'meses', 'te', 'fez', 'fazem', 'muito', 'fostes', 'pôde', 'maioria', 'as', 'alguns', 'certamente', 'acerca', 'agora'}\n"
          ]
        }
      ]
    },
    {
      "cell_type": "code",
      "metadata": {
        "colab": {
          "base_uri": "https://localhost:8080/"
        },
        "id": "-cFmjtml32Xw",
        "outputId": "7b15acae-7c3d-4191-ce7c-22b5589e6b56"
      },
      "source": [
        "len(STOP_WORDS)"
      ],
      "execution_count": null,
      "outputs": [
        {
          "output_type": "execute_result",
          "data": {
            "text/plain": [
              "413"
            ]
          },
          "metadata": {},
          "execution_count": 73
        }
      ]
    },
    {
      "cell_type": "code",
      "metadata": {
        "colab": {
          "base_uri": "https://localhost:8080/"
        },
        "id": "9rqmBcGE3-kw",
        "outputId": "50933152-c8db-4547-938c-d37478baf8b6"
      },
      "source": [
        "pln.vocab['usa'].is_stop"
      ],
      "execution_count": null,
      "outputs": [
        {
          "output_type": "execute_result",
          "data": {
            "text/plain": [
              "True"
            ]
          },
          "metadata": {},
          "execution_count": 74
        }
      ]
    },
    {
      "cell_type": "code",
      "metadata": {
        "colab": {
          "base_uri": "https://localhost:8080/"
        },
        "id": "rSU1ZXFs4QgR",
        "outputId": "843b13a8-2834-410f-c271-43fe72e0af00"
      },
      "source": [
        "doc = pln(conteudo)\n",
        "lista_token = []\n",
        "for token in doc:\n",
        "  lista_token.append(token.text)\n",
        "print(lista_token)"
      ],
      "execution_count": null,
      "outputs": [
        {
          "output_type": "stream",
          "name": "stdout",
          "text": [
            "['\\n\\t\\t', 'páginas', 'para', 'editores', 'conectados', 'saiba', 'mais', '\\n\\n', 'a', 'meditação', 'pode', 'ser', 'definida', 'como', 'uma', 'prática', 'na', 'qual', 'o', 'indivíduo', 'utiliza', 'técnicas', 'para', 'focar', 'sua', 'mente', 'num', 'objeto', ',', 'pensamento', 'ou', 'atividade', 'em', 'particular', ',', 'visando', 'alcançar', 'um', 'estado', 'de', 'clareza', 'mental', 'e', 'emocional.[1][2', ']', 'sua', 'origem', 'é', 'muito', 'antiga', ',', 'remontando', 'as', 'tradições', 'orientais', ',', 'especialmente', 'a', 'ioga[3', ']', ',', 'mas', 'o', 'termo', 'também', 'se', 'refere', 'a', 'práticas', 'adotadas', 'por', 'alguns', 'caminhos', 'espirituais', 'ou', 'religiões', ',', 'como', 'o', 'budismo', 'e', 'cristianismo', ',', 'entre', 'outras.[4', ']', 'textos', 'orientais', 'consideram', 'a', 'meditação', 'como', 'instrumento', 'que', 'leva', 'em', 'direção', 'à', 'libertação.[5]o', 'termo', 'em', 'páli', 'utilizado', 'para', 'referir-se', 'a', 'meditação', 'é', 'bhavana', ',', 'que', 'significa', '\"', 'cultivo\".[6', ']', 'o', 'termo', 'meditação', 'foi', 'utilizado', 'como', 'palavra', 'para', 'traduzir', 'práticas', 'espirituais', 'orientais', ',', 'referidas', 'pelo', 'termo', 'dhyana', 'no', 'budismo', 'e', 'hinduísmo.[7][8', ']', 'estudiosos', 'notaram', 'que', 'o', 'termo', '\"', 'meditação', '\"', 'no', 'uso', 'contemporâneo', 'é', 'paralelo', 'a', 'o', 'significado', 'do', 'termo', '\"', 'contemplação', '\"', 'no', 'cristianismo.[9', ']', '\\n', 'os', 'vedas', 'hinduístas', 'estão', 'entre', 'as', 'primeiras', 'referências', 'escritas', 'sobre', 'meditação', '.', 'outras', 'formas', 'surgiram', 'associadas', 'a', 'o', 'confucianismo', 'e', 'taoísmo', 'na', 'china', ',', 'assim', 'como', 'no', 'hinduísmo', ',', 'jainismo', 'e', 'budismo', 'no', 'nepal', 'e', 'índia', '.', 'no', 'terceiro', 'século', 'depois', 'de', 'cristo', ',', 'plotino', 'havia', 'estabelecido', 'técnicas', 'para', 'a', 'meditação', '.', 'no', 'ocidente', ',', 'mesmo', '20', 'anos', 'a.c', '.', ',', 'dentro', 'do', 'império', 'romano', ',', 'fílon', 'de', 'alexandria', 'nomeou', 'práticas', 'espirituais', 'que', 'envolviam', 'atenção', 'e', 'concentração.[10', ']', 'já', 'no', 'século', 'xii', ',', 'o', 'sufismo', 'utilizava', 'de', 'palavras', 'sagradas', 'e', 'métodos', 'específicos', 'para', 'meditação', ',', 'como', 'o', 'controle', 'da', 'respiração.[11', ']', 'a', 'existência', 'de', 'interação', 'com', 'indianos', ',', 'nepaleses', 'ou', 'sufis', 'pode', 'ser', 'uma', 'indicação', 'da', 'abordagem', 'cristã', 'ortodoxa', 'a', 'o', 'hesicasmo', ',', 'desenvolvida', 'principalmente', 'na', 'grécia', 'entre', 'os', 'séculos', 'x', 'e', 'xiv', ',', 'mas', 'não', 'foram', 'encontradas', 'provas', 'concretas.[12][13][14', ']', '\\n\\n', 'a', 'meditação', 'cristã', 'praticada', 'desde', 'o', 'século', 'sexto', 'foi', 'definida', 'pelo', 'monge', 'guigo', 'ii', 'no', 'século', 'xii', 'com', 'os', 'termos', '\"', 'leitura', ',', 'reflexão', ',', 'oração', 'e', 'contemplação', '\"', 'e', 'teve', 'seu', 'desenvolvimento', 'continuado', 'no', 'século', 'xvi', 'em', 'diante', 'por', 'inácio', 'de', 'loyola', 'e', 'teresa', 'de', 'ávila.[15][16][17][18]a', 'definição', 'de', 'meditação', 'pode', 'variar', 'de', 'acordo', 'com', 'o', 'contexto', 'em', 'que', 'se', 'encontra', ',', 'variando', 'de', 'qual', 'religião', 'tem', 'origem', 'ou', 'se', 'é', 'usada', 'de', 'maneira', 'secular', '.', 'em', 'meio', 'acadêmico', ',', 'a', 'meditação', 'já', 'chegou', 'a', 'ser', 'dividida', 'em', 'dois', 'tipos', 'de', 'abordagem', '.', 'a', '\"', 'atenção', 'focada', '\"', 'compreende', 'a', 'concentração', 'voluntária', 'num', 'objeto', ',', 'respiração', ',', 'imagem', 'ou', 'palavras', '.', 'o', 'outro', 'tipo', ',', 'o', '\"', 'monitoramento', 'aberto', '\"', ',', 'envolve', 'uma', 'observação', 'não-reativa', 'do', 'conteúdo', 'da', 'experiência', 'que', 'ocorre', 'num', 'dado', 'momento.[19', ']', '\\n', 'algumas', 'definições', 'do', 'que', 'é', 'meditação', 'estão', 'relacionadas', 'a', 'uma', 'prática', 'ou', 'técnica', ',', 'outras', 'vezes', 'estão', 'relacionadas', 'a', 'uma', 'explicação', 'de', 'um', 'estado', 'de', 'consciência', 'ou', 'simplesmente', 'são', 'usadas', 'como', 'um', 'verbo.[20', ']', '\\n', 'algumas', 'distintas', 'definições', 'que', 'normalmente', 'são', 'usadas', 'para', 'meditação', 'são', ':', '\\n\\n\\n', 'ainda', 'que', 'algumas', 'definições', 'da', 'palavra', \"'\", 'meditação', \"'\", 'usadas', 'por', 'diferentes', 'religiões', 'sejam', 'bem', 'diferentes', 'e', 'até', 'mesmo', 'contraditórias', ',', 'é', 'ponto', 'comum', 'que', 'apontem', 'para', 'uma', 'realidade', 'interior', 'e', 'o', 'desenvolvimento', '/', 'compreensão', 'd', 'esta', 'realidade', '.', 'a', 'compreensão', 'de', 'o', 'que', 'é', 'a', 'meditação', 'deve', 'ser', 'feita', 'sempre', 'dentro', 'do', 'contexto', 'em', 'que', 'é', 'apresentada', ',', 'da', 'religião', 'ou', 'da', 'escola', 'que', 'a', 'apresenta', ',', 'caso', 'contrário', 'as', 'distintas', 'explicações', 'podem', 'se', 'tornar', 'contraditórias.[23', ']', '\\n', 'a', 'meditação', 'pode', 'ser', 'praticada', 'por', 'diversos', 'motivos', ':', 'desde', 'a', 'simples', 'concentração', 'dos', 'pensamentos', ',', 'até', 'a', 'busca', 'pelo', 'nirvana', '.', 'desde', 'tempos', 'antigos', ',', 'as', 'tradições', 'orientais', 'consideram', 'a', 'meditação', 'como', 'um', 'passo', 'em', 'direção', 'à', 'libertação.[5', ']', 'há', 'praticantes', 'da', 'meditação', 'que', 'relataram', 'melhora', 'na', 'concentração', ',', 'consciência', ',', 'autodisciplina', 'e', 'equanimidade.[24', ']', 'segundo', 'dicionários', 'modernos', ',', 'a', 'meditação', 'é', 'vista', 'como', 'uma', 'prática', 'onde', 'o', 'indivíduo', 'utiliza', 'técnicas', 'para', 'focar', 'sua', 'mente', 'num', 'objeto', ',', 'pensamento', 'ou', 'atividade', 'em', 'particular', ',', 'visando', 'alcançar', 'um', 'estado', 'de', 'clareza', 'mental', 'e', 'emocional.[1][2', ']', 'a', 'prática', 'de', 'meditação', 'pode', 'ter', 'inúmeras', 'variantes', 'quanto', 'à', 'postura', 'do', 'corpo', ',', 'objeto', 'de', 'meditação', '.', '\\n', 'a', 'meditação', 'pode', 'ser', 'realizada', 'sentado', ',', 'em', 'pé', 'ou', 'andando', ',', 'variando', 'pelo', 'contexto', 'onde', 'é', 'ensinada', '.', 'a', 'posição', 'sentada', 'é', 'adotada', 'normalmente', 'por', 'ser', 'considerada', 'a', 'mais', 'fácil', ',', 'onde', 'o', 'corpo', 'se', 'encontra', 'em', 'repouso', 'mas', 'ainda', 'alerta', '.', 'a', 'famosa', 'posição', 'de', 'lótus', 'se', 'difundiu', 'muito', 'como', 'sinônimo', 'de', 'meditação', 'por', 'ser', 'usada', 'no', 'ioga', 'como', 'uma', 'posição', 'ideal', 'de', 'meditação', ',', 'onde', 'mantém', 'o', 'corpo', 'estável', ',', 'mas', 'pode', 'ser', 'difícil', 'de', 'alcançar', 'e', 'não', 'é', 'recomendada', 'caso', 'traga', 'desconforto', 'ou', 'distraia', 'o', 'praticante', 'do', 'objeto', 'da', 'sua', 'prática', 'ou', 'técnica', '.', 'inúmeras', 'posições', 'de', 'meditação', 'podem', 'ser', 'usadas', 'como', 'de', 'pernas', 'cruzadas', ',', 'de', 'joelhos', '(', 'seiza', ')', ',', 'meio-lótus', '(', 'com', 'uma', 'perna', 'em', 'cima', 'da', 'outra', ')', ',', 'birmanesa', ',', 'etc.[21', ']', 'na', 'tradição', 'budista', 'é', 'comum', 'se', 'encontrar', 'a', 'prática', 'da', 'meditação', 'andando', ',', 'que', 'é', 'vista', 'como', 'uma', 'postura', 'onde', 'se', 'desenvolve', 'concentração', 'em', 'movimento', ',', 'energia', 'para', 'a', 'mente', 'e', 'vitalidade', 'para', 'o', 'corpo.[25', ']', '\\n', 'em', 'linhas', 'gerais', ',', 'pode-se', 'descrever', 'dois', 'grupos', 'de', 'técnicas', 'de', 'meditação', '.', 'a', '\"', 'atenção', 'focada', '\"', 'compreende', 'a', 'concentração', 'voluntária', 'num', 'objeto', ',', 'respiração', ',', 'imagem', 'ou', 'palavras', '.', 'o', 'outro', 'tipo', ',', 'o', '\"', 'monitoramento', 'aberto', '\"', ',', 'envolve', 'uma', 'observação', 'não-reativa', 'do', 'conteúdo', 'da', 'experiência', 'que', 'ocorre', 'num', 'dado', 'momento.[19', ']', '\\n', 'normalmente', ',', 'não', 'há', 'um', 'tempo', 'mínimo', 'preestabelecido', '.', 'pode-se', 'iniciar', 'com', 'um', 'período', 'de', 'poucos', 'minutos', 'e', ',', 'conforme', 'se', 'aperfeiçoa', ',', 'esse', 'tempo', 'pode', 'aumentar', 'até', 'para', 'horas', ',', 'dias', ',', 'ou', 'em', 'casos', 'excepcionais', ',', 'até', '21', 'dias', '(', 'o', 'samadhi', ')', '.', 'é', 'importante', 'ressaltar', 'que', 'a', 'frequência', 'da', 'prática', 'também', 'influencia', 'muito', 'os', 'resultados.[21', ']', '\\n', 'nas', 'tradições', 'espirituais', 'ou', 'religiosas', 'de', 'meditação', ',', 'o', 'professor', 'realizado', 'é', 'aquele', 'que', 'consegue', 'ensinar', 'o', 'aprendiz', 'em', 'silêncio', ',', 'através', 'da', 'sua', 'própria', 'consciência', 'interior', 'ou', 'pelo', 'olhar', 'silencioso', '(', 'iniciação', ')', '.', 'ele', 'não', 'precisa', 'explicar', 'exteriormente', 'como', 'meditar', 'ou', 'ensinar', 'uma', 'técnica', 'específica.[26', ']', '\\n\\n', 'historicamente', ',', 'a', 'meditação', 'foi', 'sempre', 'usada', 'e', 'associada', 'à', 'prática', 'espiritual', 'e', 'de', 'autodescobrimento', '.', 'no', 'entanto', ',', 'desde', '1970', ',', 'a', 'psicologia', 'e', 'psiquiatria', 'desenvolveram', 'técnicas', 'de', 'meditação', 'para', 'diversos', 'distúrbios', 'psicológicos.[27', ']', 'práticas', 'de', '\"', 'monitoramento', 'aberto', '\"', '(', 'vide', \"'\", 'definição', \"'\", 'acima', ')', 'são', 'utilizadas', 'na', 'psicologia', 'para', 'reduzir', 'problemas', 'mentais', 'e', 'físicos,[28][29', ']', 'bem', 'como', 'dependência', 'química', '.', 'a', 'evidência', 'é', 'insuficiente', 'sobre', 'o', 'efeito', 'da', 'meditação', 'no', 'humor', ',', 'atenção', ',', 'alimentação', ',', 'sono', 'ou', 'peso', 'corporal.[30', ']']\n"
          ]
        }
      ]
    },
    {
      "cell_type": "code",
      "metadata": {
        "colab": {
          "base_uri": "https://localhost:8080/"
        },
        "id": "9aEmu3Hy58ah",
        "outputId": "fca5ce38-767b-431d-d474-633a2640bdd3"
      },
      "source": [
        "len(lista_token)"
      ],
      "execution_count": null,
      "outputs": [
        {
          "output_type": "execute_result",
          "data": {
            "text/plain": [
              "1099"
            ]
          },
          "metadata": {},
          "execution_count": 76
        }
      ]
    },
    {
      "cell_type": "code",
      "metadata": {
        "id": "SO-KW6Lb5M-3"
      },
      "source": [
        "sem_stop = []\n",
        "for palavra in lista_token:\n",
        "  if pln.vocab[palavra].is_stop == False:\n",
        "    sem_stop.append(palavra)"
      ],
      "execution_count": null,
      "outputs": []
    },
    {
      "cell_type": "code",
      "metadata": {
        "colab": {
          "base_uri": "https://localhost:8080/"
        },
        "id": "I1W3F9uX6BL6",
        "outputId": "1c33c4d5-be78-4254-bec5-585bae940484"
      },
      "source": [
        "len(sem_stop)"
      ],
      "execution_count": null,
      "outputs": [
        {
          "output_type": "execute_result",
          "data": {
            "text/plain": [
              "739"
            ]
          },
          "metadata": {},
          "execution_count": 78
        }
      ]
    },
    {
      "cell_type": "code",
      "metadata": {
        "id": "ICrMJKhb0KSX"
      },
      "source": [
        "from matplotlib.colors import ListedColormap\n",
        "color_map = ListedColormap(['orange', 'green', 'red', 'magenta'])"
      ],
      "execution_count": null,
      "outputs": []
    },
    {
      "cell_type": "code",
      "metadata": {
        "id": "UzHwVh611Dkv"
      },
      "source": [
        "from wordcloud import WordCloud\n",
        "cloud = WordCloud(background_color= 'white', max_words = 100, colormap = color_map)"
      ],
      "execution_count": null,
      "outputs": []
    },
    {
      "cell_type": "code",
      "metadata": {
        "colab": {
          "base_uri": "https://localhost:8080/"
        },
        "id": "Qo5omPaO2WB6",
        "outputId": "eae0d7f0-3434-4271-a178-fa72e7d8d6c5"
      },
      "source": [
        "import matplotlib.pyplot as plt\n",
        "cloud = cloud.generate(' '.join(sem_stop))\n",
        "plt.figure(figsize=(15,15))\n",
        "plt.imshow(cloud)\n",
        "plt.axis('off')\n",
        "plt.show()"
      ],
      "execution_count": null,
      "outputs": [
        {
          "output_type": "display_data",
          "data": {
            "image/png": "[encoded data removed]",
            "text/plain": [
              "<Figure size 1080x1080 with 1 Axes>"
            ]
          },
          "metadata": {
            "needs_background": "light"
          }
        }
      ]
    },
    {
      "cell_type": "markdown",
      "metadata": {
        "id": "XZcchL688sbo"
      },
      "source": [
        "# Classificação de sentimentos com spaCy "
      ]
    },
    {
      "cell_type": "code",
      "metadata": {
        "colab": {
          "base_uri": "https://localhost:8080/"
        },
        "id": "cO2jQNN83QcY",
        "outputId": "03a6575f-b048-4358-d784-9c6241810e17"
      },
      "source": [
        "!pip install spacy==2.2.3"
      ],
      "execution_count": 1,
      "outputs": [
        {
          "output_type": "stream",
          "name": "stdout",
          "text": [
            "Collecting spacy==2.2.3\n",
            "  Downloading spacy-2.2.3-cp37-cp37m-manylinux1_x86_64.whl (10.4 MB)\n",
            "\u001b[K     |████████████████████████████████| 10.4 MB 5.1 MB/s \n",
            "\u001b[?25hCollecting thinc<7.4.0,>=7.3.0\n",
            "  Downloading thinc-7.3.1-cp37-cp37m-manylinux1_x86_64.whl (2.2 MB)\n",
            "\u001b[K     |████████████████████████████████| 2.2 MB 40.5 MB/s \n",
            "\u001b[?25hRequirement already satisfied: plac<1.2.0,>=0.9.6 in /usr/local/lib/python3.7/dist-packages (from spacy==2.2.3) (1.1.3)\n",
            "Requirement already satisfied: murmurhash<1.1.0,>=0.28.0 in /usr/local/lib/python3.7/dist-packages (from spacy==2.2.3) (1.0.5)\n",
            "Requirement already satisfied: wasabi<1.1.0,>=0.4.0 in /usr/local/lib/python3.7/dist-packages (from spacy==2.2.3) (0.8.2)\n",
            "Requirement already satisfied: preshed<3.1.0,>=3.0.2 in /usr/local/lib/python3.7/dist-packages (from spacy==2.2.3) (3.0.5)\n",
            "Requirement already satisfied: cymem<2.1.0,>=2.0.2 in /usr/local/lib/python3.7/dist-packages (from spacy==2.2.3) (2.0.5)\n",
            "Requirement already satisfied: blis<0.5.0,>=0.4.0 in /usr/local/lib/python3.7/dist-packages (from spacy==2.2.3) (0.4.1)\n",
            "Requirement already satisfied: catalogue<1.1.0,>=0.0.7 in /usr/local/lib/python3.7/dist-packages (from spacy==2.2.3) (1.0.0)\n",
            "Requirement already satisfied: requests<3.0.0,>=2.13.0 in /usr/local/lib/python3.7/dist-packages (from spacy==2.2.3) (2.23.0)\n",
            "Requirement already satisfied: setuptools in /usr/local/lib/python3.7/dist-packages (from spacy==2.2.3) (57.4.0)\n",
            "Requirement already satisfied: srsly<1.1.0,>=0.1.0 in /usr/local/lib/python3.7/dist-packages (from spacy==2.2.3) (1.0.5)\n",
            "Requirement already satisfied: numpy>=1.15.0 in /usr/local/lib/python3.7/dist-packages (from spacy==2.2.3) (1.19.5)\n",
            "Requirement already satisfied: importlib-metadata>=0.20 in /usr/local/lib/python3.7/dist-packages (from catalogue<1.1.0,>=0.0.7->spacy==2.2.3) (4.8.1)\n",
            "Requirement already satisfied: typing-extensions>=3.6.4 in /usr/local/lib/python3.7/dist-packages (from importlib-metadata>=0.20->catalogue<1.1.0,>=0.0.7->spacy==2.2.3) (3.7.4.3)\n",
            "Requirement already satisfied: zipp>=0.5 in /usr/local/lib/python3.7/dist-packages (from importlib-metadata>=0.20->catalogue<1.1.0,>=0.0.7->spacy==2.2.3) (3.5.0)\n",
            "Requirement already satisfied: chardet<4,>=3.0.2 in /usr/local/lib/python3.7/dist-packages (from requests<3.0.0,>=2.13.0->spacy==2.2.3) (3.0.4)\n",
            "Requirement already satisfied: urllib3!=1.25.0,!=1.25.1,<1.26,>=1.21.1 in /usr/local/lib/python3.7/dist-packages (from requests<3.0.0,>=2.13.0->spacy==2.2.3) (1.24.3)\n",
            "Requirement already satisfied: certifi>=2017.4.17 in /usr/local/lib/python3.7/dist-packages (from requests<3.0.0,>=2.13.0->spacy==2.2.3) (2021.5.30)\n",
            "Requirement already satisfied: idna<3,>=2.5 in /usr/local/lib/python3.7/dist-packages (from requests<3.0.0,>=2.13.0->spacy==2.2.3) (2.10)\n",
            "Requirement already satisfied: tqdm<5.0.0,>=4.10.0 in /usr/local/lib/python3.7/dist-packages (from thinc<7.4.0,>=7.3.0->spacy==2.2.3) (4.62.3)\n",
            "Installing collected packages: thinc, spacy\n",
            "  Attempting uninstall: thinc\n",
            "    Found existing installation: thinc 7.4.0\n",
            "    Uninstalling thinc-7.4.0:\n",
            "      Successfully uninstalled thinc-7.4.0\n",
            "  Attempting uninstall: spacy\n",
            "    Found existing installation: spacy 2.2.4\n",
            "    Uninstalling spacy-2.2.4:\n",
            "      Successfully uninstalled spacy-2.2.4\n",
            "Successfully installed spacy-2.2.3 thinc-7.3.1\n"
          ]
        }
      ]
    },
    {
      "cell_type": "code",
      "metadata": {
        "colab": {
          "base_uri": "https://localhost:8080/",
          "height": 0
        },
        "id": "TOagvJPh9Upr",
        "outputId": "5178042f-e281-4e6f-9bc0-71fb1aca36c6"
      },
      "source": [
        "import spacy\n",
        "spacy.__version__"
      ],
      "execution_count": 2,
      "outputs": [
        {
          "output_type": "execute_result",
          "data": {
            "application/vnd.google.colaboratory.intrinsic+json": {
              "type": "string"
            },
            "text/plain": [
              "'2.2.3'"
            ]
          },
          "metadata": {},
          "execution_count": 2
        }
      ]
    },
    {
      "cell_type": "code",
      "metadata": {
        "colab": {
          "base_uri": "https://localhost:8080/"
        },
        "id": "QHVsiygUynnV",
        "outputId": "4cf2c49a-8487-4b5c-f5cf-bb96dce9783b"
      },
      "source": [
        "!python3 -m spacy download pt"
      ],
      "execution_count": 3,
      "outputs": [
        {
          "output_type": "stream",
          "name": "stdout",
          "text": [
            "Collecting pt_core_news_sm==2.2.5\n",
            "  Downloading https://github.com/explosion/spacy-models/releases/download/pt_core_news_sm-2.2.5/pt_core_news_sm-2.2.5.tar.gz (21.2 MB)\n",
            "\u001b[K     |████████████████████████████████| 21.2 MB 1.3 MB/s \n",
            "\u001b[?25hRequirement already satisfied: spacy>=2.2.2 in /usr/local/lib/python3.7/dist-packages (from pt_core_news_sm==2.2.5) (2.2.3)\n",
            "Requirement already satisfied: murmurhash<1.1.0,>=0.28.0 in /usr/local/lib/python3.7/dist-packages (from spacy>=2.2.2->pt_core_news_sm==2.2.5) (1.0.5)\n",
            "Requirement already satisfied: setuptools in /usr/local/lib/python3.7/dist-packages (from spacy>=2.2.2->pt_core_news_sm==2.2.5) (57.4.0)\n",
            "Requirement already satisfied: blis<0.5.0,>=0.4.0 in /usr/local/lib/python3.7/dist-packages (from spacy>=2.2.2->pt_core_news_sm==2.2.5) (0.4.1)\n",
            "Requirement already satisfied: numpy>=1.15.0 in /usr/local/lib/python3.7/dist-packages (from spacy>=2.2.2->pt_core_news_sm==2.2.5) (1.19.5)\n",
            "Requirement already satisfied: thinc<7.4.0,>=7.3.0 in /usr/local/lib/python3.7/dist-packages (from spacy>=2.2.2->pt_core_news_sm==2.2.5) (7.3.1)\n",
            "Requirement already satisfied: cymem<2.1.0,>=2.0.2 in /usr/local/lib/python3.7/dist-packages (from spacy>=2.2.2->pt_core_news_sm==2.2.5) (2.0.5)\n",
            "Requirement already satisfied: srsly<1.1.0,>=0.1.0 in /usr/local/lib/python3.7/dist-packages (from spacy>=2.2.2->pt_core_news_sm==2.2.5) (1.0.5)\n",
            "Requirement already satisfied: catalogue<1.1.0,>=0.0.7 in /usr/local/lib/python3.7/dist-packages (from spacy>=2.2.2->pt_core_news_sm==2.2.5) (1.0.0)\n",
            "Requirement already satisfied: plac<1.2.0,>=0.9.6 in /usr/local/lib/python3.7/dist-packages (from spacy>=2.2.2->pt_core_news_sm==2.2.5) (1.1.3)\n",
            "Requirement already satisfied: requests<3.0.0,>=2.13.0 in /usr/local/lib/python3.7/dist-packages (from spacy>=2.2.2->pt_core_news_sm==2.2.5) (2.23.0)\n",
            "Requirement already satisfied: wasabi<1.1.0,>=0.4.0 in /usr/local/lib/python3.7/dist-packages (from spacy>=2.2.2->pt_core_news_sm==2.2.5) (0.8.2)\n",
            "Requirement already satisfied: preshed<3.1.0,>=3.0.2 in /usr/local/lib/python3.7/dist-packages (from spacy>=2.2.2->pt_core_news_sm==2.2.5) (3.0.5)\n",
            "Requirement already satisfied: importlib-metadata>=0.20 in /usr/local/lib/python3.7/dist-packages (from catalogue<1.1.0,>=0.0.7->spacy>=2.2.2->pt_core_news_sm==2.2.5) (4.8.1)\n",
            "Requirement already satisfied: zipp>=0.5 in /usr/local/lib/python3.7/dist-packages (from importlib-metadata>=0.20->catalogue<1.1.0,>=0.0.7->spacy>=2.2.2->pt_core_news_sm==2.2.5) (3.5.0)\n",
            "Requirement already satisfied: typing-extensions>=3.6.4 in /usr/local/lib/python3.7/dist-packages (from importlib-metadata>=0.20->catalogue<1.1.0,>=0.0.7->spacy>=2.2.2->pt_core_news_sm==2.2.5) (3.7.4.3)\n",
            "Requirement already satisfied: chardet<4,>=3.0.2 in /usr/local/lib/python3.7/dist-packages (from requests<3.0.0,>=2.13.0->spacy>=2.2.2->pt_core_news_sm==2.2.5) (3.0.4)\n",
            "Requirement already satisfied: urllib3!=1.25.0,!=1.25.1,<1.26,>=1.21.1 in /usr/local/lib/python3.7/dist-packages (from requests<3.0.0,>=2.13.0->spacy>=2.2.2->pt_core_news_sm==2.2.5) (1.24.3)\n",
            "Requirement already satisfied: certifi>=2017.4.17 in /usr/local/lib/python3.7/dist-packages (from requests<3.0.0,>=2.13.0->spacy>=2.2.2->pt_core_news_sm==2.2.5) (2021.5.30)\n",
            "Requirement already satisfied: idna<3,>=2.5 in /usr/local/lib/python3.7/dist-packages (from requests<3.0.0,>=2.13.0->spacy>=2.2.2->pt_core_news_sm==2.2.5) (2.10)\n",
            "Requirement already satisfied: tqdm<5.0.0,>=4.10.0 in /usr/local/lib/python3.7/dist-packages (from thinc<7.4.0,>=7.3.0->spacy>=2.2.2->pt_core_news_sm==2.2.5) (4.62.3)\n",
            "Building wheels for collected packages: pt-core-news-sm\n",
            "  Building wheel for pt-core-news-sm (setup.py) ... \u001b[?25l\u001b[?25hdone\n",
            "  Created wheel for pt-core-news-sm: filename=pt_core_news_sm-2.2.5-py3-none-any.whl size=21186282 sha256=45bfbc42b91f033951a02e1a4c11fa106160add587a9458f30d193de9e01f4c4\n",
            "  Stored in directory: /tmp/pip-ephem-wheel-cache-etdkl0s6/wheels/c3/f9/0c/5c014a36941a00f5df5fc0756cb961d7c457a978e697a6ce3b\n",
            "Successfully built pt-core-news-sm\n",
            "Installing collected packages: pt-core-news-sm\n",
            "Successfully installed pt-core-news-sm-2.2.5\n",
            "\u001b[38;5;2m✔ Download and installation successful\u001b[0m\n",
            "You can now load the model via spacy.load('pt_core_news_sm')\n",
            "\u001b[38;5;2m✔ Linking successful\u001b[0m\n",
            "/usr/local/lib/python3.7/dist-packages/pt_core_news_sm -->\n",
            "/usr/local/lib/python3.7/dist-packages/spacy/data/pt\n",
            "You can now load the model via spacy.load('pt')\n"
          ]
        }
      ]
    },
    {
      "cell_type": "code",
      "metadata": {
        "id": "Z3ho7ooA9hvc"
      },
      "source": [
        "import pandas as pd\n",
        "import string\n",
        "import spacy\n",
        "import random\n",
        "import seaborn as sns\n",
        "import numpy as np"
      ],
      "execution_count": 4,
      "outputs": []
    },
    {
      "cell_type": "code",
      "metadata": {
        "id": "T5tdQe-w92Oo"
      },
      "source": [
        "base_dados = pd.read_csv('/content/drive/MyDrive/machine learn/base_treinamento.txt', encoding = 'utf-8')"
      ],
      "execution_count": 5,
      "outputs": []
    },
    {
      "cell_type": "code",
      "metadata": {
        "colab": {
          "base_uri": "https://localhost:8080/"
        },
        "id": "kZL079VdndAI",
        "outputId": "436a8232-7643-44f3-d724-a53f2771e134"
      },
      "source": [
        "base_dados.shape"
      ],
      "execution_count": 6,
      "outputs": [
        {
          "output_type": "execute_result",
          "data": {
            "text/plain": [
              "(198, 2)"
            ]
          },
          "metadata": {},
          "execution_count": 6
        }
      ]
    },
    {
      "cell_type": "code",
      "metadata": {
        "colab": {
          "base_uri": "https://localhost:8080/",
          "height": 0
        },
        "id": "GE1c-8h8oOGS",
        "outputId": "dcadab5c-c3bf-4031-8040-4e7c711403b5"
      },
      "source": [
        "base_dados.head()"
      ],
      "execution_count": 7,
      "outputs": [
        {
          "output_type": "execute_result",
          "data": {
            "text/html": [
              "<div>\n",
              "<style scoped>\n",
              "    .dataframe tbody tr th:only-of-type {\n",
              "        vertical-align: middle;\n",
              "    }\n",
              "\n",
              "    .dataframe tbody tr th {\n",
              "        vertical-align: top;\n",
              "    }\n",
              "\n",
              "    .dataframe thead th {\n",
              "        text-align: right;\n",
              "    }\n",
              "</style>\n",
              "<table border=\"1\" class=\"dataframe\">\n",
              "  <thead>\n",
              "    <tr style=\"text-align: right;\">\n",
              "      <th></th>\n",
              "      <th>texto</th>\n",
              "      <th>emocao</th>\n",
              "    </tr>\n",
              "  </thead>\n",
              "  <tbody>\n",
              "    <tr>\n",
              "      <th>0</th>\n",
              "      <td>a criança sorriu ao ver seu bicho de pelúcia p...</td>\n",
              "      <td>alegria</td>\n",
              "    </tr>\n",
              "    <tr>\n",
              "      <th>1</th>\n",
              "      <td>este trabalho é agradável</td>\n",
              "      <td>alegria</td>\n",
              "    </tr>\n",
              "    <tr>\n",
              "      <th>2</th>\n",
              "      <td>gosto de ficar no seu aconchego</td>\n",
              "      <td>alegria</td>\n",
              "    </tr>\n",
              "    <tr>\n",
              "      <th>3</th>\n",
              "      <td>fiz a adesão ao curso hoje</td>\n",
              "      <td>alegria</td>\n",
              "    </tr>\n",
              "    <tr>\n",
              "      <th>4</th>\n",
              "      <td>eu sou admirada por muitos</td>\n",
              "      <td>alegria</td>\n",
              "    </tr>\n",
              "  </tbody>\n",
              "</table>\n",
              "</div>"
            ],
            "text/plain": [
              "                                               texto   emocao\n",
              "0  a criança sorriu ao ver seu bicho de pelúcia p...  alegria\n",
              "1                          este trabalho é agradável  alegria\n",
              "2                    gosto de ficar no seu aconchego  alegria\n",
              "3                         fiz a adesão ao curso hoje  alegria\n",
              "4                         eu sou admirada por muitos  alegria"
            ]
          },
          "metadata": {},
          "execution_count": 7
        }
      ]
    },
    {
      "cell_type": "code",
      "metadata": {
        "colab": {
          "base_uri": "https://localhost:8080/",
          "height": 0
        },
        "id": "RZJH-5hioeBk",
        "outputId": "eda55f95-2974-4aec-faeb-cc1e5deb38b6"
      },
      "source": [
        "base_dados.tail()"
      ],
      "execution_count": 8,
      "outputs": [
        {
          "output_type": "execute_result",
          "data": {
            "text/html": [
              "<div>\n",
              "<style scoped>\n",
              "    .dataframe tbody tr th:only-of-type {\n",
              "        vertical-align: middle;\n",
              "    }\n",
              "\n",
              "    .dataframe tbody tr th {\n",
              "        vertical-align: top;\n",
              "    }\n",
              "\n",
              "    .dataframe thead th {\n",
              "        text-align: right;\n",
              "    }\n",
              "</style>\n",
              "<table border=\"1\" class=\"dataframe\">\n",
              "  <thead>\n",
              "    <tr style=\"text-align: right;\">\n",
              "      <th></th>\n",
              "      <th>texto</th>\n",
              "      <th>emocao</th>\n",
              "    </tr>\n",
              "  </thead>\n",
              "  <tbody>\n",
              "    <tr>\n",
              "      <th>193</th>\n",
              "      <td>estou chocado e amedrontado com este assassina...</td>\n",
              "      <td>medo</td>\n",
              "    </tr>\n",
              "    <tr>\n",
              "      <th>194</th>\n",
              "      <td>é preciso afugenta com ímpeto este medo do inf...</td>\n",
              "      <td>medo</td>\n",
              "    </tr>\n",
              "    <tr>\n",
              "      <th>195</th>\n",
              "      <td>políticos usam suas forças para afugentar e am...</td>\n",
              "      <td>medo</td>\n",
              "    </tr>\n",
              "    <tr>\n",
              "      <th>196</th>\n",
              "      <td>o objetivo disso e apenas me amedrontar mais</td>\n",
              "      <td>medo</td>\n",
              "    </tr>\n",
              "    <tr>\n",
              "      <th>197</th>\n",
              "      <td>isso me apavora</td>\n",
              "      <td>medo</td>\n",
              "    </tr>\n",
              "  </tbody>\n",
              "</table>\n",
              "</div>"
            ],
            "text/plain": [
              "                                                 texto emocao\n",
              "193  estou chocado e amedrontado com este assassina...   medo\n",
              "194  é preciso afugenta com ímpeto este medo do inf...   medo\n",
              "195  políticos usam suas forças para afugentar e am...   medo\n",
              "196       o objetivo disso e apenas me amedrontar mais   medo\n",
              "197                                    isso me apavora   medo"
            ]
          },
          "metadata": {},
          "execution_count": 8
        }
      ]
    },
    {
      "cell_type": "code",
      "metadata": {
        "colab": {
          "base_uri": "https://localhost:8080/",
          "height": 0
        },
        "id": "2qPPUPUkoxSP",
        "outputId": "467e946f-b6f0-472a-fa7b-b0d649602ccb"
      },
      "source": [
        "sns.countplot(base_dados['emocao'], label = 'Contagem')"
      ],
      "execution_count": 9,
      "outputs": [
        {
          "output_type": "stream",
          "name": "stderr",
          "text": [
            "/usr/local/lib/python3.7/dist-packages/seaborn/_decorators.py:43: FutureWarning: Pass the following variable as a keyword arg: x. From version 0.12, the only valid positional argument will be `data`, and passing other arguments without an explicit keyword will result in an error or misinterpretation.\n",
            "  FutureWarning\n"
          ]
        },
        {
          "output_type": "execute_result",
          "data": {
            "text/plain": [
              "<matplotlib.axes._subplots.AxesSubplot at 0x7f38a18e5ed0>"
            ]
          },
          "metadata": {},
          "execution_count": 9
        },
        {
          "output_type": "display_data",
          "data": {
            "image/png": "[encoded data removed]",
            "text/plain": [
              "<Figure size 432x288 with 1 Axes>"
            ]
          },
          "metadata": {
            "needs_background": "light"
          }
        }
      ]
    },
    {
      "cell_type": "code",
      "metadata": {
        "colab": {
          "base_uri": "https://localhost:8080/",
          "height": 0
        },
        "id": "8WoWDhp-omnS",
        "outputId": "678de44f-b7af-463d-e1c6-f4899d2d73df"
      },
      "source": [
        "pontuacoes = string.punctuation\n",
        "pontuacoes"
      ],
      "execution_count": 10,
      "outputs": [
        {
          "output_type": "execute_result",
          "data": {
            "application/vnd.google.colaboratory.intrinsic+json": {
              "type": "string"
            },
            "text/plain": [
              "'!\"#$%&\\'()*+,-./:;<=>?@[\\\\]^_`{|}~'"
            ]
          },
          "metadata": {},
          "execution_count": 10
        }
      ]
    },
    {
      "cell_type": "code",
      "metadata": {
        "id": "THxroQ_bsjSv"
      },
      "source": [
        "from spacy.lang.pt.stop_words import STOP_WORDS\n",
        "stop_words = STOP_WORDS"
      ],
      "execution_count": 11,
      "outputs": []
    },
    {
      "cell_type": "code",
      "metadata": {
        "colab": {
          "base_uri": "https://localhost:8080/"
        },
        "id": "_4MEdN1ltDu3",
        "outputId": "e00c3e5b-c8ce-4e98-d170-938f5192429e"
      },
      "source": [
        "len(stop_words)"
      ],
      "execution_count": 12,
      "outputs": [
        {
          "output_type": "execute_result",
          "data": {
            "text/plain": [
              "413"
            ]
          },
          "metadata": {},
          "execution_count": 12
        }
      ]
    },
    {
      "cell_type": "code",
      "metadata": {
        "id": "uaEb4zfcw651"
      },
      "source": [
        "pln = spacy.load('pt')"
      ],
      "execution_count": 13,
      "outputs": []
    },
    {
      "cell_type": "code",
      "metadata": {
        "colab": {
          "base_uri": "https://localhost:8080/"
        },
        "id": "f2LGQxJyzkKV",
        "outputId": "3f23b63e-f59f-45e8-ceae-bee161f5db33"
      },
      "source": [
        "pln"
      ],
      "execution_count": 14,
      "outputs": [
        {
          "output_type": "execute_result",
          "data": {
            "text/plain": [
              "<spacy.lang.pt.Portuguese at 0x7f38a1230d90>"
            ]
          },
          "metadata": {},
          "execution_count": 14
        }
      ]
    },
    {
      "cell_type": "code",
      "metadata": {
        "id": "q7H9RlY4zlu_"
      },
      "source": [
        "def preprocessamento(texto):\n",
        "  texto = texto.lower()\n",
        "  documento = pln(texto)\n",
        "\n",
        "  lista = []\n",
        "\n",
        "  for token in documento:\n",
        "    #lista.append(token.text)\n",
        "    lista.append(token.lemma_)\n",
        "\n",
        "  lista = [palavra for palavra in lista if palavra not in stop_words and palavra not in pontuacoes]\n",
        "  lista = ' '.join([str(elemento) for elemento in lista if not elemento.isdigit()])\n",
        "  \n",
        "  return lista\n",
        "\n"
      ],
      "execution_count": 15,
      "outputs": []
    },
    {
      "cell_type": "code",
      "metadata": {
        "colab": {
          "base_uri": "https://localhost:8080/",
          "height": 0
        },
        "id": "QJ6aDYBc0CTJ",
        "outputId": "45eb9064-1dde-4b17-9219-6d347ce60c32"
      },
      "source": [
        "teste = preprocessamento('nao quero escrever, 1 2 3 o que o professor colocou no video')\n",
        "teste"
      ],
      "execution_count": 16,
      "outputs": [
        {
          "output_type": "execute_result",
          "data": {
            "application/vnd.google.colaboratory.intrinsic+json": {
              "type": "string"
            },
            "text/plain": [
              "'nao querer escrever o o professor colocar o video'"
            ]
          },
          "metadata": {},
          "execution_count": 16
        }
      ]
    },
    {
      "cell_type": "code",
      "metadata": {
        "colab": {
          "base_uri": "https://localhost:8080/",
          "height": 0
        },
        "id": "wlklcGtODDt-",
        "outputId": "7f3c45ac-e382-4e3a-c357-65f33a91c940"
      },
      "source": [
        "base_dados.head(10)"
      ],
      "execution_count": 17,
      "outputs": [
        {
          "output_type": "execute_result",
          "data": {
            "text/html": [
              "<div>\n",
              "<style scoped>\n",
              "    .dataframe tbody tr th:only-of-type {\n",
              "        vertical-align: middle;\n",
              "    }\n",
              "\n",
              "    .dataframe tbody tr th {\n",
              "        vertical-align: top;\n",
              "    }\n",
              "\n",
              "    .dataframe thead th {\n",
              "        text-align: right;\n",
              "    }\n",
              "</style>\n",
              "<table border=\"1\" class=\"dataframe\">\n",
              "  <thead>\n",
              "    <tr style=\"text-align: right;\">\n",
              "      <th></th>\n",
              "      <th>texto</th>\n",
              "      <th>emocao</th>\n",
              "    </tr>\n",
              "  </thead>\n",
              "  <tbody>\n",
              "    <tr>\n",
              "      <th>0</th>\n",
              "      <td>a criança sorriu ao ver seu bicho de pelúcia p...</td>\n",
              "      <td>alegria</td>\n",
              "    </tr>\n",
              "    <tr>\n",
              "      <th>1</th>\n",
              "      <td>este trabalho é agradável</td>\n",
              "      <td>alegria</td>\n",
              "    </tr>\n",
              "    <tr>\n",
              "      <th>2</th>\n",
              "      <td>gosto de ficar no seu aconchego</td>\n",
              "      <td>alegria</td>\n",
              "    </tr>\n",
              "    <tr>\n",
              "      <th>3</th>\n",
              "      <td>fiz a adesão ao curso hoje</td>\n",
              "      <td>alegria</td>\n",
              "    </tr>\n",
              "    <tr>\n",
              "      <th>4</th>\n",
              "      <td>eu sou admirada por muitos</td>\n",
              "      <td>alegria</td>\n",
              "    </tr>\n",
              "    <tr>\n",
              "      <th>5</th>\n",
              "      <td>adoro como você</td>\n",
              "      <td>alegria</td>\n",
              "    </tr>\n",
              "    <tr>\n",
              "      <th>6</th>\n",
              "      <td>adoro seu cabelo macio</td>\n",
              "      <td>alegria</td>\n",
              "    </tr>\n",
              "    <tr>\n",
              "      <th>7</th>\n",
              "      <td>adoro a cor dos seus olhos</td>\n",
              "      <td>alegria</td>\n",
              "    </tr>\n",
              "    <tr>\n",
              "      <th>8</th>\n",
              "      <td>somo tão amáveis um com o outro</td>\n",
              "      <td>alegria</td>\n",
              "    </tr>\n",
              "    <tr>\n",
              "      <th>9</th>\n",
              "      <td>sinto uma grande afeição por ele</td>\n",
              "      <td>alegria</td>\n",
              "    </tr>\n",
              "  </tbody>\n",
              "</table>\n",
              "</div>"
            ],
            "text/plain": [
              "                                               texto   emocao\n",
              "0  a criança sorriu ao ver seu bicho de pelúcia p...  alegria\n",
              "1                          este trabalho é agradável  alegria\n",
              "2                    gosto de ficar no seu aconchego  alegria\n",
              "3                         fiz a adesão ao curso hoje  alegria\n",
              "4                         eu sou admirada por muitos  alegria\n",
              "5                                    adoro como você  alegria\n",
              "6                             adoro seu cabelo macio  alegria\n",
              "7                         adoro a cor dos seus olhos  alegria\n",
              "8                    somo tão amáveis um com o outro  alegria\n",
              "9                   sinto uma grande afeição por ele  alegria"
            ]
          },
          "metadata": {},
          "execution_count": 17
        }
      ]
    },
    {
      "cell_type": "code",
      "metadata": {
        "id": "UpPTHJACDJAn"
      },
      "source": [
        "base_dados['texto'] = base_dados['texto'].apply(preprocessamento)"
      ],
      "execution_count": 18,
      "outputs": []
    },
    {
      "cell_type": "code",
      "metadata": {
        "colab": {
          "base_uri": "https://localhost:8080/",
          "height": 0
        },
        "id": "nMz36YxvDhS8",
        "outputId": "c6455a4a-bdf9-47c2-dc21-50cf88d8c77e"
      },
      "source": [
        "base_dados.head(10)"
      ],
      "execution_count": 19,
      "outputs": [
        {
          "output_type": "execute_result",
          "data": {
            "text/html": [
              "<div>\n",
              "<style scoped>\n",
              "    .dataframe tbody tr th:only-of-type {\n",
              "        vertical-align: middle;\n",
              "    }\n",
              "\n",
              "    .dataframe tbody tr th {\n",
              "        vertical-align: top;\n",
              "    }\n",
              "\n",
              "    .dataframe thead th {\n",
              "        text-align: right;\n",
              "    }\n",
              "</style>\n",
              "<table border=\"1\" class=\"dataframe\">\n",
              "  <thead>\n",
              "    <tr style=\"text-align: right;\">\n",
              "      <th></th>\n",
              "      <th>texto</th>\n",
              "      <th>emocao</th>\n",
              "    </tr>\n",
              "  </thead>\n",
              "  <tbody>\n",
              "    <tr>\n",
              "      <th>0</th>\n",
              "      <td>o criança sorrir o o bichar pelúcia pendurar o...</td>\n",
              "      <td>alegria</td>\n",
              "    </tr>\n",
              "    <tr>\n",
              "      <th>1</th>\n",
              "      <td>trabalhar agradável</td>\n",
              "      <td>alegria</td>\n",
              "    </tr>\n",
              "    <tr>\n",
              "      <th>2</th>\n",
              "      <td>gostar ficar o aconchegar</td>\n",
              "      <td>alegria</td>\n",
              "    </tr>\n",
              "    <tr>\n",
              "      <th>3</th>\n",
              "      <td>o adesão o o cursar hoje</td>\n",
              "      <td>alegria</td>\n",
              "    </tr>\n",
              "    <tr>\n",
              "      <th>4</th>\n",
              "      <td>admirar</td>\n",
              "      <td>alegria</td>\n",
              "    </tr>\n",
              "    <tr>\n",
              "      <th>5</th>\n",
              "      <td>adorar comer</td>\n",
              "      <td>alegria</td>\n",
              "    </tr>\n",
              "    <tr>\n",
              "      <th>6</th>\n",
              "      <td>adorar cabelar maciar</td>\n",
              "      <td>alegria</td>\n",
              "    </tr>\n",
              "    <tr>\n",
              "      <th>7</th>\n",
              "      <td>adorar o cor olho</td>\n",
              "      <td>alegria</td>\n",
              "    </tr>\n",
              "    <tr>\n",
              "      <th>8</th>\n",
              "      <td>somar amável o outro</td>\n",
              "      <td>alegria</td>\n",
              "    </tr>\n",
              "    <tr>\n",
              "      <th>9</th>\n",
              "      <td>sentir umar afeição</td>\n",
              "      <td>alegria</td>\n",
              "    </tr>\n",
              "  </tbody>\n",
              "</table>\n",
              "</div>"
            ],
            "text/plain": [
              "                                               texto   emocao\n",
              "0  o criança sorrir o o bichar pelúcia pendurar o...  alegria\n",
              "1                                trabalhar agradável  alegria\n",
              "2                          gostar ficar o aconchegar  alegria\n",
              "3                           o adesão o o cursar hoje  alegria\n",
              "4                                            admirar  alegria\n",
              "5                                       adorar comer  alegria\n",
              "6                              adorar cabelar maciar  alegria\n",
              "7                                  adorar o cor olho  alegria\n",
              "8                               somar amável o outro  alegria\n",
              "9                                sentir umar afeição  alegria"
            ]
          },
          "metadata": {},
          "execution_count": 19
        }
      ]
    },
    {
      "cell_type": "markdown",
      "metadata": {
        "id": "GzrodcSVDvKn"
      },
      "source": [
        "#tratamento da classe"
      ]
    },
    {
      "cell_type": "code",
      "metadata": {
        "id": "aK7dwlMRDtml"
      },
      "source": [
        "exemplo_base_dados = [['este lugar é agradavel', {'ALEGRIA':True, 'MEDO':False}],\n",
        "                     ['este lugar continua assustador', {'ALEGRIA':False, 'MEDO':True}]]"
      ],
      "execution_count": 20,
      "outputs": []
    },
    {
      "cell_type": "code",
      "metadata": {
        "colab": {
          "base_uri": "https://localhost:8080/"
        },
        "id": "-NUhjAFME3CU",
        "outputId": "6e800663-d897-4a5e-ab35-21c7e6d7925a"
      },
      "source": [
        "type(exemplo_base_dados)"
      ],
      "execution_count": 21,
      "outputs": [
        {
          "output_type": "execute_result",
          "data": {
            "text/plain": [
              "list"
            ]
          },
          "metadata": {},
          "execution_count": 21
        }
      ]
    },
    {
      "cell_type": "code",
      "metadata": {
        "colab": {
          "base_uri": "https://localhost:8080/"
        },
        "id": "NhNveY49E-_n",
        "outputId": "bb7f27b0-ff86-46ed-b89a-994c9c045ace"
      },
      "source": [
        "exemplo_base_dados[0]"
      ],
      "execution_count": 22,
      "outputs": [
        {
          "output_type": "execute_result",
          "data": {
            "text/plain": [
              "['este lugar é agradavel', {'ALEGRIA': True, 'MEDO': False}]"
            ]
          },
          "metadata": {},
          "execution_count": 22
        }
      ]
    },
    {
      "cell_type": "code",
      "metadata": {
        "colab": {
          "base_uri": "https://localhost:8080/",
          "height": 35
        },
        "id": "BnGRn6OlFSTS",
        "outputId": "7d1fddb1-9b09-4463-d0b1-889634ee7db2"
      },
      "source": [
        "exemplo_base_dados[0][0]"
      ],
      "execution_count": 23,
      "outputs": [
        {
          "output_type": "execute_result",
          "data": {
            "application/vnd.google.colaboratory.intrinsic+json": {
              "type": "string"
            },
            "text/plain": [
              "'este lugar é agradavel'"
            ]
          },
          "metadata": {},
          "execution_count": 23
        }
      ]
    },
    {
      "cell_type": "code",
      "metadata": {
        "colab": {
          "base_uri": "https://localhost:8080/"
        },
        "id": "FdB9-4dEFa5T",
        "outputId": "31d126d5-afd2-454f-94c3-b4fddabf3914"
      },
      "source": [
        "exemplo_base_dados[0][1]"
      ],
      "execution_count": 24,
      "outputs": [
        {
          "output_type": "execute_result",
          "data": {
            "text/plain": [
              "{'ALEGRIA': True, 'MEDO': False}"
            ]
          },
          "metadata": {},
          "execution_count": 24
        }
      ]
    },
    {
      "cell_type": "code",
      "metadata": {
        "colab": {
          "base_uri": "https://localhost:8080/"
        },
        "id": "4fENxKO5FctK",
        "outputId": "5918dfed-4dc8-47f0-df02-57bf6bad763a"
      },
      "source": [
        "type(exemplo_base_dados[0][1])"
      ],
      "execution_count": 25,
      "outputs": [
        {
          "output_type": "execute_result",
          "data": {
            "text/plain": [
              "dict"
            ]
          },
          "metadata": {},
          "execution_count": 25
        }
      ]
    },
    {
      "cell_type": "code",
      "metadata": {
        "id": "-QLxreUSFkpw"
      },
      "source": [
        "base_dados_final = []\n",
        "\n",
        "for texto, emocao in zip(base_dados['texto'], base_dados['emocao']):\n",
        "  #print(texto, emocao)\n",
        "  if emocao ==  'alegria':\n",
        "    dic = ({'ALEGRIA':True, 'MEDO':False})\n",
        "  elif emocao == 'medo':\n",
        "    dic = ({'ALEGRIA':False, 'MEDO':True})\n",
        "\n",
        "    base_dados_final.append([texto, dic.copy()])"
      ],
      "execution_count": 26,
      "outputs": []
    },
    {
      "cell_type": "code",
      "metadata": {
        "colab": {
          "base_uri": "https://localhost:8080/"
        },
        "id": "URkw4daYJVp_",
        "outputId": "92db88da-449d-4a23-d78a-a3cc98ba7c2e"
      },
      "source": [
        "base_dados_final[0]"
      ],
      "execution_count": 27,
      "outputs": [
        {
          "output_type": "execute_result",
          "data": {
            "text/plain": [
              "['o batata assassino sepultar o mandioca ensanguentar',\n",
              " {'ALEGRIA': False, 'MEDO': True}]"
            ]
          },
          "metadata": {},
          "execution_count": 27
        }
      ]
    },
    {
      "cell_type": "code",
      "metadata": {
        "colab": {
          "base_uri": "https://localhost:8080/",
          "height": 35
        },
        "id": "jdzZCNJhJkJ2",
        "outputId": "8abdd602-0f2d-4b85-f185-8128fc3c658c"
      },
      "source": [
        "base_dados_final[0][0]"
      ],
      "execution_count": 28,
      "outputs": [
        {
          "output_type": "execute_result",
          "data": {
            "application/vnd.google.colaboratory.intrinsic+json": {
              "type": "string"
            },
            "text/plain": [
              "'o batata assassino sepultar o mandioca ensanguentar'"
            ]
          },
          "metadata": {},
          "execution_count": 28
        }
      ]
    },
    {
      "cell_type": "code",
      "metadata": {
        "colab": {
          "base_uri": "https://localhost:8080/"
        },
        "id": "eEVgZD99JnH2",
        "outputId": "ef3bef60-bb01-4d4b-9126-3930e59319da"
      },
      "source": [
        "base_dados_final[0][1]"
      ],
      "execution_count": 29,
      "outputs": [
        {
          "output_type": "execute_result",
          "data": {
            "text/plain": [
              "{'ALEGRIA': False, 'MEDO': True}"
            ]
          },
          "metadata": {},
          "execution_count": 29
        }
      ]
    },
    {
      "cell_type": "code",
      "metadata": {
        "colab": {
          "base_uri": "https://localhost:8080/"
        },
        "id": "oc-bR2MeJq7j",
        "outputId": "2e42da01-e5eb-42d8-c269-b80a04b56748"
      },
      "source": [
        "type(base_dados_final[0][1])"
      ],
      "execution_count": 30,
      "outputs": [
        {
          "output_type": "execute_result",
          "data": {
            "text/plain": [
              "dict"
            ]
          },
          "metadata": {},
          "execution_count": 30
        }
      ]
    },
    {
      "cell_type": "code",
      "metadata": {
        "colab": {
          "base_uri": "https://localhost:8080/"
        },
        "id": "fVA6WKW4Jvh0",
        "outputId": "9a276a63-ea31-4f6f-9109-67ca15144742"
      },
      "source": [
        "base_dados_final"
      ],
      "execution_count": 31,
      "outputs": [
        {
          "output_type": "execute_result",
          "data": {
            "text/plain": [
              "[['o batata assassino sepultar o mandioca ensanguentar',\n",
              "  {'ALEGRIA': False, 'MEDO': True}],\n",
              " ['implorar matar', {'ALEGRIA': False, 'MEDO': True}],\n",
              " ['perigoso', {'ALEGRIA': False, 'MEDO': True}],\n",
              " ['segurar', {'ALEGRIA': False, 'MEDO': True}],\n",
              " ['correr pra', {'ALEGRIA': False, 'MEDO': True}],\n",
              " ['socorrer querer roubar o doce', {'ALEGRIA': False, 'MEDO': True}],\n",
              " ['caro perseguir', {'ALEGRIA': False, 'MEDO': True}],\n",
              " ['entrar perigoso', {'ALEGRIA': False, 'MEDO': True}],\n",
              " ['continuar assustador', {'ALEGRIA': False, 'MEDO': True}],\n",
              " ['o selva animar perigoso', {'ALEGRIA': False, 'MEDO': True}],\n",
              " ['avançar cautela', {'ALEGRIA': False, 'MEDO': True}],\n",
              " ['silencioso cuidar', {'ALEGRIA': False, 'MEDO': True}],\n",
              " ['deixe-me viver', {'ALEGRIA': False, 'MEDO': True}],\n",
              " ['ficar mesada tirar noto', {'ALEGRIA': False, 'MEDO': True}],\n",
              " ['parecer olho o vigiar', {'ALEGRIA': False, 'MEDO': True}],\n",
              " ['o sentença juiz negativo', {'ALEGRIA': False, 'MEDO': True}],\n",
              " ['missão arriscar', {'ALEGRIA': False, 'MEDO': True}],\n",
              " ['salvem-se', {'ALEGRIA': False, 'MEDO': True}],\n",
              " ['planar descobrir', {'ALEGRIA': False, 'MEDO': True}],\n",
              " ['culpar jurar', {'ALEGRIA': False, 'MEDO': True}],\n",
              " ['tomar cuidar o lobisomem', {'ALEGRIA': False, 'MEDO': True}],\n",
              " ['achar descobrir o verdade', {'ALEGRIA': False, 'MEDO': True}],\n",
              " ['deus desaparecer', {'ALEGRIA': False, 'MEDO': True}],\n",
              " ['tomar d', {'ALEGRIA': False, 'MEDO': True}],\n",
              " ['manter segredar descobrir ferrar', {'ALEGRIA': False, 'MEDO': True}],\n",
              " ['soltar inocentar', {'ALEGRIA': False, 'MEDO': True}],\n",
              " ['ouvir passo mim', {'ALEGRIA': False, 'MEDO': True}],\n",
              " ['pedir socorrer', {'ALEGRIA': False, 'MEDO': True}],\n",
              " ['cuidar o curvo o estrar', {'ALEGRIA': False, 'MEDO': True}],\n",
              " ['parecer perigoso', {'ALEGRIA': False, 'MEDO': True}],\n",
              " ['tremer medo', {'ALEGRIA': False, 'MEDO': True}],\n",
              " ['socorrer cair', {'ALEGRIA': False, 'MEDO': True}],\n",
              " ['o florestar negro perigoso', {'ALEGRIA': False, 'MEDO': True}],\n",
              " ['ouvir passo o direção', {'ALEGRIA': False, 'MEDO': True}],\n",
              " ['achar arriscar', {'ALEGRIA': False, 'MEDO': True}],\n",
              " ['voltar perigoso', {'ALEGRIA': False, 'MEDO': True}],\n",
              " ['fugir acabar morto', {'ALEGRIA': False, 'MEDO': True}],\n",
              " ['recear livrar d situação', {'ALEGRIA': False, 'MEDO': True}],\n",
              " ['socorrer armar', {'ALEGRIA': False, 'MEDO': True}],\n",
              " ['eis cuidar bater o postar', {'ALEGRIA': False, 'MEDO': True}],\n",
              " ['socorrer nó afundar', {'ALEGRIA': False, 'MEDO': True}],\n",
              " ['e sério cuidar armar', {'ALEGRIA': False, 'MEDO': True}],\n",
              " ['o tubarão atacar', {'ALEGRIA': False, 'MEDO': True}],\n",
              " ['sentir arrepio ficar o escuro', {'ALEGRIA': False, 'MEDO': True}],\n",
              " ['calmo o dinheiro', {'ALEGRIA': False, 'MEDO': True}],\n",
              " ['achar enganar', {'ALEGRIA': False, 'MEDO': True}],\n",
              " ['ligeiro fugir depressa', {'ALEGRIA': False, 'MEDO': True}],\n",
              " ['crocodilo selvagem vir parir', {'ALEGRIA': False, 'MEDO': True}],\n",
              " ['ficar o achar', {'ALEGRIA': False, 'MEDO': True}],\n",
              " ['fugir o tigre parecer faminto', {'ALEGRIA': False, 'MEDO': True}],\n",
              " ['sair precisar milagre', {'ALEGRIA': False, 'MEDO': True}],\n",
              " ['tirar mim socorrer', {'ALEGRIA': False, 'MEDO': True}],\n",
              " ['nadar afogar', {'ALEGRIA': False, 'MEDO': True}],\n",
              " ['e segurar', {'ALEGRIA': False, 'MEDO': True}],\n",
              " ['apanhar pai boletim', {'ALEGRIA': False, 'MEDO': True}],\n",
              " ['conseguir sair d', {'ALEGRIA': False, 'MEDO': True}],\n",
              " ['sair tardar assaltar', {'ALEGRIA': False, 'MEDO': True}],\n",
              " ['deixar', {'ALEGRIA': False, 'MEDO': True}],\n",
              " ['esperar largar', {'ALEGRIA': False, 'MEDO': True}],\n",
              " ['pelar suar segurança', {'ALEGRIA': False, 'MEDO': True}],\n",
              " ['entregar o dinheiro matar', {'ALEGRIA': False, 'MEDO': True}],\n",
              " ['levar o dinheiro', {'ALEGRIA': False, 'MEDO': True}],\n",
              " ['dirigir rápido', {'ALEGRIA': False, 'MEDO': True}],\n",
              " ['descobrir prender', {'ALEGRIA': False, 'MEDO': True}],\n",
              " ['esperar nenhum', {'ALEGRIA': False, 'MEDO': True}],\n",
              " ['afogar ajudar o sair água', {'ALEGRIA': False, 'MEDO': True}],\n",
              " ['o salvar', {'ALEGRIA': False, 'MEDO': True}],\n",
              " ['querer pensar o acontecer', {'ALEGRIA': False, 'MEDO': True}],\n",
              " ['n cidade umar desgraçar outro', {'ALEGRIA': False, 'MEDO': True}],\n",
              " ['alguém ligar assustar', {'ALEGRIA': False, 'MEDO': True}],\n",
              " ['remedio matar', {'ALEGRIA': False, 'MEDO': True}],\n",
              " ['confiar n cautela', {'ALEGRIA': False, 'MEDO': True}],\n",
              " ['cautela', {'ALEGRIA': False, 'MEDO': True}],\n",
              " ['descobrir deus', {'ALEGRIA': False, 'MEDO': True}],\n",
              " ['recear', {'ALEGRIA': False, 'MEDO': True}],\n",
              " ['o noite e perigoso', {'ALEGRIA': False, 'MEDO': True}],\n",
              " ['estremecer casar', {'ALEGRIA': False, 'MEDO': True}],\n",
              " ['olhar criatura mover monstruosamente', {'ALEGRIA': False, 'MEDO': True}],\n",
              " ['aguentar suspense', {'ALEGRIA': False, 'MEDO': True}],\n",
              " ['afugentar o cão', {'ALEGRIA': False, 'MEDO': True}],\n",
              " ['chocar e amedrontar assassinato brutal', {'ALEGRIA': False, 'MEDO': True}],\n",
              " ['precisar afugentar ímpeto medo infernar', {'ALEGRIA': False, 'MEDO': True}],\n",
              " ['político suar forçar parir afugentar e amedrontar o',\n",
              "  {'ALEGRIA': False, 'MEDO': True}],\n",
              " ['o objetivo d e amedrontar', {'ALEGRIA': False, 'MEDO': True}],\n",
              " ['apavorar', {'ALEGRIA': False, 'MEDO': True}]]"
            ]
          },
          "metadata": {},
          "execution_count": 31
        }
      ]
    },
    {
      "cell_type": "markdown",
      "metadata": {
        "id": "eOTmfhGMLP6k"
      },
      "source": [
        "Classificação de sentimentos "
      ]
    },
    {
      "cell_type": "code",
      "metadata": {
        "id": "HgmYCE-YLQdj"
      },
      "source": [
        "modelo = spacy.blank('pt')\n",
        "categorias = modelo.create_pipe('textcat')\n",
        "categorias.add_label('ALEGRIA')\n",
        "categorias.add_label('MEDO')\n",
        "modelo.add_pipe(categorias)\n",
        "historico = []\n",
        "\n"
      ],
      "execution_count": 32,
      "outputs": []
    },
    {
      "cell_type": "code",
      "metadata": {
        "colab": {
          "base_uri": "https://localhost:8080/"
        },
        "id": "UZtLz84QMk0U",
        "outputId": "33451604-1e25-46e5-c65f-420b50a448a8"
      },
      "source": [
        "modelo.begin_training()\n",
        "for epoca in range(1000):\n",
        "  random.shuffle(base_dados_final)\n",
        "  losses = {}\n",
        "  for batch in spacy.util.minibatch(base_dados_final, 30):\n",
        "    textos = [modelo(texto) for texto, entities in batch]\n",
        "    annotations = [{'cats': entities} for texto, entities in batch]\n",
        "    modelo.update(textos, annotations, losses=losses)\n",
        "  if epoca % 100 == 0:\n",
        "     print(losses)\n",
        "     historico.append(losses)\n",
        "\n",
        "\n"
      ],
      "execution_count": 33,
      "outputs": [
        {
          "output_type": "stream",
          "name": "stdout",
          "text": [
            "{'textcat': 0.002444839687086642}\n",
            "{'textcat': 9.378058607456552e-10}\n",
            "{'textcat': 6.335763025333563e-10}\n",
            "{'textcat': 4.924141094875267e-10}\n",
            "{'textcat': 3.362513531501854e-10}\n",
            "{'textcat': 3.0922440996672407e-10}\n",
            "{'textcat': 2.40646665788935e-10}\n",
            "{'textcat': 2.0291739816213905e-10}\n",
            "{'textcat': 1.765879074910881e-10}\n",
            "{'textcat': 1.67022857350263e-10}\n"
          ]
        }
      ]
    },
    {
      "cell_type": "code",
      "metadata": {
        "id": "kMg0iHOjQHFQ"
      },
      "source": [
        "historico_loss = []\n",
        "for i in historico:\n",
        "  historico_loss.append(i.get('textcat'))"
      ],
      "execution_count": 34,
      "outputs": []
    },
    {
      "cell_type": "code",
      "metadata": {
        "colab": {
          "base_uri": "https://localhost:8080/"
        },
        "id": "utbWmZH5RQF5",
        "outputId": "1642b0f0-f6bb-4f51-ecb1-e1158d93a4b7"
      },
      "source": [
        "historico_loss = np.array(historico_loss)\n",
        "historico_loss"
      ],
      "execution_count": 35,
      "outputs": [
        {
          "output_type": "execute_result",
          "data": {
            "text/plain": [
              "array([2.44483969e-03, 9.37805861e-10, 6.33576303e-10, 4.92414109e-10,\n",
              "       3.36251353e-10, 3.09224410e-10, 2.40646666e-10, 2.02917398e-10,\n",
              "       1.76587907e-10, 1.67022857e-10])"
            ]
          },
          "metadata": {},
          "execution_count": 35
        }
      ]
    },
    {
      "cell_type": "code",
      "metadata": {
        "colab": {
          "base_uri": "https://localhost:8080/",
          "height": 314
        },
        "id": "oqajfliyRamS",
        "outputId": "021012c8-b8e5-4a1a-cacf-f1422047d650"
      },
      "source": [
        "import matplotlib.pyplot as plt\n",
        "plt.plot(historico_loss)\n",
        "plt.title('Progressão do erro')\n",
        "plt.xlabel('Épocas')\n",
        "plt.ylabel('Erro')\n"
      ],
      "execution_count": 36,
      "outputs": [
        {
          "output_type": "execute_result",
          "data": {
            "text/plain": [
              "Text(0, 0.5, 'Erro')"
            ]
          },
          "metadata": {},
          "execution_count": 36
        },
        {
          "output_type": "display_data",
          "data": {
            "image/png": "[encoded data removed]",
            "text/plain": [
              "<Figure size 432x288 with 1 Axes>"
            ]
          },
          "metadata": {
            "needs_background": "light"
          }
        }
      ]
    },
    {
      "cell_type": "code",
      "metadata": {
        "id": "AkPqN1r5TXM0"
      },
      "source": [
        "modelo.to_disk('modelo')"
      ],
      "execution_count": 37,
      "outputs": []
    },
    {
      "cell_type": "code",
      "metadata": {
        "colab": {
          "base_uri": "https://localhost:8080/"
        },
        "id": "P1lvyZGyTxPY",
        "outputId": "92f50e6e-6614-46da-db23-af81636b015f"
      },
      "source": [
        "modelo_carregado = spacy.load('modelo')\n",
        "modelo_carregado"
      ],
      "execution_count": 38,
      "outputs": [
        {
          "output_type": "execute_result",
          "data": {
            "text/plain": [
              "<spacy.lang.pt.Portuguese at 0x7f389ad108d0>"
            ]
          },
          "metadata": {},
          "execution_count": 38
        }
      ]
    },
    {
      "cell_type": "code",
      "metadata": {
        "id": "v0O0_vAyUAA6"
      },
      "source": [
        "texto_positivo = \"a criança sorriu ao ver seu bicho de pelúcia pendurado no varal\""
      ],
      "execution_count": 39,
      "outputs": []
    },
    {
      "cell_type": "code",
      "metadata": {
        "colab": {
          "base_uri": "https://localhost:8080/",
          "height": 35
        },
        "id": "3_AEUQQKULVG",
        "outputId": "afc36a92-c785-4a40-b6ad-ad09589a539d"
      },
      "source": [
        "texto_positivo = preprocessamento(texto_positivo)\n",
        "texto_positivo"
      ],
      "execution_count": 40,
      "outputs": [
        {
          "output_type": "execute_result",
          "data": {
            "application/vnd.google.colaboratory.intrinsic+json": {
              "type": "string"
            },
            "text/plain": [
              "'o criança sorrir o o bichar pelúcia pendurar o varal'"
            ]
          },
          "metadata": {},
          "execution_count": 40
        }
      ]
    },
    {
      "cell_type": "code",
      "metadata": {
        "colab": {
          "base_uri": "https://localhost:8080/"
        },
        "id": "t6DDERPEUXIw",
        "outputId": "2bd91749-77bf-4856-e225-922bf47c4b7b"
      },
      "source": [
        "previsao = modelo_carregado(texto_positivo)\n",
        "previsao"
      ],
      "execution_count": 41,
      "outputs": [
        {
          "output_type": "execute_result",
          "data": {
            "text/plain": [
              "o criança sorrir o o bichar pelúcia pendurar o varal"
            ]
          },
          "metadata": {},
          "execution_count": 41
        }
      ]
    },
    {
      "cell_type": "code",
      "metadata": {
        "colab": {
          "base_uri": "https://localhost:8080/"
        },
        "id": "xlN7WsO3UjKn",
        "outputId": "5e088c89-7127-4e1a-bb0f-b2f34046a198"
      },
      "source": [
        "previsao.cats"
      ],
      "execution_count": 42,
      "outputs": [
        {
          "output_type": "execute_result",
          "data": {
            "text/plain": [
              "{'ALEGRIA': 7.898084732005373e-05, 'MEDO': 0.9999545812606812}"
            ]
          },
          "metadata": {},
          "execution_count": 42
        }
      ]
    },
    {
      "cell_type": "code",
      "metadata": {
        "id": "k7t8vrWhU5zu"
      },
      "source": [
        "texto_negativo = 'a batata assassina sepultou a mandioca ainda ensanguentada'\n",
        "previsao = modelo_carregado(preprocessamento(texto_negativo))"
      ],
      "execution_count": 43,
      "outputs": []
    },
    {
      "cell_type": "code",
      "metadata": {
        "colab": {
          "base_uri": "https://localhost:8080/"
        },
        "id": "QNuG4OtzO-ZX",
        "outputId": "0196e321-cb96-4084-be7e-e2f4c04fcb1a"
      },
      "source": [
        "previsao.cats"
      ],
      "execution_count": 44,
      "outputs": [
        {
          "output_type": "execute_result",
          "data": {
            "text/plain": [
              "{'ALEGRIA': 4.539786823443137e-05, 'MEDO': 0.9995504021644592}"
            ]
          },
          "metadata": {},
          "execution_count": 44
        }
      ]
    },
    {
      "cell_type": "code",
      "metadata": {
        "id": "GjYFhi2SVHWo"
      },
      "source": [
        "previsoes = []\n",
        "for texto in base_dados['texto']:\n",
        "  #print(texto)\n",
        "  previsao = modelo_carregado(texto)\n",
        "  previsoes.append(previsao.cats)"
      ],
      "execution_count": 45,
      "outputs": []
    },
    {
      "cell_type": "code",
      "metadata": {
        "colab": {
          "base_uri": "https://localhost:8080/"
        },
        "id": "TThrdRQAW3jB",
        "outputId": "c76bba17-daa3-4028-8055-dc690877741a"
      },
      "source": [
        "previsoes"
      ],
      "execution_count": 46,
      "outputs": [
        {
          "output_type": "execute_result",
          "data": {
            "text/plain": [
              "[{'ALEGRIA': 7.898084732005373e-05, 'MEDO': 0.9999545812606812},\n",
              " {'ALEGRIA': 8.847452409099787e-05, 'MEDO': 0.9999545812606812},\n",
              " {'ALEGRIA': 4.539786823443137e-05, 'MEDO': 0.9999545812606812},\n",
              " {'ALEGRIA': 0.0005195180419832468, 'MEDO': 0.9999545812606812},\n",
              " {'ALEGRIA': 6.89605949446559e-05, 'MEDO': 0.9999545812606812},\n",
              " {'ALEGRIA': 0.0003284348640590906, 'MEDO': 0.9999545812606812},\n",
              " {'ALEGRIA': 6.27991248620674e-05, 'MEDO': 0.9999545812606812},\n",
              " {'ALEGRIA': 0.0003455189289525151, 'MEDO': 0.9999545812606812},\n",
              " {'ALEGRIA': 4.539786823443137e-05, 'MEDO': 0.9999545812606812},\n",
              " {'ALEGRIA': 7.459868356818333e-05, 'MEDO': 0.9999545812606812},\n",
              " {'ALEGRIA': 0.0001120034939958714, 'MEDO': 0.9999545812606812},\n",
              " {'ALEGRIA': 6.677195779047906e-05, 'MEDO': 0.9999545812606812},\n",
              " {'ALEGRIA': 4.539786823443137e-05, 'MEDO': 0.9999545812606812},\n",
              " {'ALEGRIA': 4.539786823443137e-05, 'MEDO': 0.9999545812606812},\n",
              " {'ALEGRIA': 0.0006506397621706128, 'MEDO': 0.9999545812606812},\n",
              " {'ALEGRIA': 0.00011568557238206267, 'MEDO': 0.9999545812606812},\n",
              " {'ALEGRIA': 4.539786823443137e-05, 'MEDO': 0.9999545812606812},\n",
              " {'ALEGRIA': 5.064891593065113e-05, 'MEDO': 0.9999545812606812},\n",
              " {'ALEGRIA': 4.539786823443137e-05, 'MEDO': 0.9999545812606812},\n",
              " {'ALEGRIA': 0.00010772333189379424, 'MEDO': 0.9999545812606812},\n",
              " {'ALEGRIA': 4.701004581875168e-05, 'MEDO': 0.9999545812606812},\n",
              " {'ALEGRIA': 9.831404167925939e-05, 'MEDO': 0.9999545812606812},\n",
              " {'ALEGRIA': 0.0004591878969222307, 'MEDO': 0.9999545812606812},\n",
              " {'ALEGRIA': 7.010550325503573e-05, 'MEDO': 0.9999545812606812},\n",
              " {'ALEGRIA': 6.370204937411472e-05, 'MEDO': 0.9999545812606812},\n",
              " {'ALEGRIA': 0.0012390788178890944, 'MEDO': 0.9999545812606812},\n",
              " {'ALEGRIA': 9.092205436900258e-05, 'MEDO': 0.9999545812606812},\n",
              " {'ALEGRIA': 4.539786823443137e-05, 'MEDO': 0.9999545812606812},\n",
              " {'ALEGRIA': 4.539786823443137e-05, 'MEDO': 0.9999545812606812},\n",
              " {'ALEGRIA': 4.539786823443137e-05, 'MEDO': 0.9999545812606812},\n",
              " {'ALEGRIA': 4.539786823443137e-05, 'MEDO': 0.9999545812606812},\n",
              " {'ALEGRIA': 0.00023948746093083173, 'MEDO': 0.9999545812606812},\n",
              " {'ALEGRIA': 0.0026302977930754423, 'MEDO': 0.9999545812606812},\n",
              " {'ALEGRIA': 0.0001981794775929302, 'MEDO': 0.9999545812606812},\n",
              " {'ALEGRIA': 4.539786823443137e-05, 'MEDO': 0.9999545812606812},\n",
              " {'ALEGRIA': 4.539786823443137e-05, 'MEDO': 0.9999544620513916},\n",
              " {'ALEGRIA': 0.00012255685578566045, 'MEDO': 0.9999545812606812},\n",
              " {'ALEGRIA': 0.00015119166346266866, 'MEDO': 0.9999545812606812},\n",
              " {'ALEGRIA': 0.00011741114576580003, 'MEDO': 0.9999545812606812},\n",
              " {'ALEGRIA': 0.00024280468642245978, 'MEDO': 0.9999545812606812},\n",
              " {'ALEGRIA': 4.539786823443137e-05, 'MEDO': 0.9999545812606812},\n",
              " {'ALEGRIA': 5.491460979101248e-05, 'MEDO': 0.9999545812606812},\n",
              " {'ALEGRIA': 4.539786823443137e-05, 'MEDO': 0.9999545812606812},\n",
              " {'ALEGRIA': 0.0007823865162208676, 'MEDO': 0.9999545812606812},\n",
              " {'ALEGRIA': 4.539786823443137e-05, 'MEDO': 0.9999545812606812},\n",
              " {'ALEGRIA': 0.0001083886600099504, 'MEDO': 0.9999542236328125},\n",
              " {'ALEGRIA': 4.539786823443137e-05, 'MEDO': 0.9999545812606812},\n",
              " {'ALEGRIA': 4.539786823443137e-05, 'MEDO': 0.9999545812606812},\n",
              " {'ALEGRIA': 0.000228948934818618, 'MEDO': 0.9999545812606812},\n",
              " {'ALEGRIA': 4.539786823443137e-05, 'MEDO': 0.9999545812606812},\n",
              " {'ALEGRIA': 7.057032780721784e-05, 'MEDO': 0.9999545812606812},\n",
              " {'ALEGRIA': 0.0005462075350806117, 'MEDO': 0.9999545812606812},\n",
              " {'ALEGRIA': 4.539786823443137e-05, 'MEDO': 0.9999545812606812},\n",
              " {'ALEGRIA': 0.0003803882864303887, 'MEDO': 0.9999545812606812},\n",
              " {'ALEGRIA': 0.0017882013926282525, 'MEDO': 0.9999545812606812},\n",
              " {'ALEGRIA': 0.0009130920516327024, 'MEDO': 0.9999545812606812},\n",
              " {'ALEGRIA': 7.301931327674538e-05, 'MEDO': 0.9999545812606812},\n",
              " {'ALEGRIA': 0.00028069200925529003, 'MEDO': 0.9999545812606812},\n",
              " {'ALEGRIA': 4.539786823443137e-05, 'MEDO': 0.9999545812606812},\n",
              " {'ALEGRIA': 8.713504212209955e-05, 'MEDO': 0.9999545812606812},\n",
              " {'ALEGRIA': 4.539786823443137e-05, 'MEDO': 0.9999545812606812},\n",
              " {'ALEGRIA': 0.00024848204338923097, 'MEDO': 0.9999545812606812},\n",
              " {'ALEGRIA': 0.0002031067997450009, 'MEDO': 0.9999545812606812},\n",
              " {'ALEGRIA': 0.00019383909238968045, 'MEDO': 0.9999545812606812},\n",
              " {'ALEGRIA': 4.539786823443137e-05, 'MEDO': 0.9999545812606812},\n",
              " {'ALEGRIA': 4.84265765408054e-05, 'MEDO': 0.9999545812606812},\n",
              " {'ALEGRIA': 4.539786823443137e-05, 'MEDO': 0.9999545812606812},\n",
              " {'ALEGRIA': 4.539786823443137e-05, 'MEDO': 0.9999545812606812},\n",
              " {'ALEGRIA': 4.539786823443137e-05, 'MEDO': 0.9999545812606812},\n",
              " {'ALEGRIA': 4.539786823443137e-05, 'MEDO': 0.9999250173568726},\n",
              " {'ALEGRIA': 4.539786823443137e-05, 'MEDO': 0.9999545812606812},\n",
              " {'ALEGRIA': 4.539786823443137e-05, 'MEDO': 0.9999545812606812},\n",
              " {'ALEGRIA': 6.846177711850032e-05, 'MEDO': 0.9999545812606812},\n",
              " {'ALEGRIA': 0.00020011189917568117, 'MEDO': 0.9998656511306763},\n",
              " {'ALEGRIA': 5.4277359595289454e-05, 'MEDO': 0.9999545812606812},\n",
              " {'ALEGRIA': 7.563215331174433e-05, 'MEDO': 0.9999545812606812},\n",
              " {'ALEGRIA': 0.0006949763628654182, 'MEDO': 0.9999545812606812},\n",
              " {'ALEGRIA': 4.539786823443137e-05, 'MEDO': 0.9999545812606812},\n",
              " {'ALEGRIA': 0.00018218636978417635, 'MEDO': 0.9999545812606812},\n",
              " {'ALEGRIA': 0.00014532725617755204, 'MEDO': 0.9999545812606812},\n",
              " {'ALEGRIA': 0.00034978805342689157, 'MEDO': 0.9999545812606812},\n",
              " {'ALEGRIA': 4.539786823443137e-05, 'MEDO': 0.9999545812606812},\n",
              " {'ALEGRIA': 4.539786823443137e-05, 'MEDO': 0.9999545812606812},\n",
              " {'ALEGRIA': 0.00019630970200523734, 'MEDO': 0.9999545812606812},\n",
              " {'ALEGRIA': 0.006568289827555418, 'MEDO': 0.9999545812606812},\n",
              " {'ALEGRIA': 0.00022832177637610584, 'MEDO': 0.9999545812606812},\n",
              " {'ALEGRIA': 4.539786823443137e-05, 'MEDO': 0.9999545812606812},\n",
              " {'ALEGRIA': 4.539786823443137e-05, 'MEDO': 0.9999545812606812},\n",
              " {'ALEGRIA': 0.0011977284448221326, 'MEDO': 0.9998939037322998},\n",
              " {'ALEGRIA': 0.0006621276843361557, 'MEDO': 0.9998420476913452},\n",
              " {'ALEGRIA': 0.0004448158433660865, 'MEDO': 0.9999545812606812},\n",
              " {'ALEGRIA': 8.411771705141291e-05, 'MEDO': 0.9999545812606812},\n",
              " {'ALEGRIA': 8.017557411221787e-05, 'MEDO': 0.9999545812606812},\n",
              " {'ALEGRIA': 0.0015287291025742888, 'MEDO': 0.9999545812606812},\n",
              " {'ALEGRIA': 0.0004762086900882423, 'MEDO': 0.9999545812606812},\n",
              " {'ALEGRIA': 0.0019115455215796828, 'MEDO': 0.9999545812606812},\n",
              " {'ALEGRIA': 4.539786823443137e-05, 'MEDO': 0.9999524354934692},\n",
              " {'ALEGRIA': 4.539786823443137e-05, 'MEDO': 0.9999545812606812},\n",
              " {'ALEGRIA': 4.539786823443137e-05, 'MEDO': 0.9999545812606812},\n",
              " {'ALEGRIA': 4.539786823443137e-05, 'MEDO': 0.9999305009841919},\n",
              " {'ALEGRIA': 4.539786823443137e-05, 'MEDO': 0.9999545812606812},\n",
              " {'ALEGRIA': 4.539786823443137e-05, 'MEDO': 0.9999545812606812},\n",
              " {'ALEGRIA': 0.00022033118875697255, 'MEDO': 0.9999545812606812},\n",
              " {'ALEGRIA': 4.539786823443137e-05, 'MEDO': 0.9999545812606812},\n",
              " {'ALEGRIA': 7.46175428503193e-05, 'MEDO': 0.9999545812606812},\n",
              " {'ALEGRIA': 7.628739695064723e-05, 'MEDO': 0.9999545812606812},\n",
              " {'ALEGRIA': 0.00010960919462377205, 'MEDO': 0.9999545812606812},\n",
              " {'ALEGRIA': 4.539786823443137e-05, 'MEDO': 0.9999545812606812},\n",
              " {'ALEGRIA': 0.00045488966861739755, 'MEDO': 0.9999545812606812},\n",
              " {'ALEGRIA': 4.539786823443137e-05, 'MEDO': 0.9999545812606812},\n",
              " {'ALEGRIA': 4.539786823443137e-05, 'MEDO': 0.9999419450759888},\n",
              " {'ALEGRIA': 7.624398858752102e-05, 'MEDO': 0.999950647354126},\n",
              " {'ALEGRIA': 0.00016111032164189965, 'MEDO': 0.9999545812606812},\n",
              " {'ALEGRIA': 4.539786823443137e-05, 'MEDO': 0.9995504021644592},\n",
              " {'ALEGRIA': 8.702144987182692e-05, 'MEDO': 0.9999545812606812},\n",
              " {'ALEGRIA': 4.539786823443137e-05, 'MEDO': 0.9999545812606812},\n",
              " {'ALEGRIA': 7.916024333098903e-05, 'MEDO': 0.9999545812606812},\n",
              " {'ALEGRIA': 5.900562973693013e-05, 'MEDO': 0.9996463060379028},\n",
              " {'ALEGRIA': 4.539786823443137e-05, 'MEDO': 0.9999545812606812},\n",
              " {'ALEGRIA': 4.539786823443137e-05, 'MEDO': 0.999923586845398},\n",
              " {'ALEGRIA': 4.539786823443137e-05, 'MEDO': 0.9999274015426636},\n",
              " {'ALEGRIA': 4.539786823443137e-05, 'MEDO': 0.9999545812606812},\n",
              " {'ALEGRIA': 0.0004728224012069404, 'MEDO': 0.9999492168426514},\n",
              " {'ALEGRIA': 0.00017825343820732087, 'MEDO': 0.9999545812606812},\n",
              " {'ALEGRIA': 4.539786823443137e-05, 'MEDO': 0.9999545812606812},\n",
              " {'ALEGRIA': 0.00023233059619087726, 'MEDO': 0.9999536275863647},\n",
              " {'ALEGRIA': 4.539786823443137e-05, 'MEDO': 0.9998806715011597},\n",
              " {'ALEGRIA': 4.539786823443137e-05, 'MEDO': 0.9999545812606812},\n",
              " {'ALEGRIA': 0.00014265991922002286, 'MEDO': 0.9998834133148193},\n",
              " {'ALEGRIA': 4.539786823443137e-05, 'MEDO': 0.9999098777770996},\n",
              " {'ALEGRIA': 9.572988346917555e-05, 'MEDO': 0.9999256134033203},\n",
              " {'ALEGRIA': 5.0415201258147135e-05, 'MEDO': 0.9999545812606812},\n",
              " {'ALEGRIA': 4.539786823443137e-05, 'MEDO': 0.9999545812606812},\n",
              " {'ALEGRIA': 5.080632763565518e-05, 'MEDO': 0.9999170303344727},\n",
              " {'ALEGRIA': 0.00010109628055943176, 'MEDO': 0.9999545812606812},\n",
              " {'ALEGRIA': 0.0003479009319562465, 'MEDO': 0.9999545812606812},\n",
              " {'ALEGRIA': 4.539786823443137e-05, 'MEDO': 0.9997329115867615},\n",
              " {'ALEGRIA': 4.539786823443137e-05, 'MEDO': 0.9999545812606812},\n",
              " {'ALEGRIA': 4.539786823443137e-05, 'MEDO': 0.9998568296432495},\n",
              " {'ALEGRIA': 4.539786823443137e-05, 'MEDO': 0.9999405145645142},\n",
              " {'ALEGRIA': 4.539786823443137e-05, 'MEDO': 0.9999545812606812},\n",
              " {'ALEGRIA': 4.539786823443137e-05, 'MEDO': 0.9999545812606812},\n",
              " {'ALEGRIA': 4.539786823443137e-05, 'MEDO': 0.9999545812606812},\n",
              " {'ALEGRIA': 4.539786823443137e-05, 'MEDO': 0.9998239874839783},\n",
              " {'ALEGRIA': 4.539786823443137e-05, 'MEDO': 0.9999545812606812},\n",
              " {'ALEGRIA': 4.539786823443137e-05, 'MEDO': 0.9998045563697815},\n",
              " {'ALEGRIA': 4.539786823443137e-05, 'MEDO': 0.9999545812606812},\n",
              " {'ALEGRIA': 4.539786823443137e-05, 'MEDO': 0.9999545812606812},\n",
              " {'ALEGRIA': 4.539786823443137e-05, 'MEDO': 0.9999268054962158},\n",
              " {'ALEGRIA': 4.539786823443137e-05, 'MEDO': 0.9997507929801941},\n",
              " {'ALEGRIA': 4.539786823443137e-05, 'MEDO': 0.9997456669807434},\n",
              " {'ALEGRIA': 0.00014363642549142241, 'MEDO': 0.9999545812606812},\n",
              " {'ALEGRIA': 0.00022455741418525577, 'MEDO': 0.9998637437820435},\n",
              " {'ALEGRIA': 0.00013386782666202635, 'MEDO': 0.9999545812606812},\n",
              " {'ALEGRIA': 5.1987997721880674e-05, 'MEDO': 0.9999290704727173},\n",
              " {'ALEGRIA': 4.539786823443137e-05, 'MEDO': 0.9999141693115234},\n",
              " {'ALEGRIA': 4.539786823443137e-05, 'MEDO': 0.9999545812606812},\n",
              " {'ALEGRIA': 4.539786823443137e-05, 'MEDO': 0.9999545812606812},\n",
              " {'ALEGRIA': 0.00010711295180954039, 'MEDO': 0.9999545812606812},\n",
              " {'ALEGRIA': 4.539786823443137e-05, 'MEDO': 0.9995087385177612},\n",
              " {'ALEGRIA': 0.00012551738473121077, 'MEDO': 0.9999545812606812},\n",
              " {'ALEGRIA': 4.539786823443137e-05, 'MEDO': 0.9999545812606812},\n",
              " {'ALEGRIA': 4.539786823443137e-05, 'MEDO': 0.999937891960144},\n",
              " {'ALEGRIA': 4.539786823443137e-05, 'MEDO': 0.9999325275421143},\n",
              " {'ALEGRIA': 0.00016424870409537107, 'MEDO': 0.9999545812606812},\n",
              " {'ALEGRIA': 9.319710807176307e-05, 'MEDO': 0.9999545812606812},\n",
              " {'ALEGRIA': 0.000274135876679793, 'MEDO': 0.9999545812606812},\n",
              " {'ALEGRIA': 0.00012325933494139463, 'MEDO': 0.9999545812606812},\n",
              " {'ALEGRIA': 4.539786823443137e-05, 'MEDO': 0.9999545812606812},\n",
              " {'ALEGRIA': 4.539786823443137e-05, 'MEDO': 0.999818742275238},\n",
              " {'ALEGRIA': 4.539786823443137e-05, 'MEDO': 0.9999545812606812},\n",
              " {'ALEGRIA': 4.539786823443137e-05, 'MEDO': 0.9999545812606812},\n",
              " {'ALEGRIA': 4.539786823443137e-05, 'MEDO': 0.9999545812606812},\n",
              " {'ALEGRIA': 4.539786823443137e-05, 'MEDO': 0.9999545812606812},\n",
              " {'ALEGRIA': 0.0004687539767473936, 'MEDO': 0.9998213648796082},\n",
              " {'ALEGRIA': 4.539786823443137e-05, 'MEDO': 0.9999520778656006},\n",
              " {'ALEGRIA': 4.539786823443137e-05, 'MEDO': 0.9999545812606812},\n",
              " {'ALEGRIA': 5.960913767921738e-05, 'MEDO': 0.9999545812606812},\n",
              " {'ALEGRIA': 9.59290046012029e-05, 'MEDO': 0.9999545812606812},\n",
              " {'ALEGRIA': 4.539786823443137e-05, 'MEDO': 0.9997978806495667},\n",
              " {'ALEGRIA': 0.00015147923841141164, 'MEDO': 0.9999545812606812},\n",
              " {'ALEGRIA': 8.740734483581036e-05, 'MEDO': 0.9999545812606812},\n",
              " {'ALEGRIA': 0.00019260765111539513, 'MEDO': 0.9999545812606812},\n",
              " {'ALEGRIA': 7.51650077290833e-05, 'MEDO': 0.9999545812606812},\n",
              " {'ALEGRIA': 9.8087613878306e-05, 'MEDO': 0.9999545812606812},\n",
              " {'ALEGRIA': 0.0002163750323234126, 'MEDO': 0.9999545812606812},\n",
              " {'ALEGRIA': 0.0006476027774624527, 'MEDO': 0.9999545812606812},\n",
              " {'ALEGRIA': 0.00027379789389669895, 'MEDO': 0.9999545812606812},\n",
              " {'ALEGRIA': 6.584794027730823e-05, 'MEDO': 0.9995930790901184},\n",
              " {'ALEGRIA': 4.539786823443137e-05, 'MEDO': 0.9999511241912842},\n",
              " {'ALEGRIA': 4.539786823443137e-05, 'MEDO': 0.9999545812606812},\n",
              " {'ALEGRIA': 0.0001221092534251511, 'MEDO': 0.9999545812606812},\n",
              " {'ALEGRIA': 4.539786823443137e-05, 'MEDO': 0.9999545812606812},\n",
              " {'ALEGRIA': 4.539786823443137e-05, 'MEDO': 0.9999545812606812},\n",
              " {'ALEGRIA': 4.539786823443137e-05, 'MEDO': 0.9995775818824768},\n",
              " {'ALEGRIA': 0.00015713721222709864, 'MEDO': 0.9999545812606812},\n",
              " {'ALEGRIA': 8.891501056496054e-05, 'MEDO': 0.9998376369476318},\n",
              " {'ALEGRIA': 4.539786823443137e-05, 'MEDO': 0.9999545812606812}]"
            ]
          },
          "metadata": {},
          "execution_count": 46
        }
      ]
    },
    {
      "cell_type": "code",
      "metadata": {
        "id": "jEheoKhBZFHR"
      },
      "source": [
        "previsoes_final = []\n",
        "for previsao in previsoes:\n",
        "  if previsao['ALEGRIA'] > previsao['MEDO']:\n",
        "    previsoes_final.append('alegria')\n",
        "  else:\n",
        "    previsoes_final.append('medo')\n",
        "\n",
        "previsoes_final = np.array(previsoes_final)"
      ],
      "execution_count": 47,
      "outputs": []
    },
    {
      "cell_type": "code",
      "metadata": {
        "colab": {
          "base_uri": "https://localhost:8080/"
        },
        "id": "x6o1lJUKaAca",
        "outputId": "8ca0bbfe-fb34-4143-9585-4cdfe3632137"
      },
      "source": [
        "previsoes_final"
      ],
      "execution_count": 48,
      "outputs": [
        {
          "output_type": "execute_result",
          "data": {
            "text/plain": [
              "array(['medo', 'medo', 'medo', 'medo', 'medo', 'medo', 'medo', 'medo',\n",
              "       'medo', 'medo', 'medo', 'medo', 'medo', 'medo', 'medo', 'medo',\n",
              "       'medo', 'medo', 'medo', 'medo', 'medo', 'medo', 'medo', 'medo',\n",
              "       'medo', 'medo', 'medo', 'medo', 'medo', 'medo', 'medo', 'medo',\n",
              "       'medo', 'medo', 'medo', 'medo', 'medo', 'medo', 'medo', 'medo',\n",
              "       'medo', 'medo', 'medo', 'medo', 'medo', 'medo', 'medo', 'medo',\n",
              "       'medo', 'medo', 'medo', 'medo', 'medo', 'medo', 'medo', 'medo',\n",
              "       'medo', 'medo', 'medo', 'medo', 'medo', 'medo', 'medo', 'medo',\n",
              "       'medo', 'medo', 'medo', 'medo', 'medo', 'medo', 'medo', 'medo',\n",
              "       'medo', 'medo', 'medo', 'medo', 'medo', 'medo', 'medo', 'medo',\n",
              "       'medo', 'medo', 'medo', 'medo', 'medo', 'medo', 'medo', 'medo',\n",
              "       'medo', 'medo', 'medo', 'medo', 'medo', 'medo', 'medo', 'medo',\n",
              "       'medo', 'medo', 'medo', 'medo', 'medo', 'medo', 'medo', 'medo',\n",
              "       'medo', 'medo', 'medo', 'medo', 'medo', 'medo', 'medo', 'medo',\n",
              "       'medo', 'medo', 'medo', 'medo', 'medo', 'medo', 'medo', 'medo',\n",
              "       'medo', 'medo', 'medo', 'medo', 'medo', 'medo', 'medo', 'medo',\n",
              "       'medo', 'medo', 'medo', 'medo', 'medo', 'medo', 'medo', 'medo',\n",
              "       'medo', 'medo', 'medo', 'medo', 'medo', 'medo', 'medo', 'medo',\n",
              "       'medo', 'medo', 'medo', 'medo', 'medo', 'medo', 'medo', 'medo',\n",
              "       'medo', 'medo', 'medo', 'medo', 'medo', 'medo', 'medo', 'medo',\n",
              "       'medo', 'medo', 'medo', 'medo', 'medo', 'medo', 'medo', 'medo',\n",
              "       'medo', 'medo', 'medo', 'medo', 'medo', 'medo', 'medo', 'medo',\n",
              "       'medo', 'medo', 'medo', 'medo', 'medo', 'medo', 'medo', 'medo',\n",
              "       'medo', 'medo', 'medo', 'medo', 'medo', 'medo', 'medo', 'medo',\n",
              "       'medo', 'medo', 'medo', 'medo', 'medo', 'medo'], dtype='<U4')"
            ]
          },
          "metadata": {},
          "execution_count": 48
        }
      ]
    },
    {
      "cell_type": "code",
      "metadata": {
        "colab": {
          "base_uri": "https://localhost:8080/"
        },
        "id": "EBt9IHv2aGGu",
        "outputId": "7f8ba93b-e8da-406e-e5d2-6be447a35dda"
      },
      "source": [
        "respostas_reais = base_dados['emocao'].values\n",
        "respostas_reais"
      ],
      "execution_count": 49,
      "outputs": [
        {
          "output_type": "execute_result",
          "data": {
            "text/plain": [
              "array(['alegria', 'alegria', 'alegria', 'alegria', 'alegria', 'alegria',\n",
              "       'alegria', 'alegria', 'alegria', 'alegria', 'alegria', 'alegria',\n",
              "       'alegria', 'alegria', 'alegria', 'alegria', 'alegria', 'alegria',\n",
              "       'alegria', 'alegria', 'alegria', 'alegria', 'alegria', 'alegria',\n",
              "       'alegria', 'alegria', 'alegria', 'alegria', 'alegria', 'alegria',\n",
              "       'alegria', 'alegria', 'alegria', 'alegria', 'alegria', 'alegria',\n",
              "       'alegria', 'alegria', 'alegria', 'alegria', 'alegria', 'alegria',\n",
              "       'alegria', 'alegria', 'alegria', 'alegria', 'alegria', 'alegria',\n",
              "       'alegria', 'alegria', 'alegria', 'alegria', 'alegria', 'alegria',\n",
              "       'alegria', 'alegria', 'alegria', 'alegria', 'alegria', 'alegria',\n",
              "       'alegria', 'alegria', 'alegria', 'alegria', 'alegria', 'alegria',\n",
              "       'alegria', 'alegria', 'alegria', 'alegria', 'alegria', 'alegria',\n",
              "       'alegria', 'alegria', 'alegria', 'alegria', 'alegria', 'alegria',\n",
              "       'alegria', 'alegria', 'alegria', 'alegria', 'alegria', 'alegria',\n",
              "       'alegria', 'alegria', 'alegria', 'alegria', 'alegria', 'alegria',\n",
              "       'alegria', 'alegria', 'alegria', 'alegria', 'alegria', 'alegria',\n",
              "       'alegria', 'alegria', 'alegria', 'alegria', 'alegria', 'alegria',\n",
              "       'alegria', 'alegria', 'alegria', 'alegria', 'alegria', 'alegria',\n",
              "       'alegria', 'alegria', 'alegria', 'alegria', 'alegria', 'medo',\n",
              "       'medo', 'medo', 'medo', 'medo', 'medo', 'medo', 'medo', 'medo',\n",
              "       'medo', 'medo', 'medo', 'medo', 'medo', 'medo', 'medo', 'medo',\n",
              "       'medo', 'medo', 'medo', 'medo', 'medo', 'medo', 'medo', 'medo',\n",
              "       'medo', 'medo', 'medo', 'medo', 'medo', 'medo', 'medo', 'medo',\n",
              "       'medo', 'medo', 'medo', 'medo', 'medo', 'medo', 'medo', 'medo',\n",
              "       'medo', 'medo', 'medo', 'medo', 'medo', 'medo', 'medo', 'medo',\n",
              "       'medo', 'medo', 'medo', 'medo', 'medo', 'medo', 'medo', 'medo',\n",
              "       'medo', 'medo', 'medo', 'medo', 'medo', 'medo', 'medo', 'medo',\n",
              "       'medo', 'medo', 'medo', 'medo', 'medo', 'medo', 'medo', 'medo',\n",
              "       'medo', 'medo', 'medo', 'medo', 'medo', 'medo', 'medo', 'medo',\n",
              "       'medo', 'medo', 'medo', 'medo'], dtype=object)"
            ]
          },
          "metadata": {},
          "execution_count": 49
        }
      ]
    },
    {
      "cell_type": "code",
      "metadata": {
        "colab": {
          "base_uri": "https://localhost:8080/"
        },
        "id": "kK-pb5n_aVpo",
        "outputId": "c450dcf8-d424-4422-bb30-e1ea2affa365"
      },
      "source": [
        "from sklearn.metrics import confusion_matrix, accuracy_score\n",
        "accuracy_score(respostas_reais, previsoes_final)"
      ],
      "execution_count": 50,
      "outputs": [
        {
          "output_type": "execute_result",
          "data": {
            "text/plain": [
              "0.4292929292929293"
            ]
          },
          "metadata": {},
          "execution_count": 50
        }
      ]
    },
    {
      "cell_type": "code",
      "metadata": {
        "colab": {
          "base_uri": "https://localhost:8080/"
        },
        "id": "XNX7dRmGwGUS",
        "outputId": "46e7fe2e-5423-422f-cf80-74e0fd2d7b59"
      },
      "source": [
        "cm = confusion_matrix(respostas_reais, previsoes_final)\n",
        "cm "
      ],
      "execution_count": 51,
      "outputs": [
        {
          "output_type": "execute_result",
          "data": {
            "text/plain": [
              "array([[  0, 113],\n",
              "       [  0,  85]])"
            ]
          },
          "metadata": {},
          "execution_count": 51
        }
      ]
    },
    {
      "cell_type": "markdown",
      "metadata": {
        "id": "lzdoII6knV_C"
      },
      "source": [
        "# avaliação na base de teste"
      ]
    },
    {
      "cell_type": "code",
      "metadata": {
        "colab": {
          "base_uri": "https://localhost:8080/",
          "height": 0
        },
        "id": "_Hdi2EVrnlHN",
        "outputId": "499d88d4-79af-4e08-9c2a-bb72ddd5b9cd"
      },
      "source": [
        "base_dados_teste = pd.read_csv('/content/drive/MyDrive/machine learn/base_teste.txt', encoding = 'utf-8')\n",
        "base_dados_teste"
      ],
      "execution_count": 52,
      "outputs": [
        {
          "output_type": "execute_result",
          "data": {
            "text/html": [
              "<div>\n",
              "<style scoped>\n",
              "    .dataframe tbody tr th:only-of-type {\n",
              "        vertical-align: middle;\n",
              "    }\n",
              "\n",
              "    .dataframe tbody tr th {\n",
              "        vertical-align: top;\n",
              "    }\n",
              "\n",
              "    .dataframe thead th {\n",
              "        text-align: right;\n",
              "    }\n",
              "</style>\n",
              "<table border=\"1\" class=\"dataframe\">\n",
              "  <thead>\n",
              "    <tr style=\"text-align: right;\">\n",
              "      <th></th>\n",
              "      <th>texto</th>\n",
              "      <th>emocao</th>\n",
              "    </tr>\n",
              "  </thead>\n",
              "  <tbody>\n",
              "    <tr>\n",
              "      <th>0</th>\n",
              "      <td>não precisei pagar o ingresso</td>\n",
              "      <td>alegria</td>\n",
              "    </tr>\n",
              "    <tr>\n",
              "      <th>1</th>\n",
              "      <td>se eu ajeitar tudo fica bem</td>\n",
              "      <td>alegria</td>\n",
              "    </tr>\n",
              "    <tr>\n",
              "      <th>2</th>\n",
              "      <td>minha fortuna ultrapassará a sua</td>\n",
              "      <td>alegria</td>\n",
              "    </tr>\n",
              "    <tr>\n",
              "      <th>3</th>\n",
              "      <td>sou muito afortunado</td>\n",
              "      <td>alegria</td>\n",
              "    </tr>\n",
              "    <tr>\n",
              "      <th>4</th>\n",
              "      <td>é benéfico para todos esta nova medida</td>\n",
              "      <td>alegria</td>\n",
              "    </tr>\n",
              "    <tr>\n",
              "      <th>...</th>\n",
              "      <td>...</td>\n",
              "      <td>...</td>\n",
              "    </tr>\n",
              "    <tr>\n",
              "      <th>79</th>\n",
              "      <td>fui notificado e estou com medo de perder a gu...</td>\n",
              "      <td>medo</td>\n",
              "    </tr>\n",
              "    <tr>\n",
              "      <th>80</th>\n",
              "      <td>estou angustiada com meus filhos na rua</td>\n",
              "      <td>medo</td>\n",
              "    </tr>\n",
              "    <tr>\n",
              "      <th>81</th>\n",
              "      <td>e abominável o que fazem com os animais</td>\n",
              "      <td>medo</td>\n",
              "    </tr>\n",
              "    <tr>\n",
              "      <th>82</th>\n",
              "      <td>foi terrível o tigre quase o matou</td>\n",
              "      <td>medo</td>\n",
              "    </tr>\n",
              "    <tr>\n",
              "      <th>83</th>\n",
              "      <td>me advertiram sobre isso</td>\n",
              "      <td>medo</td>\n",
              "    </tr>\n",
              "  </tbody>\n",
              "</table>\n",
              "<p>84 rows × 2 columns</p>\n",
              "</div>"
            ],
            "text/plain": [
              "                                                texto   emocao\n",
              "0                       não precisei pagar o ingresso  alegria\n",
              "1                         se eu ajeitar tudo fica bem  alegria\n",
              "2                    minha fortuna ultrapassará a sua  alegria\n",
              "3                                sou muito afortunado  alegria\n",
              "4              é benéfico para todos esta nova medida  alegria\n",
              "..                                                ...      ...\n",
              "79  fui notificado e estou com medo de perder a gu...     medo\n",
              "80            estou angustiada com meus filhos na rua     medo\n",
              "81            e abominável o que fazem com os animais     medo\n",
              "82                 foi terrível o tigre quase o matou     medo\n",
              "83                           me advertiram sobre isso     medo\n",
              "\n",
              "[84 rows x 2 columns]"
            ]
          },
          "metadata": {},
          "execution_count": 52
        }
      ]
    },
    {
      "cell_type": "code",
      "metadata": {
        "colab": {
          "base_uri": "https://localhost:8080/"
        },
        "id": "l6lE3kFaogyF",
        "outputId": "c2340546-698f-49c3-c470-a76619080eb9"
      },
      "source": [
        "base_dados_teste['texto'] = base_dados_teste['texto'].apply(preprocessamento)\n",
        "base_dados_teste.head"
      ],
      "execution_count": 53,
      "outputs": [
        {
          "output_type": "execute_result",
          "data": {
            "text/plain": [
              "<bound method NDFrame.head of                                       texto   emocao\n",
              "0                precisar pagar o ingressar  alegria\n",
              "1                             ajeitar ficar  alegria\n",
              "2                fortuna ultrapassar o suar  alegria\n",
              "3                                 afortunar  alegria\n",
              "4                      benéfico parir medir  alegria\n",
              "..                                      ...      ...\n",
              "79  notificar e medo perder o guardar filho     medo\n",
              "80                   angustiar filho o ruir     medo\n",
              "81                  e abominável o o animar     medo\n",
              "82           terrível o tigre quase o matar     medo\n",
              "83                          advertir sobrar     medo\n",
              "\n",
              "[84 rows x 2 columns]>"
            ]
          },
          "metadata": {},
          "execution_count": 53
        }
      ]
    },
    {
      "cell_type": "code",
      "metadata": {
        "id": "cq4ae0iFpD3s"
      },
      "source": [
        "previsoes = []\n",
        "for texto in base_dados_teste['texto']:\n",
        "  previsao = modelo_carregado(texto)\n",
        "  previsoes.append(previsao.cats)"
      ],
      "execution_count": 54,
      "outputs": []
    },
    {
      "cell_type": "code",
      "metadata": {
        "id": "21loeS8lxbVl"
      },
      "source": [
        "previsoes_final = []\n",
        "for previsao in previsoes:\n",
        "  if previsao['ALEGRIA'] > previsao['MEDO']:\n",
        "    previsao_final.append('alegria')\n",
        "  else:\n",
        "    previsoes_final.append('medo')\n",
        "\n",
        "previsoes_final = np.array(previsoes_final)\n"
      ],
      "execution_count": 55,
      "outputs": []
    },
    {
      "cell_type": "code",
      "metadata": {
        "id": "zXP_1pVRycCQ"
      },
      "source": [
        "respostas_reais = base_dados_teste['emocao'].values"
      ],
      "execution_count": 56,
      "outputs": []
    },
    {
      "cell_type": "code",
      "metadata": {
        "colab": {
          "base_uri": "https://localhost:8080/"
        },
        "id": "Cp2-ZFBtynmf",
        "outputId": "ce93c21c-63b5-4101-e04e-c26207f57fb4"
      },
      "source": [
        "accuracy_score(respostas_reais, previsoes_final)"
      ],
      "execution_count": 57,
      "outputs": [
        {
          "output_type": "execute_result",
          "data": {
            "text/plain": [
              "0.42857142857142855"
            ]
          },
          "metadata": {},
          "execution_count": 57
        }
      ]
    },
    {
      "cell_type": "code",
      "metadata": {
        "colab": {
          "base_uri": "https://localhost:8080/"
        },
        "id": "VOvzVjt7y4oJ",
        "outputId": "e3524063-4a9f-47f6-cdaa-71387b278ced"
      },
      "source": [
        "confusion_matrix(respostas_reais, previsoes_final)\n",
        "cm"
      ],
      "execution_count": 58,
      "outputs": [
        {
          "output_type": "execute_result",
          "data": {
            "text/plain": [
              "array([[  0, 113],\n",
              "       [  0,  85]])"
            ]
          },
          "metadata": {},
          "execution_count": 58
        }
      ]
    },
    {
      "cell_type": "markdown",
      "metadata": {
        "id": "G0sqPZD9Y_2O"
      },
      "source": [
        "base de dados do Twitter em português"
      ]
    },
    {
      "cell_type": "markdown",
      "metadata": {
        "id": "ka0ZLA9GhhFM"
      },
      "source": [
        "# base twitter"
      ]
    },
    {
      "cell_type": "code",
      "metadata": {
        "colab": {
          "base_uri": "https://localhost:8080/"
        },
        "id": "JBkgbEGScaNV",
        "outputId": "24b66607-481c-4cd0-a034-5e4d602c5b1d"
      },
      "source": [
        "!pip install spacy==2.2.3"
      ],
      "execution_count": 59,
      "outputs": [
        {
          "output_type": "stream",
          "name": "stdout",
          "text": [
            "Requirement already satisfied: spacy==2.2.3 in /usr/local/lib/python3.7/dist-packages (2.2.3)\n",
            "Requirement already satisfied: catalogue<1.1.0,>=0.0.7 in /usr/local/lib/python3.7/dist-packages (from spacy==2.2.3) (1.0.0)\n",
            "Requirement already satisfied: requests<3.0.0,>=2.13.0 in /usr/local/lib/python3.7/dist-packages (from spacy==2.2.3) (2.23.0)\n",
            "Requirement already satisfied: plac<1.2.0,>=0.9.6 in /usr/local/lib/python3.7/dist-packages (from spacy==2.2.3) (1.1.3)\n",
            "Requirement already satisfied: wasabi<1.1.0,>=0.4.0 in /usr/local/lib/python3.7/dist-packages (from spacy==2.2.3) (0.8.2)\n",
            "Requirement already satisfied: murmurhash<1.1.0,>=0.28.0 in /usr/local/lib/python3.7/dist-packages (from spacy==2.2.3) (1.0.5)\n",
            "Requirement already satisfied: cymem<2.1.0,>=2.0.2 in /usr/local/lib/python3.7/dist-packages (from spacy==2.2.3) (2.0.5)\n",
            "Requirement already satisfied: numpy>=1.15.0 in /usr/local/lib/python3.7/dist-packages (from spacy==2.2.3) (1.19.5)\n",
            "Requirement already satisfied: blis<0.5.0,>=0.4.0 in /usr/local/lib/python3.7/dist-packages (from spacy==2.2.3) (0.4.1)\n",
            "Requirement already satisfied: preshed<3.1.0,>=3.0.2 in /usr/local/lib/python3.7/dist-packages (from spacy==2.2.3) (3.0.5)\n",
            "Requirement already satisfied: thinc<7.4.0,>=7.3.0 in /usr/local/lib/python3.7/dist-packages (from spacy==2.2.3) (7.3.1)\n",
            "Requirement already satisfied: setuptools in /usr/local/lib/python3.7/dist-packages (from spacy==2.2.3) (57.4.0)\n",
            "Requirement already satisfied: srsly<1.1.0,>=0.1.0 in /usr/local/lib/python3.7/dist-packages (from spacy==2.2.3) (1.0.5)\n",
            "Requirement already satisfied: importlib-metadata>=0.20 in /usr/local/lib/python3.7/dist-packages (from catalogue<1.1.0,>=0.0.7->spacy==2.2.3) (4.8.1)\n",
            "Requirement already satisfied: zipp>=0.5 in /usr/local/lib/python3.7/dist-packages (from importlib-metadata>=0.20->catalogue<1.1.0,>=0.0.7->spacy==2.2.3) (3.5.0)\n",
            "Requirement already satisfied: typing-extensions>=3.6.4 in /usr/local/lib/python3.7/dist-packages (from importlib-metadata>=0.20->catalogue<1.1.0,>=0.0.7->spacy==2.2.3) (3.7.4.3)\n",
            "Requirement already satisfied: urllib3!=1.25.0,!=1.25.1,<1.26,>=1.21.1 in /usr/local/lib/python3.7/dist-packages (from requests<3.0.0,>=2.13.0->spacy==2.2.3) (1.24.3)\n",
            "Requirement already satisfied: idna<3,>=2.5 in /usr/local/lib/python3.7/dist-packages (from requests<3.0.0,>=2.13.0->spacy==2.2.3) (2.10)\n",
            "Requirement already satisfied: chardet<4,>=3.0.2 in /usr/local/lib/python3.7/dist-packages (from requests<3.0.0,>=2.13.0->spacy==2.2.3) (3.0.4)\n",
            "Requirement already satisfied: certifi>=2017.4.17 in /usr/local/lib/python3.7/dist-packages (from requests<3.0.0,>=2.13.0->spacy==2.2.3) (2021.5.30)\n",
            "Requirement already satisfied: tqdm<5.0.0,>=4.10.0 in /usr/local/lib/python3.7/dist-packages (from thinc<7.4.0,>=7.3.0->spacy==2.2.3) (4.62.3)\n"
          ]
        }
      ]
    },
    {
      "cell_type": "code",
      "metadata": {
        "colab": {
          "base_uri": "https://localhost:8080/",
          "height": 35
        },
        "id": "fR1Z1YZHcfmr",
        "outputId": "8a01ca69-1d1f-455c-ff58-4abcfc4d4d36"
      },
      "source": [
        "import spacy\n",
        "spacy.__version__"
      ],
      "execution_count": 60,
      "outputs": [
        {
          "output_type": "execute_result",
          "data": {
            "application/vnd.google.colaboratory.intrinsic+json": {
              "type": "string"
            },
            "text/plain": [
              "'2.2.3'"
            ]
          },
          "metadata": {},
          "execution_count": 60
        }
      ]
    },
    {
      "cell_type": "code",
      "metadata": {
        "id": "DK8Jh70oclb6"
      },
      "source": [
        "import pandas as pd\n",
        "import string\n",
        "import spacy\n",
        "import random\n",
        "import seaborn as sns\n",
        "import numpy as np\n",
        "import re"
      ],
      "execution_count": 61,
      "outputs": []
    },
    {
      "cell_type": "code",
      "metadata": {
        "colab": {
          "base_uri": "https://localhost:8080/"
        },
        "id": "Jp8k4xQucxxb",
        "outputId": "38feb05d-ef72-4077-bb3b-6bb089367164"
      },
      "source": [
        "!python3 -m spacy download pt"
      ],
      "execution_count": 62,
      "outputs": [
        {
          "output_type": "stream",
          "name": "stdout",
          "text": [
            "Collecting pt_core_news_sm==2.2.5\n",
            "  Downloading https://github.com/explosion/spacy-models/releases/download/pt_core_news_sm-2.2.5/pt_core_news_sm-2.2.5.tar.gz (21.2 MB)\n",
            "\u001b[K     |████████████████████████████████| 21.2 MB 5.2 MB/s \n",
            "\u001b[?25hRequirement already satisfied: spacy>=2.2.2 in /usr/local/lib/python3.7/dist-packages (from pt_core_news_sm==2.2.5) (2.2.3)\n",
            "Requirement already satisfied: numpy>=1.15.0 in /usr/local/lib/python3.7/dist-packages (from spacy>=2.2.2->pt_core_news_sm==2.2.5) (1.19.5)\n",
            "Requirement already satisfied: setuptools in /usr/local/lib/python3.7/dist-packages (from spacy>=2.2.2->pt_core_news_sm==2.2.5) (57.4.0)\n",
            "Requirement already satisfied: wasabi<1.1.0,>=0.4.0 in /usr/local/lib/python3.7/dist-packages (from spacy>=2.2.2->pt_core_news_sm==2.2.5) (0.8.2)\n",
            "Requirement already satisfied: plac<1.2.0,>=0.9.6 in /usr/local/lib/python3.7/dist-packages (from spacy>=2.2.2->pt_core_news_sm==2.2.5) (1.1.3)\n",
            "Requirement already satisfied: catalogue<1.1.0,>=0.0.7 in /usr/local/lib/python3.7/dist-packages (from spacy>=2.2.2->pt_core_news_sm==2.2.5) (1.0.0)\n",
            "Requirement already satisfied: requests<3.0.0,>=2.13.0 in /usr/local/lib/python3.7/dist-packages (from spacy>=2.2.2->pt_core_news_sm==2.2.5) (2.23.0)\n",
            "Requirement already satisfied: cymem<2.1.0,>=2.0.2 in /usr/local/lib/python3.7/dist-packages (from spacy>=2.2.2->pt_core_news_sm==2.2.5) (2.0.5)\n",
            "Requirement already satisfied: murmurhash<1.1.0,>=0.28.0 in /usr/local/lib/python3.7/dist-packages (from spacy>=2.2.2->pt_core_news_sm==2.2.5) (1.0.5)\n",
            "Requirement already satisfied: blis<0.5.0,>=0.4.0 in /usr/local/lib/python3.7/dist-packages (from spacy>=2.2.2->pt_core_news_sm==2.2.5) (0.4.1)\n",
            "Requirement already satisfied: preshed<3.1.0,>=3.0.2 in /usr/local/lib/python3.7/dist-packages (from spacy>=2.2.2->pt_core_news_sm==2.2.5) (3.0.5)\n",
            "Requirement already satisfied: thinc<7.4.0,>=7.3.0 in /usr/local/lib/python3.7/dist-packages (from spacy>=2.2.2->pt_core_news_sm==2.2.5) (7.3.1)\n",
            "Requirement already satisfied: srsly<1.1.0,>=0.1.0 in /usr/local/lib/python3.7/dist-packages (from spacy>=2.2.2->pt_core_news_sm==2.2.5) (1.0.5)\n",
            "Requirement already satisfied: importlib-metadata>=0.20 in /usr/local/lib/python3.7/dist-packages (from catalogue<1.1.0,>=0.0.7->spacy>=2.2.2->pt_core_news_sm==2.2.5) (4.8.1)\n",
            "Requirement already satisfied: typing-extensions>=3.6.4 in /usr/local/lib/python3.7/dist-packages (from importlib-metadata>=0.20->catalogue<1.1.0,>=0.0.7->spacy>=2.2.2->pt_core_news_sm==2.2.5) (3.7.4.3)\n",
            "Requirement already satisfied: zipp>=0.5 in /usr/local/lib/python3.7/dist-packages (from importlib-metadata>=0.20->catalogue<1.1.0,>=0.0.7->spacy>=2.2.2->pt_core_news_sm==2.2.5) (3.5.0)\n",
            "Requirement already satisfied: chardet<4,>=3.0.2 in /usr/local/lib/python3.7/dist-packages (from requests<3.0.0,>=2.13.0->spacy>=2.2.2->pt_core_news_sm==2.2.5) (3.0.4)\n",
            "Requirement already satisfied: idna<3,>=2.5 in /usr/local/lib/python3.7/dist-packages (from requests<3.0.0,>=2.13.0->spacy>=2.2.2->pt_core_news_sm==2.2.5) (2.10)\n",
            "Requirement already satisfied: certifi>=2017.4.17 in /usr/local/lib/python3.7/dist-packages (from requests<3.0.0,>=2.13.0->spacy>=2.2.2->pt_core_news_sm==2.2.5) (2021.5.30)\n",
            "Requirement already satisfied: urllib3!=1.25.0,!=1.25.1,<1.26,>=1.21.1 in /usr/local/lib/python3.7/dist-packages (from requests<3.0.0,>=2.13.0->spacy>=2.2.2->pt_core_news_sm==2.2.5) (1.24.3)\n",
            "Requirement already satisfied: tqdm<5.0.0,>=4.10.0 in /usr/local/lib/python3.7/dist-packages (from thinc<7.4.0,>=7.3.0->spacy>=2.2.2->pt_core_news_sm==2.2.5) (4.62.3)\n",
            "\u001b[38;5;2m✔ Download and installation successful\u001b[0m\n",
            "You can now load the model via spacy.load('pt_core_news_sm')\n",
            "\u001b[38;5;2m✔ Linking successful\u001b[0m\n",
            "/usr/local/lib/python3.7/dist-packages/pt_core_news_sm -->\n",
            "/usr/local/lib/python3.7/dist-packages/spacy/data/pt\n",
            "You can now load the model via spacy.load('pt')\n"
          ]
        }
      ]
    },
    {
      "cell_type": "code",
      "metadata": {
        "colab": {
          "base_uri": "https://localhost:8080/"
        },
        "id": "3I0MryBsdDfe",
        "outputId": "194925c4-2482-45eb-83da-6522fb5143f9"
      },
      "source": [
        "import nltk\n",
        "nltk.download('rslp')"
      ],
      "execution_count": 63,
      "outputs": [
        {
          "output_type": "stream",
          "name": "stdout",
          "text": [
            "[nltk_data] Downloading package rslp to /root/nltk_data...\n",
            "[nltk_data]   Unzipping stemmers/rslp.zip.\n"
          ]
        },
        {
          "output_type": "execute_result",
          "data": {
            "text/plain": [
              "True"
            ]
          },
          "metadata": {},
          "execution_count": 63
        }
      ]
    },
    {
      "cell_type": "code",
      "metadata": {
        "id": "8LDXoBuxZ6ki"
      },
      "source": [
        "base_treinamento = pd.read_csv('/content/drive/MyDrive/machine learn/Train50.csv', delimiter=';')"
      ],
      "execution_count": 64,
      "outputs": []
    },
    {
      "cell_type": "code",
      "metadata": {
        "colab": {
          "base_uri": "https://localhost:8080/",
          "height": 528
        },
        "id": "o7FTI4Ixbakp",
        "outputId": "0daf0bf2-5607-4f47-b621-7e0a001195ab"
      },
      "source": [
        "base_treinamento"
      ],
      "execution_count": 65,
      "outputs": [
        {
          "output_type": "execute_result",
          "data": {
            "text/html": [
              "<div>\n",
              "<style scoped>\n",
              "    .dataframe tbody tr th:only-of-type {\n",
              "        vertical-align: middle;\n",
              "    }\n",
              "\n",
              "    .dataframe tbody tr th {\n",
              "        vertical-align: top;\n",
              "    }\n",
              "\n",
              "    .dataframe thead th {\n",
              "        text-align: right;\n",
              "    }\n",
              "</style>\n",
              "<table border=\"1\" class=\"dataframe\">\n",
              "  <thead>\n",
              "    <tr style=\"text-align: right;\">\n",
              "      <th></th>\n",
              "      <th>id</th>\n",
              "      <th>tweet_text</th>\n",
              "      <th>tweet_date</th>\n",
              "      <th>sentiment</th>\n",
              "      <th>query_used</th>\n",
              "    </tr>\n",
              "  </thead>\n",
              "  <tbody>\n",
              "    <tr>\n",
              "      <th>0</th>\n",
              "      <td>1050785521201541121</td>\n",
              "      <td>@Laranjito76 A pessoa certa para isso seria o ...</td>\n",
              "      <td>Fri Oct 12 16:29:25 +0000 2018</td>\n",
              "      <td>1</td>\n",
              "      <td>:)</td>\n",
              "    </tr>\n",
              "    <tr>\n",
              "      <th>1</th>\n",
              "      <td>1050785431955140608</td>\n",
              "      <td>@behin_d_curtain Para mim, é precisamente o co...</td>\n",
              "      <td>Fri Oct 12 16:29:04 +0000 2018</td>\n",
              "      <td>1</td>\n",
              "      <td>:)</td>\n",
              "    </tr>\n",
              "    <tr>\n",
              "      <th>2</th>\n",
              "      <td>1050785401248645120</td>\n",
              "      <td>Vou fazer um video hoje... estou pensando em f...</td>\n",
              "      <td>Fri Oct 12 16:28:56 +0000 2018</td>\n",
              "      <td>1</td>\n",
              "      <td>:)</td>\n",
              "    </tr>\n",
              "    <tr>\n",
              "      <th>3</th>\n",
              "      <td>1050785370982547461</td>\n",
              "      <td>aaaaaaaa amei tanto essas polaroids, nem sei e...</td>\n",
              "      <td>Fri Oct 12 16:28:49 +0000 2018</td>\n",
              "      <td>1</td>\n",
              "      <td>:)</td>\n",
              "    </tr>\n",
              "    <tr>\n",
              "      <th>4</th>\n",
              "      <td>1050785368902131713</td>\n",
              "      <td>Valoriza o coração do menininho que vc tem. El...</td>\n",
              "      <td>Fri Oct 12 16:28:49 +0000 2018</td>\n",
              "      <td>1</td>\n",
              "      <td>:)</td>\n",
              "    </tr>\n",
              "    <tr>\n",
              "      <th>...</th>\n",
              "      <td>...</td>\n",
              "      <td>...</td>\n",
              "      <td>...</td>\n",
              "      <td>...</td>\n",
              "      <td>...</td>\n",
              "    </tr>\n",
              "    <tr>\n",
              "      <th>49995</th>\n",
              "      <td>1046762827053232128</td>\n",
              "      <td>:( é tão lindo que dói https://t.co/GqnpgyWWxB</td>\n",
              "      <td>Mon Oct 01 14:04:40 +0000 2018</td>\n",
              "      <td>0</td>\n",
              "      <td>:(</td>\n",
              "    </tr>\n",
              "    <tr>\n",
              "      <th>49996</th>\n",
              "      <td>1046762813362966529</td>\n",
              "      <td>@veraluciarj Pois é.. tenho problema c/ \"coisa...</td>\n",
              "      <td>Mon Oct 01 14:04:37 +0000 2018</td>\n",
              "      <td>0</td>\n",
              "      <td>:(</td>\n",
              "    </tr>\n",
              "    <tr>\n",
              "      <th>49997</th>\n",
              "      <td>1046762806392082432</td>\n",
              "      <td>eu te amo tanto minja vidinha meu bem mais pre...</td>\n",
              "      <td>Mon Oct 01 14:04:35 +0000 2018</td>\n",
              "      <td>0</td>\n",
              "      <td>:(</td>\n",
              "    </tr>\n",
              "    <tr>\n",
              "      <th>49998</th>\n",
              "      <td>1046762752071618560</td>\n",
              "      <td>@itsLary @jessboluda Pfvor :(</td>\n",
              "      <td>Mon Oct 01 14:04:22 +0000 2018</td>\n",
              "      <td>0</td>\n",
              "      <td>:(</td>\n",
              "    </tr>\n",
              "    <tr>\n",
              "      <th>49999</th>\n",
              "      <td>1046762735340584962</td>\n",
              "      <td>@Renk_lol Passa ano Entra ano Eu nao desisto d...</td>\n",
              "      <td>Mon Oct 01 14:04:18 +0000 2018</td>\n",
              "      <td>0</td>\n",
              "      <td>:(</td>\n",
              "    </tr>\n",
              "  </tbody>\n",
              "</table>\n",
              "<p>50000 rows × 5 columns</p>\n",
              "</div>"
            ],
            "text/plain": [
              "                        id  ... query_used\n",
              "0      1050785521201541121  ...         :)\n",
              "1      1050785431955140608  ...         :)\n",
              "2      1050785401248645120  ...         :)\n",
              "3      1050785370982547461  ...         :)\n",
              "4      1050785368902131713  ...         :)\n",
              "...                    ...  ...        ...\n",
              "49995  1046762827053232128  ...         :(\n",
              "49996  1046762813362966529  ...         :(\n",
              "49997  1046762806392082432  ...         :(\n",
              "49998  1046762752071618560  ...         :(\n",
              "49999  1046762735340584962  ...         :(\n",
              "\n",
              "[50000 rows x 5 columns]"
            ]
          },
          "metadata": {},
          "execution_count": 65
        }
      ]
    },
    {
      "cell_type": "code",
      "metadata": {
        "colab": {
          "base_uri": "https://localhost:8080/"
        },
        "id": "8p-FyeClb3ZJ",
        "outputId": "9d5e27dd-3b85-4435-ec0b-fc62502ab34c"
      },
      "source": [
        "len(base_treinamento)"
      ],
      "execution_count": 66,
      "outputs": [
        {
          "output_type": "execute_result",
          "data": {
            "text/plain": [
              "50000"
            ]
          },
          "metadata": {},
          "execution_count": 66
        }
      ]
    },
    {
      "cell_type": "code",
      "metadata": {
        "colab": {
          "base_uri": "https://localhost:8080/",
          "height": 351
        },
        "id": "xlSJiKRhd_gR",
        "outputId": "5d7cd86c-cea7-487c-8b6f-e30ff842a6c4"
      },
      "source": [
        "sns.countplot(base_treinamento['sentiment'], label = 'Contagem')"
      ],
      "execution_count": 67,
      "outputs": [
        {
          "output_type": "stream",
          "name": "stderr",
          "text": [
            "/usr/local/lib/python3.7/dist-packages/seaborn/_decorators.py:43: FutureWarning: Pass the following variable as a keyword arg: x. From version 0.12, the only valid positional argument will be `data`, and passing other arguments without an explicit keyword will result in an error or misinterpretation.\n",
            "  FutureWarning\n"
          ]
        },
        {
          "output_type": "execute_result",
          "data": {
            "text/plain": [
              "<matplotlib.axes._subplots.AxesSubplot at 0x7f3890b6bed0>"
            ]
          },
          "metadata": {},
          "execution_count": 67
        },
        {
          "output_type": "display_data",
          "data": {
            "image/png": "[encoded data removed]",
            "text/plain": [
              "<Figure size 432x288 with 1 Axes>"
            ]
          },
          "metadata": {
            "needs_background": "light"
          }
        }
      ]
    },
    {
      "cell_type": "code",
      "metadata": {
        "id": "iD-RxeDyhtox"
      },
      "source": [
        "base_treinamento.drop(['id', 'tweet_date', 'query_used'], axis = 1, inplace=True)"
      ],
      "execution_count": 68,
      "outputs": []
    },
    {
      "cell_type": "code",
      "metadata": {
        "colab": {
          "base_uri": "https://localhost:8080/",
          "height": 206
        },
        "id": "TjvbIqVSid1H",
        "outputId": "cf2770d5-e632-46d6-d514-2f704a088a76"
      },
      "source": [
        "base_treinamento.head()"
      ],
      "execution_count": 69,
      "outputs": [
        {
          "output_type": "execute_result",
          "data": {
            "text/html": [
              "<div>\n",
              "<style scoped>\n",
              "    .dataframe tbody tr th:only-of-type {\n",
              "        vertical-align: middle;\n",
              "    }\n",
              "\n",
              "    .dataframe tbody tr th {\n",
              "        vertical-align: top;\n",
              "    }\n",
              "\n",
              "    .dataframe thead th {\n",
              "        text-align: right;\n",
              "    }\n",
              "</style>\n",
              "<table border=\"1\" class=\"dataframe\">\n",
              "  <thead>\n",
              "    <tr style=\"text-align: right;\">\n",
              "      <th></th>\n",
              "      <th>tweet_text</th>\n",
              "      <th>sentiment</th>\n",
              "    </tr>\n",
              "  </thead>\n",
              "  <tbody>\n",
              "    <tr>\n",
              "      <th>0</th>\n",
              "      <td>@Laranjito76 A pessoa certa para isso seria o ...</td>\n",
              "      <td>1</td>\n",
              "    </tr>\n",
              "    <tr>\n",
              "      <th>1</th>\n",
              "      <td>@behin_d_curtain Para mim, é precisamente o co...</td>\n",
              "      <td>1</td>\n",
              "    </tr>\n",
              "    <tr>\n",
              "      <th>2</th>\n",
              "      <td>Vou fazer um video hoje... estou pensando em f...</td>\n",
              "      <td>1</td>\n",
              "    </tr>\n",
              "    <tr>\n",
              "      <th>3</th>\n",
              "      <td>aaaaaaaa amei tanto essas polaroids, nem sei e...</td>\n",
              "      <td>1</td>\n",
              "    </tr>\n",
              "    <tr>\n",
              "      <th>4</th>\n",
              "      <td>Valoriza o coração do menininho que vc tem. El...</td>\n",
              "      <td>1</td>\n",
              "    </tr>\n",
              "  </tbody>\n",
              "</table>\n",
              "</div>"
            ],
            "text/plain": [
              "                                          tweet_text  sentiment\n",
              "0  @Laranjito76 A pessoa certa para isso seria o ...          1\n",
              "1  @behin_d_curtain Para mim, é precisamente o co...          1\n",
              "2  Vou fazer um video hoje... estou pensando em f...          1\n",
              "3  aaaaaaaa amei tanto essas polaroids, nem sei e...          1\n",
              "4  Valoriza o coração do menininho que vc tem. El...          1"
            ]
          },
          "metadata": {},
          "execution_count": 69
        }
      ]
    },
    {
      "cell_type": "code",
      "metadata": {
        "colab": {
          "base_uri": "https://localhost:8080/",
          "height": 271
        },
        "id": "1mbVnUc_iw46",
        "outputId": "b8e42029-aa64-4fd4-d8f6-a74b7bfe83c7"
      },
      "source": [
        "sns.heatmap(pd.isnull(base_treinamento));"
      ],
      "execution_count": 70,
      "outputs": [
        {
          "output_type": "display_data",
          "data": {
            "image/png": "[encoded data removed]",
            "text/plain": [
              "<Figure size 432x288 with 2 Axes>"
            ]
          },
          "metadata": {
            "needs_background": "light"
          }
        }
      ]
    },
    {
      "cell_type": "code",
      "metadata": {
        "id": "ew2GNNPci8vh"
      },
      "source": [
        "base_teste = pd.read_csv('/content/drive/MyDrive/machine learn/Test.csv', delimiter= ';')"
      ],
      "execution_count": 71,
      "outputs": []
    },
    {
      "cell_type": "code",
      "metadata": {
        "colab": {
          "base_uri": "https://localhost:8080/",
          "height": 293
        },
        "id": "DYLLp1K8jLng",
        "outputId": "fde56a3d-1367-42f4-d43f-4c0f0b5d6ca4"
      },
      "source": [
        "base_teste.head()"
      ],
      "execution_count": 72,
      "outputs": [
        {
          "output_type": "execute_result",
          "data": {
            "text/html": [
              "<div>\n",
              "<style scoped>\n",
              "    .dataframe tbody tr th:only-of-type {\n",
              "        vertical-align: middle;\n",
              "    }\n",
              "\n",
              "    .dataframe tbody tr th {\n",
              "        vertical-align: top;\n",
              "    }\n",
              "\n",
              "    .dataframe thead th {\n",
              "        text-align: right;\n",
              "    }\n",
              "</style>\n",
              "<table border=\"1\" class=\"dataframe\">\n",
              "  <thead>\n",
              "    <tr style=\"text-align: right;\">\n",
              "      <th></th>\n",
              "      <th>id</th>\n",
              "      <th>tweet_text</th>\n",
              "      <th>tweet_date</th>\n",
              "      <th>sentiment</th>\n",
              "      <th>query_used</th>\n",
              "    </tr>\n",
              "  </thead>\n",
              "  <tbody>\n",
              "    <tr>\n",
              "      <th>0</th>\n",
              "      <td>1029536486021099522</td>\n",
              "      <td>@Gazo1a Nossa! Muito obrigada :)</td>\n",
              "      <td>Wed Aug 15 01:13:20 +0000 2018</td>\n",
              "      <td>1</td>\n",
              "      <td>:)</td>\n",
              "    </tr>\n",
              "    <tr>\n",
              "      <th>1</th>\n",
              "      <td>1029536496368406528</td>\n",
              "      <td>@BerzGamer vai pa puta que te pariu :)</td>\n",
              "      <td>Wed Aug 15 01:13:23 +0000 2018</td>\n",
              "      <td>1</td>\n",
              "      <td>:)</td>\n",
              "    </tr>\n",
              "    <tr>\n",
              "      <th>2</th>\n",
              "      <td>1029536531655131137</td>\n",
              "      <td>QUER MAIS DESCONTOS? (14/08) ⭐⭐⭐⭐⭐ 🌐 Confira n...</td>\n",
              "      <td>Wed Aug 15 01:13:31 +0000 2018</td>\n",
              "      <td>1</td>\n",
              "      <td>:)</td>\n",
              "    </tr>\n",
              "    <tr>\n",
              "      <th>3</th>\n",
              "      <td>1029536560117678081</td>\n",
              "      <td>EU VOU PEGAR VCS, ME AJUDEM GALERA, PELO AMOR ...</td>\n",
              "      <td>Wed Aug 15 01:13:38 +0000 2018</td>\n",
              "      <td>1</td>\n",
              "      <td>:)</td>\n",
              "    </tr>\n",
              "    <tr>\n",
              "      <th>4</th>\n",
              "      <td>1029536605852377088</td>\n",
              "      <td>Estávamos em casa do Zé e eu estava a morrer d...</td>\n",
              "      <td>Wed Aug 15 01:13:49 +0000 2018</td>\n",
              "      <td>1</td>\n",
              "      <td>:)</td>\n",
              "    </tr>\n",
              "  </tbody>\n",
              "</table>\n",
              "</div>"
            ],
            "text/plain": [
              "                    id  ... query_used\n",
              "0  1029536486021099522  ...         :)\n",
              "1  1029536496368406528  ...         :)\n",
              "2  1029536531655131137  ...         :)\n",
              "3  1029536560117678081  ...         :)\n",
              "4  1029536605852377088  ...         :)\n",
              "\n",
              "[5 rows x 5 columns]"
            ]
          },
          "metadata": {},
          "execution_count": 72
        }
      ]
    },
    {
      "cell_type": "code",
      "metadata": {
        "id": "76tyY7M7jOsb"
      },
      "source": [
        "base_teste.drop(['id', 'tweet_date', 'query_used'], axis = 1, inplace=True)"
      ],
      "execution_count": 73,
      "outputs": []
    },
    {
      "cell_type": "code",
      "metadata": {
        "colab": {
          "base_uri": "https://localhost:8080/",
          "height": 206
        },
        "id": "j6_82kOGjpri",
        "outputId": "775541b4-7657-4e3d-a1fd-797ce7883a54"
      },
      "source": [
        "base_teste.head()"
      ],
      "execution_count": 74,
      "outputs": [
        {
          "output_type": "execute_result",
          "data": {
            "text/html": [
              "<div>\n",
              "<style scoped>\n",
              "    .dataframe tbody tr th:only-of-type {\n",
              "        vertical-align: middle;\n",
              "    }\n",
              "\n",
              "    .dataframe tbody tr th {\n",
              "        vertical-align: top;\n",
              "    }\n",
              "\n",
              "    .dataframe thead th {\n",
              "        text-align: right;\n",
              "    }\n",
              "</style>\n",
              "<table border=\"1\" class=\"dataframe\">\n",
              "  <thead>\n",
              "    <tr style=\"text-align: right;\">\n",
              "      <th></th>\n",
              "      <th>tweet_text</th>\n",
              "      <th>sentiment</th>\n",
              "    </tr>\n",
              "  </thead>\n",
              "  <tbody>\n",
              "    <tr>\n",
              "      <th>0</th>\n",
              "      <td>@Gazo1a Nossa! Muito obrigada :)</td>\n",
              "      <td>1</td>\n",
              "    </tr>\n",
              "    <tr>\n",
              "      <th>1</th>\n",
              "      <td>@BerzGamer vai pa puta que te pariu :)</td>\n",
              "      <td>1</td>\n",
              "    </tr>\n",
              "    <tr>\n",
              "      <th>2</th>\n",
              "      <td>QUER MAIS DESCONTOS? (14/08) ⭐⭐⭐⭐⭐ 🌐 Confira n...</td>\n",
              "      <td>1</td>\n",
              "    </tr>\n",
              "    <tr>\n",
              "      <th>3</th>\n",
              "      <td>EU VOU PEGAR VCS, ME AJUDEM GALERA, PELO AMOR ...</td>\n",
              "      <td>1</td>\n",
              "    </tr>\n",
              "    <tr>\n",
              "      <th>4</th>\n",
              "      <td>Estávamos em casa do Zé e eu estava a morrer d...</td>\n",
              "      <td>1</td>\n",
              "    </tr>\n",
              "  </tbody>\n",
              "</table>\n",
              "</div>"
            ],
            "text/plain": [
              "                                          tweet_text  sentiment\n",
              "0                   @Gazo1a Nossa! Muito obrigada :)          1\n",
              "1             @BerzGamer vai pa puta que te pariu :)          1\n",
              "2  QUER MAIS DESCONTOS? (14/08) ⭐⭐⭐⭐⭐ 🌐 Confira n...          1\n",
              "3  EU VOU PEGAR VCS, ME AJUDEM GALERA, PELO AMOR ...          1\n",
              "4  Estávamos em casa do Zé e eu estava a morrer d...          1"
            ]
          },
          "metadata": {},
          "execution_count": 74
        }
      ]
    },
    {
      "cell_type": "code",
      "metadata": {
        "colab": {
          "base_uri": "https://localhost:8080/",
          "height": 271
        },
        "id": "zYvvjjgsjtv1",
        "outputId": "85f1b63d-ca32-49f2-de75-db588e354830"
      },
      "source": [
        "sns.heatmap(pd.isnull(base_teste));"
      ],
      "execution_count": 75,
      "outputs": [
        {
          "output_type": "display_data",
          "data": {
            "image/png": "[encoded data removed]",
            "text/plain": [
              "<Figure size 432x288 with 2 Axes>"
            ]
          },
          "metadata": {
            "needs_background": "light"
          }
        }
      ]
    },
    {
      "cell_type": "code",
      "metadata": {
        "colab": {
          "base_uri": "https://localhost:8080/"
        },
        "id": "OmqfrKq_kHhQ",
        "outputId": "07513a66-eda7-4620-fa5c-897bafc535b8"
      },
      "source": [
        "pln = spacy.load('pt')\n",
        "pln"
      ],
      "execution_count": 76,
      "outputs": [
        {
          "output_type": "execute_result",
          "data": {
            "text/plain": [
              "<spacy.lang.pt.Portuguese at 0x7f3890c37b90>"
            ]
          },
          "metadata": {},
          "execution_count": 76
        }
      ]
    },
    {
      "cell_type": "code",
      "metadata": {
        "id": "1LRTNbyekPhV"
      },
      "source": [
        "stop_words = spacy.lang.pt.stop_words.STOP_WORDS"
      ],
      "execution_count": 77,
      "outputs": []
    },
    {
      "cell_type": "code",
      "metadata": {
        "id": "MwNeMZnXkhmB"
      },
      "source": [
        "def preprocessamento(texto):\n",
        "  # Letras minúsculas\n",
        "  texto = texto.lower()\n",
        "\n",
        "  # Nome do usuário\n",
        "  texto = re.sub(r\"@[A-Za-z0-9$-_@.&+]+\", ' ', texto)\n",
        "\n",
        "  # URLs\n",
        "  texto = re.sub(r\"https?://[A-Za-z0-9./]+\", ' ', texto)\n",
        "\n",
        "  # Espaços em branco\n",
        "  texto = re.sub(r\" +\", ' ', texto)\n",
        "\n",
        "  # Emoticons\n",
        "  lista_emocoes = {':)': 'emocaopositiva',\n",
        "                   ':d': 'emocaopositiva',\n",
        "                   ':(': 'emocaonegativa'}\n",
        "  for emocao in lista_emocoes:\n",
        "    texto = texto.replace(emocao, lista_emocoes[emocao])\n",
        "\n",
        "  # Lematização\n",
        "  documento = pln(texto)\n",
        "\n",
        "  lista = []\n",
        "  for token in documento:\n",
        "    lista.append(token.lemma_)\n",
        "  \n",
        "  # Stop words e pontuações\n",
        "  lista = [palavra for palavra in lista if palavra not in stop_words and palavra not in string.punctuation]\n",
        "  lista = ' '.join([str(elemento) for elemento in lista if not elemento.isdigit()])\n",
        "  \n",
        "  return lista"
      ],
      "execution_count": 78,
      "outputs": []
    },
    {
      "cell_type": "code",
      "metadata": {
        "colab": {
          "base_uri": "https://localhost:8080/",
          "height": 990
        },
        "id": "C4isbArZp2Oo",
        "outputId": "2c0e2eb7-eefa-4028-9e78-c2f64bf1547e"
      },
      "source": [
        "base_treinamento.head(30)"
      ],
      "execution_count": 79,
      "outputs": [
        {
          "output_type": "execute_result",
          "data": {
            "text/html": [
              "<div>\n",
              "<style scoped>\n",
              "    .dataframe tbody tr th:only-of-type {\n",
              "        vertical-align: middle;\n",
              "    }\n",
              "\n",
              "    .dataframe tbody tr th {\n",
              "        vertical-align: top;\n",
              "    }\n",
              "\n",
              "    .dataframe thead th {\n",
              "        text-align: right;\n",
              "    }\n",
              "</style>\n",
              "<table border=\"1\" class=\"dataframe\">\n",
              "  <thead>\n",
              "    <tr style=\"text-align: right;\">\n",
              "      <th></th>\n",
              "      <th>tweet_text</th>\n",
              "      <th>sentiment</th>\n",
              "    </tr>\n",
              "  </thead>\n",
              "  <tbody>\n",
              "    <tr>\n",
              "      <th>0</th>\n",
              "      <td>@Laranjito76 A pessoa certa para isso seria o ...</td>\n",
              "      <td>1</td>\n",
              "    </tr>\n",
              "    <tr>\n",
              "      <th>1</th>\n",
              "      <td>@behin_d_curtain Para mim, é precisamente o co...</td>\n",
              "      <td>1</td>\n",
              "    </tr>\n",
              "    <tr>\n",
              "      <th>2</th>\n",
              "      <td>Vou fazer um video hoje... estou pensando em f...</td>\n",
              "      <td>1</td>\n",
              "    </tr>\n",
              "    <tr>\n",
              "      <th>3</th>\n",
              "      <td>aaaaaaaa amei tanto essas polaroids, nem sei e...</td>\n",
              "      <td>1</td>\n",
              "    </tr>\n",
              "    <tr>\n",
              "      <th>4</th>\n",
              "      <td>Valoriza o coração do menininho que vc tem. El...</td>\n",
              "      <td>1</td>\n",
              "    </tr>\n",
              "    <tr>\n",
              "      <th>5</th>\n",
              "      <td>@KingJokerLeto mas amiga eu to aqui ainda :)</td>\n",
              "      <td>1</td>\n",
              "    </tr>\n",
              "    <tr>\n",
              "      <th>6</th>\n",
              "      <td>@RivasJairo Bravo, Jairo!!! :)))</td>\n",
              "      <td>1</td>\n",
              "    </tr>\n",
              "    <tr>\n",
              "      <th>7</th>\n",
              "      <td>@inquilinasls @Spotify socorro ksoaksosks acho...</td>\n",
              "      <td>1</td>\n",
              "    </tr>\n",
              "    <tr>\n",
              "      <th>8</th>\n",
              "      <td>@chimekarlla gosto muito de fazenda :) , mas m...</td>\n",
              "      <td>1</td>\n",
              "    </tr>\n",
              "    <tr>\n",
              "      <th>9</th>\n",
              "      <td>Amanha vou ver venom :D</td>\n",
              "      <td>1</td>\n",
              "    </tr>\n",
              "    <tr>\n",
              "      <th>10</th>\n",
              "      <td>Porque simplesmente as coisas que me deixam ch...</td>\n",
              "      <td>1</td>\n",
              "    </tr>\n",
              "    <tr>\n",
              "      <th>11</th>\n",
              "      <td>A partir de segunda começa uma nova rotina, e ...</td>\n",
              "      <td>1</td>\n",
              "    </tr>\n",
              "    <tr>\n",
              "      <th>12</th>\n",
              "      <td>Meu amigo parece estar apaixonado por vc — é r...</td>\n",
              "      <td>1</td>\n",
              "    </tr>\n",
              "    <tr>\n",
              "      <th>13</th>\n",
              "      <td>@Goncla_Silva és um gajo bacano, vê lá se não ...</td>\n",
              "      <td>1</td>\n",
              "    </tr>\n",
              "    <tr>\n",
              "      <th>14</th>\n",
              "      <td>tou a ver videos de cabrinhas bebés :D</td>\n",
              "      <td>1</td>\n",
              "    </tr>\n",
              "    <tr>\n",
              "      <th>15</th>\n",
              "      <td>@Danniel_Sampa Vou verificar já o que está oco...</td>\n",
              "      <td>1</td>\n",
              "    </tr>\n",
              "    <tr>\n",
              "      <th>16</th>\n",
              "      <td>@gabriolaz Quando for me chama? :)</td>\n",
              "      <td>1</td>\n",
              "    </tr>\n",
              "    <tr>\n",
              "      <th>17</th>\n",
              "      <td>@bronza Se fosse só nariz... É olho, é ouvido....</td>\n",
              "      <td>1</td>\n",
              "    </tr>\n",
              "    <tr>\n",
              "      <th>18</th>\n",
              "      <td>@SandwormPT O primeiro capítulo já está escrit...</td>\n",
              "      <td>1</td>\n",
              "    </tr>\n",
              "    <tr>\n",
              "      <th>19</th>\n",
              "      <td>feliz dia :p https://t.co/uCgjbaGmfi</td>\n",
              "      <td>1</td>\n",
              "    </tr>\n",
              "    <tr>\n",
              "      <th>20</th>\n",
              "      <td>@anadantassa_ Feliz dia das crianças :)</td>\n",
              "      <td>1</td>\n",
              "    </tr>\n",
              "    <tr>\n",
              "      <th>21</th>\n",
              "      <td>@tassiddm já tô calminha já :)</td>\n",
              "      <td>1</td>\n",
              "    </tr>\n",
              "    <tr>\n",
              "      <th>22</th>\n",
              "      <td>@_pat3icia_ @FOX_PT Sem problema. Eu como vi m...</td>\n",
              "      <td>1</td>\n",
              "    </tr>\n",
              "    <tr>\n",
              "      <th>23</th>\n",
              "      <td>sou muito fotogênico :D https://t.co/0lSwaZGQvj</td>\n",
              "      <td>1</td>\n",
              "    </tr>\n",
              "    <tr>\n",
              "      <th>24</th>\n",
              "      <td>@RaiamMaia passei no concurso pra monlevade, s...</td>\n",
              "      <td>1</td>\n",
              "    </tr>\n",
              "    <tr>\n",
              "      <th>25</th>\n",
              "      <td>Sexta linda :) https://t.co/wWKZZMKvaj</td>\n",
              "      <td>1</td>\n",
              "    </tr>\n",
              "    <tr>\n",
              "      <th>26</th>\n",
              "      <td>Feliz dia das crianças :) Eu e Lula, amigos de...</td>\n",
              "      <td>1</td>\n",
              "    </tr>\n",
              "    <tr>\n",
              "      <th>27</th>\n",
              "      <td>@LucioMarinell Google it :). Não sofra com rec...</td>\n",
              "      <td>1</td>\n",
              "    </tr>\n",
              "    <tr>\n",
              "      <th>28</th>\n",
              "      <td>Quero agradecer aos novos seguidores. Eu ainda...</td>\n",
              "      <td>1</td>\n",
              "    </tr>\n",
              "    <tr>\n",
              "      <th>29</th>\n",
              "      <td>Já estou na #BGS2018 :)</td>\n",
              "      <td>1</td>\n",
              "    </tr>\n",
              "  </tbody>\n",
              "</table>\n",
              "</div>"
            ],
            "text/plain": [
              "                                           tweet_text  sentiment\n",
              "0   @Laranjito76 A pessoa certa para isso seria o ...          1\n",
              "1   @behin_d_curtain Para mim, é precisamente o co...          1\n",
              "2   Vou fazer um video hoje... estou pensando em f...          1\n",
              "3   aaaaaaaa amei tanto essas polaroids, nem sei e...          1\n",
              "4   Valoriza o coração do menininho que vc tem. El...          1\n",
              "5        @KingJokerLeto mas amiga eu to aqui ainda :)          1\n",
              "6                    @RivasJairo Bravo, Jairo!!! :)))          1\n",
              "7   @inquilinasls @Spotify socorro ksoaksosks acho...          1\n",
              "8   @chimekarlla gosto muito de fazenda :) , mas m...          1\n",
              "9                             Amanha vou ver venom :D          1\n",
              "10  Porque simplesmente as coisas que me deixam ch...          1\n",
              "11  A partir de segunda começa uma nova rotina, e ...          1\n",
              "12  Meu amigo parece estar apaixonado por vc — é r...          1\n",
              "13  @Goncla_Silva és um gajo bacano, vê lá se não ...          1\n",
              "14             tou a ver videos de cabrinhas bebés :D          1\n",
              "15  @Danniel_Sampa Vou verificar já o que está oco...          1\n",
              "16                 @gabriolaz Quando for me chama? :)          1\n",
              "17  @bronza Se fosse só nariz... É olho, é ouvido....          1\n",
              "18  @SandwormPT O primeiro capítulo já está escrit...          1\n",
              "19               feliz dia :p https://t.co/uCgjbaGmfi          1\n",
              "20            @anadantassa_ Feliz dia das crianças :)          1\n",
              "21                     @tassiddm já tô calminha já :)          1\n",
              "22  @_pat3icia_ @FOX_PT Sem problema. Eu como vi m...          1\n",
              "23    sou muito fotogênico :D https://t.co/0lSwaZGQvj          1\n",
              "24  @RaiamMaia passei no concurso pra monlevade, s...          1\n",
              "25             Sexta linda :) https://t.co/wWKZZMKvaj          1\n",
              "26  Feliz dia das crianças :) Eu e Lula, amigos de...          1\n",
              "27  @LucioMarinell Google it :). Não sofra com rec...          1\n",
              "28  Quero agradecer aos novos seguidores. Eu ainda...          1\n",
              "29                            Já estou na #BGS2018 :)          1"
            ]
          },
          "metadata": {},
          "execution_count": 79
        }
      ]
    },
    {
      "cell_type": "code",
      "metadata": {
        "id": "F_IEUlPCqhPU"
      },
      "source": [
        "base_treinamento['tweet_text'] = base_treinamento['tweet_text'].apply(preprocessamento)"
      ],
      "execution_count": 80,
      "outputs": []
    },
    {
      "cell_type": "code",
      "metadata": {
        "colab": {
          "base_uri": "https://localhost:8080/",
          "height": 206
        },
        "id": "0rN3QHhqA6MU",
        "outputId": "3a1856b9-9d26-4a8b-8e68-a1e4d0865d3c"
      },
      "source": [
        "base_treinamento.head()"
      ],
      "execution_count": 81,
      "outputs": [
        {
          "output_type": "execute_result",
          "data": {
            "text/html": [
              "<div>\n",
              "<style scoped>\n",
              "    .dataframe tbody tr th:only-of-type {\n",
              "        vertical-align: middle;\n",
              "    }\n",
              "\n",
              "    .dataframe tbody tr th {\n",
              "        vertical-align: top;\n",
              "    }\n",
              "\n",
              "    .dataframe thead th {\n",
              "        text-align: right;\n",
              "    }\n",
              "</style>\n",
              "<table border=\"1\" class=\"dataframe\">\n",
              "  <thead>\n",
              "    <tr style=\"text-align: right;\">\n",
              "      <th></th>\n",
              "      <th>tweet_text</th>\n",
              "      <th>sentiment</th>\n",
              "    </tr>\n",
              "  </thead>\n",
              "  <tbody>\n",
              "    <tr>\n",
              "      <th>0</th>\n",
              "      <td>o pessoa certo parir seriar o valer e azeved...</td>\n",
              "      <td>1</td>\n",
              "    </tr>\n",
              "    <tr>\n",
              "      <th>1</th>\n",
              "      <td>parir mim precisamente o contrário emocaopos...</td>\n",
              "      <td>1</td>\n",
              "    </tr>\n",
              "    <tr>\n",
              "      <th>2</th>\n",
              "      <td>video hoje ... pensar falar sobrar o meter csg...</td>\n",
              "      <td>1</td>\n",
              "    </tr>\n",
              "    <tr>\n",
              "      <th>3</th>\n",
              "      <td>aaaaaaaa amar polaroids expressar o quantum to...</td>\n",
              "      <td>1</td>\n",
              "    </tr>\n",
              "    <tr>\n",
              "      <th>4</th>\n",
              "      <td>valorizar o coração menino vc diferente o sorr...</td>\n",
              "      <td>1</td>\n",
              "    </tr>\n",
              "  </tbody>\n",
              "</table>\n",
              "</div>"
            ],
            "text/plain": [
              "                                          tweet_text  sentiment\n",
              "0    o pessoa certo parir seriar o valer e azeved...          1\n",
              "1    parir mim precisamente o contrário emocaopos...          1\n",
              "2  video hoje ... pensar falar sobrar o meter csg...          1\n",
              "3  aaaaaaaa amar polaroids expressar o quantum to...          1\n",
              "4  valorizar o coração menino vc diferente o sorr...          1"
            ]
          },
          "metadata": {},
          "execution_count": 81
        }
      ]
    },
    {
      "cell_type": "code",
      "metadata": {
        "id": "QEtVGgpBzz-r"
      },
      "source": [
        "base_teste['tweet_text'] = base_teste['tweet_text'].apply(preprocessamento)"
      ],
      "execution_count": 82,
      "outputs": []
    },
    {
      "cell_type": "code",
      "metadata": {
        "colab": {
          "base_uri": "https://localhost:8080/",
          "height": 363
        },
        "id": "4hOU3uFSCUwu",
        "outputId": "78268295-4960-4e0a-c0d1-a0d05627db6e"
      },
      "source": [
        "base_teste.head(10)"
      ],
      "execution_count": 83,
      "outputs": [
        {
          "output_type": "execute_result",
          "data": {
            "text/html": [
              "<div>\n",
              "<style scoped>\n",
              "    .dataframe tbody tr th:only-of-type {\n",
              "        vertical-align: middle;\n",
              "    }\n",
              "\n",
              "    .dataframe tbody tr th {\n",
              "        vertical-align: top;\n",
              "    }\n",
              "\n",
              "    .dataframe thead th {\n",
              "        text-align: right;\n",
              "    }\n",
              "</style>\n",
              "<table border=\"1\" class=\"dataframe\">\n",
              "  <thead>\n",
              "    <tr style=\"text-align: right;\">\n",
              "      <th></th>\n",
              "      <th>tweet_text</th>\n",
              "      <th>sentiment</th>\n",
              "    </tr>\n",
              "  </thead>\n",
              "  <tbody>\n",
              "    <tr>\n",
              "      <th>0</th>\n",
              "      <td>obrigar emocaopositiva</td>\n",
              "      <td>1</td>\n",
              "    </tr>\n",
              "    <tr>\n",
              "      <th>1</th>\n",
              "      <td>pa puta parir emocaopositiva</td>\n",
              "      <td>1</td>\n",
              "    </tr>\n",
              "    <tr>\n",
              "      <th>2</th>\n",
              "      <td>querer desconto 14/08 ⭐ ⭐ ⭐ ⭐ ⭐ 🌐 conferir o l...</td>\n",
              "      <td>1</td>\n",
              "    </tr>\n",
              "    <tr>\n",
              "      <th>3</th>\n",
              "      <td>vcs ajudar galera pelar amor butera emocaoposi...</td>\n",
              "      <td>1</td>\n",
              "    </tr>\n",
              "    <tr>\n",
              "      <th>4</th>\n",
              "      <td>casar zé e o morrer sono chegar o casar e fica...</td>\n",
              "      <td>1</td>\n",
              "    </tr>\n",
              "    <tr>\n",
              "      <th>5</th>\n",
              "      <td>preciso emocaopositiva</td>\n",
              "      <td>1</td>\n",
              "    </tr>\n",
              "    <tr>\n",
              "      <th>6</th>\n",
              "      <td>acaso adorar beijo e abraço hahahahaha bue f...</td>\n",
              "      <td>1</td>\n",
              "    </tr>\n",
              "    <tr>\n",
              "      <th>7</th>\n",
              "      <td>solteiro s emocaopositiva</td>\n",
              "      <td>1</td>\n",
              "    </tr>\n",
              "    <tr>\n",
              "      <th>8</th>\n",
              "      <td>lindeza cortador kit mário coleção bia cravol ...</td>\n",
              "      <td>1</td>\n",
              "    </tr>\n",
              "    <tr>\n",
              "      <th>9</th>\n",
              "      <td>claro emocaopositiva</td>\n",
              "      <td>1</td>\n",
              "    </tr>\n",
              "  </tbody>\n",
              "</table>\n",
              "</div>"
            ],
            "text/plain": [
              "                                          tweet_text  sentiment\n",
              "0                             obrigar emocaopositiva          1\n",
              "1                       pa puta parir emocaopositiva          1\n",
              "2  querer desconto 14/08 ⭐ ⭐ ⭐ ⭐ ⭐ 🌐 conferir o l...          1\n",
              "3  vcs ajudar galera pelar amor butera emocaoposi...          1\n",
              "4  casar zé e o morrer sono chegar o casar e fica...          1\n",
              "5                             preciso emocaopositiva          1\n",
              "6    acaso adorar beijo e abraço hahahahaha bue f...          1\n",
              "7                          solteiro s emocaopositiva          1\n",
              "8  lindeza cortador kit mário coleção bia cravol ...          1\n",
              "9                               claro emocaopositiva          1"
            ]
          },
          "metadata": {},
          "execution_count": 83
        }
      ]
    },
    {
      "cell_type": "markdown",
      "metadata": {
        "id": "Ksfa52bHCxg0"
      },
      "source": [
        "# tratamento da classe"
      ]
    },
    {
      "cell_type": "code",
      "metadata": {
        "id": "abGQ5kTqCYBe"
      },
      "source": [
        "exemplo_base_dados = [[\"este trabalho é agradável\", {\"POSITIVO\":True, \"NEGATIVO\":False}],\n",
        "                      [\"este lugar continua é assustador\", {\"POSITIVO\":True, \"NEGATIVO\":True}]]"
      ],
      "execution_count": 84,
      "outputs": []
    },
    {
      "cell_type": "code",
      "metadata": {
        "id": "Gi7z2IhuEK_f"
      },
      "source": [
        "base_dados_treinamento_final = []\n",
        "for texto, emocao in zip(base_treinamento['tweet_text'], base_treinamento['sentiment']):\n",
        "  if emocao == 1:\n",
        "    dic = ({'POSITIVO':True, 'NEGATIVO':False})\n",
        "  elif emocao == 0:\n",
        "    dic = ({'POSITIVO':False, 'NEGATIVO':True})\n",
        "\n",
        "  base_dados_treinamento_final.append([texto, dic.copy()])\n",
        "  \n"
      ],
      "execution_count": 85,
      "outputs": []
    },
    {
      "cell_type": "code",
      "metadata": {
        "colab": {
          "base_uri": "https://localhost:8080/"
        },
        "id": "yJpEhqI2Fr59",
        "outputId": "e46d58c8-544d-455b-8a66-0f05837c0c8b"
      },
      "source": [
        "len(base_dados_treinamento_final)"
      ],
      "execution_count": 86,
      "outputs": [
        {
          "output_type": "execute_result",
          "data": {
            "text/plain": [
              "50000"
            ]
          },
          "metadata": {},
          "execution_count": 86
        }
      ]
    },
    {
      "cell_type": "code",
      "metadata": {
        "colab": {
          "base_uri": "https://localhost:8080/"
        },
        "id": "C1KoniNOFztn",
        "outputId": "fa5b7750-651e-4066-b55c-78e91eaeca4e"
      },
      "source": [
        "base_dados_treinamento_final[10:15]"
      ],
      "execution_count": 87,
      "outputs": [
        {
          "output_type": "execute_result",
          "data": {
            "text/plain": [
              "[['simplesmente o deixar chatear querer muitooo e iludir emocaopositiva',\n",
              "  {'NEGATIVO': False, 'POSITIVO': True}],\n",
              " ['o comedir umar rotina e perfeitamente parir consolidar o escola condução :p',\n",
              "  {'NEGATIVO': False, 'POSITIVO': True}],\n",
              " ['amigar parecer apaixonar vc — recíproco emocaopositiva',\n",
              "  {'NEGATIVO': False, 'POSITIVO': True}],\n",
              " ['  gajar bacano aleijar esperar e o silvar feliz emocaopositiva',\n",
              "  {'NEGATIVO': False, 'POSITIVO': True}],\n",
              " ['tou o video cabra bebé emocaopositiva',\n",
              "  {'NEGATIVO': False, 'POSITIVO': True}]]"
            ]
          },
          "metadata": {},
          "execution_count": 87
        }
      ]
    },
    {
      "cell_type": "code",
      "metadata": {
        "id": "8pgC2aChF7ZX"
      },
      "source": [
        ""
      ],
      "execution_count": 87,
      "outputs": []
    },
    {
      "cell_type": "markdown",
      "metadata": {
        "id": "I_jKbmrLGOmq"
      },
      "source": [
        "#criação classaficador"
      ]
    },
    {
      "cell_type": "code",
      "metadata": {
        "id": "DzEP5wn9GYdJ"
      },
      "source": [
        "modelo = spacy.blank('pt')\n",
        "categorias = modelo.create_pipe(\"textcat\")\n",
        "categorias.add_label(\"POSITIVO\")\n",
        "categorias.add_label(\"NEGATIVO\")\n",
        "modelo.add_pipe(categorias)\n",
        "historico = []"
      ],
      "execution_count": 103,
      "outputs": []
    },
    {
      "cell_type": "code",
      "metadata": {
        "colab": {
          "base_uri": "https://localhost:8080/"
        },
        "id": "85eRUCTZHtud",
        "outputId": "d2493e7e-0723-478c-8f4f-fa60ea17e465"
      },
      "source": [
        "modelo.begin_training()\n",
        "for epoca in range(5):\n",
        "  random.shuffle(base_dados_treinamento_final)\n",
        "  losses = {}\n",
        "  for batch in spacy.util.minibatch(base_dados_treinamento_final, 512):\n",
        "    textos = [modelo(texto) for texto, entities in batch]\n",
        "    annotations = [{'cats': entities} for texto, entities in batch]\n",
        "    modelo.update(textos, annotations, losses=losses)\n",
        "    historico.append(losses)\n",
        "  if epoca % 5 == 0:\n",
        "    print(losses)"
      ],
      "execution_count": 98,
      "outputs": [
        {
          "output_type": "stream",
          "name": "stdout",
          "text": [
            "{}\n"
          ]
        }
      ]
    },
    {
      "cell_type": "code",
      "metadata": {
        "id": "hw7YdgfbNI8q"
      },
      "source": [
        "historico_loss = []\n",
        "for i in hisotrico:\n",
        "  historico_loss.append(i.get('textcats'))"
      ],
      "execution_count": 104,
      "outputs": []
    },
    {
      "cell_type": "code",
      "metadata": {
        "colab": {
          "base_uri": "https://localhost:8080/"
        },
        "id": "1VVYNbriNz20",
        "outputId": "7ac43b68-0067-49a5-d305-c2d34a7396c5"
      },
      "source": [
        "historico_loss = np.array(historico_loss)\n",
        "historico_loss"
      ],
      "execution_count": 105,
      "outputs": [
        {
          "output_type": "execute_result",
          "data": {
            "text/plain": [
              "array([], dtype=float64)"
            ]
          },
          "metadata": {},
          "execution_count": 105
        }
      ]
    },
    {
      "cell_type": "code",
      "metadata": {
        "colab": {
          "base_uri": "https://localhost:8080/",
          "height": 312
        },
        "id": "Mb-UCXbnOIgm",
        "outputId": "38423b58-9eac-4284-aaca-aef92383ca0f"
      },
      "source": [
        "import matplotlib.pyplot as plt\n",
        "plt.plot(historico_loss)\n",
        "plt.title('progressão erro')\n",
        "plt.xlabel('batches')\n",
        "plt.ylabel('erros')\n"
      ],
      "execution_count": 106,
      "outputs": [
        {
          "output_type": "execute_result",
          "data": {
            "text/plain": [
              "Text(0, 0.5, 'erros')"
            ]
          },
          "metadata": {},
          "execution_count": 106
        },
        {
          "output_type": "display_data",
          "data": {
            "image/png": "[encoded data removed]",
            "text/plain": [
              "<Figure size 432x288 with 1 Axes>"
            ]
          },
          "metadata": {
            "needs_background": "light"
          }
        }
      ]
    },
    {
      "cell_type": "code",
      "metadata": {
        "id": "FnQj6H6ROi7U"
      },
      "source": [
        "modelo.to_disk(\"modelo\")\n"
      ],
      "execution_count": 102,
      "outputs": []
    },
    {
      "cell_type": "markdown",
      "metadata": {
        "id": "cm4xidnUQBvm"
      },
      "source": [
        "# teste com uma frase"
      ]
    },
    {
      "cell_type": "markdown",
      "metadata": {
        "id": "Wn9MRxdCPIMT"
      },
      "source": [
        "#teste com uma frase"
      ]
    },
    {
      "cell_type": "code",
      "metadata": {
        "colab": {
          "base_uri": "https://localhost:8080/"
        },
        "id": "Vy_cevzyQFjP",
        "outputId": "3dfe649e-843f-4ef2-889e-a3bca07b2068"
      },
      "source": [
        "modelo_carregado = spacy.load('modelo')\n",
        "modelo_carregado"
      ],
      "execution_count": 94,
      "outputs": [
        {
          "output_type": "execute_result",
          "data": {
            "text/plain": [
              "<spacy.lang.pt.Portuguese at 0x7f38a11a7190>"
            ]
          },
          "metadata": {},
          "execution_count": 94
        }
      ]
    },
    {
      "cell_type": "markdown",
      "metadata": {
        "id": "EQgZMnDUQc8I"
      },
      "source": [
        "#texto positivo"
      ]
    },
    {
      "cell_type": "code",
      "metadata": {
        "colab": {
          "base_uri": "https://localhost:8080/",
          "height": 35
        },
        "id": "TKVzRqPnQfw2",
        "outputId": "9a3d17b4-1610-4840-f50d-f8ab7bfe34b1"
      },
      "source": [
        "texto_positivo = base_teste['tweet_text'][21]\n",
        "texto_positivo"
      ],
      "execution_count": 95,
      "outputs": [
        {
          "output_type": "execute_result",
          "data": {
            "application/vnd.google.colaboratory.intrinsic+json": {
              "type": "string"
            },
            "text/plain": [
              "'  ficar feliz q recíproco emocaopositiva'"
            ]
          },
          "metadata": {},
          "execution_count": 95
        }
      ]
    },
    {
      "cell_type": "code",
      "metadata": {
        "id": "Kolx7W2WQ3y8"
      },
      "source": [
        "previsao = modelo_carregado(texto_positivo)\n",
        "previsao"
      ],
      "execution_count": 95,
      "outputs": []
    },
    {
      "cell_type": "code",
      "metadata": {
        "colab": {
          "base_uri": "https://localhost:8080/",
          "height": 165
        },
        "id": "AErM9pJA5XOB",
        "outputId": "4a05e6d7-817f-4d97-875d-037919ad4f2c"
      },
      "source": [
        "previsao.cats"
      ],
      "execution_count": 107,
      "outputs": [
        {
          "output_type": "error",
          "ename": "AttributeError",
          "evalue": "ignored",
          "traceback": [
            "\u001b[0;31m---------------------------------------------------------------------------\u001b[0m",
            "\u001b[0;31mAttributeError\u001b[0m                            Traceback (most recent call last)",
            "\u001b[0;32m<ipython-input-107-487b89b210b3>\u001b[0m in \u001b[0;36m<module>\u001b[0;34m()\u001b[0m\n\u001b[0;32m----> 1\u001b[0;31m \u001b[0mprevisao\u001b[0m\u001b[0;34m.\u001b[0m\u001b[0mcats\u001b[0m\u001b[0;34m\u001b[0m\u001b[0;34m\u001b[0m\u001b[0m\n\u001b[0m",
            "\u001b[0;31mAttributeError\u001b[0m: 'dict' object has no attribute 'cats'"
          ]
        }
      ]
    },
    {
      "cell_type": "code",
      "metadata": {
        "id": "47_2RFa_5a6J"
      },
      "source": [
        "texto_positivo = 'eu gosto muito de voce'\n",
        "texto_positivo = preprocessamento(texto_positvo)\n",
        "texto_positivo"
      ],
      "execution_count": null,
      "outputs": []
    },
    {
      "cell_type": "code",
      "metadata": {
        "id": "IR75zVFs5x8k"
      },
      "source": [
        "modelo_carregado(texto_positivo).cats"
      ],
      "execution_count": null,
      "outputs": []
    },
    {
      "cell_type": "code",
      "metadata": {
        "id": "bz4KdJMw6PyA"
      },
      "source": [
        ""
      ],
      "execution_count": null,
      "outputs": []
    },
    {
      "cell_type": "markdown",
      "metadata": {
        "id": "TJImwkhi6wGW"
      },
      "source": [
        "#testo negativo"
      ]
    },
    {
      "cell_type": "code",
      "metadata": {
        "id": "sGrJdQG47xbo"
      },
      "source": [
        "base_teste['tweet_text'][4000]"
      ],
      "execution_count": null,
      "outputs": []
    },
    {
      "cell_type": "code",
      "metadata": {
        "id": "fdyZJ1ta8AfS"
      },
      "source": [
        "texto_negativo = base_teste['tweet_text'][4000]\n",
        "previsao = modelo_carregado(texto_negativo)\n",
        "previsao_cats"
      ],
      "execution_count": null,
      "outputs": []
    },
    {
      "cell_type": "code",
      "metadata": {
        "id": "WoRoqOF98TNe"
      },
      "source": [
        ""
      ],
      "execution_count": null,
      "outputs": []
    },
    {
      "cell_type": "markdown",
      "metadata": {
        "id": "WxlfWVW-8WTe"
      },
      "source": [
        "#avaliação do modelo"
      ]
    },
    {
      "cell_type": "code",
      "metadata": {
        "id": "SgJd0WPP9hZL"
      },
      "source": [
        "previsoes = []\n",
        "for texto in base_teste['tweet_text']:\n",
        "  previsao = modelo_carregado(texto)\n",
        "  previsoes.append(previsao.cats)"
      ],
      "execution_count": null,
      "outputs": []
    },
    {
      "cell_type": "code",
      "metadata": {
        "id": "FqiCzGPs8Y1l"
      },
      "source": [
        "previsoes_final = []\n",
        "for previsao in previsoes:\n",
        "  if previsao['POSITIVO'] > previsao['NEGATIVO']:\n",
        "    previsoes_final.append(1)\n",
        "  else: \n",
        "    previsoes_final.append(0)\n",
        "\n",
        "previsoes_final = no.array(previsoes_final)"
      ],
      "execution_count": null,
      "outputs": []
    },
    {
      "cell_type": "code",
      "metadata": {
        "id": "7bVhkZGd-LZJ"
      },
      "source": [
        "respostas_reais = base_teste['sentiment'].values"
      ],
      "execution_count": null,
      "outputs": []
    }
  ]
}